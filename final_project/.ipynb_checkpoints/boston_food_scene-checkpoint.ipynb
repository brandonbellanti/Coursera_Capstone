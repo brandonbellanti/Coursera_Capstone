{
 "cells": [
  {
   "cell_type": "markdown",
   "id": "canadian-productivity",
   "metadata": {},
   "source": [
    "# Mapping Boston's Food Scene"
   ]
  },
  {
   "cell_type": "markdown",
   "id": "familiar-devon",
   "metadata": {},
   "source": [
    "### Analysis ideas\n",
    "* Restaurants by neighborhood\n",
    "* Coffee shops\n",
    "\n",
    "### Data sources\n",
    "* [Analyzing Boston](https://data.boston.gov/)\n",
    "* Foursquare API"
   ]
  }
 ],
 "metadata": {
  "kernelspec": {
   "display_name": "Python 3",
   "language": "python",
   "name": "python3"
  },
  "language_info": {
   "codemirror_mode": {
    "name": "ipython",
    "version": 3
   },
   "file_extension": ".py",
   "mimetype": "text/x-python",
   "name": "python",
   "nbconvert_exporter": "python",
   "pygments_lexer": "ipython3",
   "version": "3.6.10"
  }
 },
 "nbformat": 4,
 "nbformat_minor": 5
}
