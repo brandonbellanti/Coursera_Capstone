{
 "cells": [
  {
   "cell_type": "markdown",
   "id": "multiple-frame",
   "metadata": {},
   "source": [
    "![picture of Boston skyline from the Charles River](https://images.unsplash.com/photo-1560799260-b737af7dd0fc?ixid=MnwxMjA3fDB8MHxwaG90by1wYWdlfHx8fGVufDB8fHx8&ixlib=rb-1.2.1&auto=format&fit=crop&w=2462&q=80)\n",
    "_Photo by Prateek Pisat on [Unsplash](https://unsplash.com/photos/SFsKWydc7qY)_"
   ]
  },
  {
   "cell_type": "markdown",
   "id": "periodic-usage",
   "metadata": {},
   "source": [
    "# Mapping Boston's Food Scene\n",
    "Prepared by Brandon Bellanti<br>\n",
    "Last updated May 1, 2021\n",
    "\n",
    "---"
   ]
  },
  {
   "cell_type": "markdown",
   "id": "closing-ordinary",
   "metadata": {},
   "source": [
    "# Table of Contents\n",
    "1. [Introduction](#Introduction/Business-Problem)\n",
    "2. [Data](#Data)\n",
    "3. [Methodology](#Methodology)\n",
    "    * [Collect data](#Collect-data)\n",
    "    * [Explore data](#Explore-data)\n",
    "    * [Cluster data](#Cluster-data)\n",
    "4. [Results](#Results)\n",
    "5. [Discussion](#Discussion)\n",
    "6. [Conclusion](#Conclusion)"
   ]
  },
  {
   "cell_type": "markdown",
   "id": "musical-immune",
   "metadata": {},
   "source": [
    "---\n",
    "# Introduction/Business Problem\n",
    "\n",
    "In this project, I analyze and cluster Boston nieghborhoods to find which ones are most similar based on their food venues. I'll look at aspects like categories of venue, price tier, rating, and venue location.\n",
    "\n",
    "Some of the questions I'm interested in answering are:\n",
    "\n",
    "* What are the most common categories for food venues in Boston? In each neighborhood?\n",
    "* Do higher prices correlate with higher ratings?\n",
    "* Does average food venue price correspond with income, either per-capita or by household?\n",
    "* Are restaurants of a given food type distrubuted evenly across the city, or are they clustered together? If they're clustered, is there a correlation between the type of food and the demographics of that neighborhood?\n",
    "\n",
    "The audience for this analysis is anyone interested in exploring Boston's food scene. One practical way it could be used is by someone who wants to open a restaurant in Boston: they would be able to see where similar restaurants – their competition – already exist or perhaps do not exist."
   ]
  },
  {
   "cell_type": "markdown",
   "id": "fitting-detroit",
   "metadata": {},
   "source": [
    "*[Jump to top](#Table-of-Contents)*"
   ]
  },
  {
   "cell_type": "markdown",
   "id": "fresh-relations",
   "metadata": {},
   "source": [
    "---\n",
    "# Data\n",
    "\n",
    "My data will come from two main sources, Boston's open data hub – [Analyze Boston](https://data.boston.gov/) – and the Foursquare API.\n",
    "\n",
    "I'll use datasets available on Analyze Boston for [neighborhood](http://bostonopendata-boston.opendata.arcgis.com/datasets/3525b0ee6e6b427f9aab5d0a1d0a1a28_0.csv) and [demographic data](https://data.boston.gov/dataset/neighborhood-demographics/resource/d8c23c6a-b868-4ba4-8a3b-b9615a21be07?view_id=875bddaa-ffb9-4eaa-bdb5-1b77b414182b) like income and population.\n",
    "\n",
    "I'll use the Foursquare API for venue data. Once I have coordinate data for each Boston neighborhood (returned using the geopy library and the neighborhood data from Analyze Boston), I will call the `/venues` endpoint of the Foursquare API and search for nearby venues that have the categoryId `Food`.\n",
    "\n",
    "Searching by categoryId also includes all venues in child categories and their children, so I will group the venues by common parent categories to have fewer values overall. Since the results of the standard `/venues` endpoint does not contain parent category information, I'll build a separate reference dataframe with the hierarchy on the Foursquare API [Venue Categories](https://developer.foursquare.com/docs/build-with-foursquare/categories/) page. \n",
    "\n",
    "For each venue, I am interested in more specific details such as price and rating. These details are accessed through a Premium endpoint - `/venues/VENUE_ID` – and I am limited to 500 Premium calls per day, so I will store the returned data to CSV files. This way, I can build a small cache of data over a couple of days and collect all the data I need.\n",
    "\n",
    "I will use the K-Means algorithm to cluster the venues."
   ]
  },
  {
   "cell_type": "markdown",
   "id": "dressed-abuse",
   "metadata": {},
   "source": [
    "*[Jump to top](#Table-of-Contents)*"
   ]
  },
  {
   "cell_type": "markdown",
   "id": "entire-charles",
   "metadata": {},
   "source": [
    "---\n",
    "# Methodology\n",
    "\n",
    "The method I used is fairly straightforward and can be grouped into three stages:\n",
    "1. Collect the data\n",
    "2. Explore the data\n",
    "3. Cluster the data\n",
    "\n",
    "Each stage is described in detail below, along with the code I used."
   ]
  },
  {
   "cell_type": "markdown",
   "id": "meaning-shade",
   "metadata": {},
   "source": [
    "Before I begin with collection, analysis, and clustering, I import the Python libraries that I'll be using and load my credentials for accessing the Foursquare API."
   ]
  },
  {
   "cell_type": "code",
   "execution_count": 364,
   "id": "addressed-synthesis",
   "metadata": {},
   "outputs": [],
   "source": [
    "# import libraries\n",
    "import pandas as pd, numpy as np\n",
    "import matplotlib as mpl\n",
    "import matplotlib.pyplot as plt\n",
    "%matplotlib inline\n",
    "mpl.style.use('ggplot')\n",
    "import seaborn as sns\n",
    "import json\n",
    "import requests\n",
    "import folium # map rendering library\n",
    "\n",
    "from sklearn import preprocessing\n",
    "from sklearn.cluster import KMeans"
   ]
  },
  {
   "cell_type": "code",
   "execution_count": 315,
   "id": "incorporated-reminder",
   "metadata": {
    "tags": [
     "hide_input"
    ]
   },
   "outputs": [],
   "source": [
    "# API credentials for the Foursquare API\n",
    "\n",
    "CLIENT_ID = '##########' # your Foursquare ID\n",
    "CLIENT_SECRET = '##########' # your Foursquare Secret\n",
    "VERSION = '20180605' # Foursquare API version\n",
    "LIMIT = 100 # A default Foursquare API limit value"
   ]
  },
  {
   "cell_type": "markdown",
   "id": "direct-wheat",
   "metadata": {},
   "source": [
    "## Collect data"
   ]
  },
  {
   "cell_type": "markdown",
   "id": "tamil-fiber",
   "metadata": {},
   "source": [
    "### Coordinates for Boston neighborhoods"
   ]
  },
  {
   "cell_type": "markdown",
   "id": "southwest-colorado",
   "metadata": {},
   "source": [
    "The City of Boston publishes quite a bit of data publicly through the **Analyze Boston** website ([data.boston.gov](https://data.boston.gov/)). I used the `read_csv()` method in Pandas to build a dataframe from their [Boston Neighborhoods](https://data.boston.gov/dataset/boston-neighborhoods1) dataset, dropping the columns I didn't need."
   ]
  },
  {
   "cell_type": "code",
   "execution_count": 5,
   "id": "perfect-battery",
   "metadata": {},
   "outputs": [],
   "source": [
    "url = 'http://bostonopendata-boston.opendata.arcgis.com/datasets/3525b0ee6e6b427f9aab5d0a1d0a1a28_0.csv'\n",
    "neighborhoods_df = pd.read_csv(url)\n",
    "neighborhoods_df.drop(columns=['ShapeSTArea','ShapeSTLength'],inplace=True)"
   ]
  },
  {
   "cell_type": "code",
   "execution_count": 4,
   "id": "premier-keeping",
   "metadata": {},
   "outputs": [
    {
     "name": "stdout",
     "output_type": "stream",
     "text": [
      "1) Allston\n",
      "2) Back Bay\n",
      "3) Bay Village\n",
      "4) Beacon Hill\n",
      "5) Brighton\n",
      "6) Charlestown\n",
      "7) Chinatown\n",
      "8) Dorchester\n",
      "9) Downtown\n",
      "10) East Boston\n",
      "11) Fenway\n",
      "12) Harbor Islands\n",
      "13) Hyde Park\n",
      "14) Jamaica Plain\n",
      "15) Leather District\n",
      "16) Longwood\n",
      "17) Mattapan\n",
      "18) Mission Hill\n",
      "19) North End\n",
      "20) Roslindale\n",
      "21) Roxbury\n",
      "22) South Boston\n",
      "23) South Boston Waterfront\n",
      "24) South End\n",
      "25) West End\n",
      "26) West Roxbury\n"
     ]
    }
   ],
   "source": [
    "# print numbered list of Boston neighborhoods\n",
    "neighborhoods = neighborhoods_df['Name'].unique()\n",
    "for i,neighborhood in enumerate(sorted(neighborhoods),1):\n",
    "    print(f\"{i})\",neighborhood)"
   ]
  },
  {
   "cell_type": "markdown",
   "id": "vanilla-choir",
   "metadata": {},
   "source": [
    "<br>\n",
    "I need coordinate data (latitude and longitude) to get an accurate result set of nearby restaurants when I call the Foursquare API, so I created empty columns in my dataframe, used a function in the geopy library to fetch the coordinates for each neighborhood, and add the coordinates to the new columns."
   ]
  },
  {
   "cell_type": "code",
   "execution_count": 38,
   "id": "identical-holly",
   "metadata": {},
   "outputs": [],
   "source": [
    "# create empty series for latitude and longitude\n",
    "neighborhoods_df[['Lat','Long']] = np.nan"
   ]
  },
  {
   "cell_type": "code",
   "execution_count": 6,
   "id": "growing-pathology",
   "metadata": {},
   "outputs": [
    {
     "name": "stdout",
     "output_type": "stream",
     "text": [
      "The coordinates of Boston, Massachusetts are 42.3602534, -71.0582912\n"
     ]
    }
   ],
   "source": [
    "# fetch the coordinates for Boston\n",
    "from geopy.geocoders import Nominatim # convert an address into latitude and longitude values\n",
    "\n",
    "address = 'Boston, Massachusetts'\n",
    "geolocator = Nominatim(user_agent=\"boston_explorer\")\n",
    "location = geolocator.geocode(address)\n",
    "\n",
    "boston_lat, boston_long = location.latitude, location.longitude\n",
    "\n",
    "print('The coordinates of {} are {}, {}'.format(address,boston_lat,boston_long))"
   ]
  },
  {
   "cell_type": "code",
   "execution_count": 7,
   "id": "global-polymer",
   "metadata": {},
   "outputs": [
    {
     "data": {
      "text/html": [
       "<div>\n",
       "<style scoped>\n",
       "    .dataframe tbody tr th:only-of-type {\n",
       "        vertical-align: middle;\n",
       "    }\n",
       "\n",
       "    .dataframe tbody tr th {\n",
       "        vertical-align: top;\n",
       "    }\n",
       "\n",
       "    .dataframe thead th {\n",
       "        text-align: right;\n",
       "    }\n",
       "</style>\n",
       "<table border=\"1\" class=\"dataframe\">\n",
       "  <thead>\n",
       "    <tr style=\"text-align: right;\">\n",
       "      <th></th>\n",
       "      <th>Name</th>\n",
       "      <th>OBJECTID</th>\n",
       "      <th>Acres</th>\n",
       "      <th>Neighborhood_ID</th>\n",
       "      <th>SqMiles</th>\n",
       "      <th>Lat</th>\n",
       "      <th>Long</th>\n",
       "    </tr>\n",
       "  </thead>\n",
       "  <tbody>\n",
       "    <tr>\n",
       "      <th>0</th>\n",
       "      <td>Roslindale</td>\n",
       "      <td>27</td>\n",
       "      <td>1605.568237</td>\n",
       "      <td>15</td>\n",
       "      <td>2.51</td>\n",
       "      <td>42.291209</td>\n",
       "      <td>-71.124497</td>\n",
       "    </tr>\n",
       "    <tr>\n",
       "      <th>1</th>\n",
       "      <td>Jamaica Plain</td>\n",
       "      <td>28</td>\n",
       "      <td>2519.245394</td>\n",
       "      <td>11</td>\n",
       "      <td>3.94</td>\n",
       "      <td>42.309820</td>\n",
       "      <td>-71.120330</td>\n",
       "    </tr>\n",
       "    <tr>\n",
       "      <th>2</th>\n",
       "      <td>Mission Hill</td>\n",
       "      <td>29</td>\n",
       "      <td>350.853564</td>\n",
       "      <td>13</td>\n",
       "      <td>0.55</td>\n",
       "      <td>42.332560</td>\n",
       "      <td>-71.103608</td>\n",
       "    </tr>\n",
       "    <tr>\n",
       "      <th>3</th>\n",
       "      <td>Longwood</td>\n",
       "      <td>30</td>\n",
       "      <td>188.611947</td>\n",
       "      <td>28</td>\n",
       "      <td>0.29</td>\n",
       "      <td>42.341533</td>\n",
       "      <td>-71.110155</td>\n",
       "    </tr>\n",
       "    <tr>\n",
       "      <th>4</th>\n",
       "      <td>Bay Village</td>\n",
       "      <td>31</td>\n",
       "      <td>26.539839</td>\n",
       "      <td>33</td>\n",
       "      <td>0.04</td>\n",
       "      <td>42.350011</td>\n",
       "      <td>-71.066948</td>\n",
       "    </tr>\n",
       "  </tbody>\n",
       "</table>\n",
       "</div>"
      ],
      "text/plain": [
       "            Name  OBJECTID        Acres  Neighborhood_ID  SqMiles        Lat  \\\n",
       "0     Roslindale        27  1605.568237               15     2.51  42.291209   \n",
       "1  Jamaica Plain        28  2519.245394               11     3.94  42.309820   \n",
       "2   Mission Hill        29   350.853564               13     0.55  42.332560   \n",
       "3       Longwood        30   188.611947               28     0.29  42.341533   \n",
       "4    Bay Village        31    26.539839               33     0.04  42.350011   \n",
       "\n",
       "        Long  \n",
       "0 -71.124497  \n",
       "1 -71.120330  \n",
       "2 -71.103608  \n",
       "3 -71.110155  \n",
       "4 -71.066948  "
      ]
     },
     "execution_count": 7,
     "metadata": {},
     "output_type": "execute_result"
    }
   ],
   "source": [
    "# fetch the coordinates for each neighborhood in Boston and add to the dataframe\n",
    "neighborhoods_df.set_index('Name',inplace=True)\n",
    "\n",
    "for neighborhood in neighborhoods_df.index:\n",
    "#     print(neighborhood)\n",
    "    address = f'{neighborhood}, Boston, Massachusetts'\n",
    "    geolocator = Nominatim(user_agent=\"boston_explorer\")\n",
    "    location = geolocator.geocode(address)\n",
    "    neighborhoods_df.loc[neighborhood,'Lat'] = location.latitude\n",
    "    neighborhoods_df.loc[neighborhood,'Long'] = location.longitude\n",
    "\n",
    "neighborhoods_df.reset_index(inplace=True)\n",
    "\n",
    "neighborhoods_df.head()"
   ]
  },
  {
   "cell_type": "markdown",
   "id": "standing-scenario",
   "metadata": {},
   "source": [
    "<br>\n",
    "With the coordinate data for each neighborhood, I can build a map of Boston with markers and details for each neighborhood."
   ]
  },
  {
   "cell_type": "code",
   "execution_count": 398,
   "id": "banner-bacteria",
   "metadata": {},
   "outputs": [
    {
     "data": {
      "text/html": [
       "<div style=\"width:100%;\"><div style=\"position:relative;width:100%;height:0;padding-bottom:60%;\"><span style=\"color:#565656\">Make this Notebook Trusted to load map: File -> Trust Notebook</span><iframe src=\"about:blank\" style=\"position:absolute;width:100%;height:100%;left:0;top:0;border:none !important;\" data-html=%3C%21DOCTYPE%20html%3E%0A%3Chead%3E%20%20%20%20%0A%20%20%20%20%3Cmeta%20http-equiv%3D%22content-type%22%20content%3D%22text/html%3B%20charset%3DUTF-8%22%20/%3E%0A%20%20%20%20%3Cscript%3EL_PREFER_CANVAS%20%3D%20false%3B%20L_NO_TOUCH%20%3D%20false%3B%20L_DISABLE_3D%20%3D%20false%3B%3C/script%3E%0A%20%20%20%20%3Cscript%20src%3D%22https%3A//cdn.jsdelivr.net/npm/leaflet%401.2.0/dist/leaflet.js%22%3E%3C/script%3E%0A%20%20%20%20%3Cscript%20src%3D%22https%3A//ajax.googleapis.com/ajax/libs/jquery/1.11.1/jquery.min.js%22%3E%3C/script%3E%0A%20%20%20%20%3Cscript%20src%3D%22https%3A//maxcdn.bootstrapcdn.com/bootstrap/3.2.0/js/bootstrap.min.js%22%3E%3C/script%3E%0A%20%20%20%20%3Cscript%20src%3D%22https%3A//cdnjs.cloudflare.com/ajax/libs/Leaflet.awesome-markers/2.0.2/leaflet.awesome-markers.js%22%3E%3C/script%3E%0A%20%20%20%20%3Clink%20rel%3D%22stylesheet%22%20href%3D%22https%3A//cdn.jsdelivr.net/npm/leaflet%401.2.0/dist/leaflet.css%22/%3E%0A%20%20%20%20%3Clink%20rel%3D%22stylesheet%22%20href%3D%22https%3A//maxcdn.bootstrapcdn.com/bootstrap/3.2.0/css/bootstrap.min.css%22/%3E%0A%20%20%20%20%3Clink%20rel%3D%22stylesheet%22%20href%3D%22https%3A//maxcdn.bootstrapcdn.com/bootstrap/3.2.0/css/bootstrap-theme.min.css%22/%3E%0A%20%20%20%20%3Clink%20rel%3D%22stylesheet%22%20href%3D%22https%3A//maxcdn.bootstrapcdn.com/font-awesome/4.6.3/css/font-awesome.min.css%22/%3E%0A%20%20%20%20%3Clink%20rel%3D%22stylesheet%22%20href%3D%22https%3A//cdnjs.cloudflare.com/ajax/libs/Leaflet.awesome-markers/2.0.2/leaflet.awesome-markers.css%22/%3E%0A%20%20%20%20%3Clink%20rel%3D%22stylesheet%22%20href%3D%22https%3A//rawgit.com/python-visualization/folium/master/folium/templates/leaflet.awesome.rotate.css%22/%3E%0A%20%20%20%20%3Cstyle%3Ehtml%2C%20body%20%7Bwidth%3A%20100%25%3Bheight%3A%20100%25%3Bmargin%3A%200%3Bpadding%3A%200%3B%7D%3C/style%3E%0A%20%20%20%20%3Cstyle%3E%23map%20%7Bposition%3Aabsolute%3Btop%3A0%3Bbottom%3A0%3Bright%3A0%3Bleft%3A0%3B%7D%3C/style%3E%0A%20%20%20%20%0A%20%20%20%20%20%20%20%20%20%20%20%20%3Cstyle%3E%20%23map_eef31278277b4efebf512b3ca16c7671%20%7B%0A%20%20%20%20%20%20%20%20%20%20%20%20%20%20%20%20position%20%3A%20relative%3B%0A%20%20%20%20%20%20%20%20%20%20%20%20%20%20%20%20width%20%3A%20100.0%25%3B%0A%20%20%20%20%20%20%20%20%20%20%20%20%20%20%20%20height%3A%20100.0%25%3B%0A%20%20%20%20%20%20%20%20%20%20%20%20%20%20%20%20left%3A%200.0%25%3B%0A%20%20%20%20%20%20%20%20%20%20%20%20%20%20%20%20top%3A%200.0%25%3B%0A%20%20%20%20%20%20%20%20%20%20%20%20%20%20%20%20%7D%0A%20%20%20%20%20%20%20%20%20%20%20%20%3C/style%3E%0A%20%20%20%20%20%20%20%20%0A%3C/head%3E%0A%3Cbody%3E%20%20%20%20%0A%20%20%20%20%0A%20%20%20%20%20%20%20%20%20%20%20%20%3Cdiv%20class%3D%22folium-map%22%20id%3D%22map_eef31278277b4efebf512b3ca16c7671%22%20%3E%3C/div%3E%0A%20%20%20%20%20%20%20%20%0A%3C/body%3E%0A%3Cscript%3E%20%20%20%20%0A%20%20%20%20%0A%0A%20%20%20%20%20%20%20%20%20%20%20%20%0A%20%20%20%20%20%20%20%20%20%20%20%20%20%20%20%20var%20bounds%20%3D%20null%3B%0A%20%20%20%20%20%20%20%20%20%20%20%20%0A%0A%20%20%20%20%20%20%20%20%20%20%20%20var%20map_eef31278277b4efebf512b3ca16c7671%20%3D%20L.map%28%0A%20%20%20%20%20%20%20%20%20%20%20%20%20%20%20%20%20%20%20%20%20%20%20%20%20%20%20%20%20%20%20%20%20%20%27map_eef31278277b4efebf512b3ca16c7671%27%2C%0A%20%20%20%20%20%20%20%20%20%20%20%20%20%20%20%20%20%20%20%20%20%20%20%20%20%20%20%20%20%20%20%20%20%20%7Bcenter%3A%20%5B42.324843%2C-71.095016%5D%2C%0A%20%20%20%20%20%20%20%20%20%20%20%20%20%20%20%20%20%20%20%20%20%20%20%20%20%20%20%20%20%20%20%20%20%20zoom%3A%2012%2C%0A%20%20%20%20%20%20%20%20%20%20%20%20%20%20%20%20%20%20%20%20%20%20%20%20%20%20%20%20%20%20%20%20%20%20maxBounds%3A%20bounds%2C%0A%20%20%20%20%20%20%20%20%20%20%20%20%20%20%20%20%20%20%20%20%20%20%20%20%20%20%20%20%20%20%20%20%20%20layers%3A%20%5B%5D%2C%0A%20%20%20%20%20%20%20%20%20%20%20%20%20%20%20%20%20%20%20%20%20%20%20%20%20%20%20%20%20%20%20%20%20%20worldCopyJump%3A%20false%2C%0A%20%20%20%20%20%20%20%20%20%20%20%20%20%20%20%20%20%20%20%20%20%20%20%20%20%20%20%20%20%20%20%20%20%20crs%3A%20L.CRS.EPSG3857%0A%20%20%20%20%20%20%20%20%20%20%20%20%20%20%20%20%20%20%20%20%20%20%20%20%20%20%20%20%20%20%20%20%20%7D%29%3B%0A%20%20%20%20%20%20%20%20%20%20%20%20%0A%20%20%20%20%20%20%20%20%0A%20%20%20%20%0A%20%20%20%20%20%20%20%20%20%20%20%20var%20tile_layer_8e24d738c6c04256a34bdee3e5fabb3a%20%3D%20L.tileLayer%28%0A%20%20%20%20%20%20%20%20%20%20%20%20%20%20%20%20%27https%3A//%7Bs%7D.tile.openstreetmap.org/%7Bz%7D/%7Bx%7D/%7By%7D.png%27%2C%0A%20%20%20%20%20%20%20%20%20%20%20%20%20%20%20%20%7B%0A%20%20%22attribution%22%3A%20null%2C%0A%20%20%22detectRetina%22%3A%20false%2C%0A%20%20%22maxZoom%22%3A%2018%2C%0A%20%20%22minZoom%22%3A%201%2C%0A%20%20%22noWrap%22%3A%20false%2C%0A%20%20%22subdomains%22%3A%20%22abc%22%0A%7D%0A%20%20%20%20%20%20%20%20%20%20%20%20%20%20%20%20%29.addTo%28map_eef31278277b4efebf512b3ca16c7671%29%3B%0A%20%20%20%20%20%20%20%20%0A%20%20%20%20%0A%20%20%20%20%20%20%20%20%20%20%20%20var%20circle_marker_fe39c942d77744f19c537941d8e91ebb%20%3D%20L.circleMarker%28%0A%20%20%20%20%20%20%20%20%20%20%20%20%20%20%20%20%5B42.2912093%2C-71.1244966%5D%2C%0A%20%20%20%20%20%20%20%20%20%20%20%20%20%20%20%20%7B%0A%20%20%22bubblingMouseEvents%22%3A%20true%2C%0A%20%20%22color%22%3A%20%22%23236CA7%22%2C%0A%20%20%22dashArray%22%3A%20null%2C%0A%20%20%22dashOffset%22%3A%20null%2C%0A%20%20%22fill%22%3A%20true%2C%0A%20%20%22fillColor%22%3A%20%22%23236CA7%22%2C%0A%20%20%22fillOpacity%22%3A%200.7%2C%0A%20%20%22fillRule%22%3A%20%22evenodd%22%2C%0A%20%20%22lineCap%22%3A%20%22round%22%2C%0A%20%20%22lineJoin%22%3A%20%22round%22%2C%0A%20%20%22opacity%22%3A%201.0%2C%0A%20%20%22radius%22%3A%205%2C%0A%20%20%22stroke%22%3A%20true%2C%0A%20%20%22weight%22%3A%203%0A%7D%0A%20%20%20%20%20%20%20%20%20%20%20%20%20%20%20%20%29.addTo%28map_eef31278277b4efebf512b3ca16c7671%29%3B%0A%20%20%20%20%20%20%20%20%20%20%20%20%0A%20%20%20%20%0A%20%20%20%20%20%20%20%20%20%20%20%20var%20popup_a3cae99fe80c4ca999225a9d31e4d49e%20%3D%20L.popup%28%7BmaxWidth%3A%20%27300%27%7D%29%3B%0A%0A%20%20%20%20%20%20%20%20%20%20%20%20%0A%20%20%20%20%20%20%20%20%20%20%20%20%20%20%20%20var%20html_7294efa6f815468aa3049694d1dd3c66%20%3D%20%24%28%27%3Cdiv%20id%3D%22html_7294efa6f815468aa3049694d1dd3c66%22%20style%3D%22width%3A%20100.0%25%3B%20height%3A%20100.0%25%3B%22%3ERoslindale%3C/div%3E%27%29%5B0%5D%3B%0A%20%20%20%20%20%20%20%20%20%20%20%20%20%20%20%20popup_a3cae99fe80c4ca999225a9d31e4d49e.setContent%28html_7294efa6f815468aa3049694d1dd3c66%29%3B%0A%20%20%20%20%20%20%20%20%20%20%20%20%0A%0A%20%20%20%20%20%20%20%20%20%20%20%20circle_marker_fe39c942d77744f19c537941d8e91ebb.bindPopup%28popup_a3cae99fe80c4ca999225a9d31e4d49e%29%3B%0A%0A%20%20%20%20%20%20%20%20%20%20%20%20%0A%20%20%20%20%20%20%20%20%0A%20%20%20%20%0A%20%20%20%20%20%20%20%20%20%20%20%20var%20circle_marker_9114928ba552447cbe47035ee9710c72%20%3D%20L.circleMarker%28%0A%20%20%20%20%20%20%20%20%20%20%20%20%20%20%20%20%5B42.3098201%2C-71.1203299%5D%2C%0A%20%20%20%20%20%20%20%20%20%20%20%20%20%20%20%20%7B%0A%20%20%22bubblingMouseEvents%22%3A%20true%2C%0A%20%20%22color%22%3A%20%22%23236CA7%22%2C%0A%20%20%22dashArray%22%3A%20null%2C%0A%20%20%22dashOffset%22%3A%20null%2C%0A%20%20%22fill%22%3A%20true%2C%0A%20%20%22fillColor%22%3A%20%22%23236CA7%22%2C%0A%20%20%22fillOpacity%22%3A%200.7%2C%0A%20%20%22fillRule%22%3A%20%22evenodd%22%2C%0A%20%20%22lineCap%22%3A%20%22round%22%2C%0A%20%20%22lineJoin%22%3A%20%22round%22%2C%0A%20%20%22opacity%22%3A%201.0%2C%0A%20%20%22radius%22%3A%205%2C%0A%20%20%22stroke%22%3A%20true%2C%0A%20%20%22weight%22%3A%203%0A%7D%0A%20%20%20%20%20%20%20%20%20%20%20%20%20%20%20%20%29.addTo%28map_eef31278277b4efebf512b3ca16c7671%29%3B%0A%20%20%20%20%20%20%20%20%20%20%20%20%0A%20%20%20%20%0A%20%20%20%20%20%20%20%20%20%20%20%20var%20popup_a6ad0b46eaa045eb8b08b844c5adeb71%20%3D%20L.popup%28%7BmaxWidth%3A%20%27300%27%7D%29%3B%0A%0A%20%20%20%20%20%20%20%20%20%20%20%20%0A%20%20%20%20%20%20%20%20%20%20%20%20%20%20%20%20var%20html_638b04a79762410a9fb17cb1cf603367%20%3D%20%24%28%27%3Cdiv%20id%3D%22html_638b04a79762410a9fb17cb1cf603367%22%20style%3D%22width%3A%20100.0%25%3B%20height%3A%20100.0%25%3B%22%3EJamaica%20Plain%3C/div%3E%27%29%5B0%5D%3B%0A%20%20%20%20%20%20%20%20%20%20%20%20%20%20%20%20popup_a6ad0b46eaa045eb8b08b844c5adeb71.setContent%28html_638b04a79762410a9fb17cb1cf603367%29%3B%0A%20%20%20%20%20%20%20%20%20%20%20%20%0A%0A%20%20%20%20%20%20%20%20%20%20%20%20circle_marker_9114928ba552447cbe47035ee9710c72.bindPopup%28popup_a6ad0b46eaa045eb8b08b844c5adeb71%29%3B%0A%0A%20%20%20%20%20%20%20%20%20%20%20%20%0A%20%20%20%20%20%20%20%20%0A%20%20%20%20%0A%20%20%20%20%20%20%20%20%20%20%20%20var%20circle_marker_cb0681f734b14f04a2e9e3fcc149b3db%20%3D%20L.circleMarker%28%0A%20%20%20%20%20%20%20%20%20%20%20%20%20%20%20%20%5B42.33255965%2C-71.10360773640765%5D%2C%0A%20%20%20%20%20%20%20%20%20%20%20%20%20%20%20%20%7B%0A%20%20%22bubblingMouseEvents%22%3A%20true%2C%0A%20%20%22color%22%3A%20%22%23236CA7%22%2C%0A%20%20%22dashArray%22%3A%20null%2C%0A%20%20%22dashOffset%22%3A%20null%2C%0A%20%20%22fill%22%3A%20true%2C%0A%20%20%22fillColor%22%3A%20%22%23236CA7%22%2C%0A%20%20%22fillOpacity%22%3A%200.7%2C%0A%20%20%22fillRule%22%3A%20%22evenodd%22%2C%0A%20%20%22lineCap%22%3A%20%22round%22%2C%0A%20%20%22lineJoin%22%3A%20%22round%22%2C%0A%20%20%22opacity%22%3A%201.0%2C%0A%20%20%22radius%22%3A%205%2C%0A%20%20%22stroke%22%3A%20true%2C%0A%20%20%22weight%22%3A%203%0A%7D%0A%20%20%20%20%20%20%20%20%20%20%20%20%20%20%20%20%29.addTo%28map_eef31278277b4efebf512b3ca16c7671%29%3B%0A%20%20%20%20%20%20%20%20%20%20%20%20%0A%20%20%20%20%0A%20%20%20%20%20%20%20%20%20%20%20%20var%20popup_b3b15ce6666043a3a0bca68ec0298fec%20%3D%20L.popup%28%7BmaxWidth%3A%20%27300%27%7D%29%3B%0A%0A%20%20%20%20%20%20%20%20%20%20%20%20%0A%20%20%20%20%20%20%20%20%20%20%20%20%20%20%20%20var%20html_6f08a77e88aa435b8c87063baf82b648%20%3D%20%24%28%27%3Cdiv%20id%3D%22html_6f08a77e88aa435b8c87063baf82b648%22%20style%3D%22width%3A%20100.0%25%3B%20height%3A%20100.0%25%3B%22%3EMission%20Hill%3C/div%3E%27%29%5B0%5D%3B%0A%20%20%20%20%20%20%20%20%20%20%20%20%20%20%20%20popup_b3b15ce6666043a3a0bca68ec0298fec.setContent%28html_6f08a77e88aa435b8c87063baf82b648%29%3B%0A%20%20%20%20%20%20%20%20%20%20%20%20%0A%0A%20%20%20%20%20%20%20%20%20%20%20%20circle_marker_cb0681f734b14f04a2e9e3fcc149b3db.bindPopup%28popup_b3b15ce6666043a3a0bca68ec0298fec%29%3B%0A%0A%20%20%20%20%20%20%20%20%20%20%20%20%0A%20%20%20%20%20%20%20%20%0A%20%20%20%20%0A%20%20%20%20%20%20%20%20%20%20%20%20var%20circle_marker_9a8be4bf38c74fe9a8cd9db88c7d298a%20%3D%20L.circleMarker%28%0A%20%20%20%20%20%20%20%20%20%20%20%20%20%20%20%20%5B42.3415333%2C-71.1101551%5D%2C%0A%20%20%20%20%20%20%20%20%20%20%20%20%20%20%20%20%7B%0A%20%20%22bubblingMouseEvents%22%3A%20true%2C%0A%20%20%22color%22%3A%20%22%23236CA7%22%2C%0A%20%20%22dashArray%22%3A%20null%2C%0A%20%20%22dashOffset%22%3A%20null%2C%0A%20%20%22fill%22%3A%20true%2C%0A%20%20%22fillColor%22%3A%20%22%23236CA7%22%2C%0A%20%20%22fillOpacity%22%3A%200.7%2C%0A%20%20%22fillRule%22%3A%20%22evenodd%22%2C%0A%20%20%22lineCap%22%3A%20%22round%22%2C%0A%20%20%22lineJoin%22%3A%20%22round%22%2C%0A%20%20%22opacity%22%3A%201.0%2C%0A%20%20%22radius%22%3A%205%2C%0A%20%20%22stroke%22%3A%20true%2C%0A%20%20%22weight%22%3A%203%0A%7D%0A%20%20%20%20%20%20%20%20%20%20%20%20%20%20%20%20%29.addTo%28map_eef31278277b4efebf512b3ca16c7671%29%3B%0A%20%20%20%20%20%20%20%20%20%20%20%20%0A%20%20%20%20%0A%20%20%20%20%20%20%20%20%20%20%20%20var%20popup_3a1416f1160f4b3fa79fbee0b72f1229%20%3D%20L.popup%28%7BmaxWidth%3A%20%27300%27%7D%29%3B%0A%0A%20%20%20%20%20%20%20%20%20%20%20%20%0A%20%20%20%20%20%20%20%20%20%20%20%20%20%20%20%20var%20html_56e84a68dd6c45aabd78198fca1c9d06%20%3D%20%24%28%27%3Cdiv%20id%3D%22html_56e84a68dd6c45aabd78198fca1c9d06%22%20style%3D%22width%3A%20100.0%25%3B%20height%3A%20100.0%25%3B%22%3ELongwood%3C/div%3E%27%29%5B0%5D%3B%0A%20%20%20%20%20%20%20%20%20%20%20%20%20%20%20%20popup_3a1416f1160f4b3fa79fbee0b72f1229.setContent%28html_56e84a68dd6c45aabd78198fca1c9d06%29%3B%0A%20%20%20%20%20%20%20%20%20%20%20%20%0A%0A%20%20%20%20%20%20%20%20%20%20%20%20circle_marker_9a8be4bf38c74fe9a8cd9db88c7d298a.bindPopup%28popup_3a1416f1160f4b3fa79fbee0b72f1229%29%3B%0A%0A%20%20%20%20%20%20%20%20%20%20%20%20%0A%20%20%20%20%20%20%20%20%0A%20%20%20%20%0A%20%20%20%20%20%20%20%20%20%20%20%20var%20circle_marker_f66baab0f38c476da1b1978b10e5bb81%20%3D%20L.circleMarker%28%0A%20%20%20%20%20%20%20%20%20%20%20%20%20%20%20%20%5B42.35001105%2C-71.0669477958571%5D%2C%0A%20%20%20%20%20%20%20%20%20%20%20%20%20%20%20%20%7B%0A%20%20%22bubblingMouseEvents%22%3A%20true%2C%0A%20%20%22color%22%3A%20%22%23236CA7%22%2C%0A%20%20%22dashArray%22%3A%20null%2C%0A%20%20%22dashOffset%22%3A%20null%2C%0A%20%20%22fill%22%3A%20true%2C%0A%20%20%22fillColor%22%3A%20%22%23236CA7%22%2C%0A%20%20%22fillOpacity%22%3A%200.7%2C%0A%20%20%22fillRule%22%3A%20%22evenodd%22%2C%0A%20%20%22lineCap%22%3A%20%22round%22%2C%0A%20%20%22lineJoin%22%3A%20%22round%22%2C%0A%20%20%22opacity%22%3A%201.0%2C%0A%20%20%22radius%22%3A%205%2C%0A%20%20%22stroke%22%3A%20true%2C%0A%20%20%22weight%22%3A%203%0A%7D%0A%20%20%20%20%20%20%20%20%20%20%20%20%20%20%20%20%29.addTo%28map_eef31278277b4efebf512b3ca16c7671%29%3B%0A%20%20%20%20%20%20%20%20%20%20%20%20%0A%20%20%20%20%0A%20%20%20%20%20%20%20%20%20%20%20%20var%20popup_bd536f0549ba4f46b357224f628cc93e%20%3D%20L.popup%28%7BmaxWidth%3A%20%27300%27%7D%29%3B%0A%0A%20%20%20%20%20%20%20%20%20%20%20%20%0A%20%20%20%20%20%20%20%20%20%20%20%20%20%20%20%20var%20html_e7d3ee3dd8bd42eeb7000859062790b3%20%3D%20%24%28%27%3Cdiv%20id%3D%22html_e7d3ee3dd8bd42eeb7000859062790b3%22%20style%3D%22width%3A%20100.0%25%3B%20height%3A%20100.0%25%3B%22%3EBay%20Village%3C/div%3E%27%29%5B0%5D%3B%0A%20%20%20%20%20%20%20%20%20%20%20%20%20%20%20%20popup_bd536f0549ba4f46b357224f628cc93e.setContent%28html_e7d3ee3dd8bd42eeb7000859062790b3%29%3B%0A%20%20%20%20%20%20%20%20%20%20%20%20%0A%0A%20%20%20%20%20%20%20%20%20%20%20%20circle_marker_f66baab0f38c476da1b1978b10e5bb81.bindPopup%28popup_bd536f0549ba4f46b357224f628cc93e%29%3B%0A%0A%20%20%20%20%20%20%20%20%20%20%20%20%0A%20%20%20%20%20%20%20%20%0A%20%20%20%20%0A%20%20%20%20%20%20%20%20%20%20%20%20var%20circle_marker_441e59fc2f5045e6b7cebb4fd259677a%20%3D%20L.circleMarker%28%0A%20%20%20%20%20%20%20%20%20%20%20%20%20%20%20%20%5B42.3523222%2C-71.05734307739965%5D%2C%0A%20%20%20%20%20%20%20%20%20%20%20%20%20%20%20%20%7B%0A%20%20%22bubblingMouseEvents%22%3A%20true%2C%0A%20%20%22color%22%3A%20%22%23236CA7%22%2C%0A%20%20%22dashArray%22%3A%20null%2C%0A%20%20%22dashOffset%22%3A%20null%2C%0A%20%20%22fill%22%3A%20true%2C%0A%20%20%22fillColor%22%3A%20%22%23236CA7%22%2C%0A%20%20%22fillOpacity%22%3A%200.7%2C%0A%20%20%22fillRule%22%3A%20%22evenodd%22%2C%0A%20%20%22lineCap%22%3A%20%22round%22%2C%0A%20%20%22lineJoin%22%3A%20%22round%22%2C%0A%20%20%22opacity%22%3A%201.0%2C%0A%20%20%22radius%22%3A%205%2C%0A%20%20%22stroke%22%3A%20true%2C%0A%20%20%22weight%22%3A%203%0A%7D%0A%20%20%20%20%20%20%20%20%20%20%20%20%20%20%20%20%29.addTo%28map_eef31278277b4efebf512b3ca16c7671%29%3B%0A%20%20%20%20%20%20%20%20%20%20%20%20%0A%20%20%20%20%0A%20%20%20%20%20%20%20%20%20%20%20%20var%20popup_df0fdaa834bd4f4881e2d08a0a942f03%20%3D%20L.popup%28%7BmaxWidth%3A%20%27300%27%7D%29%3B%0A%0A%20%20%20%20%20%20%20%20%20%20%20%20%0A%20%20%20%20%20%20%20%20%20%20%20%20%20%20%20%20var%20html_c080ae6cdc8945c28651340d7b5d8410%20%3D%20%24%28%27%3Cdiv%20id%3D%22html_c080ae6cdc8945c28651340d7b5d8410%22%20style%3D%22width%3A%20100.0%25%3B%20height%3A%20100.0%25%3B%22%3ELeather%20District%3C/div%3E%27%29%5B0%5D%3B%0A%20%20%20%20%20%20%20%20%20%20%20%20%20%20%20%20popup_df0fdaa834bd4f4881e2d08a0a942f03.setContent%28html_c080ae6cdc8945c28651340d7b5d8410%29%3B%0A%20%20%20%20%20%20%20%20%20%20%20%20%0A%0A%20%20%20%20%20%20%20%20%20%20%20%20circle_marker_441e59fc2f5045e6b7cebb4fd259677a.bindPopup%28popup_df0fdaa834bd4f4881e2d08a0a942f03%29%3B%0A%0A%20%20%20%20%20%20%20%20%20%20%20%20%0A%20%20%20%20%20%20%20%20%0A%20%20%20%20%0A%20%20%20%20%20%20%20%20%20%20%20%20var%20circle_marker_bd19676f8dd44f42804665dc724e4c36%20%3D%20L.circleMarker%28%0A%20%20%20%20%20%20%20%20%20%20%20%20%20%20%20%20%5B42.3513291%2C-71.0626228%5D%2C%0A%20%20%20%20%20%20%20%20%20%20%20%20%20%20%20%20%7B%0A%20%20%22bubblingMouseEvents%22%3A%20true%2C%0A%20%20%22color%22%3A%20%22%23236CA7%22%2C%0A%20%20%22dashArray%22%3A%20null%2C%0A%20%20%22dashOffset%22%3A%20null%2C%0A%20%20%22fill%22%3A%20true%2C%0A%20%20%22fillColor%22%3A%20%22%23236CA7%22%2C%0A%20%20%22fillOpacity%22%3A%200.7%2C%0A%20%20%22fillRule%22%3A%20%22evenodd%22%2C%0A%20%20%22lineCap%22%3A%20%22round%22%2C%0A%20%20%22lineJoin%22%3A%20%22round%22%2C%0A%20%20%22opacity%22%3A%201.0%2C%0A%20%20%22radius%22%3A%205%2C%0A%20%20%22stroke%22%3A%20true%2C%0A%20%20%22weight%22%3A%203%0A%7D%0A%20%20%20%20%20%20%20%20%20%20%20%20%20%20%20%20%29.addTo%28map_eef31278277b4efebf512b3ca16c7671%29%3B%0A%20%20%20%20%20%20%20%20%20%20%20%20%0A%20%20%20%20%0A%20%20%20%20%20%20%20%20%20%20%20%20var%20popup_01a4f5e9b4494311ac3da9c347460f70%20%3D%20L.popup%28%7BmaxWidth%3A%20%27300%27%7D%29%3B%0A%0A%20%20%20%20%20%20%20%20%20%20%20%20%0A%20%20%20%20%20%20%20%20%20%20%20%20%20%20%20%20var%20html_9756b7cd6bdf4944ae7227b81758fd3b%20%3D%20%24%28%27%3Cdiv%20id%3D%22html_9756b7cd6bdf4944ae7227b81758fd3b%22%20style%3D%22width%3A%20100.0%25%3B%20height%3A%20100.0%25%3B%22%3EChinatown%3C/div%3E%27%29%5B0%5D%3B%0A%20%20%20%20%20%20%20%20%20%20%20%20%20%20%20%20popup_01a4f5e9b4494311ac3da9c347460f70.setContent%28html_9756b7cd6bdf4944ae7227b81758fd3b%29%3B%0A%20%20%20%20%20%20%20%20%20%20%20%20%0A%0A%20%20%20%20%20%20%20%20%20%20%20%20circle_marker_bd19676f8dd44f42804665dc724e4c36.bindPopup%28popup_01a4f5e9b4494311ac3da9c347460f70%29%3B%0A%0A%20%20%20%20%20%20%20%20%20%20%20%20%0A%20%20%20%20%20%20%20%20%0A%20%20%20%20%0A%20%20%20%20%20%20%20%20%20%20%20%20var%20circle_marker_67d3b1e4d0f8479a993298e97b981ebc%20%3D%20L.circleMarker%28%0A%20%20%20%20%20%20%20%20%20%20%20%20%20%20%20%20%5B42.3650974%2C-71.0544954%5D%2C%0A%20%20%20%20%20%20%20%20%20%20%20%20%20%20%20%20%7B%0A%20%20%22bubblingMouseEvents%22%3A%20true%2C%0A%20%20%22color%22%3A%20%22%23236CA7%22%2C%0A%20%20%22dashArray%22%3A%20null%2C%0A%20%20%22dashOffset%22%3A%20null%2C%0A%20%20%22fill%22%3A%20true%2C%0A%20%20%22fillColor%22%3A%20%22%23236CA7%22%2C%0A%20%20%22fillOpacity%22%3A%200.7%2C%0A%20%20%22fillRule%22%3A%20%22evenodd%22%2C%0A%20%20%22lineCap%22%3A%20%22round%22%2C%0A%20%20%22lineJoin%22%3A%20%22round%22%2C%0A%20%20%22opacity%22%3A%201.0%2C%0A%20%20%22radius%22%3A%205%2C%0A%20%20%22stroke%22%3A%20true%2C%0A%20%20%22weight%22%3A%203%0A%7D%0A%20%20%20%20%20%20%20%20%20%20%20%20%20%20%20%20%29.addTo%28map_eef31278277b4efebf512b3ca16c7671%29%3B%0A%20%20%20%20%20%20%20%20%20%20%20%20%0A%20%20%20%20%0A%20%20%20%20%20%20%20%20%20%20%20%20var%20popup_d4e8627f6a144992892ed11d7dcbc43e%20%3D%20L.popup%28%7BmaxWidth%3A%20%27300%27%7D%29%3B%0A%0A%20%20%20%20%20%20%20%20%20%20%20%20%0A%20%20%20%20%20%20%20%20%20%20%20%20%20%20%20%20var%20html_43bcb17dd6a24bdc97ffcd0c9fe55396%20%3D%20%24%28%27%3Cdiv%20id%3D%22html_43bcb17dd6a24bdc97ffcd0c9fe55396%22%20style%3D%22width%3A%20100.0%25%3B%20height%3A%20100.0%25%3B%22%3ENorth%20End%3C/div%3E%27%29%5B0%5D%3B%0A%20%20%20%20%20%20%20%20%20%20%20%20%20%20%20%20popup_d4e8627f6a144992892ed11d7dcbc43e.setContent%28html_43bcb17dd6a24bdc97ffcd0c9fe55396%29%3B%0A%20%20%20%20%20%20%20%20%20%20%20%20%0A%0A%20%20%20%20%20%20%20%20%20%20%20%20circle_marker_67d3b1e4d0f8479a993298e97b981ebc.bindPopup%28popup_d4e8627f6a144992892ed11d7dcbc43e%29%3B%0A%0A%20%20%20%20%20%20%20%20%20%20%20%20%0A%20%20%20%20%20%20%20%20%0A%20%20%20%20%0A%20%20%20%20%20%20%20%20%20%20%20%20var%20circle_marker_93226c34536348eb81445290133d7113%20%3D%20L.circleMarker%28%0A%20%20%20%20%20%20%20%20%20%20%20%20%20%20%20%20%5B42.3248426%2C-71.0950158%5D%2C%0A%20%20%20%20%20%20%20%20%20%20%20%20%20%20%20%20%7B%0A%20%20%22bubblingMouseEvents%22%3A%20true%2C%0A%20%20%22color%22%3A%20%22%23236CA7%22%2C%0A%20%20%22dashArray%22%3A%20null%2C%0A%20%20%22dashOffset%22%3A%20null%2C%0A%20%20%22fill%22%3A%20true%2C%0A%20%20%22fillColor%22%3A%20%22%23236CA7%22%2C%0A%20%20%22fillOpacity%22%3A%200.7%2C%0A%20%20%22fillRule%22%3A%20%22evenodd%22%2C%0A%20%20%22lineCap%22%3A%20%22round%22%2C%0A%20%20%22lineJoin%22%3A%20%22round%22%2C%0A%20%20%22opacity%22%3A%201.0%2C%0A%20%20%22radius%22%3A%205%2C%0A%20%20%22stroke%22%3A%20true%2C%0A%20%20%22weight%22%3A%203%0A%7D%0A%20%20%20%20%20%20%20%20%20%20%20%20%20%20%20%20%29.addTo%28map_eef31278277b4efebf512b3ca16c7671%29%3B%0A%20%20%20%20%20%20%20%20%20%20%20%20%0A%20%20%20%20%0A%20%20%20%20%20%20%20%20%20%20%20%20var%20popup_df5abd961aae4a7a840f70bbc6e60b14%20%3D%20L.popup%28%7BmaxWidth%3A%20%27300%27%7D%29%3B%0A%0A%20%20%20%20%20%20%20%20%20%20%20%20%0A%20%20%20%20%20%20%20%20%20%20%20%20%20%20%20%20var%20html_46273614b59c48e2b86c687bdcf82afc%20%3D%20%24%28%27%3Cdiv%20id%3D%22html_46273614b59c48e2b86c687bdcf82afc%22%20style%3D%22width%3A%20100.0%25%3B%20height%3A%20100.0%25%3B%22%3ERoxbury%3C/div%3E%27%29%5B0%5D%3B%0A%20%20%20%20%20%20%20%20%20%20%20%20%20%20%20%20popup_df5abd961aae4a7a840f70bbc6e60b14.setContent%28html_46273614b59c48e2b86c687bdcf82afc%29%3B%0A%20%20%20%20%20%20%20%20%20%20%20%20%0A%0A%20%20%20%20%20%20%20%20%20%20%20%20circle_marker_93226c34536348eb81445290133d7113.bindPopup%28popup_df5abd961aae4a7a840f70bbc6e60b14%29%3B%0A%0A%20%20%20%20%20%20%20%20%20%20%20%20%0A%20%20%20%20%20%20%20%20%0A%20%20%20%20%0A%20%20%20%20%20%20%20%20%20%20%20%20var%20circle_marker_7dbdd810de254b4f903edac33f29d4c5%20%3D%20L.circleMarker%28%0A%20%20%20%20%20%20%20%20%20%20%20%20%20%20%20%20%5B42.34131%2C-71.0772298%5D%2C%0A%20%20%20%20%20%20%20%20%20%20%20%20%20%20%20%20%7B%0A%20%20%22bubblingMouseEvents%22%3A%20true%2C%0A%20%20%22color%22%3A%20%22%23236CA7%22%2C%0A%20%20%22dashArray%22%3A%20null%2C%0A%20%20%22dashOffset%22%3A%20null%2C%0A%20%20%22fill%22%3A%20true%2C%0A%20%20%22fillColor%22%3A%20%22%23236CA7%22%2C%0A%20%20%22fillOpacity%22%3A%200.7%2C%0A%20%20%22fillRule%22%3A%20%22evenodd%22%2C%0A%20%20%22lineCap%22%3A%20%22round%22%2C%0A%20%20%22lineJoin%22%3A%20%22round%22%2C%0A%20%20%22opacity%22%3A%201.0%2C%0A%20%20%22radius%22%3A%205%2C%0A%20%20%22stroke%22%3A%20true%2C%0A%20%20%22weight%22%3A%203%0A%7D%0A%20%20%20%20%20%20%20%20%20%20%20%20%20%20%20%20%29.addTo%28map_eef31278277b4efebf512b3ca16c7671%29%3B%0A%20%20%20%20%20%20%20%20%20%20%20%20%0A%20%20%20%20%0A%20%20%20%20%20%20%20%20%20%20%20%20var%20popup_729c3b6025ea49efb6df8958cbf0a88a%20%3D%20L.popup%28%7BmaxWidth%3A%20%27300%27%7D%29%3B%0A%0A%20%20%20%20%20%20%20%20%20%20%20%20%0A%20%20%20%20%20%20%20%20%20%20%20%20%20%20%20%20var%20html_a009606765614278895167dca11ac987%20%3D%20%24%28%27%3Cdiv%20id%3D%22html_a009606765614278895167dca11ac987%22%20style%3D%22width%3A%20100.0%25%3B%20height%3A%20100.0%25%3B%22%3ESouth%20End%3C/div%3E%27%29%5B0%5D%3B%0A%20%20%20%20%20%20%20%20%20%20%20%20%20%20%20%20popup_729c3b6025ea49efb6df8958cbf0a88a.setContent%28html_a009606765614278895167dca11ac987%29%3B%0A%20%20%20%20%20%20%20%20%20%20%20%20%0A%0A%20%20%20%20%20%20%20%20%20%20%20%20circle_marker_7dbdd810de254b4f903edac33f29d4c5.bindPopup%28popup_729c3b6025ea49efb6df8958cbf0a88a%29%3B%0A%0A%20%20%20%20%20%20%20%20%20%20%20%20%0A%20%20%20%20%20%20%20%20%0A%20%20%20%20%0A%20%20%20%20%20%20%20%20%20%20%20%20var%20circle_marker_5cea758bf05d4317972240d2aedf32f1%20%3D%20L.circleMarker%28%0A%20%20%20%20%20%20%20%20%20%20%20%20%20%20%20%20%5B42.35054885%2C-71.08031131584724%5D%2C%0A%20%20%20%20%20%20%20%20%20%20%20%20%20%20%20%20%7B%0A%20%20%22bubblingMouseEvents%22%3A%20true%2C%0A%20%20%22color%22%3A%20%22%23236CA7%22%2C%0A%20%20%22dashArray%22%3A%20null%2C%0A%20%20%22dashOffset%22%3A%20null%2C%0A%20%20%22fill%22%3A%20true%2C%0A%20%20%22fillColor%22%3A%20%22%23236CA7%22%2C%0A%20%20%22fillOpacity%22%3A%200.7%2C%0A%20%20%22fillRule%22%3A%20%22evenodd%22%2C%0A%20%20%22lineCap%22%3A%20%22round%22%2C%0A%20%20%22lineJoin%22%3A%20%22round%22%2C%0A%20%20%22opacity%22%3A%201.0%2C%0A%20%20%22radius%22%3A%205%2C%0A%20%20%22stroke%22%3A%20true%2C%0A%20%20%22weight%22%3A%203%0A%7D%0A%20%20%20%20%20%20%20%20%20%20%20%20%20%20%20%20%29.addTo%28map_eef31278277b4efebf512b3ca16c7671%29%3B%0A%20%20%20%20%20%20%20%20%20%20%20%20%0A%20%20%20%20%0A%20%20%20%20%20%20%20%20%20%20%20%20var%20popup_62c7238f9d024190893a706e21800113%20%3D%20L.popup%28%7BmaxWidth%3A%20%27300%27%7D%29%3B%0A%0A%20%20%20%20%20%20%20%20%20%20%20%20%0A%20%20%20%20%20%20%20%20%20%20%20%20%20%20%20%20var%20html_b6b5b0f85bc64726bc74d56a95dc6503%20%3D%20%24%28%27%3Cdiv%20id%3D%22html_b6b5b0f85bc64726bc74d56a95dc6503%22%20style%3D%22width%3A%20100.0%25%3B%20height%3A%20100.0%25%3B%22%3EBack%20Bay%3C/div%3E%27%29%5B0%5D%3B%0A%20%20%20%20%20%20%20%20%20%20%20%20%20%20%20%20popup_62c7238f9d024190893a706e21800113.setContent%28html_b6b5b0f85bc64726bc74d56a95dc6503%29%3B%0A%20%20%20%20%20%20%20%20%20%20%20%20%0A%0A%20%20%20%20%20%20%20%20%20%20%20%20circle_marker_5cea758bf05d4317972240d2aedf32f1.bindPopup%28popup_62c7238f9d024190893a706e21800113%29%3B%0A%0A%20%20%20%20%20%20%20%20%20%20%20%20%0A%20%20%20%20%20%20%20%20%0A%20%20%20%20%0A%20%20%20%20%20%20%20%20%20%20%20%20var%20circle_marker_8705636fbac24638bdc5463a4f105451%20%3D%20L.circleMarker%28%0A%20%20%20%20%20%20%20%20%20%20%20%20%20%20%20%20%5B42.3750973%2C-71.0392173%5D%2C%0A%20%20%20%20%20%20%20%20%20%20%20%20%20%20%20%20%7B%0A%20%20%22bubblingMouseEvents%22%3A%20true%2C%0A%20%20%22color%22%3A%20%22%23236CA7%22%2C%0A%20%20%22dashArray%22%3A%20null%2C%0A%20%20%22dashOffset%22%3A%20null%2C%0A%20%20%22fill%22%3A%20true%2C%0A%20%20%22fillColor%22%3A%20%22%23236CA7%22%2C%0A%20%20%22fillOpacity%22%3A%200.7%2C%0A%20%20%22fillRule%22%3A%20%22evenodd%22%2C%0A%20%20%22lineCap%22%3A%20%22round%22%2C%0A%20%20%22lineJoin%22%3A%20%22round%22%2C%0A%20%20%22opacity%22%3A%201.0%2C%0A%20%20%22radius%22%3A%205%2C%0A%20%20%22stroke%22%3A%20true%2C%0A%20%20%22weight%22%3A%203%0A%7D%0A%20%20%20%20%20%20%20%20%20%20%20%20%20%20%20%20%29.addTo%28map_eef31278277b4efebf512b3ca16c7671%29%3B%0A%20%20%20%20%20%20%20%20%20%20%20%20%0A%20%20%20%20%0A%20%20%20%20%20%20%20%20%20%20%20%20var%20popup_e4028944184d4ba098c90e1743ab5ed1%20%3D%20L.popup%28%7BmaxWidth%3A%20%27300%27%7D%29%3B%0A%0A%20%20%20%20%20%20%20%20%20%20%20%20%0A%20%20%20%20%20%20%20%20%20%20%20%20%20%20%20%20var%20html_e681cbd7220a46fc92adbcb5e033dbfd%20%3D%20%24%28%27%3Cdiv%20id%3D%22html_e681cbd7220a46fc92adbcb5e033dbfd%22%20style%3D%22width%3A%20100.0%25%3B%20height%3A%20100.0%25%3B%22%3EEast%20Boston%3C/div%3E%27%29%5B0%5D%3B%0A%20%20%20%20%20%20%20%20%20%20%20%20%20%20%20%20popup_e4028944184d4ba098c90e1743ab5ed1.setContent%28html_e681cbd7220a46fc92adbcb5e033dbfd%29%3B%0A%20%20%20%20%20%20%20%20%20%20%20%20%0A%0A%20%20%20%20%20%20%20%20%20%20%20%20circle_marker_8705636fbac24638bdc5463a4f105451.bindPopup%28popup_e4028944184d4ba098c90e1743ab5ed1%29%3B%0A%0A%20%20%20%20%20%20%20%20%20%20%20%20%0A%20%20%20%20%20%20%20%20%0A%20%20%20%20%0A%20%20%20%20%20%20%20%20%20%20%20%20var%20circle_marker_56c0482dfad74ebcb57d1371e8faa743%20%3D%20L.circleMarker%28%0A%20%20%20%20%20%20%20%20%20%20%20%20%20%20%20%20%5B42.3778749%2C-71.0619957%5D%2C%0A%20%20%20%20%20%20%20%20%20%20%20%20%20%20%20%20%7B%0A%20%20%22bubblingMouseEvents%22%3A%20true%2C%0A%20%20%22color%22%3A%20%22%23236CA7%22%2C%0A%20%20%22dashArray%22%3A%20null%2C%0A%20%20%22dashOffset%22%3A%20null%2C%0A%20%20%22fill%22%3A%20true%2C%0A%20%20%22fillColor%22%3A%20%22%23236CA7%22%2C%0A%20%20%22fillOpacity%22%3A%200.7%2C%0A%20%20%22fillRule%22%3A%20%22evenodd%22%2C%0A%20%20%22lineCap%22%3A%20%22round%22%2C%0A%20%20%22lineJoin%22%3A%20%22round%22%2C%0A%20%20%22opacity%22%3A%201.0%2C%0A%20%20%22radius%22%3A%205%2C%0A%20%20%22stroke%22%3A%20true%2C%0A%20%20%22weight%22%3A%203%0A%7D%0A%20%20%20%20%20%20%20%20%20%20%20%20%20%20%20%20%29.addTo%28map_eef31278277b4efebf512b3ca16c7671%29%3B%0A%20%20%20%20%20%20%20%20%20%20%20%20%0A%20%20%20%20%0A%20%20%20%20%20%20%20%20%20%20%20%20var%20popup_47887ab7b32f4125ab72268194eae153%20%3D%20L.popup%28%7BmaxWidth%3A%20%27300%27%7D%29%3B%0A%0A%20%20%20%20%20%20%20%20%20%20%20%20%0A%20%20%20%20%20%20%20%20%20%20%20%20%20%20%20%20var%20html_a756a5b725f042a888149ab41f42a876%20%3D%20%24%28%27%3Cdiv%20id%3D%22html_a756a5b725f042a888149ab41f42a876%22%20style%3D%22width%3A%20100.0%25%3B%20height%3A%20100.0%25%3B%22%3ECharlestown%3C/div%3E%27%29%5B0%5D%3B%0A%20%20%20%20%20%20%20%20%20%20%20%20%20%20%20%20popup_47887ab7b32f4125ab72268194eae153.setContent%28html_a756a5b725f042a888149ab41f42a876%29%3B%0A%20%20%20%20%20%20%20%20%20%20%20%20%0A%0A%20%20%20%20%20%20%20%20%20%20%20%20circle_marker_56c0482dfad74ebcb57d1371e8faa743.bindPopup%28popup_47887ab7b32f4125ab72268194eae153%29%3B%0A%0A%20%20%20%20%20%20%20%20%20%20%20%20%0A%20%20%20%20%20%20%20%20%0A%20%20%20%20%0A%20%20%20%20%20%20%20%20%20%20%20%20var%20circle_marker_76e45d5c1dcc4e87818796070c039e0e%20%3D%20L.circleMarker%28%0A%20%20%20%20%20%20%20%20%20%20%20%20%20%20%20%20%5B42.3639186%2C-71.0638993%5D%2C%0A%20%20%20%20%20%20%20%20%20%20%20%20%20%20%20%20%7B%0A%20%20%22bubblingMouseEvents%22%3A%20true%2C%0A%20%20%22color%22%3A%20%22%23236CA7%22%2C%0A%20%20%22dashArray%22%3A%20null%2C%0A%20%20%22dashOffset%22%3A%20null%2C%0A%20%20%22fill%22%3A%20true%2C%0A%20%20%22fillColor%22%3A%20%22%23236CA7%22%2C%0A%20%20%22fillOpacity%22%3A%200.7%2C%0A%20%20%22fillRule%22%3A%20%22evenodd%22%2C%0A%20%20%22lineCap%22%3A%20%22round%22%2C%0A%20%20%22lineJoin%22%3A%20%22round%22%2C%0A%20%20%22opacity%22%3A%201.0%2C%0A%20%20%22radius%22%3A%205%2C%0A%20%20%22stroke%22%3A%20true%2C%0A%20%20%22weight%22%3A%203%0A%7D%0A%20%20%20%20%20%20%20%20%20%20%20%20%20%20%20%20%29.addTo%28map_eef31278277b4efebf512b3ca16c7671%29%3B%0A%20%20%20%20%20%20%20%20%20%20%20%20%0A%20%20%20%20%0A%20%20%20%20%20%20%20%20%20%20%20%20var%20popup_fd2eb463cf70408b9c076218b3447542%20%3D%20L.popup%28%7BmaxWidth%3A%20%27300%27%7D%29%3B%0A%0A%20%20%20%20%20%20%20%20%20%20%20%20%0A%20%20%20%20%20%20%20%20%20%20%20%20%20%20%20%20var%20html_d20ce40eaaed4e9b8d925f175b27f2fa%20%3D%20%24%28%27%3Cdiv%20id%3D%22html_d20ce40eaaed4e9b8d925f175b27f2fa%22%20style%3D%22width%3A%20100.0%25%3B%20height%3A%20100.0%25%3B%22%3EWest%20End%3C/div%3E%27%29%5B0%5D%3B%0A%20%20%20%20%20%20%20%20%20%20%20%20%20%20%20%20popup_fd2eb463cf70408b9c076218b3447542.setContent%28html_d20ce40eaaed4e9b8d925f175b27f2fa%29%3B%0A%20%20%20%20%20%20%20%20%20%20%20%20%0A%0A%20%20%20%20%20%20%20%20%20%20%20%20circle_marker_76e45d5c1dcc4e87818796070c039e0e.bindPopup%28popup_fd2eb463cf70408b9c076218b3447542%29%3B%0A%0A%20%20%20%20%20%20%20%20%20%20%20%20%0A%20%20%20%20%20%20%20%20%0A%20%20%20%20%0A%20%20%20%20%20%20%20%20%20%20%20%20var%20circle_marker_b9754bc2e48e49089c6aba0a865cee7e%20%3D%20L.circleMarker%28%0A%20%20%20%20%20%20%20%20%20%20%20%20%20%20%20%20%5B42.3587085%2C-71.067829%5D%2C%0A%20%20%20%20%20%20%20%20%20%20%20%20%20%20%20%20%7B%0A%20%20%22bubblingMouseEvents%22%3A%20true%2C%0A%20%20%22color%22%3A%20%22%23236CA7%22%2C%0A%20%20%22dashArray%22%3A%20null%2C%0A%20%20%22dashOffset%22%3A%20null%2C%0A%20%20%22fill%22%3A%20true%2C%0A%20%20%22fillColor%22%3A%20%22%23236CA7%22%2C%0A%20%20%22fillOpacity%22%3A%200.7%2C%0A%20%20%22fillRule%22%3A%20%22evenodd%22%2C%0A%20%20%22lineCap%22%3A%20%22round%22%2C%0A%20%20%22lineJoin%22%3A%20%22round%22%2C%0A%20%20%22opacity%22%3A%201.0%2C%0A%20%20%22radius%22%3A%205%2C%0A%20%20%22stroke%22%3A%20true%2C%0A%20%20%22weight%22%3A%203%0A%7D%0A%20%20%20%20%20%20%20%20%20%20%20%20%20%20%20%20%29.addTo%28map_eef31278277b4efebf512b3ca16c7671%29%3B%0A%20%20%20%20%20%20%20%20%20%20%20%20%0A%20%20%20%20%0A%20%20%20%20%20%20%20%20%20%20%20%20var%20popup_0fd5228ba9a34656a8ca91d914a8d9f4%20%3D%20L.popup%28%7BmaxWidth%3A%20%27300%27%7D%29%3B%0A%0A%20%20%20%20%20%20%20%20%20%20%20%20%0A%20%20%20%20%20%20%20%20%20%20%20%20%20%20%20%20var%20html_dcc95b189e3d41859dc2cb3278258c4f%20%3D%20%24%28%27%3Cdiv%20id%3D%22html_dcc95b189e3d41859dc2cb3278258c4f%22%20style%3D%22width%3A%20100.0%25%3B%20height%3A%20100.0%25%3B%22%3EBeacon%20Hill%3C/div%3E%27%29%5B0%5D%3B%0A%20%20%20%20%20%20%20%20%20%20%20%20%20%20%20%20popup_0fd5228ba9a34656a8ca91d914a8d9f4.setContent%28html_dcc95b189e3d41859dc2cb3278258c4f%29%3B%0A%20%20%20%20%20%20%20%20%20%20%20%20%0A%0A%20%20%20%20%20%20%20%20%20%20%20%20circle_marker_b9754bc2e48e49089c6aba0a865cee7e.bindPopup%28popup_0fd5228ba9a34656a8ca91d914a8d9f4%29%3B%0A%0A%20%20%20%20%20%20%20%20%20%20%20%20%0A%20%20%20%20%20%20%20%20%0A%20%20%20%20%0A%20%20%20%20%20%20%20%20%20%20%20%20var%20circle_marker_e2d2939f4d374f3084a67a43fc17af24%20%3D%20L.circleMarker%28%0A%20%20%20%20%20%20%20%20%20%20%20%20%20%20%20%20%5B42.35860195%2C-71.06387508501135%5D%2C%0A%20%20%20%20%20%20%20%20%20%20%20%20%20%20%20%20%7B%0A%20%20%22bubblingMouseEvents%22%3A%20true%2C%0A%20%20%22color%22%3A%20%22%23236CA7%22%2C%0A%20%20%22dashArray%22%3A%20null%2C%0A%20%20%22dashOffset%22%3A%20null%2C%0A%20%20%22fill%22%3A%20true%2C%0A%20%20%22fillColor%22%3A%20%22%23236CA7%22%2C%0A%20%20%22fillOpacity%22%3A%200.7%2C%0A%20%20%22fillRule%22%3A%20%22evenodd%22%2C%0A%20%20%22lineCap%22%3A%20%22round%22%2C%0A%20%20%22lineJoin%22%3A%20%22round%22%2C%0A%20%20%22opacity%22%3A%201.0%2C%0A%20%20%22radius%22%3A%205%2C%0A%20%20%22stroke%22%3A%20true%2C%0A%20%20%22weight%22%3A%203%0A%7D%0A%20%20%20%20%20%20%20%20%20%20%20%20%20%20%20%20%29.addTo%28map_eef31278277b4efebf512b3ca16c7671%29%3B%0A%20%20%20%20%20%20%20%20%20%20%20%20%0A%20%20%20%20%0A%20%20%20%20%20%20%20%20%20%20%20%20var%20popup_a845af52765e4fc2bdf57b59aca1fff2%20%3D%20L.popup%28%7BmaxWidth%3A%20%27300%27%7D%29%3B%0A%0A%20%20%20%20%20%20%20%20%20%20%20%20%0A%20%20%20%20%20%20%20%20%20%20%20%20%20%20%20%20var%20html_ae149406524d43f6add0bbb1dd8614f6%20%3D%20%24%28%27%3Cdiv%20id%3D%22html_ae149406524d43f6add0bbb1dd8614f6%22%20style%3D%22width%3A%20100.0%25%3B%20height%3A%20100.0%25%3B%22%3EDowntown%3C/div%3E%27%29%5B0%5D%3B%0A%20%20%20%20%20%20%20%20%20%20%20%20%20%20%20%20popup_a845af52765e4fc2bdf57b59aca1fff2.setContent%28html_ae149406524d43f6add0bbb1dd8614f6%29%3B%0A%20%20%20%20%20%20%20%20%20%20%20%20%0A%0A%20%20%20%20%20%20%20%20%20%20%20%20circle_marker_e2d2939f4d374f3084a67a43fc17af24.bindPopup%28popup_a845af52765e4fc2bdf57b59aca1fff2%29%3B%0A%0A%20%20%20%20%20%20%20%20%20%20%20%20%0A%20%20%20%20%20%20%20%20%0A%20%20%20%20%0A%20%20%20%20%20%20%20%20%20%20%20%20var%20circle_marker_1c2c36ed8de34810b5f1a1e90bd696f4%20%3D%20L.circleMarker%28%0A%20%20%20%20%20%20%20%20%20%20%20%20%20%20%20%20%5B42.3451868%2C-71.1045987%5D%2C%0A%20%20%20%20%20%20%20%20%20%20%20%20%20%20%20%20%7B%0A%20%20%22bubblingMouseEvents%22%3A%20true%2C%0A%20%20%22color%22%3A%20%22%23236CA7%22%2C%0A%20%20%22dashArray%22%3A%20null%2C%0A%20%20%22dashOffset%22%3A%20null%2C%0A%20%20%22fill%22%3A%20true%2C%0A%20%20%22fillColor%22%3A%20%22%23236CA7%22%2C%0A%20%20%22fillOpacity%22%3A%200.7%2C%0A%20%20%22fillRule%22%3A%20%22evenodd%22%2C%0A%20%20%22lineCap%22%3A%20%22round%22%2C%0A%20%20%22lineJoin%22%3A%20%22round%22%2C%0A%20%20%22opacity%22%3A%201.0%2C%0A%20%20%22radius%22%3A%205%2C%0A%20%20%22stroke%22%3A%20true%2C%0A%20%20%22weight%22%3A%203%0A%7D%0A%20%20%20%20%20%20%20%20%20%20%20%20%20%20%20%20%29.addTo%28map_eef31278277b4efebf512b3ca16c7671%29%3B%0A%20%20%20%20%20%20%20%20%20%20%20%20%0A%20%20%20%20%0A%20%20%20%20%20%20%20%20%20%20%20%20var%20popup_533f2e8e2146419bbd9195b97cfabd54%20%3D%20L.popup%28%7BmaxWidth%3A%20%27300%27%7D%29%3B%0A%0A%20%20%20%20%20%20%20%20%20%20%20%20%0A%20%20%20%20%20%20%20%20%20%20%20%20%20%20%20%20var%20html_86b2fe769d954bc68332ba7f03dbe3b7%20%3D%20%24%28%27%3Cdiv%20id%3D%22html_86b2fe769d954bc68332ba7f03dbe3b7%22%20style%3D%22width%3A%20100.0%25%3B%20height%3A%20100.0%25%3B%22%3EFenway%3C/div%3E%27%29%5B0%5D%3B%0A%20%20%20%20%20%20%20%20%20%20%20%20%20%20%20%20popup_533f2e8e2146419bbd9195b97cfabd54.setContent%28html_86b2fe769d954bc68332ba7f03dbe3b7%29%3B%0A%20%20%20%20%20%20%20%20%20%20%20%20%0A%0A%20%20%20%20%20%20%20%20%20%20%20%20circle_marker_1c2c36ed8de34810b5f1a1e90bd696f4.bindPopup%28popup_533f2e8e2146419bbd9195b97cfabd54%29%3B%0A%0A%20%20%20%20%20%20%20%20%20%20%20%20%0A%20%20%20%20%20%20%20%20%0A%20%20%20%20%0A%20%20%20%20%20%20%20%20%20%20%20%20var%20circle_marker_3bd9317017794ea4a1d41051625c0b8c%20%3D%20L.circleMarker%28%0A%20%20%20%20%20%20%20%20%20%20%20%20%20%20%20%20%5B42.3500971%2C-71.1564423%5D%2C%0A%20%20%20%20%20%20%20%20%20%20%20%20%20%20%20%20%7B%0A%20%20%22bubblingMouseEvents%22%3A%20true%2C%0A%20%20%22color%22%3A%20%22%23236CA7%22%2C%0A%20%20%22dashArray%22%3A%20null%2C%0A%20%20%22dashOffset%22%3A%20null%2C%0A%20%20%22fill%22%3A%20true%2C%0A%20%20%22fillColor%22%3A%20%22%23236CA7%22%2C%0A%20%20%22fillOpacity%22%3A%200.7%2C%0A%20%20%22fillRule%22%3A%20%22evenodd%22%2C%0A%20%20%22lineCap%22%3A%20%22round%22%2C%0A%20%20%22lineJoin%22%3A%20%22round%22%2C%0A%20%20%22opacity%22%3A%201.0%2C%0A%20%20%22radius%22%3A%205%2C%0A%20%20%22stroke%22%3A%20true%2C%0A%20%20%22weight%22%3A%203%0A%7D%0A%20%20%20%20%20%20%20%20%20%20%20%20%20%20%20%20%29.addTo%28map_eef31278277b4efebf512b3ca16c7671%29%3B%0A%20%20%20%20%20%20%20%20%20%20%20%20%0A%20%20%20%20%0A%20%20%20%20%20%20%20%20%20%20%20%20var%20popup_9471277d59924bdbaefa988b75d26d15%20%3D%20L.popup%28%7BmaxWidth%3A%20%27300%27%7D%29%3B%0A%0A%20%20%20%20%20%20%20%20%20%20%20%20%0A%20%20%20%20%20%20%20%20%20%20%20%20%20%20%20%20var%20html_c2fbf92f55144d479ec51627377ccf7b%20%3D%20%24%28%27%3Cdiv%20id%3D%22html_c2fbf92f55144d479ec51627377ccf7b%22%20style%3D%22width%3A%20100.0%25%3B%20height%3A%20100.0%25%3B%22%3EBrighton%3C/div%3E%27%29%5B0%5D%3B%0A%20%20%20%20%20%20%20%20%20%20%20%20%20%20%20%20popup_9471277d59924bdbaefa988b75d26d15.setContent%28html_c2fbf92f55144d479ec51627377ccf7b%29%3B%0A%20%20%20%20%20%20%20%20%20%20%20%20%0A%0A%20%20%20%20%20%20%20%20%20%20%20%20circle_marker_3bd9317017794ea4a1d41051625c0b8c.bindPopup%28popup_9471277d59924bdbaefa988b75d26d15%29%3B%0A%0A%20%20%20%20%20%20%20%20%20%20%20%20%0A%20%20%20%20%20%20%20%20%0A%20%20%20%20%0A%20%20%20%20%20%20%20%20%20%20%20%20var%20circle_marker_8328316b9488443c8a366374b9a96a85%20%3D%20L.circleMarker%28%0A%20%20%20%20%20%20%20%20%20%20%20%20%20%20%20%20%5B42.2792649%2C-71.1494972%5D%2C%0A%20%20%20%20%20%20%20%20%20%20%20%20%20%20%20%20%7B%0A%20%20%22bubblingMouseEvents%22%3A%20true%2C%0A%20%20%22color%22%3A%20%22%23236CA7%22%2C%0A%20%20%22dashArray%22%3A%20null%2C%0A%20%20%22dashOffset%22%3A%20null%2C%0A%20%20%22fill%22%3A%20true%2C%0A%20%20%22fillColor%22%3A%20%22%23236CA7%22%2C%0A%20%20%22fillOpacity%22%3A%200.7%2C%0A%20%20%22fillRule%22%3A%20%22evenodd%22%2C%0A%20%20%22lineCap%22%3A%20%22round%22%2C%0A%20%20%22lineJoin%22%3A%20%22round%22%2C%0A%20%20%22opacity%22%3A%201.0%2C%0A%20%20%22radius%22%3A%205%2C%0A%20%20%22stroke%22%3A%20true%2C%0A%20%20%22weight%22%3A%203%0A%7D%0A%20%20%20%20%20%20%20%20%20%20%20%20%20%20%20%20%29.addTo%28map_eef31278277b4efebf512b3ca16c7671%29%3B%0A%20%20%20%20%20%20%20%20%20%20%20%20%0A%20%20%20%20%0A%20%20%20%20%20%20%20%20%20%20%20%20var%20popup_c85144c8926444c9b55bd9b7b06fba3b%20%3D%20L.popup%28%7BmaxWidth%3A%20%27300%27%7D%29%3B%0A%0A%20%20%20%20%20%20%20%20%20%20%20%20%0A%20%20%20%20%20%20%20%20%20%20%20%20%20%20%20%20var%20html_4bfe29b827f041c6b81cbb55ea91b8d3%20%3D%20%24%28%27%3Cdiv%20id%3D%22html_4bfe29b827f041c6b81cbb55ea91b8d3%22%20style%3D%22width%3A%20100.0%25%3B%20height%3A%20100.0%25%3B%22%3EWest%20Roxbury%3C/div%3E%27%29%5B0%5D%3B%0A%20%20%20%20%20%20%20%20%20%20%20%20%20%20%20%20popup_c85144c8926444c9b55bd9b7b06fba3b.setContent%28html_4bfe29b827f041c6b81cbb55ea91b8d3%29%3B%0A%20%20%20%20%20%20%20%20%20%20%20%20%0A%0A%20%20%20%20%20%20%20%20%20%20%20%20circle_marker_8328316b9488443c8a366374b9a96a85.bindPopup%28popup_c85144c8926444c9b55bd9b7b06fba3b%29%3B%0A%0A%20%20%20%20%20%20%20%20%20%20%20%20%0A%20%20%20%20%20%20%20%20%0A%20%20%20%20%0A%20%20%20%20%20%20%20%20%20%20%20%20var%20circle_marker_4b89f13c41d74389b76425f5d9ad0615%20%3D%20L.circleMarker%28%0A%20%20%20%20%20%20%20%20%20%20%20%20%20%20%20%20%5B42.2556543%2C-71.1244963%5D%2C%0A%20%20%20%20%20%20%20%20%20%20%20%20%20%20%20%20%7B%0A%20%20%22bubblingMouseEvents%22%3A%20true%2C%0A%20%20%22color%22%3A%20%22%23236CA7%22%2C%0A%20%20%22dashArray%22%3A%20null%2C%0A%20%20%22dashOffset%22%3A%20null%2C%0A%20%20%22fill%22%3A%20true%2C%0A%20%20%22fillColor%22%3A%20%22%23236CA7%22%2C%0A%20%20%22fillOpacity%22%3A%200.7%2C%0A%20%20%22fillRule%22%3A%20%22evenodd%22%2C%0A%20%20%22lineCap%22%3A%20%22round%22%2C%0A%20%20%22lineJoin%22%3A%20%22round%22%2C%0A%20%20%22opacity%22%3A%201.0%2C%0A%20%20%22radius%22%3A%205%2C%0A%20%20%22stroke%22%3A%20true%2C%0A%20%20%22weight%22%3A%203%0A%7D%0A%20%20%20%20%20%20%20%20%20%20%20%20%20%20%20%20%29.addTo%28map_eef31278277b4efebf512b3ca16c7671%29%3B%0A%20%20%20%20%20%20%20%20%20%20%20%20%0A%20%20%20%20%0A%20%20%20%20%20%20%20%20%20%20%20%20var%20popup_e7eeaf8b0cdd4278bfea8d9161713a4e%20%3D%20L.popup%28%7BmaxWidth%3A%20%27300%27%7D%29%3B%0A%0A%20%20%20%20%20%20%20%20%20%20%20%20%0A%20%20%20%20%20%20%20%20%20%20%20%20%20%20%20%20var%20html_df992410bdab42c09e419ad66b86dde8%20%3D%20%24%28%27%3Cdiv%20id%3D%22html_df992410bdab42c09e419ad66b86dde8%22%20style%3D%22width%3A%20100.0%25%3B%20height%3A%20100.0%25%3B%22%3EHyde%20Park%3C/div%3E%27%29%5B0%5D%3B%0A%20%20%20%20%20%20%20%20%20%20%20%20%20%20%20%20popup_e7eeaf8b0cdd4278bfea8d9161713a4e.setContent%28html_df992410bdab42c09e419ad66b86dde8%29%3B%0A%20%20%20%20%20%20%20%20%20%20%20%20%0A%0A%20%20%20%20%20%20%20%20%20%20%20%20circle_marker_4b89f13c41d74389b76425f5d9ad0615.bindPopup%28popup_e7eeaf8b0cdd4278bfea8d9161713a4e%29%3B%0A%0A%20%20%20%20%20%20%20%20%20%20%20%20%0A%20%20%20%20%20%20%20%20%0A%20%20%20%20%0A%20%20%20%20%20%20%20%20%20%20%20%20var%20circle_marker_7ea86f8d8ea0465fbd18bb92460c4924%20%3D%20L.circleMarker%28%0A%20%20%20%20%20%20%20%20%20%20%20%20%20%20%20%20%5B42.2723208%2C-71.0869953%5D%2C%0A%20%20%20%20%20%20%20%20%20%20%20%20%20%20%20%20%7B%0A%20%20%22bubblingMouseEvents%22%3A%20true%2C%0A%20%20%22color%22%3A%20%22%23236CA7%22%2C%0A%20%20%22dashArray%22%3A%20null%2C%0A%20%20%22dashOffset%22%3A%20null%2C%0A%20%20%22fill%22%3A%20true%2C%0A%20%20%22fillColor%22%3A%20%22%23236CA7%22%2C%0A%20%20%22fillOpacity%22%3A%200.7%2C%0A%20%20%22fillRule%22%3A%20%22evenodd%22%2C%0A%20%20%22lineCap%22%3A%20%22round%22%2C%0A%20%20%22lineJoin%22%3A%20%22round%22%2C%0A%20%20%22opacity%22%3A%201.0%2C%0A%20%20%22radius%22%3A%205%2C%0A%20%20%22stroke%22%3A%20true%2C%0A%20%20%22weight%22%3A%203%0A%7D%0A%20%20%20%20%20%20%20%20%20%20%20%20%20%20%20%20%29.addTo%28map_eef31278277b4efebf512b3ca16c7671%29%3B%0A%20%20%20%20%20%20%20%20%20%20%20%20%0A%20%20%20%20%0A%20%20%20%20%20%20%20%20%20%20%20%20var%20popup_f1709fa78b274dec943b15d11931a0f2%20%3D%20L.popup%28%7BmaxWidth%3A%20%27300%27%7D%29%3B%0A%0A%20%20%20%20%20%20%20%20%20%20%20%20%0A%20%20%20%20%20%20%20%20%20%20%20%20%20%20%20%20var%20html_3b971d382df141b889a940b795768932%20%3D%20%24%28%27%3Cdiv%20id%3D%22html_3b971d382df141b889a940b795768932%22%20style%3D%22width%3A%20100.0%25%3B%20height%3A%20100.0%25%3B%22%3EMattapan%3C/div%3E%27%29%5B0%5D%3B%0A%20%20%20%20%20%20%20%20%20%20%20%20%20%20%20%20popup_f1709fa78b274dec943b15d11931a0f2.setContent%28html_3b971d382df141b889a940b795768932%29%3B%0A%20%20%20%20%20%20%20%20%20%20%20%20%0A%0A%20%20%20%20%20%20%20%20%20%20%20%20circle_marker_7ea86f8d8ea0465fbd18bb92460c4924.bindPopup%28popup_f1709fa78b274dec943b15d11931a0f2%29%3B%0A%0A%20%20%20%20%20%20%20%20%20%20%20%20%0A%20%20%20%20%20%20%20%20%0A%20%20%20%20%0A%20%20%20%20%20%20%20%20%20%20%20%20var%20circle_marker_10e1aa8832e14643adce983c1f37ee36%20%3D%20L.circleMarker%28%0A%20%20%20%20%20%20%20%20%20%20%20%20%20%20%20%20%5B42.2973205%2C-71.0744952%5D%2C%0A%20%20%20%20%20%20%20%20%20%20%20%20%20%20%20%20%7B%0A%20%20%22bubblingMouseEvents%22%3A%20true%2C%0A%20%20%22color%22%3A%20%22%23236CA7%22%2C%0A%20%20%22dashArray%22%3A%20null%2C%0A%20%20%22dashOffset%22%3A%20null%2C%0A%20%20%22fill%22%3A%20true%2C%0A%20%20%22fillColor%22%3A%20%22%23236CA7%22%2C%0A%20%20%22fillOpacity%22%3A%200.7%2C%0A%20%20%22fillRule%22%3A%20%22evenodd%22%2C%0A%20%20%22lineCap%22%3A%20%22round%22%2C%0A%20%20%22lineJoin%22%3A%20%22round%22%2C%0A%20%20%22opacity%22%3A%201.0%2C%0A%20%20%22radius%22%3A%205%2C%0A%20%20%22stroke%22%3A%20true%2C%0A%20%20%22weight%22%3A%203%0A%7D%0A%20%20%20%20%20%20%20%20%20%20%20%20%20%20%20%20%29.addTo%28map_eef31278277b4efebf512b3ca16c7671%29%3B%0A%20%20%20%20%20%20%20%20%20%20%20%20%0A%20%20%20%20%0A%20%20%20%20%20%20%20%20%20%20%20%20var%20popup_100fc0eca7104e34b998bcf33eedebdf%20%3D%20L.popup%28%7BmaxWidth%3A%20%27300%27%7D%29%3B%0A%0A%20%20%20%20%20%20%20%20%20%20%20%20%0A%20%20%20%20%20%20%20%20%20%20%20%20%20%20%20%20var%20html_ca3a45fc94fc4a6495948e9a4a1d2267%20%3D%20%24%28%27%3Cdiv%20id%3D%22html_ca3a45fc94fc4a6495948e9a4a1d2267%22%20style%3D%22width%3A%20100.0%25%3B%20height%3A%20100.0%25%3B%22%3EDorchester%3C/div%3E%27%29%5B0%5D%3B%0A%20%20%20%20%20%20%20%20%20%20%20%20%20%20%20%20popup_100fc0eca7104e34b998bcf33eedebdf.setContent%28html_ca3a45fc94fc4a6495948e9a4a1d2267%29%3B%0A%20%20%20%20%20%20%20%20%20%20%20%20%0A%0A%20%20%20%20%20%20%20%20%20%20%20%20circle_marker_10e1aa8832e14643adce983c1f37ee36.bindPopup%28popup_100fc0eca7104e34b998bcf33eedebdf%29%3B%0A%0A%20%20%20%20%20%20%20%20%20%20%20%20%0A%20%20%20%20%20%20%20%20%0A%20%20%20%20%0A%20%20%20%20%20%20%20%20%20%20%20%20var%20circle_marker_065aba01ddd54909bd984de21b341e9b%20%3D%20L.circleMarker%28%0A%20%20%20%20%20%20%20%20%20%20%20%20%20%20%20%20%5B42.3547517%2C-71.0531784%5D%2C%0A%20%20%20%20%20%20%20%20%20%20%20%20%20%20%20%20%7B%0A%20%20%22bubblingMouseEvents%22%3A%20true%2C%0A%20%20%22color%22%3A%20%22%23236CA7%22%2C%0A%20%20%22dashArray%22%3A%20null%2C%0A%20%20%22dashOffset%22%3A%20null%2C%0A%20%20%22fill%22%3A%20true%2C%0A%20%20%22fillColor%22%3A%20%22%23236CA7%22%2C%0A%20%20%22fillOpacity%22%3A%200.7%2C%0A%20%20%22fillRule%22%3A%20%22evenodd%22%2C%0A%20%20%22lineCap%22%3A%20%22round%22%2C%0A%20%20%22lineJoin%22%3A%20%22round%22%2C%0A%20%20%22opacity%22%3A%201.0%2C%0A%20%20%22radius%22%3A%205%2C%0A%20%20%22stroke%22%3A%20true%2C%0A%20%20%22weight%22%3A%203%0A%7D%0A%20%20%20%20%20%20%20%20%20%20%20%20%20%20%20%20%29.addTo%28map_eef31278277b4efebf512b3ca16c7671%29%3B%0A%20%20%20%20%20%20%20%20%20%20%20%20%0A%20%20%20%20%0A%20%20%20%20%20%20%20%20%20%20%20%20var%20popup_970e8f89dbb442fcb663323499f386ca%20%3D%20L.popup%28%7BmaxWidth%3A%20%27300%27%7D%29%3B%0A%0A%20%20%20%20%20%20%20%20%20%20%20%20%0A%20%20%20%20%20%20%20%20%20%20%20%20%20%20%20%20var%20html_315876597da44700ac2e9ba6fe61062b%20%3D%20%24%28%27%3Cdiv%20id%3D%22html_315876597da44700ac2e9ba6fe61062b%22%20style%3D%22width%3A%20100.0%25%3B%20height%3A%20100.0%25%3B%22%3ESouth%20Boston%20Waterfront%3C/div%3E%27%29%5B0%5D%3B%0A%20%20%20%20%20%20%20%20%20%20%20%20%20%20%20%20popup_970e8f89dbb442fcb663323499f386ca.setContent%28html_315876597da44700ac2e9ba6fe61062b%29%3B%0A%20%20%20%20%20%20%20%20%20%20%20%20%0A%0A%20%20%20%20%20%20%20%20%20%20%20%20circle_marker_065aba01ddd54909bd984de21b341e9b.bindPopup%28popup_970e8f89dbb442fcb663323499f386ca%29%3B%0A%0A%20%20%20%20%20%20%20%20%20%20%20%20%0A%20%20%20%20%20%20%20%20%0A%20%20%20%20%0A%20%20%20%20%20%20%20%20%20%20%20%20var%20circle_marker_2d48cf76e1ee41578cab869d1ded72a3%20%3D%20L.circleMarker%28%0A%20%20%20%20%20%20%20%20%20%20%20%20%20%20%20%20%5B42.3334312%2C-71.0494949%5D%2C%0A%20%20%20%20%20%20%20%20%20%20%20%20%20%20%20%20%7B%0A%20%20%22bubblingMouseEvents%22%3A%20true%2C%0A%20%20%22color%22%3A%20%22%23236CA7%22%2C%0A%20%20%22dashArray%22%3A%20null%2C%0A%20%20%22dashOffset%22%3A%20null%2C%0A%20%20%22fill%22%3A%20true%2C%0A%20%20%22fillColor%22%3A%20%22%23236CA7%22%2C%0A%20%20%22fillOpacity%22%3A%200.7%2C%0A%20%20%22fillRule%22%3A%20%22evenodd%22%2C%0A%20%20%22lineCap%22%3A%20%22round%22%2C%0A%20%20%22lineJoin%22%3A%20%22round%22%2C%0A%20%20%22opacity%22%3A%201.0%2C%0A%20%20%22radius%22%3A%205%2C%0A%20%20%22stroke%22%3A%20true%2C%0A%20%20%22weight%22%3A%203%0A%7D%0A%20%20%20%20%20%20%20%20%20%20%20%20%20%20%20%20%29.addTo%28map_eef31278277b4efebf512b3ca16c7671%29%3B%0A%20%20%20%20%20%20%20%20%20%20%20%20%0A%20%20%20%20%0A%20%20%20%20%20%20%20%20%20%20%20%20var%20popup_1c7e07fc03274d96b140472a4b224ccf%20%3D%20L.popup%28%7BmaxWidth%3A%20%27300%27%7D%29%3B%0A%0A%20%20%20%20%20%20%20%20%20%20%20%20%0A%20%20%20%20%20%20%20%20%20%20%20%20%20%20%20%20var%20html_e34283b5ad8a457d917551b353f564b3%20%3D%20%24%28%27%3Cdiv%20id%3D%22html_e34283b5ad8a457d917551b353f564b3%22%20style%3D%22width%3A%20100.0%25%3B%20height%3A%20100.0%25%3B%22%3ESouth%20Boston%3C/div%3E%27%29%5B0%5D%3B%0A%20%20%20%20%20%20%20%20%20%20%20%20%20%20%20%20popup_1c7e07fc03274d96b140472a4b224ccf.setContent%28html_e34283b5ad8a457d917551b353f564b3%29%3B%0A%20%20%20%20%20%20%20%20%20%20%20%20%0A%0A%20%20%20%20%20%20%20%20%20%20%20%20circle_marker_2d48cf76e1ee41578cab869d1ded72a3.bindPopup%28popup_1c7e07fc03274d96b140472a4b224ccf%29%3B%0A%0A%20%20%20%20%20%20%20%20%20%20%20%20%0A%20%20%20%20%20%20%20%20%0A%20%20%20%20%0A%20%20%20%20%20%20%20%20%20%20%20%20var%20circle_marker_3c27c4f5717948e88ed1db45a4e99caa%20%3D%20L.circleMarker%28%0A%20%20%20%20%20%20%20%20%20%20%20%20%20%20%20%20%5B42.3554344%2C-71.1321271%5D%2C%0A%20%20%20%20%20%20%20%20%20%20%20%20%20%20%20%20%7B%0A%20%20%22bubblingMouseEvents%22%3A%20true%2C%0A%20%20%22color%22%3A%20%22%23236CA7%22%2C%0A%20%20%22dashArray%22%3A%20null%2C%0A%20%20%22dashOffset%22%3A%20null%2C%0A%20%20%22fill%22%3A%20true%2C%0A%20%20%22fillColor%22%3A%20%22%23236CA7%22%2C%0A%20%20%22fillOpacity%22%3A%200.7%2C%0A%20%20%22fillRule%22%3A%20%22evenodd%22%2C%0A%20%20%22lineCap%22%3A%20%22round%22%2C%0A%20%20%22lineJoin%22%3A%20%22round%22%2C%0A%20%20%22opacity%22%3A%201.0%2C%0A%20%20%22radius%22%3A%205%2C%0A%20%20%22stroke%22%3A%20true%2C%0A%20%20%22weight%22%3A%203%0A%7D%0A%20%20%20%20%20%20%20%20%20%20%20%20%20%20%20%20%29.addTo%28map_eef31278277b4efebf512b3ca16c7671%29%3B%0A%20%20%20%20%20%20%20%20%20%20%20%20%0A%20%20%20%20%0A%20%20%20%20%20%20%20%20%20%20%20%20var%20popup_cebe4ddfade04b9fa7ea7cdc754e151f%20%3D%20L.popup%28%7BmaxWidth%3A%20%27300%27%7D%29%3B%0A%0A%20%20%20%20%20%20%20%20%20%20%20%20%0A%20%20%20%20%20%20%20%20%20%20%20%20%20%20%20%20var%20html_2122f9f46691428c924fd26f420d18c7%20%3D%20%24%28%27%3Cdiv%20id%3D%22html_2122f9f46691428c924fd26f420d18c7%22%20style%3D%22width%3A%20100.0%25%3B%20height%3A%20100.0%25%3B%22%3EAllston%3C/div%3E%27%29%5B0%5D%3B%0A%20%20%20%20%20%20%20%20%20%20%20%20%20%20%20%20popup_cebe4ddfade04b9fa7ea7cdc754e151f.setContent%28html_2122f9f46691428c924fd26f420d18c7%29%3B%0A%20%20%20%20%20%20%20%20%20%20%20%20%0A%0A%20%20%20%20%20%20%20%20%20%20%20%20circle_marker_3c27c4f5717948e88ed1db45a4e99caa.bindPopup%28popup_cebe4ddfade04b9fa7ea7cdc754e151f%29%3B%0A%0A%20%20%20%20%20%20%20%20%20%20%20%20%0A%20%20%20%20%20%20%20%20%0A%20%20%20%20%0A%20%20%20%20%20%20%20%20%20%20%20%20var%20circle_marker_40c89c011fb54e9f80503266451efb55%20%3D%20L.circleMarker%28%0A%20%20%20%20%20%20%20%20%20%20%20%20%20%20%20%20%5B42.26972205%2C-70.92086034179461%5D%2C%0A%20%20%20%20%20%20%20%20%20%20%20%20%20%20%20%20%7B%0A%20%20%22bubblingMouseEvents%22%3A%20true%2C%0A%20%20%22color%22%3A%20%22%23236CA7%22%2C%0A%20%20%22dashArray%22%3A%20null%2C%0A%20%20%22dashOffset%22%3A%20null%2C%0A%20%20%22fill%22%3A%20true%2C%0A%20%20%22fillColor%22%3A%20%22%23236CA7%22%2C%0A%20%20%22fillOpacity%22%3A%200.7%2C%0A%20%20%22fillRule%22%3A%20%22evenodd%22%2C%0A%20%20%22lineCap%22%3A%20%22round%22%2C%0A%20%20%22lineJoin%22%3A%20%22round%22%2C%0A%20%20%22opacity%22%3A%201.0%2C%0A%20%20%22radius%22%3A%205%2C%0A%20%20%22stroke%22%3A%20true%2C%0A%20%20%22weight%22%3A%203%0A%7D%0A%20%20%20%20%20%20%20%20%20%20%20%20%20%20%20%20%29.addTo%28map_eef31278277b4efebf512b3ca16c7671%29%3B%0A%20%20%20%20%20%20%20%20%20%20%20%20%0A%20%20%20%20%0A%20%20%20%20%20%20%20%20%20%20%20%20var%20popup_323f88ad715d411193352a74041938e9%20%3D%20L.popup%28%7BmaxWidth%3A%20%27300%27%7D%29%3B%0A%0A%20%20%20%20%20%20%20%20%20%20%20%20%0A%20%20%20%20%20%20%20%20%20%20%20%20%20%20%20%20var%20html_c15e7f49c83c4e6082a6adc28c08e4ec%20%3D%20%24%28%27%3Cdiv%20id%3D%22html_c15e7f49c83c4e6082a6adc28c08e4ec%22%20style%3D%22width%3A%20100.0%25%3B%20height%3A%20100.0%25%3B%22%3EHarbor%20Islands%3C/div%3E%27%29%5B0%5D%3B%0A%20%20%20%20%20%20%20%20%20%20%20%20%20%20%20%20popup_323f88ad715d411193352a74041938e9.setContent%28html_c15e7f49c83c4e6082a6adc28c08e4ec%29%3B%0A%20%20%20%20%20%20%20%20%20%20%20%20%0A%0A%20%20%20%20%20%20%20%20%20%20%20%20circle_marker_40c89c011fb54e9f80503266451efb55.bindPopup%28popup_323f88ad715d411193352a74041938e9%29%3B%0A%0A%20%20%20%20%20%20%20%20%20%20%20%20%0A%20%20%20%20%20%20%20%20%0A%3C/script%3E onload=\"this.contentDocument.open();this.contentDocument.write(    decodeURIComponent(this.getAttribute('data-html')));this.contentDocument.close();\" allowfullscreen webkitallowfullscreen mozallowfullscreen></iframe></div></div>"
      ],
      "text/plain": [
       "<folium.folium.Map at 0x7fef8238e6a0>"
      ]
     },
     "execution_count": 398,
     "metadata": {},
     "output_type": "execute_result"
    }
   ],
   "source": [
    "# create map of Boston using latitude and longitude values\n",
    "map_boston = folium.Map(location=[42.324843,-71.095016], zoom_start=12) # use coordinates for Roxbury, most central\n",
    "\n",
    "# add markers to map\n",
    "for lat, lng, neighborhood in zip(neighborhoods_df['Lat'], neighborhoods_df['Long'], neighborhoods_df['Name']):\n",
    "    label = '{}'.format(neighborhood)\n",
    "    label = folium.Popup(label, parse_html=True)\n",
    "    folium.CircleMarker(\n",
    "        [lat, lng],\n",
    "        radius=5,\n",
    "        popup=label,\n",
    "        color='#236CA7',\n",
    "        fill=True,\n",
    "        fill_color='#236CA7',\n",
    "        fill_opacity=0.7,\n",
    "        parse_html=False).add_to(map_boston)  \n",
    "    \n",
    "map_boston"
   ]
  },
  {
   "cell_type": "markdown",
   "id": "pediatric-harassment",
   "metadata": {},
   "source": [
    "### Foursquare API category hierarchy"
   ]
  },
  {
   "cell_type": "markdown",
   "id": "interior-fossil",
   "metadata": {},
   "source": [
    "Building a hierarchy of categories for grouping restaurants by type was more difficult than I anticipated.\n",
    "\n",
    "The child categories are nested under their parent categories, but the depth of the child categories is unknown. So I had to develop a way to recursively loop through the categories, which I did with the `cat_grouper()` function below.\n",
    "\n",
    "First, I called the `venues/categories` endpoint of the API to get a JSON encoded version of their hierarchy."
   ]
  },
  {
   "cell_type": "code",
   "execution_count": 139,
   "id": "economic-resolution",
   "metadata": {},
   "outputs": [],
   "source": [
    "url = 'https://api.foursquare.com/v2/venues/categories?&client_id={}&client_secret={}&v={}'.format(\n",
    "    CLIENT_ID, \n",
    "    CLIENT_SECRET, \n",
    "    VERSION, \n",
    ")\n",
    "\n",
    "results = requests.get(url).json()"
   ]
  },
  {
   "cell_type": "code",
   "execution_count": 140,
   "id": "affected-intro",
   "metadata": {},
   "outputs": [
    {
     "name": "stdout",
     "output_type": "stream",
     "text": [
      "Arts & Entertainment\n",
      "College & University\n",
      "Event\n",
      "Food\n",
      "Nightlife Spot\n",
      "Outdoors & Recreation\n",
      "Professional & Other Places\n",
      "Residence\n",
      "Shop & Service\n",
      "Travel & Transport\n"
     ]
    }
   ],
   "source": [
    "# print all top-level categories in the Foursquare API hierarchy\n",
    "categories = results['response']['categories']\n",
    "\n",
    "for category in categories:\n",
    "    print(category['name'])"
   ]
  },
  {
   "cell_type": "markdown",
   "id": "early-wedding",
   "metadata": {},
   "source": [
    "<br>\n",
    "\n",
    "I isolated the Food category from the results of the API categories call using list comprehension to take the element whose dictionary value for the key `name` was `Food`."
   ]
  },
  {
   "cell_type": "code",
   "execution_count": 141,
   "id": "immune-writing",
   "metadata": {},
   "outputs": [],
   "source": [
    "# select food parent category and all descendent categories\n",
    "food_category = [cat for cat in categories if cat['name']=='Food'][0]"
   ]
  },
  {
   "cell_type": "markdown",
   "id": "demanding-dividend",
   "metadata": {},
   "source": [
    "<br>\n",
    "\n",
    "Then, for each child category of the Food category, I built a flattened list of descendent categories. These lists also contained the original child category, so I took the first value of each list as the name of the subcategory.\n",
    "<br>\n",
    "\n",
    "_**Note:** For the sake of simplicity, I'm only grouping by the first level of child categories in the Food category. This reduces the number of possible Food subcategories from 357 to 92. This is still a large number, and could be reduced further by manual grouping._"
   ]
  },
  {
   "cell_type": "code",
   "execution_count": 142,
   "id": "julian-disaster",
   "metadata": {},
   "outputs": [],
   "source": [
    "# loop recursively through child categories of the food category\n",
    "# append children to list and add that list to a dictionary\n",
    "\n",
    "def cat_grouper(category):\n",
    "    subcategory_list.append(category['name'])\n",
    "    child_cats = category['categories']\n",
    "    if len(child_cats)>0:\n",
    "        for child in child_cats:\n",
    "            cat_grouper(child)\n",
    "            \n",
    "category_dict = {}\n",
    "\n",
    "for category in food_category['categories']:\n",
    "    \n",
    "    subcategory_list = []\n",
    "    cat_grouper(category)\n",
    "    group_name = subcategory_list[0]\n",
    "    group = subcategory_list[1:]\n",
    "    category_dict[group_name] = group"
   ]
  },
  {
   "cell_type": "code",
   "execution_count": 143,
   "id": "moderate-warner",
   "metadata": {},
   "outputs": [
    {
     "name": "stdout",
     "output_type": "stream",
     "text": [
      "Afghan Restaurant \n",
      "African Restaurant (2 subcategories)\n",
      "\tEthiopian Restaurant\n",
      "\tMauritian Restaurant\n",
      "...\n"
     ]
    }
   ],
   "source": [
    "# print food venue category hierarchy example\n",
    "for category, subcategories in category_dict.items():\n",
    "    print(category,f\"({len(subcategories)} subcategories)\" if subcategories else '')\n",
    "    if subcategories:\n",
    "        for subcategory in subcategories:\n",
    "            print('\\t' + subcategory)\n",
    "        break # stop loop after first subcategory example\n",
    "\n",
    "print('...')"
   ]
  },
  {
   "cell_type": "markdown",
   "id": "acknowledged-committee",
   "metadata": {},
   "source": [
    "<br>\n",
    "\n",
    "Lastly, I wrote a function `find_parent()` that takes in a category and determines wether or not it is a top-level category. If the category is a descendent, the function returns the top-level category. This is for grouping the food venue categories later."
   ]
  },
  {
   "cell_type": "code",
   "execution_count": 144,
   "id": "about-europe",
   "metadata": {},
   "outputs": [],
   "source": [
    "# function for finding parent category\n",
    "def find_parent(category):\n",
    "    \n",
    "    # if category is a top-level category, return itself\n",
    "    if category in category_dict.keys():\n",
    "        return category\n",
    "    \n",
    "    # if category is a subcategory, return the top-level category\n",
    "    else:\n",
    "        for parent, children in category_dict.items():\n",
    "            if category in children:\n",
    "                return parent"
   ]
  },
  {
   "cell_type": "markdown",
   "id": "negative-receipt",
   "metadata": {},
   "source": [
    "### Venue details"
   ]
  },
  {
   "cell_type": "markdown",
   "id": "vulnerable-prairie",
   "metadata": {},
   "source": [
    "To build a set of venues that I can use to analyze and cluster Boston neighborhoods, I used the `venues/explore` endpoint of the Foursquare API, and adapted the `getNearbyVenues()` function from one of the Coursera labs\n",
    "\n",
    "I limited my results by the Food `categoryID` only (4d4b7105d754a06374d81259) by appending that string to the url for the `get()` request. I iterated through each neighborhood, passing the neighborhood coordinates and requesting 100 nearby venues for each. Each neighborhood set of 100 were added to a larger matrix.\n",
    "\n",
    "Then, I built a dataframe of the results and added the appropriate column names."
   ]
  },
  {
   "cell_type": "code",
   "execution_count": 90,
   "id": "aquatic-franklin",
   "metadata": {},
   "outputs": [],
   "source": [
    "def getNearbyFoodVenues(names, latitudes, longitudes, radius=1000):\n",
    "    categoryId = '4d4b7105d754a06374d81259' # food category\n",
    "    venues_list=[] # list to hold venues data\n",
    "    for name, lat, lng in zip(names, latitudes, longitudes):\n",
    "        print(name)\n",
    "            \n",
    "        # create the API request URL\n",
    "        url = 'https://api.foursquare.com/v2/venues/explore?&client_id={}&client_secret={}&v={}&ll={},{}&radius={}&limit={}&categoryId={}'.format(\n",
    "            CLIENT_ID, \n",
    "            CLIENT_SECRET, \n",
    "            VERSION, \n",
    "            lat, \n",
    "            lng, \n",
    "            radius, \n",
    "            LIMIT,\n",
    "            categoryId)\n",
    "            \n",
    "        # make the GET request\n",
    "        results = requests.get(url).json()[\"response\"]['groups'][0]['items']\n",
    "        \n",
    "        # return only relevant information for each nearby venue\n",
    "        for v in results:            \n",
    "            venues_list.append([(\n",
    "            name, \n",
    "            lat, \n",
    "            lng, \n",
    "            v['venue']['name'],\n",
    "            v['venue']['id'],\n",
    "            v['venue']['location'].get('city',''), # use .get() method to set default value if city not returned\n",
    "            v['venue']['location'].get('address',''), # use .get() method to set default value if address not returned\n",
    "            v['venue']['location']['lat'], \n",
    "            v['venue']['location']['lng'],  \n",
    "            v['venue']['location']['distance'],  \n",
    "            v['venue']['categories'][0]['name'])])\n",
    "\n",
    "    # loop through list of venues data and build a datafram\n",
    "    nearby_venues = pd.DataFrame([item for venue_list in venues_list for item in venue_list])\n",
    "    nearby_venues.columns = ['Neighborhood', \n",
    "                  'Neighborhood Latitude', \n",
    "                  'Neighborhood Longitude', \n",
    "                  'Venue Name', \n",
    "                  'Venue ID',\n",
    "                  'Venue City',\n",
    "                  'Venue Address',\n",
    "                  'Venue Latitude', \n",
    "                  'Venue Longitude', \n",
    "                  'Venue Distance', \n",
    "                  'Venue Category']\n",
    "    \n",
    "    # return dataframe\n",
    "    return(nearby_venues)"
   ]
  },
  {
   "cell_type": "code",
   "execution_count": 78,
   "id": "infinite-marble",
   "metadata": {},
   "outputs": [
    {
     "name": "stdout",
     "output_type": "stream",
     "text": [
      "Roslindale\n",
      "Jamaica Plain\n",
      "Mission Hill\n",
      "Longwood\n",
      "Bay Village\n",
      "Leather District\n",
      "Chinatown\n",
      "North End\n",
      "Roxbury\n",
      "South End\n",
      "Back Bay\n",
      "East Boston\n",
      "Charlestown\n",
      "West End\n",
      "Beacon Hill\n",
      "Downtown\n",
      "Fenway\n",
      "Brighton\n",
      "West Roxbury\n",
      "Hyde Park\n",
      "Mattapan\n",
      "Dorchester\n",
      "South Boston Waterfront\n",
      "South Boston\n",
      "Allston\n",
      "Harbor Islands\n"
     ]
    }
   ],
   "source": [
    "food_venues = getNearbyFoodVenues(names=neighborhoods_df['Name'],\n",
    "                                   latitudes=neighborhoods_df['Lat'],\n",
    "                                   longitudes=neighborhoods_df['Long']\n",
    "                                  )"
   ]
  },
  {
   "cell_type": "markdown",
   "id": "outstanding-person",
   "metadata": {},
   "source": [
    "<br>\n",
    "\n",
    "There is quite a bit of overlap between neighborhoods in the nearby search results; many food venues in my dataframe are duplicates. One idea I had was to match the original neighborhood value with the returned city value from the API, but the city value was not always included and the formatting. Instead, I sorted the venues by distance from the original neighborhood coordinates, and dropped the duplicates by their ID.\n",
    "<br>\n",
    "\n",
    "_**Note:** This is not a perfect solution, as a venue on the edge of one neighborhood might actually be closer to the coordinates for a different neighborhood, thus skewing the neighborhood results. But, for the sake of simplicity and time, this was the solution I decided to use._"
   ]
  },
  {
   "cell_type": "code",
   "execution_count": 131,
   "id": "iraqi-rebel",
   "metadata": {},
   "outputs": [
    {
     "name": "stdout",
     "output_type": "stream",
     "text": [
      "944 food venues found in Boston\n"
     ]
    }
   ],
   "source": [
    "# drop any overlapping search results from nearby neighborhoods based on distance\n",
    "food_venues = food_venues.sort_values(by='Venue Distance').drop_duplicates('Venue ID')\n",
    "print('{} food venues found in Boston'.format(food_venues.shape[0]))"
   ]
  },
  {
   "cell_type": "markdown",
   "id": "enormous-printing",
   "metadata": {},
   "source": [
    "<br>\n",
    "\n",
    "Because the Foursquare category hierarchy is so granular, I decided to use only the top-level food categories for a more high-level perspective. I already wrote a function `find_parent()` that traverses the category hierarchy and matches subcategories with their parent category, so I used that function to create a new column with category groups."
   ]
  },
  {
   "cell_type": "code",
   "execution_count": 149,
   "id": "rising-nomination",
   "metadata": {},
   "outputs": [
    {
     "name": "stdout",
     "output_type": "stream",
     "text": [
      "Number of categories before grouping: 77\n",
      "Number of categories after grouping: 51\n"
     ]
    }
   ],
   "source": [
    "# add series for parent categories\n",
    "food_venues['Category Group'] = food_venues['Venue Category'].apply(find_parent)\n",
    "\n",
    "print(f\"Number of categories before grouping: {food_venues['Venue Category'].nunique()}\")\n",
    "print(f\"Number of categories after grouping: {food_venues['Category Group'].nunique()}\")"
   ]
  },
  {
   "cell_type": "markdown",
   "id": "defensive-percentage",
   "metadata": {},
   "source": [
    "<br>\n",
    "\n",
    "One of the biggest challenges I faced during this project was the need for data accessible only through the Foursquare API's premium enpoint `venues/VENUE_ID`. So I was limited to 500 premium calls per day to collect what I needed, and I had nearly 1000 venues.\n",
    "\n",
    "To make sure I was working with the same result set from the original `venues/explore` request, I wrote the dataframe to a CSV. Then, each time I worked on the project, I loaded that dataset rather than resending the request and building a new `food_venues` frame each time.\n",
    "\n",
    "This way, I could split the venues into two groups and make two rounds of calls to the premium endpoint."
   ]
  },
  {
   "cell_type": "code",
   "execution_count": 120,
   "id": "careful-jersey",
   "metadata": {},
   "outputs": [],
   "source": [
    "# write dataframe to file for future reference\n",
    "path = './data/food_venues.csv'\n",
    "food_venues.to_csv(path,index=False)"
   ]
  },
  {
   "cell_type": "code",
   "execution_count": 130,
   "id": "numerous-charles",
   "metadata": {},
   "outputs": [
    {
     "data": {
      "text/plain": [
       "(944, 12)"
      ]
     },
     "execution_count": 130,
     "metadata": {},
     "output_type": "execute_result"
    }
   ],
   "source": [
    "# load dataframe from file\n",
    "path = './data/food_venues.csv'\n",
    "food_venues = pd.read_csv(path)\n",
    "food_venues.shape"
   ]
  },
  {
   "cell_type": "code",
   "execution_count": 4,
   "id": "julian-demand",
   "metadata": {},
   "outputs": [],
   "source": [
    "# divide venues in two groups\n",
    "fv1 = food_venues[:450]\n",
    "fv2 = food_venues[450:]"
   ]
  },
  {
   "cell_type": "markdown",
   "id": "starting-final",
   "metadata": {},
   "source": [
    "<br>\n",
    "\n",
    "With the data set split in two, I collected venue-specific data such as rating, rating count and price, looping through the request results and building a dataframe in the same way as the `getNearbyFoodVenues()` function before."
   ]
  },
  {
   "cell_type": "code",
   "execution_count": 6,
   "id": "industrial-section",
   "metadata": {},
   "outputs": [],
   "source": [
    "def getVenueDetails(venue_ids):\n",
    "    venues_list = []\n",
    "    for venue_id in venue_ids:\n",
    "        url = 'https://api.foursquare.com/v2/venues/{}?&client_id={}&client_secret={}&v={}'.format(\n",
    "            venue_id,\n",
    "            CLIENT_ID, \n",
    "            CLIENT_SECRET, \n",
    "            VERSION)\n",
    "\n",
    "        # make the GET request\n",
    "        r = requests.get(url).json()['response']\n",
    "        try:\n",
    "            v = r.get('venue',{})\n",
    "\n",
    "            venue_details = [(\n",
    "                v.get('id',None),\n",
    "                v.get('name',None),\n",
    "                v.get('rating',None),\n",
    "                v.get('ratingSignals',None),\n",
    "                v.get('price',{}).get('tier',None),\n",
    "                v.get('price',{}).get('message',None)\n",
    "            )]\n",
    "\n",
    "            venues_list.append(venue_details)\n",
    "        except:\n",
    "            print(r)\n",
    "\n",
    "\n",
    "    venue_details = pd.DataFrame([item for venue_details in venues_list for item in venue_details])\n",
    "    venue_details.columns = [\n",
    "        'Venue ID',\n",
    "        'Venue Name',\n",
    "        'Venue Rating',\n",
    "        'Venue Rating Signals',\n",
    "        'Venue Price Tier',\n",
    "        'Venue Price Message']\n",
    "\n",
    "    return venue_details"
   ]
  },
  {
   "cell_type": "markdown",
   "id": "rubber-lying",
   "metadata": {},
   "source": [
    "<br>\n",
    "\n",
    "For each subset of venue details returned by the `getVenueDetails()` function, I wrote the dataframe to a CSV file. When I had the full results set saved, I read the CSV files back into a new dataframe and merged related columns from the original venues dataframe like location and categories."
   ]
  },
  {
   "cell_type": "code",
   "execution_count": null,
   "id": "cathedral-round",
   "metadata": {},
   "outputs": [],
   "source": [
    "# get details for first half of venue dataset\n",
    "fv1_details = getVenueDetails(fv1['Venue ID'])\n",
    "fv1_details.shape"
   ]
  },
  {
   "cell_type": "code",
   "execution_count": null,
   "id": "increasing-purple",
   "metadata": {},
   "outputs": [],
   "source": [
    "# write data to file for reference\n",
    "# fv1_details.to_csv('./data/food_venue_details_1.csv')"
   ]
  },
  {
   "cell_type": "code",
   "execution_count": null,
   "id": "ceramic-chile",
   "metadata": {},
   "outputs": [],
   "source": [
    "# get details for first half of venue dataset\n",
    "fv2_details = getVenueDetails(fv2['Venue ID'])\n",
    "fv2_details.shape"
   ]
  },
  {
   "cell_type": "code",
   "execution_count": null,
   "id": "objective-imperial",
   "metadata": {},
   "outputs": [],
   "source": [
    "# write data to file for reference\n",
    "# fv2_details.to_csv('./data/food_venue_details_2.csv')"
   ]
  },
  {
   "cell_type": "code",
   "execution_count": 153,
   "id": "binary-place",
   "metadata": {},
   "outputs": [
    {
     "data": {
      "text/plain": [
       "(944, 6)"
      ]
     },
     "execution_count": 153,
     "metadata": {},
     "output_type": "execute_result"
    }
   ],
   "source": [
    "# load datasets and combine\n",
    "fv1_details = pd.read_csv('./data/food_venue_details_1.csv',index_col=0)\n",
    "fv2_details = pd.read_csv('./data/food_venue_details_2.csv',index_col=0)\n",
    "fv_details = pd.concat([fv1_details,fv2_details],ignore_index=True)\n",
    "fv_details.shape"
   ]
  },
  {
   "cell_type": "code",
   "execution_count": 154,
   "id": "frank-twelve",
   "metadata": {},
   "outputs": [
    {
     "data": {
      "text/plain": [
       "(944, 11)"
      ]
     },
     "execution_count": 154,
     "metadata": {},
     "output_type": "execute_result"
    }
   ],
   "source": [
    "food_venues = fv_details.merge(food_venues[['Venue ID',\n",
    "                                            'Neighborhood',\n",
    "                                            'Venue Category',\n",
    "                                            'Category Group',\n",
    "                                            'Venue Latitude',\n",
    "                                            'Venue Longitude']],\n",
    "                               left_on='Venue ID',\n",
    "                               right_on='Venue ID',\n",
    "                               how='left')\n",
    "food_venues.shape"
   ]
  },
  {
   "cell_type": "markdown",
   "id": "japanese-biography",
   "metadata": {},
   "source": [
    "## Explore data\n",
    "\n",
    "In this section, I used exploratory analyses to better understand my dataset and identify any features I could use for the K-Means algorithm to cluster the venues.\n",
    "\n",
    "I generally state the question before the code I ran and the answer after the code, but I omitted the answers for questions with self-explanatory results."
   ]
  },
  {
   "cell_type": "code",
   "execution_count": 365,
   "id": "organic-destiny",
   "metadata": {},
   "outputs": [],
   "source": [
    "# function for printing a formatted series\n",
    "def series_print(series,label=''):\n",
    "    '''Print an numbered series with index names (keys) and values.'''\n",
    "    for i,(k,v) in enumerate(series.items(),1):\n",
    "        print('{}) {}:  {} {}'.format(i,k,v,label))"
   ]
  },
  {
   "cell_type": "markdown",
   "id": "athletic-yugoslavia",
   "metadata": {},
   "source": [
    "<br>\n",
    "\n",
    "**Question: Which venues have the most locations?**"
   ]
  },
  {
   "cell_type": "code",
   "execution_count": 366,
   "id": "center-trout",
   "metadata": {},
   "outputs": [
    {
     "name": "stdout",
     "output_type": "stream",
     "text": [
      "1) Dunkin':  28 venues\n",
      "2) SUBWAY:  11 venues\n",
      "3) sweetgreen:  8 venues\n",
      "4) Tatte Bakery & Cafe:  8 venues\n",
      "5) Domino's Pizza:  7 venues\n"
     ]
    }
   ],
   "source": [
    "# venues with the most locations\n",
    "series_print(food_venues['Venue Name'].value_counts().head(),label='venues')"
   ]
  },
  {
   "cell_type": "markdown",
   "id": "celtic-module",
   "metadata": {},
   "source": [
    "**Answer:** No surprise for anyone familiar with Boston, Dunkin' is the venue with the most locations across the city."
   ]
  },
  {
   "cell_type": "markdown",
   "id": "handled-webster",
   "metadata": {},
   "source": [
    "<br>\n",
    "\n",
    "**Question: Which neighborhoods have the most venues?**"
   ]
  },
  {
   "cell_type": "code",
   "execution_count": 367,
   "id": "weird-transfer",
   "metadata": {},
   "outputs": [
    {
     "name": "stdout",
     "output_type": "stream",
     "text": [
      "1) Fenway:  83 venues\n",
      "2) Back Bay:  72 venues\n",
      "3) North End:  64 venues\n",
      "4) South End:  60 venues\n",
      "5) Brighton:  57 venues\n"
     ]
    }
   ],
   "source": [
    "# venues in each neighborhood\n",
    "neighborhood_counts = food_venues.value_counts('Neighborhood')\n",
    "series_print(neighborhood_counts.sort_values(ascending=False).head(),label='venues')"
   ]
  },
  {
   "cell_type": "markdown",
   "id": "photographic-relations",
   "metadata": {},
   "source": [
    "<br>\n",
    "\n",
    "**Question: What is the mean rating for each neighborhood?**<br>\n",
    "*The Foursquare rating ranges from 0-10.*"
   ]
  },
  {
   "cell_type": "code",
   "execution_count": 368,
   "id": "fundamental-magic",
   "metadata": {},
   "outputs": [
    {
     "name": "stdout",
     "output_type": "stream",
     "text": [
      "1) North End:  8.253125 \n",
      "2) South Boston Waterfront:  8.232558139534884 \n",
      "3) Leather District:  8.166666666666666 \n",
      "4) Back Bay:  8.165277777777778 \n",
      "5) Allston:  8.163829787234045 \n"
     ]
    }
   ],
   "source": [
    "# mean rating for each neighborhood\n",
    "neighborhood_ratings = food_venues.groupby('Neighborhood')['Venue Rating'].mean()\n",
    "series_print(neighborhood_ratings.sort_values(ascending=False).head())"
   ]
  },
  {
   "cell_type": "markdown",
   "id": "educational-enclosure",
   "metadata": {},
   "source": [
    "<br>\n",
    "\n",
    "**Question: What is the mean price tier for each neighborhood?**<br>\n",
    "*The Foursquare price tier ranges from 1-4.*"
   ]
  },
  {
   "cell_type": "code",
   "execution_count": 369,
   "id": "occupied-atlanta",
   "metadata": {},
   "outputs": [
    {
     "name": "stdout",
     "output_type": "stream",
     "text": [
      "1) Bay Village:  2.257142857142857 \n",
      "2) Back Bay:  2.142857142857143 \n",
      "3) Beacon Hill:  2.12 \n",
      "4) North End:  2.109375 \n",
      "5) South Boston Waterfront:  2.0232558139534884 \n"
     ]
    }
   ],
   "source": [
    "# mean price tier for each neighborhood\n",
    "neighborhood_prices = food_venues.groupby('Neighborhood')['Venue Price Tier'].mean()\n",
    "series_print(neighborhood_prices.sort_values(ascending=False).head())"
   ]
  },
  {
   "cell_type": "markdown",
   "id": "qualified-station",
   "metadata": {},
   "source": [
    "<br>\n",
    "\n",
    "**Question: What are the most common food venue categories in Boston?**"
   ]
  },
  {
   "cell_type": "code",
   "execution_count": 370,
   "id": "administrative-efficiency",
   "metadata": {},
   "outputs": [
    {
     "data": {
      "image/png": "[encoded data removed]",
      "text/plain": [
       "<Figure size 432x288 with 1 Axes>"
      ]
     },
     "metadata": {},
     "output_type": "display_data"
    }
   ],
   "source": [
    "# most popular food venues types\n",
    "food_venues['Category Group'].value_counts().head(10).sort_values(ascending=True).plot.barh(width=.8,color='tab:blue',alpha=.8)\n",
    "plt.title('Top 10 most popular food venue categories in Boston')\n",
    "plt.show()"
   ]
  },
  {
   "cell_type": "markdown",
   "id": "according-ceramic",
   "metadata": {},
   "source": [
    "**Answer:** The most common restaurant type in Boston is Asian Restaurant, followed by Pizza Place, and American Restaurant, and Italian Restaurant.\n",
    "\n",
    "_**Note:** Remember from before, the Asian Restaurant category in the Foursquare category hierarchy has the most subcategories (88), so from one perspective, it makes sense that it is the most frequent category grouping in this dataset. If the Pizza Place category was grouped with the Italian Restaurant category rather than being distinct, it would be the most frequent category._"
   ]
  },
  {
   "cell_type": "markdown",
   "id": "public-damage",
   "metadata": {},
   "source": [
    "<br>\n",
    "\n",
    "**Question: What is the distribution of the venue ratings?**"
   ]
  },
  {
   "cell_type": "code",
   "execution_count": 371,
   "id": "committed-cologne",
   "metadata": {},
   "outputs": [
    {
     "data": {
      "text/plain": [
       "<AxesSubplot:xlabel='Venue Rating', ylabel='Count'>"
      ]
     },
     "execution_count": 371,
     "metadata": {},
     "output_type": "execute_result"
    },
    {
     "data": {
      "image/png": "[encoded data removed]",
      "text/plain": [
       "<Figure size 432x288 with 1 Axes>"
      ]
     },
     "metadata": {},
     "output_type": "display_data"
    }
   ],
   "source": [
    "sns.histplot(food_venues,x='Venue Rating')"
   ]
  },
  {
   "cell_type": "markdown",
   "id": "iraqi-michigan",
   "metadata": {},
   "source": [
    "**Answer:** Most of the venues are rated between 7 and 9, with very few rated below 6."
   ]
  },
  {
   "cell_type": "markdown",
   "id": "leading-might",
   "metadata": {},
   "source": [
    "<br>\n",
    "\n",
    "**Question: How many venues are there in each price category?**"
   ]
  },
  {
   "cell_type": "code",
   "execution_count": 372,
   "id": "other-recording",
   "metadata": {},
   "outputs": [
    {
     "data": {
      "image/png": "[encoded data removed]",
      "text/plain": [
       "<Figure size 432x288 with 1 Axes>"
      ]
     },
     "metadata": {},
     "output_type": "display_data"
    }
   ],
   "source": [
    "food_venues.value_counts('Venue Price Message').plot.bar(color='tab:blue', alpha=.8)\n",
    "plt.title('Number of venues by price category')\n",
    "plt.xticks(rotation=0)\n",
    "plt.show()"
   ]
  },
  {
   "cell_type": "markdown",
   "id": "superb-thursday",
   "metadata": {},
   "source": [
    "**Answer:** Most venues are in the `Cheap` or `Moderate` price categories, with relatively few in the `Very Expensive` category"
   ]
  },
  {
   "cell_type": "markdown",
   "id": "continued-world",
   "metadata": {},
   "source": [
    "<br>\n",
    "\n",
    "**Question: Does venue rating correspond with price?**"
   ]
  },
  {
   "cell_type": "code",
   "execution_count": 373,
   "id": "built-clear",
   "metadata": {},
   "outputs": [
    {
     "data": {
      "image/png": "[encoded data removed]",
      "text/plain": [
       "<Figure size 432x288 with 1 Axes>"
      ]
     },
     "metadata": {},
     "output_type": "display_data"
    }
   ],
   "source": [
    "# plot venue rating by price - box plot\n",
    "sns.boxplot(x=\"Venue Price Message\", y=\"Venue Rating\", data=food_venues)\n",
    "plt.title('Venue rating by price category')\n",
    "plt.show()"
   ]
  },
  {
   "cell_type": "markdown",
   "id": "complex-speech",
   "metadata": {},
   "source": [
    "**Answer:** The median rating increases as the price tier increases. The range of ratings in each price category is smaller as the price increases, with `Very Expensive` restaurants having the smallest range of all, which is likely related to that category having the fewest number of venues.\n",
    "\n",
    "Another way to look at this relationship between price and rating is through a regression line."
   ]
  },
  {
   "cell_type": "code",
   "execution_count": 374,
   "id": "extreme-investor",
   "metadata": {},
   "outputs": [
    {
     "data": {
      "image/png": "[encoded data removed]",
      "text/plain": [
       "<Figure size 432x288 with 1 Axes>"
      ]
     },
     "metadata": {},
     "output_type": "display_data"
    }
   ],
   "source": [
    "# plot venue rating by price\n",
    "sns.regplot(data=food_venues,x='Venue Price Tier', y='Venue Rating',color='tab:blue')\n",
    "plt.title('Average venue rating by price tier')\n",
    "plt.show()"
   ]
  },
  {
   "cell_type": "markdown",
   "id": "limiting-public",
   "metadata": {},
   "source": [
    "**Result:** There is a strong positive correlation between a venue's price tier and the average rating."
   ]
  },
  {
   "cell_type": "markdown",
   "id": "considered-level",
   "metadata": {},
   "source": [
    "<br>\n",
    "\n",
    "**Question: Do venues with multiple locations have lower ratings than restaurants with a single venue?**"
   ]
  },
  {
   "cell_type": "code",
   "execution_count": 375,
   "id": "governmental-kinase",
   "metadata": {},
   "outputs": [],
   "source": [
    "# create series for multiple locations (boolean)\n",
    "food_venues['Multiple Locations'] = food_venues.groupby('Venue Name')['Venue Name'].transform('count')>1\n",
    "food_venues['Multiple Locations'] = food_venues['Multiple Locations'].astype(int)"
   ]
  },
  {
   "cell_type": "code",
   "execution_count": 376,
   "id": "identical-chapter",
   "metadata": {},
   "outputs": [
    {
     "data": {
      "image/png": "[encoded data removed]",
      "text/plain": [
       "<Figure size 432x288 with 1 Axes>"
      ]
     },
     "metadata": {},
     "output_type": "display_data"
    }
   ],
   "source": [
    "# plot venue rating by multiple locations - box plot\n",
    "sns.boxplot(x=\"Multiple Locations\", y=\"Venue Rating\", data=food_venues)\n",
    "plt.title('Venue rating by whether or not there are multiple locations')\n",
    "plt.show()"
   ]
  },
  {
   "cell_type": "code",
   "execution_count": 377,
   "id": "mature-brass",
   "metadata": {},
   "outputs": [
    {
     "name": "stdout",
     "output_type": "stream",
     "text": [
      "Single Location: 7.81537267080745\n",
      "Multiple Locations: 7.426515151515155\n"
     ]
    }
   ],
   "source": [
    "for i, rating in food_venues.groupby('Multiple Locations')['Venue Rating'].mean().items():\n",
    "    label = 'Single Location' if i == 0 else 'Multiple Locations'\n",
    "    print('{}: {}'.format(label,rating))"
   ]
  },
  {
   "cell_type": "markdown",
   "id": "dramatic-somalia",
   "metadata": {},
   "source": [
    "**Answer:** Yes, venues with multiple locations have lower mean and median ratings than venues with a single location."
   ]
  },
  {
   "cell_type": "markdown",
   "id": "subsequent-tattoo",
   "metadata": {},
   "source": [
    "<br>\n",
    "\n",
    "**Question: Does average venue price correspond with per capita income by neighborhood?**\n",
    "\n",
    "To answer this question, I compare mean per capita income with mean venue price in each neighborhood. Income data is from Analyze Boston and represents figures from 2019. I binned the data to see generally how the neighborhoods are divided, then used a regression plot in the Seaborn library to view all the points and see if there was a correlation."
   ]
  },
  {
   "cell_type": "code",
   "execution_count": 378,
   "id": "necessary-legislature",
   "metadata": {},
   "outputs": [
    {
     "data": {
      "text/html": [
       "<div>\n",
       "<style scoped>\n",
       "    .dataframe tbody tr th:only-of-type {\n",
       "        vertical-align: middle;\n",
       "    }\n",
       "\n",
       "    .dataframe tbody tr th {\n",
       "        vertical-align: top;\n",
       "    }\n",
       "\n",
       "    .dataframe thead th {\n",
       "        text-align: right;\n",
       "    }\n",
       "</style>\n",
       "<table border=\"1\" class=\"dataframe\">\n",
       "  <thead>\n",
       "    <tr style=\"text-align: right;\">\n",
       "      <th></th>\n",
       "      <th>Mean Per Capita Income</th>\n",
       "      <th>Median Household Income</th>\n",
       "      <th>Median Family Income</th>\n",
       "    </tr>\n",
       "    <tr>\n",
       "      <th>Neighborhood</th>\n",
       "      <th></th>\n",
       "      <th></th>\n",
       "      <th></th>\n",
       "    </tr>\n",
       "  </thead>\n",
       "  <tbody>\n",
       "    <tr>\n",
       "      <th>Allston</th>\n",
       "      <td>$34,149</td>\n",
       "      <td>$58,141</td>\n",
       "      <td>$73,975</td>\n",
       "    </tr>\n",
       "    <tr>\n",
       "      <th>Back Bay</th>\n",
       "      <td>$110,677</td>\n",
       "      <td>$111,185</td>\n",
       "      <td>$197,348</td>\n",
       "    </tr>\n",
       "    <tr>\n",
       "      <th>Beacon Hill</th>\n",
       "      <td>$100,005</td>\n",
       "      <td>$110,841</td>\n",
       "      <td>$205,960</td>\n",
       "    </tr>\n",
       "    <tr>\n",
       "      <th>Brighton</th>\n",
       "      <td>$41,261</td>\n",
       "      <td>$77,625</td>\n",
       "      <td>$92,364</td>\n",
       "    </tr>\n",
       "    <tr>\n",
       "      <th>Charlestown</th>\n",
       "      <td>$75,339</td>\n",
       "      <td>$127,400</td>\n",
       "      <td>$162,386</td>\n",
       "    </tr>\n",
       "  </tbody>\n",
       "</table>\n",
       "</div>"
      ],
      "text/plain": [
       "             Mean Per Capita Income Median Household Income  \\\n",
       "Neighborhood                                                  \n",
       "Allston                     $34,149                $58,141    \n",
       "Back Bay                   $110,677               $111,185    \n",
       "Beacon Hill                $100,005               $110,841    \n",
       "Brighton                    $41,261                $77,625    \n",
       "Charlestown                 $75,339               $127,400    \n",
       "\n",
       "             Median Family Income  \n",
       "Neighborhood                       \n",
       "Allston                   $73,975  \n",
       "Back Bay                 $197,348  \n",
       "Beacon Hill              $205,960  \n",
       "Brighton                  $92,364  \n",
       "Charlestown              $162,386  "
      ]
     },
     "execution_count": 378,
     "metadata": {},
     "output_type": "execute_result"
    }
   ],
   "source": [
    "income_path = \"./data/boston_demographics/income.csv\"\n",
    "income_df = pd.read_csv(income_path)\n",
    "income_df = income_df.drop(columns='Total Households').set_index('Neighborhood')\n",
    "income_df.head()"
   ]
  },
  {
   "cell_type": "code",
   "execution_count": 379,
   "id": "stainless-petersburg",
   "metadata": {},
   "outputs": [],
   "source": [
    "# format string values as float values\n",
    "def currency_formatter(string):\n",
    "    string = string.strip().replace('$','').replace(',','')\n",
    "    return float(string)\n",
    "\n",
    "for col in ['Mean Per Capita Income','Median Household Income','Median Family Income']:\n",
    "    income_df[col]=income_df[col].apply(currency_formatter)"
   ]
  },
  {
   "cell_type": "code",
   "execution_count": 380,
   "id": "established-defense",
   "metadata": {},
   "outputs": [
    {
     "name": "stdout",
     "output_type": "stream",
     "text": [
      "Bin 0: Dorchester, East Boston, Fenway, Longwood, Mattapan, Mission Hill, Roxbury\n",
      "Bin 1: Allston, Brighton, Hyde Park, Jamaica Plain, Roslindale, West Roxbury\n",
      "Bin 2: Charlestown, Downtown, South Boston, West End\n",
      "Bin 3: Beacon Hill, North End, South End\n",
      "Bin 4: Back Bay, South Boston Waterfront\n"
     ]
    }
   ],
   "source": [
    "# bin neighborhoods by per capita income\n",
    "nbins = 5\n",
    "income_df['Per Capita Bins'] = pd.cut(income_df['Mean Per Capita Income'], bins=nbins, labels=list(range(nbins)))\n",
    "grouped = income_df.reset_index().groupby('Per Capita Bins')['Neighborhood'].apply(lambda x: ', '.join(x))\n",
    "for i, neighborhoods in grouped.items():\n",
    "    print('Bin {}: {}'.format(i,neighborhoods))"
   ]
  },
  {
   "cell_type": "code",
   "execution_count": 381,
   "id": "instant-demand",
   "metadata": {},
   "outputs": [],
   "source": [
    "# mean venue price tier by neighborhood\n",
    "neighborhood_mean_price = food_venues.groupby('Neighborhood')['Venue Price Tier'].mean()\n",
    "\n",
    "# combine mean venue price tier and income data\n",
    "price_income = pd.concat([neighborhood_mean_price,income_df],axis=1)"
   ]
  },
  {
   "cell_type": "code",
   "execution_count": 382,
   "id": "recorded-threshold",
   "metadata": {},
   "outputs": [
    {
     "data": {
      "image/png": "[encoded data removed]",
      "text/plain": [
       "<Figure size 432x288 with 1 Axes>"
      ]
     },
     "metadata": {},
     "output_type": "display_data"
    }
   ],
   "source": [
    "# plot mean per capita income and mean venue price tier\n",
    "sns.regplot(data=price_income, y='Venue Price Tier',x='Mean Per Capita Income',color='tab:blue')\n",
    "plt.title('Mean Venue Price by Per Capita Income for Boston Nieghborhoods')\n",
    "plt.show()"
   ]
  },
  {
   "cell_type": "markdown",
   "id": "naval-injury",
   "metadata": {},
   "source": [
    "**Answer:** Yes, there is a positive correlation between mean per capita income by neighborhood and mean venue price."
   ]
  },
  {
   "cell_type": "markdown",
   "id": "rapid-cowboy",
   "metadata": {},
   "source": [
    "<br>\n",
    "\n",
    "**Question: Is there a relationship betwen venue rating or price and venues per capita?**\n",
    "\n",
    "I used the same dataset from Analyze Boston as before, but looked at population instead of income. I simply divided the number of venues by the population in each neighborhood. Then, I added mean price and rating data. I used the `df.corr()` method to view the Pearson coefficient for each pair of variables, and used the `df.style.background_gradient()` method to make it easier to see which pairs had a stronger correlation. Finally, I made another regression plot to visualize one of the relationships that had a moderate correlation according to the table."
   ]
  },
  {
   "cell_type": "code",
   "execution_count": 383,
   "id": "varied-chest",
   "metadata": {},
   "outputs": [],
   "source": [
    "pop_path = \"./data/boston_demographics/race.csv\"\n",
    "pop_df = pd.read_csv(pop_path)\n",
    "pop_df = pop_df[['Neighborhood','Total Population']]\n",
    "pop_df['Total Population'] = pop_df['Total Population'].str.replace(',','').astype(int)\n",
    "pop_df.set_index('Neighborhood',inplace=True)"
   ]
  },
  {
   "cell_type": "code",
   "execution_count": 384,
   "id": "julian-biology",
   "metadata": {},
   "outputs": [],
   "source": [
    "neighborhood_venues = food_venues.value_counts('Neighborhood').to_frame(name='Venues')"
   ]
  },
  {
   "cell_type": "code",
   "execution_count": 385,
   "id": "thermal-fifteen",
   "metadata": {},
   "outputs": [
    {
     "data": {
      "text/html": [
       "<div>\n",
       "<style scoped>\n",
       "    .dataframe tbody tr th:only-of-type {\n",
       "        vertical-align: middle;\n",
       "    }\n",
       "\n",
       "    .dataframe tbody tr th {\n",
       "        vertical-align: top;\n",
       "    }\n",
       "\n",
       "    .dataframe thead th {\n",
       "        text-align: right;\n",
       "    }\n",
       "</style>\n",
       "<table border=\"1\" class=\"dataframe\">\n",
       "  <thead>\n",
       "    <tr style=\"text-align: right;\">\n",
       "      <th></th>\n",
       "      <th>Total Population</th>\n",
       "      <th>SqMiles</th>\n",
       "      <th>Venues</th>\n",
       "    </tr>\n",
       "  </thead>\n",
       "  <tbody>\n",
       "    <tr>\n",
       "      <th>Allston</th>\n",
       "      <td>19261.0</td>\n",
       "      <td>1.56</td>\n",
       "      <td>48.0</td>\n",
       "    </tr>\n",
       "    <tr>\n",
       "      <th>Back Bay</th>\n",
       "      <td>17783.0</td>\n",
       "      <td>0.62</td>\n",
       "      <td>72.0</td>\n",
       "    </tr>\n",
       "    <tr>\n",
       "      <th>Beacon Hill</th>\n",
       "      <td>9648.0</td>\n",
       "      <td>0.31</td>\n",
       "      <td>25.0</td>\n",
       "    </tr>\n",
       "    <tr>\n",
       "      <th>Brighton</th>\n",
       "      <td>55297.0</td>\n",
       "      <td>2.88</td>\n",
       "      <td>57.0</td>\n",
       "    </tr>\n",
       "    <tr>\n",
       "      <th>Charlestown</th>\n",
       "      <td>19890.0</td>\n",
       "      <td>1.36</td>\n",
       "      <td>38.0</td>\n",
       "    </tr>\n",
       "  </tbody>\n",
       "</table>\n",
       "</div>"
      ],
      "text/plain": [
       "             Total Population  SqMiles  Venues\n",
       "Allston               19261.0     1.56    48.0\n",
       "Back Bay              17783.0     0.62    72.0\n",
       "Beacon Hill            9648.0     0.31    25.0\n",
       "Brighton              55297.0     2.88    57.0\n",
       "Charlestown           19890.0     1.36    38.0"
      ]
     },
     "execution_count": 385,
     "metadata": {},
     "output_type": "execute_result"
    }
   ],
   "source": [
    "density_df = pd.concat([pop_df,neighborhoods_df.set_index('Name')['SqMiles'], neighborhood_venues],axis=1)\n",
    "density_df.head()"
   ]
  },
  {
   "cell_type": "code",
   "execution_count": 386,
   "id": "further-wallpaper",
   "metadata": {},
   "outputs": [
    {
     "data": {
      "text/html": [
       "<div>\n",
       "<style scoped>\n",
       "    .dataframe tbody tr th:only-of-type {\n",
       "        vertical-align: middle;\n",
       "    }\n",
       "\n",
       "    .dataframe tbody tr th {\n",
       "        vertical-align: top;\n",
       "    }\n",
       "\n",
       "    .dataframe thead th {\n",
       "        text-align: right;\n",
       "    }\n",
       "</style>\n",
       "<table border=\"1\" class=\"dataframe\">\n",
       "  <thead>\n",
       "    <tr style=\"text-align: right;\">\n",
       "      <th></th>\n",
       "      <th>Mean Price</th>\n",
       "      <th>Mean Rating</th>\n",
       "      <th>Total Population</th>\n",
       "      <th>SqMiles</th>\n",
       "      <th>Venues</th>\n",
       "      <th>Venues Per Capita</th>\n",
       "      <th>Venues Per Sq Mi</th>\n",
       "    </tr>\n",
       "  </thead>\n",
       "  <tbody>\n",
       "    <tr>\n",
       "      <th>Allston</th>\n",
       "      <td>1.586957</td>\n",
       "      <td>8.163830</td>\n",
       "      <td>19261.0</td>\n",
       "      <td>1.56</td>\n",
       "      <td>48.0</td>\n",
       "      <td>0.002492</td>\n",
       "      <td>30.769231</td>\n",
       "    </tr>\n",
       "    <tr>\n",
       "      <th>Back Bay</th>\n",
       "      <td>2.142857</td>\n",
       "      <td>8.165278</td>\n",
       "      <td>17783.0</td>\n",
       "      <td>0.62</td>\n",
       "      <td>72.0</td>\n",
       "      <td>0.004049</td>\n",
       "      <td>116.129032</td>\n",
       "    </tr>\n",
       "    <tr>\n",
       "      <th>Beacon Hill</th>\n",
       "      <td>2.120000</td>\n",
       "      <td>7.760000</td>\n",
       "      <td>9648.0</td>\n",
       "      <td>0.31</td>\n",
       "      <td>25.0</td>\n",
       "      <td>0.002591</td>\n",
       "      <td>80.645161</td>\n",
       "    </tr>\n",
       "    <tr>\n",
       "      <th>Brighton</th>\n",
       "      <td>1.375000</td>\n",
       "      <td>7.186486</td>\n",
       "      <td>55297.0</td>\n",
       "      <td>2.88</td>\n",
       "      <td>57.0</td>\n",
       "      <td>0.001031</td>\n",
       "      <td>19.791667</td>\n",
       "    </tr>\n",
       "    <tr>\n",
       "      <th>Charlestown</th>\n",
       "      <td>1.527778</td>\n",
       "      <td>7.283333</td>\n",
       "      <td>19890.0</td>\n",
       "      <td>1.36</td>\n",
       "      <td>38.0</td>\n",
       "      <td>0.001911</td>\n",
       "      <td>27.941176</td>\n",
       "    </tr>\n",
       "  </tbody>\n",
       "</table>\n",
       "</div>"
      ],
      "text/plain": [
       "             Mean Price  Mean Rating  Total Population  SqMiles  Venues  \\\n",
       "Allston        1.586957     8.163830           19261.0     1.56    48.0   \n",
       "Back Bay       2.142857     8.165278           17783.0     0.62    72.0   \n",
       "Beacon Hill    2.120000     7.760000            9648.0     0.31    25.0   \n",
       "Brighton       1.375000     7.186486           55297.0     2.88    57.0   \n",
       "Charlestown    1.527778     7.283333           19890.0     1.36    38.0   \n",
       "\n",
       "             Venues Per Capita  Venues Per Sq Mi  \n",
       "Allston               0.002492         30.769231  \n",
       "Back Bay              0.004049        116.129032  \n",
       "Beacon Hill           0.002591         80.645161  \n",
       "Brighton              0.001031         19.791667  \n",
       "Charlestown           0.001911         27.941176  "
      ]
     },
     "execution_count": 386,
     "metadata": {},
     "output_type": "execute_result"
    }
   ],
   "source": [
    "# add column for venues per capita\n",
    "density_df['Venues Per Capita'] = density_df['Venues'] / density_df['Total Population']\n",
    "# add column for venues per square mile\n",
    "density_df['Venues Per Sq Mi'] = density_df['Venues'] / density_df['SqMiles']\n",
    "# add column for mean rating by neighborhood\n",
    "density_df.insert(0,'Mean Rating',value=food_venues.groupby('Neighborhood')['Venue Rating'].mean())\n",
    "# add column for mean price by neighborhood\n",
    "density_df.insert(0,'Mean Price',value=food_venues.groupby('Neighborhood')['Venue Price Tier'].mean())\n",
    "\n",
    "density_df.head()"
   ]
  },
  {
   "cell_type": "code",
   "execution_count": 387,
   "id": "exterior-antenna",
   "metadata": {},
   "outputs": [
    {
     "data": {
      "text/html": [
       "<style  type=\"text/css\" >\n",
       "#T_c2af9488_ab87_11eb_a995_a45e60cb13cdrow0_col0,#T_c2af9488_ab87_11eb_a995_a45e60cb13cdrow1_col1,#T_c2af9488_ab87_11eb_a995_a45e60cb13cdrow2_col2,#T_c2af9488_ab87_11eb_a995_a45e60cb13cdrow3_col3,#T_c2af9488_ab87_11eb_a995_a45e60cb13cdrow4_col4,#T_c2af9488_ab87_11eb_a995_a45e60cb13cdrow5_col5,#T_c2af9488_ab87_11eb_a995_a45e60cb13cdrow6_col6{\n",
       "            background-color:  #023858;\n",
       "            color:  #f1f1f1;\n",
       "        }#T_c2af9488_ab87_11eb_a995_a45e60cb13cdrow0_col1{\n",
       "            background-color:  #04588a;\n",
       "            color:  #f1f1f1;\n",
       "        }#T_c2af9488_ab87_11eb_a995_a45e60cb13cdrow0_col2{\n",
       "            background-color:  #fdf5fa;\n",
       "            color:  #000000;\n",
       "        }#T_c2af9488_ab87_11eb_a995_a45e60cb13cdrow0_col3{\n",
       "            background-color:  #fbf3f9;\n",
       "            color:  #000000;\n",
       "        }#T_c2af9488_ab87_11eb_a995_a45e60cb13cdrow0_col4{\n",
       "            background-color:  #529bc7;\n",
       "            color:  #000000;\n",
       "        }#T_c2af9488_ab87_11eb_a995_a45e60cb13cdrow0_col5{\n",
       "            background-color:  #056faf;\n",
       "            color:  #f1f1f1;\n",
       "        }#T_c2af9488_ab87_11eb_a995_a45e60cb13cdrow0_col6{\n",
       "            background-color:  #3d93c2;\n",
       "            color:  #000000;\n",
       "        }#T_c2af9488_ab87_11eb_a995_a45e60cb13cdrow1_col0{\n",
       "            background-color:  #04598c;\n",
       "            color:  #f1f1f1;\n",
       "        }#T_c2af9488_ab87_11eb_a995_a45e60cb13cdrow1_col2{\n",
       "            background-color:  #fef6fa;\n",
       "            color:  #000000;\n",
       "        }#T_c2af9488_ab87_11eb_a995_a45e60cb13cdrow1_col3,#T_c2af9488_ab87_11eb_a995_a45e60cb13cdrow2_col5,#T_c2af9488_ab87_11eb_a995_a45e60cb13cdrow3_col0,#T_c2af9488_ab87_11eb_a995_a45e60cb13cdrow3_col1,#T_c2af9488_ab87_11eb_a995_a45e60cb13cdrow3_col4,#T_c2af9488_ab87_11eb_a995_a45e60cb13cdrow3_col5,#T_c2af9488_ab87_11eb_a995_a45e60cb13cdrow3_col6,#T_c2af9488_ab87_11eb_a995_a45e60cb13cdrow5_col2{\n",
       "            background-color:  #fff7fb;\n",
       "            color:  #000000;\n",
       "        }#T_c2af9488_ab87_11eb_a995_a45e60cb13cdrow1_col4{\n",
       "            background-color:  #4e9ac6;\n",
       "            color:  #000000;\n",
       "        }#T_c2af9488_ab87_11eb_a995_a45e60cb13cdrow1_col5{\n",
       "            background-color:  #1b7eb7;\n",
       "            color:  #000000;\n",
       "        }#T_c2af9488_ab87_11eb_a995_a45e60cb13cdrow1_col6{\n",
       "            background-color:  #3991c1;\n",
       "            color:  #000000;\n",
       "        }#T_c2af9488_ab87_11eb_a995_a45e60cb13cdrow2_col0{\n",
       "            background-color:  #faf3f9;\n",
       "            color:  #000000;\n",
       "        }#T_c2af9488_ab87_11eb_a995_a45e60cb13cdrow2_col1{\n",
       "            background-color:  #f7f0f7;\n",
       "            color:  #000000;\n",
       "        }#T_c2af9488_ab87_11eb_a995_a45e60cb13cdrow2_col3{\n",
       "            background-color:  #045585;\n",
       "            color:  #f1f1f1;\n",
       "        }#T_c2af9488_ab87_11eb_a995_a45e60cb13cdrow2_col4,#T_c2af9488_ab87_11eb_a995_a45e60cb13cdrow6_col2{\n",
       "            background-color:  #f2ecf5;\n",
       "            color:  #000000;\n",
       "        }#T_c2af9488_ab87_11eb_a995_a45e60cb13cdrow2_col6{\n",
       "            background-color:  #fbf4f9;\n",
       "            color:  #000000;\n",
       "        }#T_c2af9488_ab87_11eb_a995_a45e60cb13cdrow3_col2{\n",
       "            background-color:  #045687;\n",
       "            color:  #f1f1f1;\n",
       "        }#T_c2af9488_ab87_11eb_a995_a45e60cb13cdrow4_col0,#T_c2af9488_ab87_11eb_a995_a45e60cb13cdrow6_col0{\n",
       "            background-color:  #2f8bbe;\n",
       "            color:  #000000;\n",
       "        }#T_c2af9488_ab87_11eb_a995_a45e60cb13cdrow4_col1,#T_c2af9488_ab87_11eb_a995_a45e60cb13cdrow6_col1{\n",
       "            background-color:  #2987bc;\n",
       "            color:  #000000;\n",
       "        }#T_c2af9488_ab87_11eb_a995_a45e60cb13cdrow4_col2{\n",
       "            background-color:  #d7d6e9;\n",
       "            color:  #000000;\n",
       "        }#T_c2af9488_ab87_11eb_a995_a45e60cb13cdrow4_col3{\n",
       "            background-color:  #dddbec;\n",
       "            color:  #000000;\n",
       "        }#T_c2af9488_ab87_11eb_a995_a45e60cb13cdrow4_col5{\n",
       "            background-color:  #3b92c1;\n",
       "            color:  #000000;\n",
       "        }#T_c2af9488_ab87_11eb_a995_a45e60cb13cdrow4_col6{\n",
       "            background-color:  #c1cae2;\n",
       "            color:  #000000;\n",
       "        }#T_c2af9488_ab87_11eb_a995_a45e60cb13cdrow5_col0{\n",
       "            background-color:  #056fae;\n",
       "            color:  #f1f1f1;\n",
       "        }#T_c2af9488_ab87_11eb_a995_a45e60cb13cdrow5_col1{\n",
       "            background-color:  #167bb6;\n",
       "            color:  #000000;\n",
       "        }#T_c2af9488_ab87_11eb_a995_a45e60cb13cdrow5_col3{\n",
       "            background-color:  #f8f1f8;\n",
       "            color:  #000000;\n",
       "        }#T_c2af9488_ab87_11eb_a995_a45e60cb13cdrow5_col4{\n",
       "            background-color:  #5c9fc9;\n",
       "            color:  #000000;\n",
       "        }#T_c2af9488_ab87_11eb_a995_a45e60cb13cdrow5_col6{\n",
       "            background-color:  #056dab;\n",
       "            color:  #f1f1f1;\n",
       "        }#T_c2af9488_ab87_11eb_a995_a45e60cb13cdrow6_col3{\n",
       "            background-color:  #f0eaf4;\n",
       "            color:  #000000;\n",
       "        }#T_c2af9488_ab87_11eb_a995_a45e60cb13cdrow6_col4{\n",
       "            background-color:  #d8d7e9;\n",
       "            color:  #000000;\n",
       "        }#T_c2af9488_ab87_11eb_a995_a45e60cb13cdrow6_col5{\n",
       "            background-color:  #056ba7;\n",
       "            color:  #f1f1f1;\n",
       "        }</style><table id=\"T_c2af9488_ab87_11eb_a995_a45e60cb13cd\" ><thead>    <tr>        <th class=\"blank level0\" ></th>        <th class=\"col_heading level0 col0\" >Mean Price</th>        <th class=\"col_heading level0 col1\" >Mean Rating</th>        <th class=\"col_heading level0 col2\" >Total Population</th>        <th class=\"col_heading level0 col3\" >SqMiles</th>        <th class=\"col_heading level0 col4\" >Venues</th>        <th class=\"col_heading level0 col5\" >Venues Per Capita</th>        <th class=\"col_heading level0 col6\" >Venues Per Sq Mi</th>    </tr></thead><tbody>\n",
       "                <tr>\n",
       "                        <th id=\"T_c2af9488_ab87_11eb_a995_a45e60cb13cdlevel0_row0\" class=\"row_heading level0 row0\" >Mean Price</th>\n",
       "                        <td id=\"T_c2af9488_ab87_11eb_a995_a45e60cb13cdrow0_col0\" class=\"data row0 col0\" >1.000000</td>\n",
       "                        <td id=\"T_c2af9488_ab87_11eb_a995_a45e60cb13cdrow0_col1\" class=\"data row0 col1\" >0.805386</td>\n",
       "                        <td id=\"T_c2af9488_ab87_11eb_a995_a45e60cb13cdrow0_col2\" class=\"data row0 col2\" >-0.519462</td>\n",
       "                        <td id=\"T_c2af9488_ab87_11eb_a995_a45e60cb13cdrow0_col3\" class=\"data row0 col3\" >-0.572796</td>\n",
       "                        <td id=\"T_c2af9488_ab87_11eb_a995_a45e60cb13cdrow0_col4\" class=\"data row0 col4\" >0.436403</td>\n",
       "                        <td id=\"T_c2af9488_ab87_11eb_a995_a45e60cb13cdrow0_col5\" class=\"data row0 col5\" >0.617801</td>\n",
       "                        <td id=\"T_c2af9488_ab87_11eb_a995_a45e60cb13cdrow0_col6\" class=\"data row0 col6\" >0.434860</td>\n",
       "            </tr>\n",
       "            <tr>\n",
       "                        <th id=\"T_c2af9488_ab87_11eb_a995_a45e60cb13cdlevel0_row1\" class=\"row_heading level0 row1\" >Mean Rating</th>\n",
       "                        <td id=\"T_c2af9488_ab87_11eb_a995_a45e60cb13cdrow1_col0\" class=\"data row1 col0\" >0.805386</td>\n",
       "                        <td id=\"T_c2af9488_ab87_11eb_a995_a45e60cb13cdrow1_col1\" class=\"data row1 col1\" >1.000000</td>\n",
       "                        <td id=\"T_c2af9488_ab87_11eb_a995_a45e60cb13cdrow1_col2\" class=\"data row1 col2\" >-0.531804</td>\n",
       "                        <td id=\"T_c2af9488_ab87_11eb_a995_a45e60cb13cdrow1_col3\" class=\"data row1 col3\" >-0.622943</td>\n",
       "                        <td id=\"T_c2af9488_ab87_11eb_a995_a45e60cb13cdrow1_col4\" class=\"data row1 col4\" >0.443577</td>\n",
       "                        <td id=\"T_c2af9488_ab87_11eb_a995_a45e60cb13cdrow1_col5\" class=\"data row1 col5\" >0.523986</td>\n",
       "                        <td id=\"T_c2af9488_ab87_11eb_a995_a45e60cb13cdrow1_col6\" class=\"data row1 col6\" >0.447621</td>\n",
       "            </tr>\n",
       "            <tr>\n",
       "                        <th id=\"T_c2af9488_ab87_11eb_a995_a45e60cb13cdlevel0_row2\" class=\"row_heading level0 row2\" >Total Population</th>\n",
       "                        <td id=\"T_c2af9488_ab87_11eb_a995_a45e60cb13cdrow2_col0\" class=\"data row2 col0\" >-0.519462</td>\n",
       "                        <td id=\"T_c2af9488_ab87_11eb_a995_a45e60cb13cdrow2_col1\" class=\"data row2 col1\" >-0.531804</td>\n",
       "                        <td id=\"T_c2af9488_ab87_11eb_a995_a45e60cb13cdrow2_col2\" class=\"data row2 col2\" >1.000000</td>\n",
       "                        <td id=\"T_c2af9488_ab87_11eb_a995_a45e60cb13cdrow2_col3\" class=\"data row2 col3\" >0.825631</td>\n",
       "                        <td id=\"T_c2af9488_ab87_11eb_a995_a45e60cb13cdrow2_col4\" class=\"data row2 col4\" >-0.202676</td>\n",
       "                        <td id=\"T_c2af9488_ab87_11eb_a995_a45e60cb13cdrow2_col5\" class=\"data row2 col5\" >-0.546963</td>\n",
       "                        <td id=\"T_c2af9488_ab87_11eb_a995_a45e60cb13cdrow2_col6\" class=\"data row2 col6\" >-0.417014</td>\n",
       "            </tr>\n",
       "            <tr>\n",
       "                        <th id=\"T_c2af9488_ab87_11eb_a995_a45e60cb13cdlevel0_row3\" class=\"row_heading level0 row3\" >SqMiles</th>\n",
       "                        <td id=\"T_c2af9488_ab87_11eb_a995_a45e60cb13cdrow3_col0\" class=\"data row3 col0\" >-0.572796</td>\n",
       "                        <td id=\"T_c2af9488_ab87_11eb_a995_a45e60cb13cdrow3_col1\" class=\"data row3 col1\" >-0.622943</td>\n",
       "                        <td id=\"T_c2af9488_ab87_11eb_a995_a45e60cb13cdrow3_col2\" class=\"data row3 col2\" >0.825631</td>\n",
       "                        <td id=\"T_c2af9488_ab87_11eb_a995_a45e60cb13cdrow3_col3\" class=\"data row3 col3\" >1.000000</td>\n",
       "                        <td id=\"T_c2af9488_ab87_11eb_a995_a45e60cb13cdrow3_col4\" class=\"data row3 col4\" >-0.311356</td>\n",
       "                        <td id=\"T_c2af9488_ab87_11eb_a995_a45e60cb13cdrow3_col5\" class=\"data row3 col5\" >-0.546751</td>\n",
       "                        <td id=\"T_c2af9488_ab87_11eb_a995_a45e60cb13cdrow3_col6\" class=\"data row3 col6\" >-0.456628</td>\n",
       "            </tr>\n",
       "            <tr>\n",
       "                        <th id=\"T_c2af9488_ab87_11eb_a995_a45e60cb13cdlevel0_row4\" class=\"row_heading level0 row4\" >Venues</th>\n",
       "                        <td id=\"T_c2af9488_ab87_11eb_a995_a45e60cb13cdrow4_col0\" class=\"data row4 col0\" >0.436403</td>\n",
       "                        <td id=\"T_c2af9488_ab87_11eb_a995_a45e60cb13cdrow4_col1\" class=\"data row4 col1\" >0.443577</td>\n",
       "                        <td id=\"T_c2af9488_ab87_11eb_a995_a45e60cb13cdrow4_col2\" class=\"data row4 col2\" >-0.202676</td>\n",
       "                        <td id=\"T_c2af9488_ab87_11eb_a995_a45e60cb13cdrow4_col3\" class=\"data row4 col3\" >-0.311356</td>\n",
       "                        <td id=\"T_c2af9488_ab87_11eb_a995_a45e60cb13cdrow4_col4\" class=\"data row4 col4\" >1.000000</td>\n",
       "                        <td id=\"T_c2af9488_ab87_11eb_a995_a45e60cb13cdrow4_col5\" class=\"data row4 col5\" >0.407265</td>\n",
       "                        <td id=\"T_c2af9488_ab87_11eb_a995_a45e60cb13cdrow4_col6\" class=\"data row4 col6\" >-0.025762</td>\n",
       "            </tr>\n",
       "            <tr>\n",
       "                        <th id=\"T_c2af9488_ab87_11eb_a995_a45e60cb13cdlevel0_row5\" class=\"row_heading level0 row5\" >Venues Per Capita</th>\n",
       "                        <td id=\"T_c2af9488_ab87_11eb_a995_a45e60cb13cdrow5_col0\" class=\"data row5 col0\" >0.617801</td>\n",
       "                        <td id=\"T_c2af9488_ab87_11eb_a995_a45e60cb13cdrow5_col1\" class=\"data row5 col1\" >0.523986</td>\n",
       "                        <td id=\"T_c2af9488_ab87_11eb_a995_a45e60cb13cdrow5_col2\" class=\"data row5 col2\" >-0.546963</td>\n",
       "                        <td id=\"T_c2af9488_ab87_11eb_a995_a45e60cb13cdrow5_col3\" class=\"data row5 col3\" >-0.546751</td>\n",
       "                        <td id=\"T_c2af9488_ab87_11eb_a995_a45e60cb13cdrow5_col4\" class=\"data row5 col4\" >0.407265</td>\n",
       "                        <td id=\"T_c2af9488_ab87_11eb_a995_a45e60cb13cdrow5_col5\" class=\"data row5 col5\" >1.000000</td>\n",
       "                        <td id=\"T_c2af9488_ab87_11eb_a995_a45e60cb13cdrow5_col6\" class=\"data row5 col6\" >0.658912</td>\n",
       "            </tr>\n",
       "            <tr>\n",
       "                        <th id=\"T_c2af9488_ab87_11eb_a995_a45e60cb13cdlevel0_row6\" class=\"row_heading level0 row6\" >Venues Per Sq Mi</th>\n",
       "                        <td id=\"T_c2af9488_ab87_11eb_a995_a45e60cb13cdrow6_col0\" class=\"data row6 col0\" >0.434860</td>\n",
       "                        <td id=\"T_c2af9488_ab87_11eb_a995_a45e60cb13cdrow6_col1\" class=\"data row6 col1\" >0.447621</td>\n",
       "                        <td id=\"T_c2af9488_ab87_11eb_a995_a45e60cb13cdrow6_col2\" class=\"data row6 col2\" >-0.417014</td>\n",
       "                        <td id=\"T_c2af9488_ab87_11eb_a995_a45e60cb13cdrow6_col3\" class=\"data row6 col3\" >-0.456628</td>\n",
       "                        <td id=\"T_c2af9488_ab87_11eb_a995_a45e60cb13cdrow6_col4\" class=\"data row6 col4\" >-0.025762</td>\n",
       "                        <td id=\"T_c2af9488_ab87_11eb_a995_a45e60cb13cdrow6_col5\" class=\"data row6 col5\" >0.658912</td>\n",
       "                        <td id=\"T_c2af9488_ab87_11eb_a995_a45e60cb13cdrow6_col6\" class=\"data row6 col6\" >1.000000</td>\n",
       "            </tr>\n",
       "    </tbody></table>"
      ],
      "text/plain": [
       "<pandas.io.formats.style.Styler at 0x7fef827764a8>"
      ]
     },
     "execution_count": 387,
     "metadata": {},
     "output_type": "execute_result"
    }
   ],
   "source": [
    "density_df.corr().style.background_gradient()"
   ]
  },
  {
   "cell_type": "code",
   "execution_count": 388,
   "id": "massive-cooking",
   "metadata": {},
   "outputs": [
    {
     "data": {
      "image/png": "[encoded data removed]",
      "text/plain": [
       "<Figure size 432x288 with 1 Axes>"
      ]
     },
     "metadata": {},
     "output_type": "display_data"
    }
   ],
   "source": [
    "# plot Mean Price and Venues Per Capita, which have a Pearson coeeficient of 0.61 in the table above\n",
    "sns.regplot(data=density_df, x='Venues Per Capita',y='Mean Price',color='tab:blue')\n",
    "plt.title('Mean price by venues per capita in Boston neighborhoods')\n",
    "plt.show()"
   ]
  },
  {
   "cell_type": "markdown",
   "id": "silent-rhythm",
   "metadata": {},
   "source": [
    "**Answer:** There is correlation between venues per capita and mean price/rating by neighborhood.\n",
    "\n",
    "_**Note:** Based on the spread in the confidence band for larger values of X, this relationship may not be strong enough to include in the final feature set._"
   ]
  },
  {
   "cell_type": "markdown",
   "id": "useful-columbus",
   "metadata": {},
   "source": [
    "<br>\n",
    "\n",
    "**Question: What are the most common food venues by category in each neighborhood?**\n",
    "\n",
    "One of the things I'm most interested in is understanding how types of venues are distributed across the city. I have a guess at how some areas of the city will look – more Italian Restaurants in the North End or Asian Restaurants in Chinatown – but I want to see what the data I have actually shows.\n",
    "\n",
    "I use the `get_dummies()` method in Pandas to create boolean variables for each category group. Then I grouped by neighborhood and calcualted the mean of each category group compared to the other category groups in that neighborhood."
   ]
  },
  {
   "cell_type": "code",
   "execution_count": 205,
   "id": "bibliographic-component",
   "metadata": {},
   "outputs": [],
   "source": [
    "category_dummies = pd.get_dummies(food_venues['Category Group'])\n",
    "category_dummies['Neighborhood'] = food_venues['Neighborhood']"
   ]
  },
  {
   "cell_type": "code",
   "execution_count": 206,
   "id": "voluntary-basement",
   "metadata": {},
   "outputs": [
    {
     "data": {
      "text/html": [
       "<div>\n",
       "<style scoped>\n",
       "    .dataframe tbody tr th:only-of-type {\n",
       "        vertical-align: middle;\n",
       "    }\n",
       "\n",
       "    .dataframe tbody tr th {\n",
       "        vertical-align: top;\n",
       "    }\n",
       "\n",
       "    .dataframe thead th {\n",
       "        text-align: right;\n",
       "    }\n",
       "</style>\n",
       "<table border=\"1\" class=\"dataframe\">\n",
       "  <thead>\n",
       "    <tr style=\"text-align: right;\">\n",
       "      <th></th>\n",
       "      <th>Afghan Restaurant</th>\n",
       "      <th>African Restaurant</th>\n",
       "      <th>American Restaurant</th>\n",
       "      <th>Asian Restaurant</th>\n",
       "      <th>BBQ Joint</th>\n",
       "      <th>Bagel Shop</th>\n",
       "      <th>Bakery</th>\n",
       "      <th>Belgian Restaurant</th>\n",
       "      <th>Bistro</th>\n",
       "      <th>Breakfast Spot</th>\n",
       "      <th>...</th>\n",
       "      <th>Restaurant</th>\n",
       "      <th>Salad Place</th>\n",
       "      <th>Sandwich Place</th>\n",
       "      <th>Seafood Restaurant</th>\n",
       "      <th>Snack Place</th>\n",
       "      <th>Southern / Soul Food Restaurant</th>\n",
       "      <th>Spanish Restaurant</th>\n",
       "      <th>Steakhouse</th>\n",
       "      <th>Vegetarian / Vegan Restaurant</th>\n",
       "      <th>Wings Joint</th>\n",
       "    </tr>\n",
       "    <tr>\n",
       "      <th>Neighborhood</th>\n",
       "      <th></th>\n",
       "      <th></th>\n",
       "      <th></th>\n",
       "      <th></th>\n",
       "      <th></th>\n",
       "      <th></th>\n",
       "      <th></th>\n",
       "      <th></th>\n",
       "      <th></th>\n",
       "      <th></th>\n",
       "      <th></th>\n",
       "      <th></th>\n",
       "      <th></th>\n",
       "      <th></th>\n",
       "      <th></th>\n",
       "      <th></th>\n",
       "      <th></th>\n",
       "      <th></th>\n",
       "      <th></th>\n",
       "      <th></th>\n",
       "      <th></th>\n",
       "    </tr>\n",
       "  </thead>\n",
       "  <tbody>\n",
       "    <tr>\n",
       "      <th>Allston</th>\n",
       "      <td>0.020833</td>\n",
       "      <td>0.0</td>\n",
       "      <td>0.020833</td>\n",
       "      <td>0.333333</td>\n",
       "      <td>0.0</td>\n",
       "      <td>0.000000</td>\n",
       "      <td>0.062500</td>\n",
       "      <td>0.0</td>\n",
       "      <td>0.00</td>\n",
       "      <td>0.000000</td>\n",
       "      <td>...</td>\n",
       "      <td>0.020833</td>\n",
       "      <td>0.000000</td>\n",
       "      <td>0.020833</td>\n",
       "      <td>0.020833</td>\n",
       "      <td>0.020833</td>\n",
       "      <td>0.000000</td>\n",
       "      <td>0.0</td>\n",
       "      <td>0.000000</td>\n",
       "      <td>0.020833</td>\n",
       "      <td>0.000000</td>\n",
       "    </tr>\n",
       "    <tr>\n",
       "      <th>Back Bay</th>\n",
       "      <td>0.000000</td>\n",
       "      <td>0.0</td>\n",
       "      <td>0.152778</td>\n",
       "      <td>0.138889</td>\n",
       "      <td>0.0</td>\n",
       "      <td>0.013889</td>\n",
       "      <td>0.027778</td>\n",
       "      <td>0.0</td>\n",
       "      <td>0.00</td>\n",
       "      <td>0.000000</td>\n",
       "      <td>...</td>\n",
       "      <td>0.041667</td>\n",
       "      <td>0.027778</td>\n",
       "      <td>0.027778</td>\n",
       "      <td>0.097222</td>\n",
       "      <td>0.000000</td>\n",
       "      <td>0.013889</td>\n",
       "      <td>0.0</td>\n",
       "      <td>0.027778</td>\n",
       "      <td>0.000000</td>\n",
       "      <td>0.000000</td>\n",
       "    </tr>\n",
       "    <tr>\n",
       "      <th>Bay Village</th>\n",
       "      <td>0.000000</td>\n",
       "      <td>0.0</td>\n",
       "      <td>0.085714</td>\n",
       "      <td>0.114286</td>\n",
       "      <td>0.0</td>\n",
       "      <td>0.000000</td>\n",
       "      <td>0.057143</td>\n",
       "      <td>0.0</td>\n",
       "      <td>0.00</td>\n",
       "      <td>0.057143</td>\n",
       "      <td>...</td>\n",
       "      <td>0.000000</td>\n",
       "      <td>0.028571</td>\n",
       "      <td>0.085714</td>\n",
       "      <td>0.114286</td>\n",
       "      <td>0.000000</td>\n",
       "      <td>0.000000</td>\n",
       "      <td>0.0</td>\n",
       "      <td>0.085714</td>\n",
       "      <td>0.028571</td>\n",
       "      <td>0.000000</td>\n",
       "    </tr>\n",
       "    <tr>\n",
       "      <th>Beacon Hill</th>\n",
       "      <td>0.000000</td>\n",
       "      <td>0.0</td>\n",
       "      <td>0.200000</td>\n",
       "      <td>0.080000</td>\n",
       "      <td>0.0</td>\n",
       "      <td>0.040000</td>\n",
       "      <td>0.040000</td>\n",
       "      <td>0.0</td>\n",
       "      <td>0.04</td>\n",
       "      <td>0.040000</td>\n",
       "      <td>...</td>\n",
       "      <td>0.040000</td>\n",
       "      <td>0.000000</td>\n",
       "      <td>0.000000</td>\n",
       "      <td>0.000000</td>\n",
       "      <td>0.000000</td>\n",
       "      <td>0.000000</td>\n",
       "      <td>0.0</td>\n",
       "      <td>0.040000</td>\n",
       "      <td>0.000000</td>\n",
       "      <td>0.000000</td>\n",
       "    </tr>\n",
       "    <tr>\n",
       "      <th>Brighton</th>\n",
       "      <td>0.000000</td>\n",
       "      <td>0.0</td>\n",
       "      <td>0.017544</td>\n",
       "      <td>0.263158</td>\n",
       "      <td>0.0</td>\n",
       "      <td>0.000000</td>\n",
       "      <td>0.052632</td>\n",
       "      <td>0.0</td>\n",
       "      <td>0.00</td>\n",
       "      <td>0.017544</td>\n",
       "      <td>...</td>\n",
       "      <td>0.017544</td>\n",
       "      <td>0.000000</td>\n",
       "      <td>0.035088</td>\n",
       "      <td>0.000000</td>\n",
       "      <td>0.000000</td>\n",
       "      <td>0.000000</td>\n",
       "      <td>0.0</td>\n",
       "      <td>0.000000</td>\n",
       "      <td>0.017544</td>\n",
       "      <td>0.017544</td>\n",
       "    </tr>\n",
       "  </tbody>\n",
       "</table>\n",
       "<p>5 rows × 51 columns</p>\n",
       "</div>"
      ],
      "text/plain": [
       "              Afghan Restaurant  African Restaurant  American Restaurant  \\\n",
       "Neighborhood                                                               \n",
       "Allston                0.020833                 0.0             0.020833   \n",
       "Back Bay               0.000000                 0.0             0.152778   \n",
       "Bay Village            0.000000                 0.0             0.085714   \n",
       "Beacon Hill            0.000000                 0.0             0.200000   \n",
       "Brighton               0.000000                 0.0             0.017544   \n",
       "\n",
       "              Asian Restaurant  BBQ Joint  Bagel Shop    Bakery  \\\n",
       "Neighborhood                                                      \n",
       "Allston               0.333333        0.0    0.000000  0.062500   \n",
       "Back Bay              0.138889        0.0    0.013889  0.027778   \n",
       "Bay Village           0.114286        0.0    0.000000  0.057143   \n",
       "Beacon Hill           0.080000        0.0    0.040000  0.040000   \n",
       "Brighton              0.263158        0.0    0.000000  0.052632   \n",
       "\n",
       "              Belgian Restaurant  Bistro  Breakfast Spot  ...  Restaurant  \\\n",
       "Neighborhood                                              ...               \n",
       "Allston                      0.0    0.00        0.000000  ...    0.020833   \n",
       "Back Bay                     0.0    0.00        0.000000  ...    0.041667   \n",
       "Bay Village                  0.0    0.00        0.057143  ...    0.000000   \n",
       "Beacon Hill                  0.0    0.04        0.040000  ...    0.040000   \n",
       "Brighton                     0.0    0.00        0.017544  ...    0.017544   \n",
       "\n",
       "              Salad Place  Sandwich Place  Seafood Restaurant  Snack Place  \\\n",
       "Neighborhood                                                                 \n",
       "Allston          0.000000        0.020833            0.020833     0.020833   \n",
       "Back Bay         0.027778        0.027778            0.097222     0.000000   \n",
       "Bay Village      0.028571        0.085714            0.114286     0.000000   \n",
       "Beacon Hill      0.000000        0.000000            0.000000     0.000000   \n",
       "Brighton         0.000000        0.035088            0.000000     0.000000   \n",
       "\n",
       "              Southern / Soul Food Restaurant  Spanish Restaurant  Steakhouse  \\\n",
       "Neighborhood                                                                    \n",
       "Allston                              0.000000                 0.0    0.000000   \n",
       "Back Bay                             0.013889                 0.0    0.027778   \n",
       "Bay Village                          0.000000                 0.0    0.085714   \n",
       "Beacon Hill                          0.000000                 0.0    0.040000   \n",
       "Brighton                             0.000000                 0.0    0.000000   \n",
       "\n",
       "              Vegetarian / Vegan Restaurant  Wings Joint  \n",
       "Neighborhood                                              \n",
       "Allston                            0.020833     0.000000  \n",
       "Back Bay                           0.000000     0.000000  \n",
       "Bay Village                        0.028571     0.000000  \n",
       "Beacon Hill                        0.000000     0.000000  \n",
       "Brighton                           0.017544     0.017544  \n",
       "\n",
       "[5 rows x 51 columns]"
      ]
     },
     "execution_count": 206,
     "metadata": {},
     "output_type": "execute_result"
    }
   ],
   "source": [
    "neighborhoods_grouped = category_dummies.groupby('Neighborhood').mean()\n",
    "neighborhoods_grouped.head()"
   ]
  },
  {
   "cell_type": "markdown",
   "id": "premium-addiction",
   "metadata": {},
   "source": [
    "<br>\n",
    "\n",
    "With the neighborhood category groupings added to a dataframe, I can iterate through the rows and take the highest mean category group values to see which categories groups are the most frequent in each neighborhood."
   ]
  },
  {
   "cell_type": "code",
   "execution_count": 207,
   "id": "coral-browser",
   "metadata": {},
   "outputs": [
    {
     "name": "stdout",
     "output_type": "stream",
     "text": [
      "Allston\n",
      "\t1. Asian Restaurant (0.3333)\n",
      "\t2. Bakery (0.0625)\n",
      "\t3. Mexican Restaurant (0.0625)\n",
      "\t4. Diner (0.0417)\n",
      "\t5. Café (0.0417)\n",
      "\n",
      "Back Bay\n",
      "\t1. American Restaurant (0.1528)\n",
      "\t2. Asian Restaurant (0.1389)\n",
      "\t3. Seafood Restaurant (0.0972)\n",
      "\t4. Mexican Restaurant (0.0833)\n",
      "\t5. Italian Restaurant (0.0694)\n",
      "\n",
      "Bay Village\n",
      "\t1. Italian Restaurant (0.1429)\n",
      "\t2. Asian Restaurant (0.1143)\n",
      "\t3. Seafood Restaurant (0.1143)\n",
      "\t4. Pizza Place (0.1143)\n",
      "\t5. Steakhouse (0.0857)\n",
      "\n",
      "Beacon Hill\n",
      "\t1. American Restaurant (0.2)\n",
      "\t2. Italian Restaurant (0.16)\n",
      "\t3. Pizza Place (0.16)\n",
      "\t4. Asian Restaurant (0.08)\n",
      "\t5. French Restaurant (0.08)\n",
      "\n",
      "Brighton\n",
      "\t1. Asian Restaurant (0.2632)\n",
      "\t2. Pizza Place (0.1754)\n",
      "\t3. Café (0.0877)\n",
      "\t4. Bakery (0.0526)\n",
      "\t5. Greek Restaurant (0.0526)\n",
      "\n",
      "Charlestown\n",
      "\t1. Café (0.2368)\n",
      "\t2. Pizza Place (0.1316)\n",
      "\t3. Sandwich Place (0.0789)\n",
      "\t4. Donut Shop (0.0789)\n",
      "\t5. Gastropub (0.0789)\n",
      "\n",
      "Chinatown\n",
      "\t1. Asian Restaurant (0.5897)\n",
      "\t2. Bakery (0.1795)\n",
      "\t3. Pizza Place (0.0513)\n",
      "\t4. Restaurant (0.0256)\n",
      "\t5. Mexican Restaurant (0.0256)\n",
      "\n",
      "Dorchester\n",
      "\t1. Pizza Place (0.1765)\n",
      "\t2. Fast Food Restaurant (0.0588)\n",
      "\t3. Vegetarian / Vegan Restaurant (0.0588)\n",
      "\t4. Café (0.0588)\n",
      "\t5. Diner (0.0588)\n",
      "\n",
      "Downtown\n",
      "\t1. American Restaurant (0.1622)\n",
      "\t2. Asian Restaurant (0.1081)\n",
      "\t3. Sandwich Place (0.0811)\n",
      "\t4. Restaurant (0.0811)\n",
      "\t5. Italian Restaurant (0.0541)\n",
      "\n",
      "East Boston\n",
      "\t1. Mexican Restaurant (0.2105)\n",
      "\t2. Latin American Restaurant (0.1316)\n",
      "\t3. Sandwich Place (0.0789)\n",
      "\t4. Italian Restaurant (0.0789)\n",
      "\t5. Pizza Place (0.0789)\n",
      "\n",
      "Fenway\n",
      "\t1. Asian Restaurant (0.2892)\n",
      "\t2. Café (0.0843)\n",
      "\t3. American Restaurant (0.0723)\n",
      "\t4. Mexican Restaurant (0.0602)\n",
      "\t5. Restaurant (0.0482)\n",
      "\n",
      "Hyde Park\n",
      "\t1. American Restaurant (0.2353)\n",
      "\t2. Pizza Place (0.2353)\n",
      "\t3. Asian Restaurant (0.1765)\n",
      "\t4. Fast Food Restaurant (0.0588)\n",
      "\t5. Italian Restaurant (0.0588)\n",
      "\n",
      "Jamaica Plain\n",
      "\t1. Asian Restaurant (0.1786)\n",
      "\t2. Bakery (0.1429)\n",
      "\t3. American Restaurant (0.1429)\n",
      "\t4. Mexican Restaurant (0.1071)\n",
      "\t5. Pizza Place (0.0714)\n",
      "\n",
      "Leather District\n",
      "\t1. Asian Restaurant (0.1667)\n",
      "\t2. Sandwich Place (0.1667)\n",
      "\t3. Café (0.1111)\n",
      "\t4. Mediterranean Restaurant (0.0556)\n",
      "\t5. Deli / Bodega (0.0556)\n",
      "\n",
      "Longwood\n",
      "\t1. Asian Restaurant (0.1892)\n",
      "\t2. Café (0.1081)\n",
      "\t3. Falafel Restaurant (0.0811)\n",
      "\t4. Donut Shop (0.0811)\n",
      "\t5. Sandwich Place (0.0811)\n",
      "\n",
      "Mattapan\n",
      "\t1. Pizza Place (0.1875)\n",
      "\t2. Donut Shop (0.125)\n",
      "\t3. Fast Food Restaurant (0.125)\n",
      "\t4. Bakery (0.0625)\n",
      "\t5. Indian Restaurant (0.0625)\n",
      "\n",
      "Mission Hill\n",
      "\t1. Pizza Place (0.1795)\n",
      "\t2. Café (0.1795)\n",
      "\t3. Donut Shop (0.1026)\n",
      "\t4. American Restaurant (0.0769)\n",
      "\t5. Asian Restaurant (0.0769)\n",
      "\n",
      "North End\n",
      "\t1. Italian Restaurant (0.4375)\n",
      "\t2. Seafood Restaurant (0.125)\n",
      "\t3. Bakery (0.0938)\n",
      "\t4. Pizza Place (0.0938)\n",
      "\t5. Café (0.0312)\n",
      "\n",
      "Roslindale\n",
      "\t1. Pizza Place (0.1613)\n",
      "\t2. American Restaurant (0.129)\n",
      "\t3. Bakery (0.129)\n",
      "\t4. Asian Restaurant (0.0968)\n",
      "\t5. Greek Restaurant (0.0645)\n",
      "\n",
      "Roxbury\n",
      "\t1. Pizza Place (0.2174)\n",
      "\t2. Caribbean Restaurant (0.1304)\n",
      "\t3. Café (0.087)\n",
      "\t4. Donut Shop (0.087)\n",
      "\t5. African Restaurant (0.0435)\n",
      "\n",
      "South Boston\n",
      "\t1. Pizza Place (0.3333)\n",
      "\t2. Asian Restaurant (0.1026)\n",
      "\t3. Donut Shop (0.0769)\n",
      "\t4. Sandwich Place (0.0769)\n",
      "\t5. Italian Restaurant (0.0513)\n",
      "\n",
      "South Boston Waterfront\n",
      "\t1. Seafood Restaurant (0.1395)\n",
      "\t2. American Restaurant (0.1163)\n",
      "\t3. Italian Restaurant (0.093)\n",
      "\t4. Steakhouse (0.0698)\n",
      "\t5. Asian Restaurant (0.0698)\n",
      "\n",
      "South End\n",
      "\t1. Asian Restaurant (0.1333)\n",
      "\t2. Café (0.0833)\n",
      "\t3. American Restaurant (0.0833)\n",
      "\t4. Italian Restaurant (0.0667)\n",
      "\t5. French Restaurant (0.0667)\n",
      "\n",
      "West End\n",
      "\t1. Mexican Restaurant (0.2857)\n",
      "\t2. Deli / Bodega (0.1429)\n",
      "\t3. Restaurant (0.1429)\n",
      "\t4. Burger Joint (0.1429)\n",
      "\t5. Italian Restaurant (0.1429)\n",
      "\n",
      "West Roxbury\n",
      "\t1. Pizza Place (0.2424)\n",
      "\t2. Asian Restaurant (0.1818)\n",
      "\t3. American Restaurant (0.0909)\n",
      "\t4. Donut Shop (0.0606)\n",
      "\t5. Bagel Shop (0.0606)\n",
      "\n"
     ]
    }
   ],
   "source": [
    "for row in neighborhoods_grouped.iterrows():\n",
    "    print(row[0])\n",
    "    for i,cat in enumerate(row[1].sort_values(ascending=False).head().iteritems(),1):\n",
    "        print('\\t{}. {} ({})'.format(i,cat[0],round(cat[1],4)))\n",
    "    print()\n"
   ]
  },
  {
   "cell_type": "code",
   "execution_count": 208,
   "id": "hollow-sapphire",
   "metadata": {},
   "outputs": [
    {
     "data": {
      "text/html": [
       "<div>\n",
       "<style scoped>\n",
       "    .dataframe tbody tr th:only-of-type {\n",
       "        vertical-align: middle;\n",
       "    }\n",
       "\n",
       "    .dataframe tbody tr th {\n",
       "        vertical-align: top;\n",
       "    }\n",
       "\n",
       "    .dataframe thead th {\n",
       "        text-align: right;\n",
       "    }\n",
       "</style>\n",
       "<table border=\"1\" class=\"dataframe\">\n",
       "  <thead>\n",
       "    <tr style=\"text-align: right;\">\n",
       "      <th></th>\n",
       "      <th>1st Most Frequent</th>\n",
       "      <th>2nd Most Frequent</th>\n",
       "      <th>3rd Most Frequent</th>\n",
       "      <th>4th Most Frequent</th>\n",
       "      <th>5th Most Frequent</th>\n",
       "    </tr>\n",
       "  </thead>\n",
       "  <tbody>\n",
       "    <tr>\n",
       "      <th>Allston</th>\n",
       "      <td>Asian Restaurant</td>\n",
       "      <td>Bakery</td>\n",
       "      <td>Mexican Restaurant</td>\n",
       "      <td>Diner</td>\n",
       "      <td>Café</td>\n",
       "    </tr>\n",
       "    <tr>\n",
       "      <th>Back Bay</th>\n",
       "      <td>American Restaurant</td>\n",
       "      <td>Asian Restaurant</td>\n",
       "      <td>Seafood Restaurant</td>\n",
       "      <td>Mexican Restaurant</td>\n",
       "      <td>Italian Restaurant</td>\n",
       "    </tr>\n",
       "    <tr>\n",
       "      <th>Bay Village</th>\n",
       "      <td>Italian Restaurant</td>\n",
       "      <td>Asian Restaurant</td>\n",
       "      <td>Seafood Restaurant</td>\n",
       "      <td>Pizza Place</td>\n",
       "      <td>Steakhouse</td>\n",
       "    </tr>\n",
       "    <tr>\n",
       "      <th>Beacon Hill</th>\n",
       "      <td>American Restaurant</td>\n",
       "      <td>Italian Restaurant</td>\n",
       "      <td>Pizza Place</td>\n",
       "      <td>Asian Restaurant</td>\n",
       "      <td>French Restaurant</td>\n",
       "    </tr>\n",
       "    <tr>\n",
       "      <th>Brighton</th>\n",
       "      <td>Asian Restaurant</td>\n",
       "      <td>Pizza Place</td>\n",
       "      <td>Café</td>\n",
       "      <td>Bakery</td>\n",
       "      <td>Greek Restaurant</td>\n",
       "    </tr>\n",
       "  </tbody>\n",
       "</table>\n",
       "</div>"
      ],
      "text/plain": [
       "               1st Most Frequent   2nd Most Frequent   3rd Most Frequent  \\\n",
       "Allston         Asian Restaurant              Bakery  Mexican Restaurant   \n",
       "Back Bay     American Restaurant    Asian Restaurant  Seafood Restaurant   \n",
       "Bay Village   Italian Restaurant    Asian Restaurant  Seafood Restaurant   \n",
       "Beacon Hill  American Restaurant  Italian Restaurant         Pizza Place   \n",
       "Brighton        Asian Restaurant         Pizza Place                Café   \n",
       "\n",
       "              4th Most Frequent   5th Most Frequent  \n",
       "Allston                   Diner                Café  \n",
       "Back Bay     Mexican Restaurant  Italian Restaurant  \n",
       "Bay Village         Pizza Place          Steakhouse  \n",
       "Beacon Hill    Asian Restaurant   French Restaurant  \n",
       "Brighton                 Bakery    Greek Restaurant  "
      ]
     },
     "execution_count": 208,
     "metadata": {},
     "output_type": "execute_result"
    }
   ],
   "source": [
    "frequent_categories_dict = {}\n",
    "for row in neighborhoods_grouped.iterrows():\n",
    "    name = row[0]\n",
    "    categories = [cat for cat in row[1].sort_values(ascending=False).head().index]\n",
    "    frequent_categories_dict[name] = categories\n",
    "    \n",
    "neighborhood_categories = pd.DataFrame.from_dict(frequent_categories_dict,orient='index')\n",
    "neighborhood_categories.columns = [\n",
    "    '1st Most Frequent',\n",
    "    '2nd Most Frequent',\n",
    "    '3rd Most Frequent',\n",
    "    '4th Most Frequent',\n",
    "    '5th Most Frequent',\n",
    "]\n",
    "\n",
    "neighborhood_categories.head()"
   ]
  },
  {
   "cell_type": "markdown",
   "id": "explicit-example",
   "metadata": {},
   "source": [
    "**Answer:** It's clear that there are some similarities between neighborhoods based on the categories of the food venues located there.\n",
    "\n",
    "_**Example**: The Fenway and South End neighborhoods each have `Asian restaurant`, `Café`, and `American Restaurant` as their first, second, and third most common venues respectively._"
   ]
  },
  {
   "cell_type": "code",
   "execution_count": 209,
   "id": "medical-airplane",
   "metadata": {},
   "outputs": [
    {
     "data": {
      "text/html": [
       "<div>\n",
       "<style scoped>\n",
       "    .dataframe tbody tr th:only-of-type {\n",
       "        vertical-align: middle;\n",
       "    }\n",
       "\n",
       "    .dataframe tbody tr th {\n",
       "        vertical-align: top;\n",
       "    }\n",
       "\n",
       "    .dataframe thead th {\n",
       "        text-align: right;\n",
       "    }\n",
       "</style>\n",
       "<table border=\"1\" class=\"dataframe\">\n",
       "  <thead>\n",
       "    <tr style=\"text-align: right;\">\n",
       "      <th></th>\n",
       "      <th>1st Most Frequent</th>\n",
       "      <th>2nd Most Frequent</th>\n",
       "      <th>3rd Most Frequent</th>\n",
       "      <th>4th Most Frequent</th>\n",
       "      <th>5th Most Frequent</th>\n",
       "    </tr>\n",
       "  </thead>\n",
       "  <tbody>\n",
       "    <tr>\n",
       "      <th>Fenway</th>\n",
       "      <td>Asian Restaurant</td>\n",
       "      <td>Café</td>\n",
       "      <td>American Restaurant</td>\n",
       "      <td>Mexican Restaurant</td>\n",
       "      <td>Restaurant</td>\n",
       "    </tr>\n",
       "    <tr>\n",
       "      <th>South End</th>\n",
       "      <td>Asian Restaurant</td>\n",
       "      <td>Café</td>\n",
       "      <td>American Restaurant</td>\n",
       "      <td>Italian Restaurant</td>\n",
       "      <td>French Restaurant</td>\n",
       "    </tr>\n",
       "  </tbody>\n",
       "</table>\n",
       "</div>"
      ],
      "text/plain": [
       "          1st Most Frequent 2nd Most Frequent    3rd Most Frequent  \\\n",
       "Fenway     Asian Restaurant              Café  American Restaurant   \n",
       "South End  Asian Restaurant              Café  American Restaurant   \n",
       "\n",
       "            4th Most Frequent  5th Most Frequent  \n",
       "Fenway     Mexican Restaurant         Restaurant  \n",
       "South End  Italian Restaurant  French Restaurant  "
      ]
     },
     "execution_count": 209,
     "metadata": {},
     "output_type": "execute_result"
    }
   ],
   "source": [
    "neighborhood_categories.loc[['Fenway','South End']]"
   ]
  },
  {
   "cell_type": "markdown",
   "id": "plain-crowd",
   "metadata": {},
   "source": [
    "## Cluster data\n",
    "\n",
    "My original question for this data was which Boston neighborhoods are the most similar or dissimilar with regard to their food venues.\n",
    "\n",
    "Based on the analysis above, I will use the following variables in my feature set for clustering:\n",
    "1. Mean rating\n",
    "2. Mean price (tier)\n",
    "3. Percentage of venues with multiple locations\n",
    "4. Most common restaurant types\n",
    "\n",
    "<br>\n",
    "\n",
    "I begin by calculating mean rating, price tier, and multiple-location percentages for each neighborhood."
   ]
  },
  {
   "cell_type": "code",
   "execution_count": 249,
   "id": "dominant-buddy",
   "metadata": {},
   "outputs": [
    {
     "data": {
      "text/html": [
       "<div>\n",
       "<style scoped>\n",
       "    .dataframe tbody tr th:only-of-type {\n",
       "        vertical-align: middle;\n",
       "    }\n",
       "\n",
       "    .dataframe tbody tr th {\n",
       "        vertical-align: top;\n",
       "    }\n",
       "\n",
       "    .dataframe thead th {\n",
       "        text-align: right;\n",
       "    }\n",
       "</style>\n",
       "<table border=\"1\" class=\"dataframe\">\n",
       "  <thead>\n",
       "    <tr style=\"text-align: right;\">\n",
       "      <th></th>\n",
       "      <th>Multiple Locations</th>\n",
       "      <th>Venue Rating</th>\n",
       "      <th>Venue Price Tier</th>\n",
       "    </tr>\n",
       "    <tr>\n",
       "      <th>Neighborhood</th>\n",
       "      <th></th>\n",
       "      <th></th>\n",
       "      <th></th>\n",
       "    </tr>\n",
       "  </thead>\n",
       "  <tbody>\n",
       "    <tr>\n",
       "      <th>Allston</th>\n",
       "      <td>0.020833</td>\n",
       "      <td>8.163830</td>\n",
       "      <td>1.586957</td>\n",
       "    </tr>\n",
       "    <tr>\n",
       "      <th>Back Bay</th>\n",
       "      <td>0.166667</td>\n",
       "      <td>8.165278</td>\n",
       "      <td>2.142857</td>\n",
       "    </tr>\n",
       "    <tr>\n",
       "      <th>Bay Village</th>\n",
       "      <td>0.257143</td>\n",
       "      <td>8.145714</td>\n",
       "      <td>2.257143</td>\n",
       "    </tr>\n",
       "    <tr>\n",
       "      <th>Beacon Hill</th>\n",
       "      <td>0.120000</td>\n",
       "      <td>7.760000</td>\n",
       "      <td>2.120000</td>\n",
       "    </tr>\n",
       "    <tr>\n",
       "      <th>Brighton</th>\n",
       "      <td>0.175439</td>\n",
       "      <td>7.186486</td>\n",
       "      <td>1.375000</td>\n",
       "    </tr>\n",
       "  </tbody>\n",
       "</table>\n",
       "</div>"
      ],
      "text/plain": [
       "              Multiple Locations  Venue Rating  Venue Price Tier\n",
       "Neighborhood                                                    \n",
       "Allston                 0.020833      8.163830          1.586957\n",
       "Back Bay                0.166667      8.165278          2.142857\n",
       "Bay Village             0.257143      8.145714          2.257143\n",
       "Beacon Hill             0.120000      7.760000          2.120000\n",
       "Brighton                0.175439      7.186486          1.375000"
      ]
     },
     "execution_count": 249,
     "metadata": {},
     "output_type": "execute_result"
    }
   ],
   "source": [
    "features = food_venues.groupby('Neighborhood')[['Multiple Locations','Venue Rating','Venue Price Tier']].mean()\n",
    "features.head()"
   ]
  },
  {
   "cell_type": "markdown",
   "id": "fourth-honor",
   "metadata": {},
   "source": [
    "<br>\n",
    "\n",
    "Then, I add the percentages each category grouping makes up in the nieghborhood."
   ]
  },
  {
   "cell_type": "code",
   "execution_count": 250,
   "id": "center-diabetes",
   "metadata": {},
   "outputs": [
    {
     "data": {
      "text/html": [
       "<div>\n",
       "<style scoped>\n",
       "    .dataframe tbody tr th:only-of-type {\n",
       "        vertical-align: middle;\n",
       "    }\n",
       "\n",
       "    .dataframe tbody tr th {\n",
       "        vertical-align: top;\n",
       "    }\n",
       "\n",
       "    .dataframe thead th {\n",
       "        text-align: right;\n",
       "    }\n",
       "</style>\n",
       "<table border=\"1\" class=\"dataframe\">\n",
       "  <thead>\n",
       "    <tr style=\"text-align: right;\">\n",
       "      <th></th>\n",
       "      <th>Afghan Restaurant</th>\n",
       "      <th>African Restaurant</th>\n",
       "      <th>American Restaurant</th>\n",
       "      <th>Asian Restaurant</th>\n",
       "      <th>BBQ Joint</th>\n",
       "      <th>Bagel Shop</th>\n",
       "      <th>Bakery</th>\n",
       "      <th>Belgian Restaurant</th>\n",
       "      <th>Bistro</th>\n",
       "      <th>Breakfast Spot</th>\n",
       "      <th>...</th>\n",
       "      <th>Seafood Restaurant</th>\n",
       "      <th>Snack Place</th>\n",
       "      <th>Southern / Soul Food Restaurant</th>\n",
       "      <th>Spanish Restaurant</th>\n",
       "      <th>Steakhouse</th>\n",
       "      <th>Vegetarian / Vegan Restaurant</th>\n",
       "      <th>Wings Joint</th>\n",
       "      <th>Multiple Locations</th>\n",
       "      <th>Venue Rating</th>\n",
       "      <th>Venue Price Tier</th>\n",
       "    </tr>\n",
       "    <tr>\n",
       "      <th>Neighborhood</th>\n",
       "      <th></th>\n",
       "      <th></th>\n",
       "      <th></th>\n",
       "      <th></th>\n",
       "      <th></th>\n",
       "      <th></th>\n",
       "      <th></th>\n",
       "      <th></th>\n",
       "      <th></th>\n",
       "      <th></th>\n",
       "      <th></th>\n",
       "      <th></th>\n",
       "      <th></th>\n",
       "      <th></th>\n",
       "      <th></th>\n",
       "      <th></th>\n",
       "      <th></th>\n",
       "      <th></th>\n",
       "      <th></th>\n",
       "      <th></th>\n",
       "      <th></th>\n",
       "    </tr>\n",
       "  </thead>\n",
       "  <tbody>\n",
       "    <tr>\n",
       "      <th>Allston</th>\n",
       "      <td>0.020833</td>\n",
       "      <td>0.0</td>\n",
       "      <td>0.020833</td>\n",
       "      <td>0.333333</td>\n",
       "      <td>0.0</td>\n",
       "      <td>0.000000</td>\n",
       "      <td>0.062500</td>\n",
       "      <td>0.0</td>\n",
       "      <td>0.00</td>\n",
       "      <td>0.000000</td>\n",
       "      <td>...</td>\n",
       "      <td>0.020833</td>\n",
       "      <td>0.020833</td>\n",
       "      <td>0.000000</td>\n",
       "      <td>0.0</td>\n",
       "      <td>0.000000</td>\n",
       "      <td>0.020833</td>\n",
       "      <td>0.000000</td>\n",
       "      <td>0.020833</td>\n",
       "      <td>8.163830</td>\n",
       "      <td>1.586957</td>\n",
       "    </tr>\n",
       "    <tr>\n",
       "      <th>Back Bay</th>\n",
       "      <td>0.000000</td>\n",
       "      <td>0.0</td>\n",
       "      <td>0.152778</td>\n",
       "      <td>0.138889</td>\n",
       "      <td>0.0</td>\n",
       "      <td>0.013889</td>\n",
       "      <td>0.027778</td>\n",
       "      <td>0.0</td>\n",
       "      <td>0.00</td>\n",
       "      <td>0.000000</td>\n",
       "      <td>...</td>\n",
       "      <td>0.097222</td>\n",
       "      <td>0.000000</td>\n",
       "      <td>0.013889</td>\n",
       "      <td>0.0</td>\n",
       "      <td>0.027778</td>\n",
       "      <td>0.000000</td>\n",
       "      <td>0.000000</td>\n",
       "      <td>0.166667</td>\n",
       "      <td>8.165278</td>\n",
       "      <td>2.142857</td>\n",
       "    </tr>\n",
       "    <tr>\n",
       "      <th>Bay Village</th>\n",
       "      <td>0.000000</td>\n",
       "      <td>0.0</td>\n",
       "      <td>0.085714</td>\n",
       "      <td>0.114286</td>\n",
       "      <td>0.0</td>\n",
       "      <td>0.000000</td>\n",
       "      <td>0.057143</td>\n",
       "      <td>0.0</td>\n",
       "      <td>0.00</td>\n",
       "      <td>0.057143</td>\n",
       "      <td>...</td>\n",
       "      <td>0.114286</td>\n",
       "      <td>0.000000</td>\n",
       "      <td>0.000000</td>\n",
       "      <td>0.0</td>\n",
       "      <td>0.085714</td>\n",
       "      <td>0.028571</td>\n",
       "      <td>0.000000</td>\n",
       "      <td>0.257143</td>\n",
       "      <td>8.145714</td>\n",
       "      <td>2.257143</td>\n",
       "    </tr>\n",
       "    <tr>\n",
       "      <th>Beacon Hill</th>\n",
       "      <td>0.000000</td>\n",
       "      <td>0.0</td>\n",
       "      <td>0.200000</td>\n",
       "      <td>0.080000</td>\n",
       "      <td>0.0</td>\n",
       "      <td>0.040000</td>\n",
       "      <td>0.040000</td>\n",
       "      <td>0.0</td>\n",
       "      <td>0.04</td>\n",
       "      <td>0.040000</td>\n",
       "      <td>...</td>\n",
       "      <td>0.000000</td>\n",
       "      <td>0.000000</td>\n",
       "      <td>0.000000</td>\n",
       "      <td>0.0</td>\n",
       "      <td>0.040000</td>\n",
       "      <td>0.000000</td>\n",
       "      <td>0.000000</td>\n",
       "      <td>0.120000</td>\n",
       "      <td>7.760000</td>\n",
       "      <td>2.120000</td>\n",
       "    </tr>\n",
       "    <tr>\n",
       "      <th>Brighton</th>\n",
       "      <td>0.000000</td>\n",
       "      <td>0.0</td>\n",
       "      <td>0.017544</td>\n",
       "      <td>0.263158</td>\n",
       "      <td>0.0</td>\n",
       "      <td>0.000000</td>\n",
       "      <td>0.052632</td>\n",
       "      <td>0.0</td>\n",
       "      <td>0.00</td>\n",
       "      <td>0.017544</td>\n",
       "      <td>...</td>\n",
       "      <td>0.000000</td>\n",
       "      <td>0.000000</td>\n",
       "      <td>0.000000</td>\n",
       "      <td>0.0</td>\n",
       "      <td>0.000000</td>\n",
       "      <td>0.017544</td>\n",
       "      <td>0.017544</td>\n",
       "      <td>0.175439</td>\n",
       "      <td>7.186486</td>\n",
       "      <td>1.375000</td>\n",
       "    </tr>\n",
       "  </tbody>\n",
       "</table>\n",
       "<p>5 rows × 54 columns</p>\n",
       "</div>"
      ],
      "text/plain": [
       "              Afghan Restaurant  African Restaurant  American Restaurant  \\\n",
       "Neighborhood                                                               \n",
       "Allston                0.020833                 0.0             0.020833   \n",
       "Back Bay               0.000000                 0.0             0.152778   \n",
       "Bay Village            0.000000                 0.0             0.085714   \n",
       "Beacon Hill            0.000000                 0.0             0.200000   \n",
       "Brighton               0.000000                 0.0             0.017544   \n",
       "\n",
       "              Asian Restaurant  BBQ Joint  Bagel Shop    Bakery  \\\n",
       "Neighborhood                                                      \n",
       "Allston               0.333333        0.0    0.000000  0.062500   \n",
       "Back Bay              0.138889        0.0    0.013889  0.027778   \n",
       "Bay Village           0.114286        0.0    0.000000  0.057143   \n",
       "Beacon Hill           0.080000        0.0    0.040000  0.040000   \n",
       "Brighton              0.263158        0.0    0.000000  0.052632   \n",
       "\n",
       "              Belgian Restaurant  Bistro  Breakfast Spot  ...  \\\n",
       "Neighborhood                                              ...   \n",
       "Allston                      0.0    0.00        0.000000  ...   \n",
       "Back Bay                     0.0    0.00        0.000000  ...   \n",
       "Bay Village                  0.0    0.00        0.057143  ...   \n",
       "Beacon Hill                  0.0    0.04        0.040000  ...   \n",
       "Brighton                     0.0    0.00        0.017544  ...   \n",
       "\n",
       "              Seafood Restaurant  Snack Place  \\\n",
       "Neighborhood                                    \n",
       "Allston                 0.020833     0.020833   \n",
       "Back Bay                0.097222     0.000000   \n",
       "Bay Village             0.114286     0.000000   \n",
       "Beacon Hill             0.000000     0.000000   \n",
       "Brighton                0.000000     0.000000   \n",
       "\n",
       "              Southern / Soul Food Restaurant  Spanish Restaurant  Steakhouse  \\\n",
       "Neighborhood                                                                    \n",
       "Allston                              0.000000                 0.0    0.000000   \n",
       "Back Bay                             0.013889                 0.0    0.027778   \n",
       "Bay Village                          0.000000                 0.0    0.085714   \n",
       "Beacon Hill                          0.000000                 0.0    0.040000   \n",
       "Brighton                             0.000000                 0.0    0.000000   \n",
       "\n",
       "              Vegetarian / Vegan Restaurant  Wings Joint  Multiple Locations  \\\n",
       "Neighborhood                                                                   \n",
       "Allston                            0.020833     0.000000            0.020833   \n",
       "Back Bay                           0.000000     0.000000            0.166667   \n",
       "Bay Village                        0.028571     0.000000            0.257143   \n",
       "Beacon Hill                        0.000000     0.000000            0.120000   \n",
       "Brighton                           0.017544     0.017544            0.175439   \n",
       "\n",
       "              Venue Rating  Venue Price Tier  \n",
       "Neighborhood                                  \n",
       "Allston           8.163830          1.586957  \n",
       "Back Bay          8.165278          2.142857  \n",
       "Bay Village       8.145714          2.257143  \n",
       "Beacon Hill       7.760000          2.120000  \n",
       "Brighton          7.186486          1.375000  \n",
       "\n",
       "[5 rows x 54 columns]"
      ]
     },
     "execution_count": 250,
     "metadata": {},
     "output_type": "execute_result"
    }
   ],
   "source": [
    "features = pd.concat([neighborhoods_grouped,features],axis=1)\n",
    "features.head()"
   ]
  },
  {
   "cell_type": "markdown",
   "id": "floral-penalty",
   "metadata": {},
   "source": [
    "<br>\n",
    "\n",
    "With my feature set collected and cleaned, I use the `StandardScalar()` method in sklearn's preprocessing library to turn my dataframe into a matrix for modeling."
   ]
  },
  {
   "cell_type": "code",
   "execution_count": 281,
   "id": "unnecessary-universal",
   "metadata": {},
   "outputs": [
    {
     "data": {
      "text/plain": [
       "array([-0.48507125,  4.89897949, -0.29212743, -0.86921015,  1.54799083,\n",
       "       -0.32347166, -0.43185367,  0.32619232, -0.20412415, -0.20412415,\n",
       "       -0.48780271, -0.48233064, -0.20412415, -0.25989597, -0.47465176,\n",
       "        4.04145188, -0.20412415, -0.72568135,  1.13447782, -0.46664612,\n",
       "        4.89897949, -0.20412415,  0.77104839, -0.67506198, -0.20412415,\n",
       "        2.41566479, -0.20412415, -0.42598911, -0.61045032,  2.45056246,\n",
       "        1.49112704, -0.66770287,  1.23814779,  0.56131112, -0.29398655,\n",
       "       -0.51372136, -0.31322922,  0.05353588,  0.15869899, -0.42412777,\n",
       "       -0.87668596, -0.20412415, -0.07029033, -0.50353386, -0.83032393,\n",
       "       -0.28573196,  1.96503549, -0.32726369, -0.40047243, -0.54886015,\n",
       "        0.5804547 , -0.28867513, -1.85332763,  1.11931927, -0.15002285])"
      ]
     },
     "execution_count": 281,
     "metadata": {},
     "output_type": "execute_result"
    }
   ],
   "source": [
    "X = features\n",
    "X = preprocessing.StandardScaler().fit(X).transform(X)\n",
    "X[0]"
   ]
  },
  {
   "cell_type": "markdown",
   "id": "brief-finder",
   "metadata": {},
   "source": [
    "<br>\n",
    "\n",
    "With the feature set built and scaled, I ran the `KMeans` algorithm from sklearn to cluster the nieghborhoods, and added the cluster labels to my features dataframe"
   ]
  },
  {
   "cell_type": "code",
   "execution_count": 280,
   "id": "outer-raising",
   "metadata": {},
   "outputs": [],
   "source": [
    "# set number of clusters\n",
    "kclusters = 5\n",
    "\n",
    "# run k-means clustering\n",
    "kmeans = KMeans(init='k-means++',n_clusters=kclusters, random_state=0,n_init=10).fit(X)"
   ]
  },
  {
   "cell_type": "code",
   "execution_count": 253,
   "id": "phantom-tournament",
   "metadata": {},
   "outputs": [],
   "source": [
    "features.insert(0,'Cluster',kmeans.labels_)"
   ]
  },
  {
   "cell_type": "markdown",
   "id": "above-jason",
   "metadata": {},
   "source": [
    "<br>\n",
    "\n",
    "*[Jump to top](#Table-of-Contents)*"
   ]
  },
  {
   "cell_type": "markdown",
   "id": "orange-complement",
   "metadata": {},
   "source": [
    "---\n",
    "# Results\n",
    "\n",
    "The KMeans algorithm grouped the neighborhoods into 5 clusters. "
   ]
  },
  {
   "cell_type": "code",
   "execution_count": 312,
   "id": "stock-religious",
   "metadata": {},
   "outputs": [
    {
     "name": "stdout",
     "output_type": "stream",
     "text": [
      "Cluster 0\n",
      "    1. Back Bay\n",
      "    2. Bay Village\n",
      "    3. Beacon Hill\n",
      "    4. Downtown\n",
      "    5. Leather District\n",
      "    6. North End\n",
      "    7. South Boston Waterfront\n",
      "------------------------------------------------------------\n",
      "Cluster 1\n",
      "    1. Allston\n",
      "    2. Brighton\n",
      "    3. Chinatown\n",
      "    4. East Boston\n",
      "    5. Fenway\n",
      "    6. Jamaica Plain\n",
      "    7. Roslindale\n",
      "    8. South End\n",
      "------------------------------------------------------------\n",
      "Cluster 2\n",
      "    1. Dorchester\n",
      "------------------------------------------------------------\n",
      "Cluster 3\n",
      "    1. West End\n",
      "------------------------------------------------------------\n",
      "Cluster 4\n",
      "    1. Charlestown\n",
      "    2. Hyde Park\n",
      "    3. Longwood\n",
      "    4. Mattapan\n",
      "    5. Mission Hill\n",
      "    6. Roxbury\n",
      "    7. South Boston\n",
      "    8. West Roxbury\n",
      "------------------------------------------------------------\n"
     ]
    }
   ],
   "source": [
    "# concat clusters by neighborhood\n",
    "neighborhood_clusters = features.reset_index().groupby('Cluster')['Neighborhood'].apply(lambda x: ', '.join(x))\n",
    "for cluster,neighborhoods in neighborhood_clusters.items():\n",
    "    print('Cluster',cluster)\n",
    "    for i,neighborhood in enumerate(neighborhoods.split(', '),1):\n",
    "        print(f\"    {i}. {neighborhood}\")\n",
    "    print('-'*60)"
   ]
  },
  {
   "cell_type": "markdown",
   "id": "relevant-boost",
   "metadata": {},
   "source": [
    "<br>\n",
    "\n",
    "One way to analyze the clusters is to look at the mean values for some of the features I choose."
   ]
  },
  {
   "cell_type": "code",
   "execution_count": 255,
   "id": "ambient-catalyst",
   "metadata": {},
   "outputs": [
    {
     "data": {
      "text/html": [
       "<div>\n",
       "<style scoped>\n",
       "    .dataframe tbody tr th:only-of-type {\n",
       "        vertical-align: middle;\n",
       "    }\n",
       "\n",
       "    .dataframe tbody tr th {\n",
       "        vertical-align: top;\n",
       "    }\n",
       "\n",
       "    .dataframe thead th {\n",
       "        text-align: right;\n",
       "    }\n",
       "</style>\n",
       "<table border=\"1\" class=\"dataframe\">\n",
       "  <thead>\n",
       "    <tr style=\"text-align: right;\">\n",
       "      <th></th>\n",
       "      <th>Multiple Locations</th>\n",
       "      <th>Venue Rating</th>\n",
       "      <th>Venue Price Tier</th>\n",
       "    </tr>\n",
       "    <tr>\n",
       "      <th>Cluster</th>\n",
       "      <th></th>\n",
       "      <th></th>\n",
       "      <th></th>\n",
       "    </tr>\n",
       "  </thead>\n",
       "  <tbody>\n",
       "    <tr>\n",
       "      <th>0</th>\n",
       "      <td>0.149462</td>\n",
       "      <td>8.114145</td>\n",
       "      <td>2.045614</td>\n",
       "    </tr>\n",
       "    <tr>\n",
       "      <th>1</th>\n",
       "      <td>0.097402</td>\n",
       "      <td>7.690060</td>\n",
       "      <td>1.578455</td>\n",
       "    </tr>\n",
       "    <tr>\n",
       "      <th>2</th>\n",
       "      <td>0.176471</td>\n",
       "      <td>6.520000</td>\n",
       "      <td>1.200000</td>\n",
       "    </tr>\n",
       "    <tr>\n",
       "      <th>3</th>\n",
       "      <td>0.285714</td>\n",
       "      <td>7.857143</td>\n",
       "      <td>1.428571</td>\n",
       "    </tr>\n",
       "    <tr>\n",
       "      <th>4</th>\n",
       "      <td>0.221616</td>\n",
       "      <td>6.898773</td>\n",
       "      <td>1.405405</td>\n",
       "    </tr>\n",
       "  </tbody>\n",
       "</table>\n",
       "</div>"
      ],
      "text/plain": [
       "         Multiple Locations  Venue Rating  Venue Price Tier\n",
       "Cluster                                                    \n",
       "0                  0.149462      8.114145          2.045614\n",
       "1                  0.097402      7.690060          1.578455\n",
       "2                  0.176471      6.520000          1.200000\n",
       "3                  0.285714      7.857143          1.428571\n",
       "4                  0.221616      6.898773          1.405405"
      ]
     },
     "execution_count": 255,
     "metadata": {},
     "output_type": "execute_result"
    }
   ],
   "source": [
    "features.groupby('Cluster')[['Multiple Locations','Venue Rating','Venue Price Tier']].mean()"
   ]
  },
  {
   "cell_type": "markdown",
   "id": "upset-petersburg",
   "metadata": {},
   "source": [
    "<br>\n",
    "\n",
    "These values are easier to understand when they're visualized through some basic plots. I colored the neighborhoods by cluster to see how the results are distributed."
   ]
  },
  {
   "cell_type": "code",
   "execution_count": 260,
   "id": "usual-webmaster",
   "metadata": {},
   "outputs": [
    {
     "data": {
      "image/png": "[encoded data removed]",
      "text/plain": [
       "<Figure size 432x288 with 1 Axes>"
      ]
     },
     "metadata": {},
     "output_type": "display_data"
    }
   ],
   "source": [
    "# plot mean venue price by neighborhood and cluster\n",
    "plot_features = features.reset_index().sort_values(by='Venue Price Tier',ascending=False)\n",
    "sns.barplot(data=plot_features, y='Neighborhood',x='Venue Price Tier',hue='Cluster')\n",
    "plt.title('Mean Venue Price Tier by Neighborhood')\n",
    "plt.show()"
   ]
  },
  {
   "cell_type": "code",
   "execution_count": 272,
   "id": "ruled-stupid",
   "metadata": {},
   "outputs": [
    {
     "data": {
      "image/png": "[encoded data removed]",
      "text/plain": [
       "<Figure size 432x288 with 1 Axes>"
      ]
     },
     "metadata": {},
     "output_type": "display_data"
    }
   ],
   "source": [
    "# plot mean venue rating by neighborhood and cluster\n",
    "plot_features = features.reset_index().sort_values(by='Venue Rating',ascending=False)\n",
    "sns.barplot(data=plot_features, y='Neighborhood',x='Venue Rating',hue='Cluster')\n",
    "plt.title('Mean Venue Rating by Neighborhood')\n",
    "plt.show()"
   ]
  },
  {
   "cell_type": "code",
   "execution_count": 313,
   "id": "modern-independence",
   "metadata": {},
   "outputs": [
    {
     "data": {
      "image/png": "[encoded data removed]",
      "text/plain": [
       "<Figure size 432x288 with 1 Axes>"
      ]
     },
     "metadata": {},
     "output_type": "display_data"
    }
   ],
   "source": [
    "# plot mean multiple locations value by neighborhood and cluster\n",
    "plot_features = features.reset_index().sort_values(by='Multiple Locations')\n",
    "sns.barplot(data=plot_features, y='Neighborhood',x='Multiple Locations',hue='Cluster')\n",
    "plt.title('Percentage of Venues with Multiple Locations by Neighborhood')\n",
    "plt.show()"
   ]
  },
  {
   "cell_type": "markdown",
   "id": "transparent-lotus",
   "metadata": {},
   "source": [
    "From the plots above, there are some clear differences between the clusters:\n",
    "\n",
    "* **Cluster 0**: high price, high rating, low to moderately-low number of chains\n",
    "* **Cluster 1**: medium-high price, medium-high ratings, low number of chains\n",
    "* **Cluster 2**: low price, low rating, moderate number of chains\n",
    "* **Cluster 3**: medium low price, medium rating, high number of chains\n",
    "* **Cluster 4**: medium low price, low rating, moderately-high to high number of chains"
   ]
  },
  {
   "cell_type": "markdown",
   "id": "characteristic-humanity",
   "metadata": {},
   "source": [
    "*[Jump to top](#Table-of-Contents)*"
   ]
  },
  {
   "cell_type": "markdown",
   "id": "automatic-lewis",
   "metadata": {},
   "source": [
    "---\n",
    "# Discussion\n",
    "\n",
    "**What went well**\n",
    "\n",
    "Overall, I'm pleased with this project and the results. I set out to cluster neighborhoods based on the food venues, and I believe I've shown that is possible.\n",
    "\n",
    "As a capstone for the entire IBM Data Science Professional Certificate, I can see a good deal of personal progress. I have a better understanding of how to visualize data in a meaningful way and how to look for correlation among variables. And I was able to complete the entire sequence from identifying and collecting the data to analyzing and clustering the data.\n",
    "\n",
    "**What I'd do differently next time**\n",
    "\n",
    "* Collect ALL venues, not just the first 100 in each neighborhood. The function I borrowed from the capstone course labs did not loop through the Foursquare results and resubmit the get request to exhaust the venues in each neighborhood. For the sake of time, I left it the way it was, meaning I would have a max of 2600 venues over 26 neighborhoods. But that number was decreased a great deal when I deduplicated the results based on overlap between nieghborhoods. If I were redoing this project, I would do more to make sure I had an exhaustive list of restaurants, though I think the list I did have was representative. \n",
    "\n",
    "* Use the category groupings values in each neighborhood to calculate homogeneity. When I looked at the most frequent category groups in each neighborhood by percentage, I noticed that the mean value for the first entry in some neighborhoods was much higher than others. For example, 0.58 or 58% of the restaurants in Chinatown had the category Asian Restaurants. In other neighborhoods, the top value had only a 0.15 value or 15% meaning that there was a much more varied set of category groupings. In the future, I would bin the mean value and create labels, something along the lines of `if [0] > 0.3 then 'Not very diverse', if [0] < 0.3 & > 0.2 then 'Somewhat diverse', if [0] < 0.2 then 'Very diverse'`.\n",
    "\n",
    "* Look at more Foursquare data like which neighborhoods have more trending venues or times that venues are open. These were other premium endpoints and I didn't have time to explore that data.\n",
    "\n",
    "* Look at more Boston data like population, race/ethnicity, spatial area. The scope of this project was more specific, but I would be interested to understand how the clusters based on food venues relate to other demographic data.\n",
    "\n",
    "* Make a map with the resulting clusters. Again for the sake of time, I did not redo the map of Boston with the neighborhoods to reflect the clusters using color. I would be interested to see if the neighborhood clusters correspond with distance from the downtown area (another variable I didn't explore specifically in my analysis)."
   ]
  },
  {
   "cell_type": "markdown",
   "id": "concrete-liverpool",
   "metadata": {},
   "source": [
    "*[Jump to top](#Table-of-Contents)*"
   ]
  },
  {
   "cell_type": "markdown",
   "id": "sublime-charles",
   "metadata": {},
   "source": [
    "---\n",
    "# Conclusion\n",
    "\n",
    "The results of this analysis show that there is clear distinction between neighborhoods in Boston and that there are similarities and dissimilarities between neighborhoods.\n",
    "\n",
    "Thanks for reading!"
   ]
  }
 ],
 "metadata": {
  "kernelspec": {
   "display_name": "Python 3",
   "language": "python",
   "name": "python3"
  },
  "language_info": {
   "codemirror_mode": {
    "name": "ipython",
    "version": 3
   },
   "file_extension": ".py",
   "mimetype": "text/x-python",
   "name": "python",
   "nbconvert_exporter": "python",
   "pygments_lexer": "ipython3",
   "version": "3.6.10"
  }
 },
 "nbformat": 4,
 "nbformat_minor": 5
}
