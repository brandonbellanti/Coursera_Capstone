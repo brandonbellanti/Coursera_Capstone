{
 "cells": [
  {
   "cell_type": "markdown",
   "id": "revised-collect",
   "metadata": {},
   "source": [
    "![picture of Boston skyline from the Charles River](https://images.unsplash.com/photo-1560799260-b737af7dd0fc?ixid=MnwxMjA3fDB8MHxwaG90by1wYWdlfHx8fGVufDB8fHx8&ixlib=rb-1.2.1&auto=format&fit=crop&w=2462&q=80)\n",
    "_Photo by Prateek Pisat on [Unsplash](https://unsplash.com/photos/SFsKWydc7qY)_"
   ]
  },
  {
   "cell_type": "markdown",
   "id": "coastal-isolation",
   "metadata": {},
   "source": [
    "# Mapping Boston's Food Scene\n",
    "Prepared by Brandon Bellanti<br>\n",
    "Last updated May 1, 2021\n",
    "\n",
    "---"
   ]
  },
  {
   "cell_type": "markdown",
   "id": "proper-buyer",
   "metadata": {},
   "source": [
    "# Introduction/Business Problem\n",
    "\n",
    "In this project, I analyze and cluster food venues across Boston. I'll look at aspects like type of food, price, rating, and venue location.\n",
    "\n",
    "Some of the questions I'm interested in answering are:\n",
    "\n",
    "* Which neighborhoods in Boston are the most similar in terms of food venues? Which neighborhoods are most different?\n",
    "* Do higher prices correlate with higher ratings?\n",
    "* Does average food venue price correspond with income, either per-capita or by household?\n",
    "* Are restaurants of a given food type distrubuted evenly across the city, or are they clustered together? If they're clustered, is there a correlation between the type of food and the demographics of that neighborhood?\n",
    "\n",
    "\n",
    "The audience for this analysis is anyone interested in exploring Boston's food scene. One practical way it could be used is by someone who wants to open a restaurant in Boston: they would be able to see where similar restaurants – their competition – already exist or perhaps do not exist."
   ]
  },
  {
   "cell_type": "markdown",
   "id": "functional-grill",
   "metadata": {},
   "source": [
    "---\n",
    "# Data\n",
    "\n",
    "My data will come from two main sources, Boston's open data hub – [Analyze Boston](https://data.boston.gov/) – and the Foursquare API.\n",
    "\n",
    "I'll use datasets available on Analyze Boston for [neighborhood](http://bostonopendata-boston.opendata.arcgis.com/datasets/3525b0ee6e6b427f9aab5d0a1d0a1a28_0.csv) and [demographic data](https://data.boston.gov/dataset/neighborhood-demographics/resource/d8c23c6a-b868-4ba4-8a3b-b9615a21be07?view_id=875bddaa-ffb9-4eaa-bdb5-1b77b414182b) like income and population.\n",
    "\n",
    "I'll use the Foursquare API for venue data. Once I have coordinate data for each Boston neighborhood (returned using the geopy library and the neighborhood data from Analyze Boston), I will call the `/venues` endpoint of the Foursquare API and search for nearby venues that have the categoryId `Food` (4d4b7105d754a06374d81259).\n",
    "\n",
    "Searching by categoryId also includes all venues in child categories and their children, so I will group the venues by common parent categories to have fewer values overall. Since the results of the standard `/venues` endpoint does not contain parent category information, I'll build a separate reference dataframe with the hierarchy on the Foursquare API [Venue Categories](https://developer.foursquare.com/docs/build-with-foursquare/categories/) page. \n",
    "\n",
    "For each venue, I am interested in more specific details such as price and rating. These details are accessed through a Premium endpoint - `/venues/VENUE_ID` – and I am limited to 500 Premium calls per day, so I will store the returned data to CSV files. This way, I can build a small cache of data over a couple of days and collect all the data I need.\n",
    "\n",
    "I will use the K-Nearest-Neighbor algorithm to cluster the venues."
   ]
  },
  {
   "cell_type": "markdown",
   "id": "worst-rogers",
   "metadata": {},
   "source": [
    "---\n",
    "# Methodology\n",
    "\n",
    "The method I used is fairly straightforward and can be grouped into three stages:\n",
    "1. Collect the data\n",
    "2. Explore the data\n",
    "3. Cluster the data\n",
    "\n",
    "Each stage is described in detail below, along with the code I used."
   ]
  },
  {
   "cell_type": "markdown",
   "id": "adult-spread",
   "metadata": {},
   "source": [
    "Before I begin with collection, analysis, and clustering, I import the Python libraries that I'll be using and load my credentials for accessing the Foursquare API."
   ]
  },
  {
   "cell_type": "code",
   "execution_count": 1,
   "id": "suspended-antibody",
   "metadata": {},
   "outputs": [],
   "source": [
    "# import libraries\n",
    "import pandas as pd, numpy as np\n",
    "import matplotlib as mpl\n",
    "import matplotlib.pyplot as plt\n",
    "%matplotlib inline\n",
    "mpl.style.use('ggplot')\n",
    "# sns.set_theme(style=\"whitegrid\")\n",
    "import seaborn as sns\n",
    "import json\n",
    "import requests\n",
    "import folium # map rendering library\n",
    "\n",
    "from sklearn import preprocessing\n",
    "from sklearn.cluster import KMeans"
   ]
  },
  {
   "cell_type": "code",
   "execution_count": 2,
   "id": "related-customs",
   "metadata": {},
   "outputs": [],
   "source": [
    "# API credentials for the Foursquare API\n",
    "\n",
    "CLIENT_ID = 'PHPYTVIC22RACPESMK2BTWWGZQLEP1H5X4OM5YD3UWPEQ1MN' # your Foursquare ID\n",
    "CLIENT_SECRET = 'CKKXK00Y4X4IEBXB0BXABSPIQWRTTXG0CLII4E1RRNVU4ZMN' # your Foursquare Secret\n",
    "VERSION = '20180605' # Foursquare API version\n",
    "LIMIT = 100 # A default Foursquare API limit value\n",
    "\n",
    "# print('Your credentails:')\n",
    "# print('CLIENT_ID: ' + CLIENT_ID)\n",
    "# print('CLIENT_SECRET: ' + CLIENT_SECRET)"
   ]
  },
  {
   "cell_type": "markdown",
   "id": "regulation-baptist",
   "metadata": {},
   "source": [
    "## Collect data"
   ]
  },
  {
   "cell_type": "markdown",
   "id": "million-jenny",
   "metadata": {},
   "source": [
    "### Coordinates for Boston neighborhoods"
   ]
  },
  {
   "cell_type": "markdown",
   "id": "figured-amateur",
   "metadata": {},
   "source": [
    "The City of Boston publishes quite a bit of data publicly through the **Analyze Boston** website ([data.boston.gov](https://data.boston.gov/)). I used the `read_csv()` method in Pandas to build a dataframe from their [Boston Neighborhoods](https://data.boston.gov/dataset/boston-neighborhoods1) dataset, dropping the columns I didn't need."
   ]
  },
  {
   "cell_type": "code",
   "execution_count": 37,
   "id": "binding-support",
   "metadata": {},
   "outputs": [
    {
     "data": {
      "text/html": [
       "<div>\n",
       "<style scoped>\n",
       "    .dataframe tbody tr th:only-of-type {\n",
       "        vertical-align: middle;\n",
       "    }\n",
       "\n",
       "    .dataframe tbody tr th {\n",
       "        vertical-align: top;\n",
       "    }\n",
       "\n",
       "    .dataframe thead th {\n",
       "        text-align: right;\n",
       "    }\n",
       "</style>\n",
       "<table border=\"1\" class=\"dataframe\">\n",
       "  <thead>\n",
       "    <tr style=\"text-align: right;\">\n",
       "      <th></th>\n",
       "      <th>OBJECTID</th>\n",
       "      <th>Name</th>\n",
       "      <th>Acres</th>\n",
       "      <th>Neighborhood_ID</th>\n",
       "      <th>SqMiles</th>\n",
       "    </tr>\n",
       "  </thead>\n",
       "  <tbody>\n",
       "    <tr>\n",
       "      <th>0</th>\n",
       "      <td>27</td>\n",
       "      <td>Roslindale</td>\n",
       "      <td>1605.568237</td>\n",
       "      <td>15</td>\n",
       "      <td>2.51</td>\n",
       "    </tr>\n",
       "    <tr>\n",
       "      <th>1</th>\n",
       "      <td>28</td>\n",
       "      <td>Jamaica Plain</td>\n",
       "      <td>2519.245394</td>\n",
       "      <td>11</td>\n",
       "      <td>3.94</td>\n",
       "    </tr>\n",
       "    <tr>\n",
       "      <th>2</th>\n",
       "      <td>29</td>\n",
       "      <td>Mission Hill</td>\n",
       "      <td>350.853564</td>\n",
       "      <td>13</td>\n",
       "      <td>0.55</td>\n",
       "    </tr>\n",
       "    <tr>\n",
       "      <th>3</th>\n",
       "      <td>30</td>\n",
       "      <td>Longwood</td>\n",
       "      <td>188.611947</td>\n",
       "      <td>28</td>\n",
       "      <td>0.29</td>\n",
       "    </tr>\n",
       "    <tr>\n",
       "      <th>4</th>\n",
       "      <td>31</td>\n",
       "      <td>Bay Village</td>\n",
       "      <td>26.539839</td>\n",
       "      <td>33</td>\n",
       "      <td>0.04</td>\n",
       "    </tr>\n",
       "  </tbody>\n",
       "</table>\n",
       "</div>"
      ],
      "text/plain": [
       "   OBJECTID           Name        Acres  Neighborhood_ID  SqMiles\n",
       "0        27     Roslindale  1605.568237               15     2.51\n",
       "1        28  Jamaica Plain  2519.245394               11     3.94\n",
       "2        29   Mission Hill   350.853564               13     0.55\n",
       "3        30       Longwood   188.611947               28     0.29\n",
       "4        31    Bay Village    26.539839               33     0.04"
      ]
     },
     "execution_count": 37,
     "metadata": {},
     "output_type": "execute_result"
    }
   ],
   "source": [
    "url = 'http://bostonopendata-boston.opendata.arcgis.com/datasets/3525b0ee6e6b427f9aab5d0a1d0a1a28_0.csv'\n",
    "neighborhoods_df = pd.read_csv(url)\n",
    "neighborhoods_df.drop(columns=['ShapeSTArea','ShapeSTLength'],inplace=True)\n",
    "neighborhoods_df.head()"
   ]
  },
  {
   "cell_type": "code",
   "execution_count": 4,
   "id": "blessed-citizenship",
   "metadata": {
    "collapsed": true,
    "jupyter": {
     "outputs_hidden": true,
     "source_hidden": true
    }
   },
   "outputs": [
    {
     "name": "stdout",
     "output_type": "stream",
     "text": [
      "1) Allston\n",
      "2) Back Bay\n",
      "3) Bay Village\n",
      "4) Beacon Hill\n",
      "5) Brighton\n",
      "6) Charlestown\n",
      "7) Chinatown\n",
      "8) Dorchester\n",
      "9) Downtown\n",
      "10) East Boston\n",
      "11) Fenway\n",
      "12) Harbor Islands\n",
      "13) Hyde Park\n",
      "14) Jamaica Plain\n",
      "15) Leather District\n",
      "16) Longwood\n",
      "17) Mattapan\n",
      "18) Mission Hill\n",
      "19) North End\n",
      "20) Roslindale\n",
      "21) Roxbury\n",
      "22) South Boston\n",
      "23) South Boston Waterfront\n",
      "24) South End\n",
      "25) West End\n",
      "26) West Roxbury\n"
     ]
    }
   ],
   "source": [
    "# print numbered list of Boston neighborhoods\n",
    "neighborhoods = neighborhoods_df['Name'].unique()\n",
    "for i,neighborhood in enumerate(sorted(neighborhoods),1):\n",
    "    print(f\"{i})\",neighborhood)"
   ]
  },
  {
   "cell_type": "markdown",
   "id": "worst-olive",
   "metadata": {},
   "source": [
    "<br>\n",
    "I need coordinate data (latitude and longitude) to get an accurate result set of nearby restaurants when I call the Foursquare API, so I created empty columns in my dataframe, used a function in the geopy library to fetch the coordinates for each neighborhood, and add the coordinates to the new columns."
   ]
  },
  {
   "cell_type": "code",
   "execution_count": 38,
   "id": "tropical-accessory",
   "metadata": {},
   "outputs": [],
   "source": [
    "# create empty series for latitude and longitude\n",
    "neighborhoods_df[['Lat','Long']] = np.nan"
   ]
  },
  {
   "cell_type": "code",
   "execution_count": 94,
   "id": "duplicate-channels",
   "metadata": {},
   "outputs": [
    {
     "name": "stdout",
     "output_type": "stream",
     "text": [
      "The coordinates of Boston, Massachusetts are 42.3602534, -71.0582912\n"
     ]
    }
   ],
   "source": [
    "# fetch the coordinates for Boston\n",
    "from geopy.geocoders import Nominatim # convert an address into latitude and longitude values\n",
    "\n",
    "address = 'Boston, Massachusetts'\n",
    "geolocator = Nominatim(user_agent=\"boston_explorer\")\n",
    "location = geolocator.geocode(address)\n",
    "\n",
    "boston_lat, boston_long = location.latitude, location.longitude\n",
    "\n",
    "print('The coordinates of {} are {}, {}'.format(address,boston_lat,boston_long))"
   ]
  },
  {
   "cell_type": "code",
   "execution_count": 40,
   "id": "russian-greensboro",
   "metadata": {},
   "outputs": [
    {
     "data": {
      "text/html": [
       "<div>\n",
       "<style scoped>\n",
       "    .dataframe tbody tr th:only-of-type {\n",
       "        vertical-align: middle;\n",
       "    }\n",
       "\n",
       "    .dataframe tbody tr th {\n",
       "        vertical-align: top;\n",
       "    }\n",
       "\n",
       "    .dataframe thead th {\n",
       "        text-align: right;\n",
       "    }\n",
       "</style>\n",
       "<table border=\"1\" class=\"dataframe\">\n",
       "  <thead>\n",
       "    <tr style=\"text-align: right;\">\n",
       "      <th></th>\n",
       "      <th>Name</th>\n",
       "      <th>OBJECTID</th>\n",
       "      <th>Acres</th>\n",
       "      <th>Neighborhood_ID</th>\n",
       "      <th>SqMiles</th>\n",
       "      <th>Lat</th>\n",
       "      <th>Long</th>\n",
       "    </tr>\n",
       "  </thead>\n",
       "  <tbody>\n",
       "    <tr>\n",
       "      <th>0</th>\n",
       "      <td>Roslindale</td>\n",
       "      <td>27</td>\n",
       "      <td>1605.568237</td>\n",
       "      <td>15</td>\n",
       "      <td>2.51</td>\n",
       "      <td>42.291209</td>\n",
       "      <td>-71.124497</td>\n",
       "    </tr>\n",
       "    <tr>\n",
       "      <th>1</th>\n",
       "      <td>Jamaica Plain</td>\n",
       "      <td>28</td>\n",
       "      <td>2519.245394</td>\n",
       "      <td>11</td>\n",
       "      <td>3.94</td>\n",
       "      <td>42.309820</td>\n",
       "      <td>-71.120330</td>\n",
       "    </tr>\n",
       "    <tr>\n",
       "      <th>2</th>\n",
       "      <td>Mission Hill</td>\n",
       "      <td>29</td>\n",
       "      <td>350.853564</td>\n",
       "      <td>13</td>\n",
       "      <td>0.55</td>\n",
       "      <td>42.332560</td>\n",
       "      <td>-71.103608</td>\n",
       "    </tr>\n",
       "    <tr>\n",
       "      <th>3</th>\n",
       "      <td>Longwood</td>\n",
       "      <td>30</td>\n",
       "      <td>188.611947</td>\n",
       "      <td>28</td>\n",
       "      <td>0.29</td>\n",
       "      <td>42.341533</td>\n",
       "      <td>-71.110155</td>\n",
       "    </tr>\n",
       "    <tr>\n",
       "      <th>4</th>\n",
       "      <td>Bay Village</td>\n",
       "      <td>31</td>\n",
       "      <td>26.539839</td>\n",
       "      <td>33</td>\n",
       "      <td>0.04</td>\n",
       "      <td>42.350011</td>\n",
       "      <td>-71.066948</td>\n",
       "    </tr>\n",
       "  </tbody>\n",
       "</table>\n",
       "</div>"
      ],
      "text/plain": [
       "            Name  OBJECTID        Acres  Neighborhood_ID  SqMiles        Lat  \\\n",
       "0     Roslindale        27  1605.568237               15     2.51  42.291209   \n",
       "1  Jamaica Plain        28  2519.245394               11     3.94  42.309820   \n",
       "2   Mission Hill        29   350.853564               13     0.55  42.332560   \n",
       "3       Longwood        30   188.611947               28     0.29  42.341533   \n",
       "4    Bay Village        31    26.539839               33     0.04  42.350011   \n",
       "\n",
       "        Long  \n",
       "0 -71.124497  \n",
       "1 -71.120330  \n",
       "2 -71.103608  \n",
       "3 -71.110155  \n",
       "4 -71.066948  "
      ]
     },
     "execution_count": 40,
     "metadata": {},
     "output_type": "execute_result"
    }
   ],
   "source": [
    "# fetch the coordinates for each neighborhood in Boston and add to the dataframe\n",
    "\n",
    "neighborhoods_df.set_index('Name',inplace=True)\n",
    "\n",
    "for neighborhood in neighborhoods_df.index:\n",
    "#     print(neighborhood)\n",
    "    address = f'{neighborhood}, Boston, Massachusetts'\n",
    "    geolocator = Nominatim(user_agent=\"boston_explorer\")\n",
    "    location = geolocator.geocode(address)\n",
    "    neighborhoods_df.loc[neighborhood,'Lat'] = location.latitude\n",
    "    neighborhoods_df.loc[neighborhood,'Long'] = location.longitude\n",
    "\n",
    "neighborhoods_df.reset_index(inplace=True)\n",
    "\n",
    "neighborhoods_df.head()"
   ]
  },
  {
   "cell_type": "markdown",
   "id": "appreciated-freeware",
   "metadata": {},
   "source": [
    "<br>\n",
    "With the coordinate data for each neighborhood, I can build a map of Boston with markers and details for each neighborhood."
   ]
  },
  {
   "cell_type": "code",
   "execution_count": 95,
   "id": "present-nigeria",
   "metadata": {},
   "outputs": [
    {
     "data": {
      "text/html": [
       "<div style=\"width:100%;\"><div style=\"position:relative;width:100%;height:0;padding-bottom:60%;\"><span style=\"color:#565656\">Make this Notebook Trusted to load map: File -> Trust Notebook</span><iframe src=\"about:blank\" style=\"position:absolute;width:100%;height:100%;left:0;top:0;border:none !important;\" data-html=%3C%21DOCTYPE%20html%3E%0A%3Chead%3E%20%20%20%20%0A%20%20%20%20%3Cmeta%20http-equiv%3D%22content-type%22%20content%3D%22text/html%3B%20charset%3DUTF-8%22%20/%3E%0A%20%20%20%20%3Cscript%3EL_PREFER_CANVAS%20%3D%20false%3B%20L_NO_TOUCH%20%3D%20false%3B%20L_DISABLE_3D%20%3D%20false%3B%3C/script%3E%0A%20%20%20%20%3Cscript%20src%3D%22https%3A//cdn.jsdelivr.net/npm/leaflet%401.2.0/dist/leaflet.js%22%3E%3C/script%3E%0A%20%20%20%20%3Cscript%20src%3D%22https%3A//ajax.googleapis.com/ajax/libs/jquery/1.11.1/jquery.min.js%22%3E%3C/script%3E%0A%20%20%20%20%3Cscript%20src%3D%22https%3A//maxcdn.bootstrapcdn.com/bootstrap/3.2.0/js/bootstrap.min.js%22%3E%3C/script%3E%0A%20%20%20%20%3Cscript%20src%3D%22https%3A//cdnjs.cloudflare.com/ajax/libs/Leaflet.awesome-markers/2.0.2/leaflet.awesome-markers.js%22%3E%3C/script%3E%0A%20%20%20%20%3Clink%20rel%3D%22stylesheet%22%20href%3D%22https%3A//cdn.jsdelivr.net/npm/leaflet%401.2.0/dist/leaflet.css%22/%3E%0A%20%20%20%20%3Clink%20rel%3D%22stylesheet%22%20href%3D%22https%3A//maxcdn.bootstrapcdn.com/bootstrap/3.2.0/css/bootstrap.min.css%22/%3E%0A%20%20%20%20%3Clink%20rel%3D%22stylesheet%22%20href%3D%22https%3A//maxcdn.bootstrapcdn.com/bootstrap/3.2.0/css/bootstrap-theme.min.css%22/%3E%0A%20%20%20%20%3Clink%20rel%3D%22stylesheet%22%20href%3D%22https%3A//maxcdn.bootstrapcdn.com/font-awesome/4.6.3/css/font-awesome.min.css%22/%3E%0A%20%20%20%20%3Clink%20rel%3D%22stylesheet%22%20href%3D%22https%3A//cdnjs.cloudflare.com/ajax/libs/Leaflet.awesome-markers/2.0.2/leaflet.awesome-markers.css%22/%3E%0A%20%20%20%20%3Clink%20rel%3D%22stylesheet%22%20href%3D%22https%3A//rawgit.com/python-visualization/folium/master/folium/templates/leaflet.awesome.rotate.css%22/%3E%0A%20%20%20%20%3Cstyle%3Ehtml%2C%20body%20%7Bwidth%3A%20100%25%3Bheight%3A%20100%25%3Bmargin%3A%200%3Bpadding%3A%200%3B%7D%3C/style%3E%0A%20%20%20%20%3Cstyle%3E%23map%20%7Bposition%3Aabsolute%3Btop%3A0%3Bbottom%3A0%3Bright%3A0%3Bleft%3A0%3B%7D%3C/style%3E%0A%20%20%20%20%0A%20%20%20%20%20%20%20%20%20%20%20%20%3Cstyle%3E%20%23map_1f6df6a60b354d03925f446b605c16f4%20%7B%0A%20%20%20%20%20%20%20%20%20%20%20%20%20%20%20%20position%20%3A%20relative%3B%0A%20%20%20%20%20%20%20%20%20%20%20%20%20%20%20%20width%20%3A%20100.0%25%3B%0A%20%20%20%20%20%20%20%20%20%20%20%20%20%20%20%20height%3A%20100.0%25%3B%0A%20%20%20%20%20%20%20%20%20%20%20%20%20%20%20%20left%3A%200.0%25%3B%0A%20%20%20%20%20%20%20%20%20%20%20%20%20%20%20%20top%3A%200.0%25%3B%0A%20%20%20%20%20%20%20%20%20%20%20%20%20%20%20%20%7D%0A%20%20%20%20%20%20%20%20%20%20%20%20%3C/style%3E%0A%20%20%20%20%20%20%20%20%0A%3C/head%3E%0A%3Cbody%3E%20%20%20%20%0A%20%20%20%20%0A%20%20%20%20%20%20%20%20%20%20%20%20%3Cdiv%20class%3D%22folium-map%22%20id%3D%22map_1f6df6a60b354d03925f446b605c16f4%22%20%3E%3C/div%3E%0A%20%20%20%20%20%20%20%20%0A%3C/body%3E%0A%3Cscript%3E%20%20%20%20%0A%20%20%20%20%0A%0A%20%20%20%20%20%20%20%20%20%20%20%20%0A%20%20%20%20%20%20%20%20%20%20%20%20%20%20%20%20var%20bounds%20%3D%20null%3B%0A%20%20%20%20%20%20%20%20%20%20%20%20%0A%0A%20%20%20%20%20%20%20%20%20%20%20%20var%20map_1f6df6a60b354d03925f446b605c16f4%20%3D%20L.map%28%0A%20%20%20%20%20%20%20%20%20%20%20%20%20%20%20%20%20%20%20%20%20%20%20%20%20%20%20%20%20%20%20%20%20%20%27map_1f6df6a60b354d03925f446b605c16f4%27%2C%0A%20%20%20%20%20%20%20%20%20%20%20%20%20%20%20%20%20%20%20%20%20%20%20%20%20%20%20%20%20%20%20%20%20%20%7Bcenter%3A%20%5B42.324843%2C-71.095016%5D%2C%0A%20%20%20%20%20%20%20%20%20%20%20%20%20%20%20%20%20%20%20%20%20%20%20%20%20%20%20%20%20%20%20%20%20%20zoom%3A%2012%2C%0A%20%20%20%20%20%20%20%20%20%20%20%20%20%20%20%20%20%20%20%20%20%20%20%20%20%20%20%20%20%20%20%20%20%20maxBounds%3A%20bounds%2C%0A%20%20%20%20%20%20%20%20%20%20%20%20%20%20%20%20%20%20%20%20%20%20%20%20%20%20%20%20%20%20%20%20%20%20layers%3A%20%5B%5D%2C%0A%20%20%20%20%20%20%20%20%20%20%20%20%20%20%20%20%20%20%20%20%20%20%20%20%20%20%20%20%20%20%20%20%20%20worldCopyJump%3A%20false%2C%0A%20%20%20%20%20%20%20%20%20%20%20%20%20%20%20%20%20%20%20%20%20%20%20%20%20%20%20%20%20%20%20%20%20%20crs%3A%20L.CRS.EPSG3857%0A%20%20%20%20%20%20%20%20%20%20%20%20%20%20%20%20%20%20%20%20%20%20%20%20%20%20%20%20%20%20%20%20%20%7D%29%3B%0A%20%20%20%20%20%20%20%20%20%20%20%20%0A%20%20%20%20%20%20%20%20%0A%20%20%20%20%0A%20%20%20%20%20%20%20%20%20%20%20%20var%20tile_layer_005fe46a9b634c10bf65ecac960ad6a2%20%3D%20L.tileLayer%28%0A%20%20%20%20%20%20%20%20%20%20%20%20%20%20%20%20%27https%3A//%7Bs%7D.tile.openstreetmap.org/%7Bz%7D/%7Bx%7D/%7By%7D.png%27%2C%0A%20%20%20%20%20%20%20%20%20%20%20%20%20%20%20%20%7B%0A%20%20%22attribution%22%3A%20null%2C%0A%20%20%22detectRetina%22%3A%20false%2C%0A%20%20%22maxZoom%22%3A%2018%2C%0A%20%20%22minZoom%22%3A%201%2C%0A%20%20%22noWrap%22%3A%20false%2C%0A%20%20%22subdomains%22%3A%20%22abc%22%0A%7D%0A%20%20%20%20%20%20%20%20%20%20%20%20%20%20%20%20%29.addTo%28map_1f6df6a60b354d03925f446b605c16f4%29%3B%0A%20%20%20%20%20%20%20%20%0A%20%20%20%20%0A%20%20%20%20%20%20%20%20%20%20%20%20var%20circle_marker_bd9363f84dcc4d1890ed0b04f512ab8b%20%3D%20L.circleMarker%28%0A%20%20%20%20%20%20%20%20%20%20%20%20%20%20%20%20%5B42.2912093%2C-71.1244966%5D%2C%0A%20%20%20%20%20%20%20%20%20%20%20%20%20%20%20%20%7B%0A%20%20%22bubblingMouseEvents%22%3A%20true%2C%0A%20%20%22color%22%3A%20%22%23236CA7%22%2C%0A%20%20%22dashArray%22%3A%20null%2C%0A%20%20%22dashOffset%22%3A%20null%2C%0A%20%20%22fill%22%3A%20true%2C%0A%20%20%22fillColor%22%3A%20%22%23236CA7%22%2C%0A%20%20%22fillOpacity%22%3A%200.7%2C%0A%20%20%22fillRule%22%3A%20%22evenodd%22%2C%0A%20%20%22lineCap%22%3A%20%22round%22%2C%0A%20%20%22lineJoin%22%3A%20%22round%22%2C%0A%20%20%22opacity%22%3A%201.0%2C%0A%20%20%22radius%22%3A%205%2C%0A%20%20%22stroke%22%3A%20true%2C%0A%20%20%22weight%22%3A%203%0A%7D%0A%20%20%20%20%20%20%20%20%20%20%20%20%20%20%20%20%29.addTo%28map_1f6df6a60b354d03925f446b605c16f4%29%3B%0A%20%20%20%20%20%20%20%20%20%20%20%20%0A%20%20%20%20%0A%20%20%20%20%20%20%20%20%20%20%20%20var%20popup_c2df1e8767ff48168ee3f5e0fffe7d6a%20%3D%20L.popup%28%7BmaxWidth%3A%20%27300%27%7D%29%3B%0A%0A%20%20%20%20%20%20%20%20%20%20%20%20%0A%20%20%20%20%20%20%20%20%20%20%20%20%20%20%20%20var%20html_127bd5d552a34c6da239ead471f9d3ec%20%3D%20%24%28%27%3Cdiv%20id%3D%22html_127bd5d552a34c6da239ead471f9d3ec%22%20style%3D%22width%3A%20100.0%25%3B%20height%3A%20100.0%25%3B%22%3ERoslindale%3C/div%3E%27%29%5B0%5D%3B%0A%20%20%20%20%20%20%20%20%20%20%20%20%20%20%20%20popup_c2df1e8767ff48168ee3f5e0fffe7d6a.setContent%28html_127bd5d552a34c6da239ead471f9d3ec%29%3B%0A%20%20%20%20%20%20%20%20%20%20%20%20%0A%0A%20%20%20%20%20%20%20%20%20%20%20%20circle_marker_bd9363f84dcc4d1890ed0b04f512ab8b.bindPopup%28popup_c2df1e8767ff48168ee3f5e0fffe7d6a%29%3B%0A%0A%20%20%20%20%20%20%20%20%20%20%20%20%0A%20%20%20%20%20%20%20%20%0A%20%20%20%20%0A%20%20%20%20%20%20%20%20%20%20%20%20var%20circle_marker_2671f92f76fe4412a8a5b69ec5797017%20%3D%20L.circleMarker%28%0A%20%20%20%20%20%20%20%20%20%20%20%20%20%20%20%20%5B42.3098201%2C-71.1203299%5D%2C%0A%20%20%20%20%20%20%20%20%20%20%20%20%20%20%20%20%7B%0A%20%20%22bubblingMouseEvents%22%3A%20true%2C%0A%20%20%22color%22%3A%20%22%23236CA7%22%2C%0A%20%20%22dashArray%22%3A%20null%2C%0A%20%20%22dashOffset%22%3A%20null%2C%0A%20%20%22fill%22%3A%20true%2C%0A%20%20%22fillColor%22%3A%20%22%23236CA7%22%2C%0A%20%20%22fillOpacity%22%3A%200.7%2C%0A%20%20%22fillRule%22%3A%20%22evenodd%22%2C%0A%20%20%22lineCap%22%3A%20%22round%22%2C%0A%20%20%22lineJoin%22%3A%20%22round%22%2C%0A%20%20%22opacity%22%3A%201.0%2C%0A%20%20%22radius%22%3A%205%2C%0A%20%20%22stroke%22%3A%20true%2C%0A%20%20%22weight%22%3A%203%0A%7D%0A%20%20%20%20%20%20%20%20%20%20%20%20%20%20%20%20%29.addTo%28map_1f6df6a60b354d03925f446b605c16f4%29%3B%0A%20%20%20%20%20%20%20%20%20%20%20%20%0A%20%20%20%20%0A%20%20%20%20%20%20%20%20%20%20%20%20var%20popup_4298046a2b6a4ff39f861f292e921828%20%3D%20L.popup%28%7BmaxWidth%3A%20%27300%27%7D%29%3B%0A%0A%20%20%20%20%20%20%20%20%20%20%20%20%0A%20%20%20%20%20%20%20%20%20%20%20%20%20%20%20%20var%20html_2da756548afc423893d7d9c0bf72e845%20%3D%20%24%28%27%3Cdiv%20id%3D%22html_2da756548afc423893d7d9c0bf72e845%22%20style%3D%22width%3A%20100.0%25%3B%20height%3A%20100.0%25%3B%22%3EJamaica%20Plain%3C/div%3E%27%29%5B0%5D%3B%0A%20%20%20%20%20%20%20%20%20%20%20%20%20%20%20%20popup_4298046a2b6a4ff39f861f292e921828.setContent%28html_2da756548afc423893d7d9c0bf72e845%29%3B%0A%20%20%20%20%20%20%20%20%20%20%20%20%0A%0A%20%20%20%20%20%20%20%20%20%20%20%20circle_marker_2671f92f76fe4412a8a5b69ec5797017.bindPopup%28popup_4298046a2b6a4ff39f861f292e921828%29%3B%0A%0A%20%20%20%20%20%20%20%20%20%20%20%20%0A%20%20%20%20%20%20%20%20%0A%20%20%20%20%0A%20%20%20%20%20%20%20%20%20%20%20%20var%20circle_marker_2291f20152a443748cecabffe8514d84%20%3D%20L.circleMarker%28%0A%20%20%20%20%20%20%20%20%20%20%20%20%20%20%20%20%5B42.33255965%2C-71.10360773640765%5D%2C%0A%20%20%20%20%20%20%20%20%20%20%20%20%20%20%20%20%7B%0A%20%20%22bubblingMouseEvents%22%3A%20true%2C%0A%20%20%22color%22%3A%20%22%23236CA7%22%2C%0A%20%20%22dashArray%22%3A%20null%2C%0A%20%20%22dashOffset%22%3A%20null%2C%0A%20%20%22fill%22%3A%20true%2C%0A%20%20%22fillColor%22%3A%20%22%23236CA7%22%2C%0A%20%20%22fillOpacity%22%3A%200.7%2C%0A%20%20%22fillRule%22%3A%20%22evenodd%22%2C%0A%20%20%22lineCap%22%3A%20%22round%22%2C%0A%20%20%22lineJoin%22%3A%20%22round%22%2C%0A%20%20%22opacity%22%3A%201.0%2C%0A%20%20%22radius%22%3A%205%2C%0A%20%20%22stroke%22%3A%20true%2C%0A%20%20%22weight%22%3A%203%0A%7D%0A%20%20%20%20%20%20%20%20%20%20%20%20%20%20%20%20%29.addTo%28map_1f6df6a60b354d03925f446b605c16f4%29%3B%0A%20%20%20%20%20%20%20%20%20%20%20%20%0A%20%20%20%20%0A%20%20%20%20%20%20%20%20%20%20%20%20var%20popup_c5edf426d46147749791b93da5d658a5%20%3D%20L.popup%28%7BmaxWidth%3A%20%27300%27%7D%29%3B%0A%0A%20%20%20%20%20%20%20%20%20%20%20%20%0A%20%20%20%20%20%20%20%20%20%20%20%20%20%20%20%20var%20html_83809c69f2d84c44b4990712575ddb2d%20%3D%20%24%28%27%3Cdiv%20id%3D%22html_83809c69f2d84c44b4990712575ddb2d%22%20style%3D%22width%3A%20100.0%25%3B%20height%3A%20100.0%25%3B%22%3EMission%20Hill%3C/div%3E%27%29%5B0%5D%3B%0A%20%20%20%20%20%20%20%20%20%20%20%20%20%20%20%20popup_c5edf426d46147749791b93da5d658a5.setContent%28html_83809c69f2d84c44b4990712575ddb2d%29%3B%0A%20%20%20%20%20%20%20%20%20%20%20%20%0A%0A%20%20%20%20%20%20%20%20%20%20%20%20circle_marker_2291f20152a443748cecabffe8514d84.bindPopup%28popup_c5edf426d46147749791b93da5d658a5%29%3B%0A%0A%20%20%20%20%20%20%20%20%20%20%20%20%0A%20%20%20%20%20%20%20%20%0A%20%20%20%20%0A%20%20%20%20%20%20%20%20%20%20%20%20var%20circle_marker_4e64a10a9ed74c5ba66db2e607cfd211%20%3D%20L.circleMarker%28%0A%20%20%20%20%20%20%20%20%20%20%20%20%20%20%20%20%5B42.3415333%2C-71.1101551%5D%2C%0A%20%20%20%20%20%20%20%20%20%20%20%20%20%20%20%20%7B%0A%20%20%22bubblingMouseEvents%22%3A%20true%2C%0A%20%20%22color%22%3A%20%22%23236CA7%22%2C%0A%20%20%22dashArray%22%3A%20null%2C%0A%20%20%22dashOffset%22%3A%20null%2C%0A%20%20%22fill%22%3A%20true%2C%0A%20%20%22fillColor%22%3A%20%22%23236CA7%22%2C%0A%20%20%22fillOpacity%22%3A%200.7%2C%0A%20%20%22fillRule%22%3A%20%22evenodd%22%2C%0A%20%20%22lineCap%22%3A%20%22round%22%2C%0A%20%20%22lineJoin%22%3A%20%22round%22%2C%0A%20%20%22opacity%22%3A%201.0%2C%0A%20%20%22radius%22%3A%205%2C%0A%20%20%22stroke%22%3A%20true%2C%0A%20%20%22weight%22%3A%203%0A%7D%0A%20%20%20%20%20%20%20%20%20%20%20%20%20%20%20%20%29.addTo%28map_1f6df6a60b354d03925f446b605c16f4%29%3B%0A%20%20%20%20%20%20%20%20%20%20%20%20%0A%20%20%20%20%0A%20%20%20%20%20%20%20%20%20%20%20%20var%20popup_e67a4191c0d0464d96338f6a141c44b0%20%3D%20L.popup%28%7BmaxWidth%3A%20%27300%27%7D%29%3B%0A%0A%20%20%20%20%20%20%20%20%20%20%20%20%0A%20%20%20%20%20%20%20%20%20%20%20%20%20%20%20%20var%20html_a252ce01043d45a798413fb7abf7d02d%20%3D%20%24%28%27%3Cdiv%20id%3D%22html_a252ce01043d45a798413fb7abf7d02d%22%20style%3D%22width%3A%20100.0%25%3B%20height%3A%20100.0%25%3B%22%3ELongwood%3C/div%3E%27%29%5B0%5D%3B%0A%20%20%20%20%20%20%20%20%20%20%20%20%20%20%20%20popup_e67a4191c0d0464d96338f6a141c44b0.setContent%28html_a252ce01043d45a798413fb7abf7d02d%29%3B%0A%20%20%20%20%20%20%20%20%20%20%20%20%0A%0A%20%20%20%20%20%20%20%20%20%20%20%20circle_marker_4e64a10a9ed74c5ba66db2e607cfd211.bindPopup%28popup_e67a4191c0d0464d96338f6a141c44b0%29%3B%0A%0A%20%20%20%20%20%20%20%20%20%20%20%20%0A%20%20%20%20%20%20%20%20%0A%20%20%20%20%0A%20%20%20%20%20%20%20%20%20%20%20%20var%20circle_marker_0c381281b4e24f908b6d45f2fde16396%20%3D%20L.circleMarker%28%0A%20%20%20%20%20%20%20%20%20%20%20%20%20%20%20%20%5B42.35001105%2C-71.0669477958571%5D%2C%0A%20%20%20%20%20%20%20%20%20%20%20%20%20%20%20%20%7B%0A%20%20%22bubblingMouseEvents%22%3A%20true%2C%0A%20%20%22color%22%3A%20%22%23236CA7%22%2C%0A%20%20%22dashArray%22%3A%20null%2C%0A%20%20%22dashOffset%22%3A%20null%2C%0A%20%20%22fill%22%3A%20true%2C%0A%20%20%22fillColor%22%3A%20%22%23236CA7%22%2C%0A%20%20%22fillOpacity%22%3A%200.7%2C%0A%20%20%22fillRule%22%3A%20%22evenodd%22%2C%0A%20%20%22lineCap%22%3A%20%22round%22%2C%0A%20%20%22lineJoin%22%3A%20%22round%22%2C%0A%20%20%22opacity%22%3A%201.0%2C%0A%20%20%22radius%22%3A%205%2C%0A%20%20%22stroke%22%3A%20true%2C%0A%20%20%22weight%22%3A%203%0A%7D%0A%20%20%20%20%20%20%20%20%20%20%20%20%20%20%20%20%29.addTo%28map_1f6df6a60b354d03925f446b605c16f4%29%3B%0A%20%20%20%20%20%20%20%20%20%20%20%20%0A%20%20%20%20%0A%20%20%20%20%20%20%20%20%20%20%20%20var%20popup_1cae61d8b68d459ea05f339acb12d71d%20%3D%20L.popup%28%7BmaxWidth%3A%20%27300%27%7D%29%3B%0A%0A%20%20%20%20%20%20%20%20%20%20%20%20%0A%20%20%20%20%20%20%20%20%20%20%20%20%20%20%20%20var%20html_8c615fd6bd6b4b7db3065226786089af%20%3D%20%24%28%27%3Cdiv%20id%3D%22html_8c615fd6bd6b4b7db3065226786089af%22%20style%3D%22width%3A%20100.0%25%3B%20height%3A%20100.0%25%3B%22%3EBay%20Village%3C/div%3E%27%29%5B0%5D%3B%0A%20%20%20%20%20%20%20%20%20%20%20%20%20%20%20%20popup_1cae61d8b68d459ea05f339acb12d71d.setContent%28html_8c615fd6bd6b4b7db3065226786089af%29%3B%0A%20%20%20%20%20%20%20%20%20%20%20%20%0A%0A%20%20%20%20%20%20%20%20%20%20%20%20circle_marker_0c381281b4e24f908b6d45f2fde16396.bindPopup%28popup_1cae61d8b68d459ea05f339acb12d71d%29%3B%0A%0A%20%20%20%20%20%20%20%20%20%20%20%20%0A%20%20%20%20%20%20%20%20%0A%20%20%20%20%0A%20%20%20%20%20%20%20%20%20%20%20%20var%20circle_marker_00794f88606849af8c742e6c73f547bf%20%3D%20L.circleMarker%28%0A%20%20%20%20%20%20%20%20%20%20%20%20%20%20%20%20%5B42.3523222%2C-71.05734307739965%5D%2C%0A%20%20%20%20%20%20%20%20%20%20%20%20%20%20%20%20%7B%0A%20%20%22bubblingMouseEvents%22%3A%20true%2C%0A%20%20%22color%22%3A%20%22%23236CA7%22%2C%0A%20%20%22dashArray%22%3A%20null%2C%0A%20%20%22dashOffset%22%3A%20null%2C%0A%20%20%22fill%22%3A%20true%2C%0A%20%20%22fillColor%22%3A%20%22%23236CA7%22%2C%0A%20%20%22fillOpacity%22%3A%200.7%2C%0A%20%20%22fillRule%22%3A%20%22evenodd%22%2C%0A%20%20%22lineCap%22%3A%20%22round%22%2C%0A%20%20%22lineJoin%22%3A%20%22round%22%2C%0A%20%20%22opacity%22%3A%201.0%2C%0A%20%20%22radius%22%3A%205%2C%0A%20%20%22stroke%22%3A%20true%2C%0A%20%20%22weight%22%3A%203%0A%7D%0A%20%20%20%20%20%20%20%20%20%20%20%20%20%20%20%20%29.addTo%28map_1f6df6a60b354d03925f446b605c16f4%29%3B%0A%20%20%20%20%20%20%20%20%20%20%20%20%0A%20%20%20%20%0A%20%20%20%20%20%20%20%20%20%20%20%20var%20popup_42129a422efb492eb70709b96a9cf85e%20%3D%20L.popup%28%7BmaxWidth%3A%20%27300%27%7D%29%3B%0A%0A%20%20%20%20%20%20%20%20%20%20%20%20%0A%20%20%20%20%20%20%20%20%20%20%20%20%20%20%20%20var%20html_a9023400083a408f81a71f509446d3aa%20%3D%20%24%28%27%3Cdiv%20id%3D%22html_a9023400083a408f81a71f509446d3aa%22%20style%3D%22width%3A%20100.0%25%3B%20height%3A%20100.0%25%3B%22%3ELeather%20District%3C/div%3E%27%29%5B0%5D%3B%0A%20%20%20%20%20%20%20%20%20%20%20%20%20%20%20%20popup_42129a422efb492eb70709b96a9cf85e.setContent%28html_a9023400083a408f81a71f509446d3aa%29%3B%0A%20%20%20%20%20%20%20%20%20%20%20%20%0A%0A%20%20%20%20%20%20%20%20%20%20%20%20circle_marker_00794f88606849af8c742e6c73f547bf.bindPopup%28popup_42129a422efb492eb70709b96a9cf85e%29%3B%0A%0A%20%20%20%20%20%20%20%20%20%20%20%20%0A%20%20%20%20%20%20%20%20%0A%20%20%20%20%0A%20%20%20%20%20%20%20%20%20%20%20%20var%20circle_marker_40128d2d71e54e129bf45cd32dd12eb9%20%3D%20L.circleMarker%28%0A%20%20%20%20%20%20%20%20%20%20%20%20%20%20%20%20%5B42.3513291%2C-71.0626228%5D%2C%0A%20%20%20%20%20%20%20%20%20%20%20%20%20%20%20%20%7B%0A%20%20%22bubblingMouseEvents%22%3A%20true%2C%0A%20%20%22color%22%3A%20%22%23236CA7%22%2C%0A%20%20%22dashArray%22%3A%20null%2C%0A%20%20%22dashOffset%22%3A%20null%2C%0A%20%20%22fill%22%3A%20true%2C%0A%20%20%22fillColor%22%3A%20%22%23236CA7%22%2C%0A%20%20%22fillOpacity%22%3A%200.7%2C%0A%20%20%22fillRule%22%3A%20%22evenodd%22%2C%0A%20%20%22lineCap%22%3A%20%22round%22%2C%0A%20%20%22lineJoin%22%3A%20%22round%22%2C%0A%20%20%22opacity%22%3A%201.0%2C%0A%20%20%22radius%22%3A%205%2C%0A%20%20%22stroke%22%3A%20true%2C%0A%20%20%22weight%22%3A%203%0A%7D%0A%20%20%20%20%20%20%20%20%20%20%20%20%20%20%20%20%29.addTo%28map_1f6df6a60b354d03925f446b605c16f4%29%3B%0A%20%20%20%20%20%20%20%20%20%20%20%20%0A%20%20%20%20%0A%20%20%20%20%20%20%20%20%20%20%20%20var%20popup_0e66643ca3ae4b4bafb7ea04bc4e855b%20%3D%20L.popup%28%7BmaxWidth%3A%20%27300%27%7D%29%3B%0A%0A%20%20%20%20%20%20%20%20%20%20%20%20%0A%20%20%20%20%20%20%20%20%20%20%20%20%20%20%20%20var%20html_797adb0130c74c4fb277d72637fdbdba%20%3D%20%24%28%27%3Cdiv%20id%3D%22html_797adb0130c74c4fb277d72637fdbdba%22%20style%3D%22width%3A%20100.0%25%3B%20height%3A%20100.0%25%3B%22%3EChinatown%3C/div%3E%27%29%5B0%5D%3B%0A%20%20%20%20%20%20%20%20%20%20%20%20%20%20%20%20popup_0e66643ca3ae4b4bafb7ea04bc4e855b.setContent%28html_797adb0130c74c4fb277d72637fdbdba%29%3B%0A%20%20%20%20%20%20%20%20%20%20%20%20%0A%0A%20%20%20%20%20%20%20%20%20%20%20%20circle_marker_40128d2d71e54e129bf45cd32dd12eb9.bindPopup%28popup_0e66643ca3ae4b4bafb7ea04bc4e855b%29%3B%0A%0A%20%20%20%20%20%20%20%20%20%20%20%20%0A%20%20%20%20%20%20%20%20%0A%20%20%20%20%0A%20%20%20%20%20%20%20%20%20%20%20%20var%20circle_marker_4e5579a2d7f44b51b662d499f9b88ab0%20%3D%20L.circleMarker%28%0A%20%20%20%20%20%20%20%20%20%20%20%20%20%20%20%20%5B42.3650974%2C-71.0544954%5D%2C%0A%20%20%20%20%20%20%20%20%20%20%20%20%20%20%20%20%7B%0A%20%20%22bubblingMouseEvents%22%3A%20true%2C%0A%20%20%22color%22%3A%20%22%23236CA7%22%2C%0A%20%20%22dashArray%22%3A%20null%2C%0A%20%20%22dashOffset%22%3A%20null%2C%0A%20%20%22fill%22%3A%20true%2C%0A%20%20%22fillColor%22%3A%20%22%23236CA7%22%2C%0A%20%20%22fillOpacity%22%3A%200.7%2C%0A%20%20%22fillRule%22%3A%20%22evenodd%22%2C%0A%20%20%22lineCap%22%3A%20%22round%22%2C%0A%20%20%22lineJoin%22%3A%20%22round%22%2C%0A%20%20%22opacity%22%3A%201.0%2C%0A%20%20%22radius%22%3A%205%2C%0A%20%20%22stroke%22%3A%20true%2C%0A%20%20%22weight%22%3A%203%0A%7D%0A%20%20%20%20%20%20%20%20%20%20%20%20%20%20%20%20%29.addTo%28map_1f6df6a60b354d03925f446b605c16f4%29%3B%0A%20%20%20%20%20%20%20%20%20%20%20%20%0A%20%20%20%20%0A%20%20%20%20%20%20%20%20%20%20%20%20var%20popup_461f71649e5746ab825f214018d276e9%20%3D%20L.popup%28%7BmaxWidth%3A%20%27300%27%7D%29%3B%0A%0A%20%20%20%20%20%20%20%20%20%20%20%20%0A%20%20%20%20%20%20%20%20%20%20%20%20%20%20%20%20var%20html_c33f298b864747c7a21da68b775cd039%20%3D%20%24%28%27%3Cdiv%20id%3D%22html_c33f298b864747c7a21da68b775cd039%22%20style%3D%22width%3A%20100.0%25%3B%20height%3A%20100.0%25%3B%22%3ENorth%20End%3C/div%3E%27%29%5B0%5D%3B%0A%20%20%20%20%20%20%20%20%20%20%20%20%20%20%20%20popup_461f71649e5746ab825f214018d276e9.setContent%28html_c33f298b864747c7a21da68b775cd039%29%3B%0A%20%20%20%20%20%20%20%20%20%20%20%20%0A%0A%20%20%20%20%20%20%20%20%20%20%20%20circle_marker_4e5579a2d7f44b51b662d499f9b88ab0.bindPopup%28popup_461f71649e5746ab825f214018d276e9%29%3B%0A%0A%20%20%20%20%20%20%20%20%20%20%20%20%0A%20%20%20%20%20%20%20%20%0A%20%20%20%20%0A%20%20%20%20%20%20%20%20%20%20%20%20var%20circle_marker_d343e29f33014baa97c22400b9fb7861%20%3D%20L.circleMarker%28%0A%20%20%20%20%20%20%20%20%20%20%20%20%20%20%20%20%5B42.3248426%2C-71.0950158%5D%2C%0A%20%20%20%20%20%20%20%20%20%20%20%20%20%20%20%20%7B%0A%20%20%22bubblingMouseEvents%22%3A%20true%2C%0A%20%20%22color%22%3A%20%22%23236CA7%22%2C%0A%20%20%22dashArray%22%3A%20null%2C%0A%20%20%22dashOffset%22%3A%20null%2C%0A%20%20%22fill%22%3A%20true%2C%0A%20%20%22fillColor%22%3A%20%22%23236CA7%22%2C%0A%20%20%22fillOpacity%22%3A%200.7%2C%0A%20%20%22fillRule%22%3A%20%22evenodd%22%2C%0A%20%20%22lineCap%22%3A%20%22round%22%2C%0A%20%20%22lineJoin%22%3A%20%22round%22%2C%0A%20%20%22opacity%22%3A%201.0%2C%0A%20%20%22radius%22%3A%205%2C%0A%20%20%22stroke%22%3A%20true%2C%0A%20%20%22weight%22%3A%203%0A%7D%0A%20%20%20%20%20%20%20%20%20%20%20%20%20%20%20%20%29.addTo%28map_1f6df6a60b354d03925f446b605c16f4%29%3B%0A%20%20%20%20%20%20%20%20%20%20%20%20%0A%20%20%20%20%0A%20%20%20%20%20%20%20%20%20%20%20%20var%20popup_d345970e60be4ce09e34e6f36283385f%20%3D%20L.popup%28%7BmaxWidth%3A%20%27300%27%7D%29%3B%0A%0A%20%20%20%20%20%20%20%20%20%20%20%20%0A%20%20%20%20%20%20%20%20%20%20%20%20%20%20%20%20var%20html_5e7c74cbead74004a8762977cd42778c%20%3D%20%24%28%27%3Cdiv%20id%3D%22html_5e7c74cbead74004a8762977cd42778c%22%20style%3D%22width%3A%20100.0%25%3B%20height%3A%20100.0%25%3B%22%3ERoxbury%3C/div%3E%27%29%5B0%5D%3B%0A%20%20%20%20%20%20%20%20%20%20%20%20%20%20%20%20popup_d345970e60be4ce09e34e6f36283385f.setContent%28html_5e7c74cbead74004a8762977cd42778c%29%3B%0A%20%20%20%20%20%20%20%20%20%20%20%20%0A%0A%20%20%20%20%20%20%20%20%20%20%20%20circle_marker_d343e29f33014baa97c22400b9fb7861.bindPopup%28popup_d345970e60be4ce09e34e6f36283385f%29%3B%0A%0A%20%20%20%20%20%20%20%20%20%20%20%20%0A%20%20%20%20%20%20%20%20%0A%20%20%20%20%0A%20%20%20%20%20%20%20%20%20%20%20%20var%20circle_marker_434e85a59bc5493285f1350595948c1c%20%3D%20L.circleMarker%28%0A%20%20%20%20%20%20%20%20%20%20%20%20%20%20%20%20%5B42.34131%2C-71.0772298%5D%2C%0A%20%20%20%20%20%20%20%20%20%20%20%20%20%20%20%20%7B%0A%20%20%22bubblingMouseEvents%22%3A%20true%2C%0A%20%20%22color%22%3A%20%22%23236CA7%22%2C%0A%20%20%22dashArray%22%3A%20null%2C%0A%20%20%22dashOffset%22%3A%20null%2C%0A%20%20%22fill%22%3A%20true%2C%0A%20%20%22fillColor%22%3A%20%22%23236CA7%22%2C%0A%20%20%22fillOpacity%22%3A%200.7%2C%0A%20%20%22fillRule%22%3A%20%22evenodd%22%2C%0A%20%20%22lineCap%22%3A%20%22round%22%2C%0A%20%20%22lineJoin%22%3A%20%22round%22%2C%0A%20%20%22opacity%22%3A%201.0%2C%0A%20%20%22radius%22%3A%205%2C%0A%20%20%22stroke%22%3A%20true%2C%0A%20%20%22weight%22%3A%203%0A%7D%0A%20%20%20%20%20%20%20%20%20%20%20%20%20%20%20%20%29.addTo%28map_1f6df6a60b354d03925f446b605c16f4%29%3B%0A%20%20%20%20%20%20%20%20%20%20%20%20%0A%20%20%20%20%0A%20%20%20%20%20%20%20%20%20%20%20%20var%20popup_ec881ab2a4ee4a0394c612d83b9b742b%20%3D%20L.popup%28%7BmaxWidth%3A%20%27300%27%7D%29%3B%0A%0A%20%20%20%20%20%20%20%20%20%20%20%20%0A%20%20%20%20%20%20%20%20%20%20%20%20%20%20%20%20var%20html_f20825265be242b6bf8ba22631020b19%20%3D%20%24%28%27%3Cdiv%20id%3D%22html_f20825265be242b6bf8ba22631020b19%22%20style%3D%22width%3A%20100.0%25%3B%20height%3A%20100.0%25%3B%22%3ESouth%20End%3C/div%3E%27%29%5B0%5D%3B%0A%20%20%20%20%20%20%20%20%20%20%20%20%20%20%20%20popup_ec881ab2a4ee4a0394c612d83b9b742b.setContent%28html_f20825265be242b6bf8ba22631020b19%29%3B%0A%20%20%20%20%20%20%20%20%20%20%20%20%0A%0A%20%20%20%20%20%20%20%20%20%20%20%20circle_marker_434e85a59bc5493285f1350595948c1c.bindPopup%28popup_ec881ab2a4ee4a0394c612d83b9b742b%29%3B%0A%0A%20%20%20%20%20%20%20%20%20%20%20%20%0A%20%20%20%20%20%20%20%20%0A%20%20%20%20%0A%20%20%20%20%20%20%20%20%20%20%20%20var%20circle_marker_099de0d743fa46ba98cce660a79229b5%20%3D%20L.circleMarker%28%0A%20%20%20%20%20%20%20%20%20%20%20%20%20%20%20%20%5B42.35054885%2C-71.08031131584724%5D%2C%0A%20%20%20%20%20%20%20%20%20%20%20%20%20%20%20%20%7B%0A%20%20%22bubblingMouseEvents%22%3A%20true%2C%0A%20%20%22color%22%3A%20%22%23236CA7%22%2C%0A%20%20%22dashArray%22%3A%20null%2C%0A%20%20%22dashOffset%22%3A%20null%2C%0A%20%20%22fill%22%3A%20true%2C%0A%20%20%22fillColor%22%3A%20%22%23236CA7%22%2C%0A%20%20%22fillOpacity%22%3A%200.7%2C%0A%20%20%22fillRule%22%3A%20%22evenodd%22%2C%0A%20%20%22lineCap%22%3A%20%22round%22%2C%0A%20%20%22lineJoin%22%3A%20%22round%22%2C%0A%20%20%22opacity%22%3A%201.0%2C%0A%20%20%22radius%22%3A%205%2C%0A%20%20%22stroke%22%3A%20true%2C%0A%20%20%22weight%22%3A%203%0A%7D%0A%20%20%20%20%20%20%20%20%20%20%20%20%20%20%20%20%29.addTo%28map_1f6df6a60b354d03925f446b605c16f4%29%3B%0A%20%20%20%20%20%20%20%20%20%20%20%20%0A%20%20%20%20%0A%20%20%20%20%20%20%20%20%20%20%20%20var%20popup_645e87abf6354c3089bd5eda5be1b40f%20%3D%20L.popup%28%7BmaxWidth%3A%20%27300%27%7D%29%3B%0A%0A%20%20%20%20%20%20%20%20%20%20%20%20%0A%20%20%20%20%20%20%20%20%20%20%20%20%20%20%20%20var%20html_edbda0f918c04b2a8ef33cc2a5d4abf9%20%3D%20%24%28%27%3Cdiv%20id%3D%22html_edbda0f918c04b2a8ef33cc2a5d4abf9%22%20style%3D%22width%3A%20100.0%25%3B%20height%3A%20100.0%25%3B%22%3EBack%20Bay%3C/div%3E%27%29%5B0%5D%3B%0A%20%20%20%20%20%20%20%20%20%20%20%20%20%20%20%20popup_645e87abf6354c3089bd5eda5be1b40f.setContent%28html_edbda0f918c04b2a8ef33cc2a5d4abf9%29%3B%0A%20%20%20%20%20%20%20%20%20%20%20%20%0A%0A%20%20%20%20%20%20%20%20%20%20%20%20circle_marker_099de0d743fa46ba98cce660a79229b5.bindPopup%28popup_645e87abf6354c3089bd5eda5be1b40f%29%3B%0A%0A%20%20%20%20%20%20%20%20%20%20%20%20%0A%20%20%20%20%20%20%20%20%0A%20%20%20%20%0A%20%20%20%20%20%20%20%20%20%20%20%20var%20circle_marker_234c821a2e8e4a898b1cdcd91c9f63fe%20%3D%20L.circleMarker%28%0A%20%20%20%20%20%20%20%20%20%20%20%20%20%20%20%20%5B42.3750973%2C-71.0392173%5D%2C%0A%20%20%20%20%20%20%20%20%20%20%20%20%20%20%20%20%7B%0A%20%20%22bubblingMouseEvents%22%3A%20true%2C%0A%20%20%22color%22%3A%20%22%23236CA7%22%2C%0A%20%20%22dashArray%22%3A%20null%2C%0A%20%20%22dashOffset%22%3A%20null%2C%0A%20%20%22fill%22%3A%20true%2C%0A%20%20%22fillColor%22%3A%20%22%23236CA7%22%2C%0A%20%20%22fillOpacity%22%3A%200.7%2C%0A%20%20%22fillRule%22%3A%20%22evenodd%22%2C%0A%20%20%22lineCap%22%3A%20%22round%22%2C%0A%20%20%22lineJoin%22%3A%20%22round%22%2C%0A%20%20%22opacity%22%3A%201.0%2C%0A%20%20%22radius%22%3A%205%2C%0A%20%20%22stroke%22%3A%20true%2C%0A%20%20%22weight%22%3A%203%0A%7D%0A%20%20%20%20%20%20%20%20%20%20%20%20%20%20%20%20%29.addTo%28map_1f6df6a60b354d03925f446b605c16f4%29%3B%0A%20%20%20%20%20%20%20%20%20%20%20%20%0A%20%20%20%20%0A%20%20%20%20%20%20%20%20%20%20%20%20var%20popup_05661ef74cca4e9db5c2c40279bb88f6%20%3D%20L.popup%28%7BmaxWidth%3A%20%27300%27%7D%29%3B%0A%0A%20%20%20%20%20%20%20%20%20%20%20%20%0A%20%20%20%20%20%20%20%20%20%20%20%20%20%20%20%20var%20html_174b855392ce40c9a22d24e467b400b2%20%3D%20%24%28%27%3Cdiv%20id%3D%22html_174b855392ce40c9a22d24e467b400b2%22%20style%3D%22width%3A%20100.0%25%3B%20height%3A%20100.0%25%3B%22%3EEast%20Boston%3C/div%3E%27%29%5B0%5D%3B%0A%20%20%20%20%20%20%20%20%20%20%20%20%20%20%20%20popup_05661ef74cca4e9db5c2c40279bb88f6.setContent%28html_174b855392ce40c9a22d24e467b400b2%29%3B%0A%20%20%20%20%20%20%20%20%20%20%20%20%0A%0A%20%20%20%20%20%20%20%20%20%20%20%20circle_marker_234c821a2e8e4a898b1cdcd91c9f63fe.bindPopup%28popup_05661ef74cca4e9db5c2c40279bb88f6%29%3B%0A%0A%20%20%20%20%20%20%20%20%20%20%20%20%0A%20%20%20%20%20%20%20%20%0A%20%20%20%20%0A%20%20%20%20%20%20%20%20%20%20%20%20var%20circle_marker_0fbab33f9d45450fab2c5bea84fad5b1%20%3D%20L.circleMarker%28%0A%20%20%20%20%20%20%20%20%20%20%20%20%20%20%20%20%5B42.3778749%2C-71.0619957%5D%2C%0A%20%20%20%20%20%20%20%20%20%20%20%20%20%20%20%20%7B%0A%20%20%22bubblingMouseEvents%22%3A%20true%2C%0A%20%20%22color%22%3A%20%22%23236CA7%22%2C%0A%20%20%22dashArray%22%3A%20null%2C%0A%20%20%22dashOffset%22%3A%20null%2C%0A%20%20%22fill%22%3A%20true%2C%0A%20%20%22fillColor%22%3A%20%22%23236CA7%22%2C%0A%20%20%22fillOpacity%22%3A%200.7%2C%0A%20%20%22fillRule%22%3A%20%22evenodd%22%2C%0A%20%20%22lineCap%22%3A%20%22round%22%2C%0A%20%20%22lineJoin%22%3A%20%22round%22%2C%0A%20%20%22opacity%22%3A%201.0%2C%0A%20%20%22radius%22%3A%205%2C%0A%20%20%22stroke%22%3A%20true%2C%0A%20%20%22weight%22%3A%203%0A%7D%0A%20%20%20%20%20%20%20%20%20%20%20%20%20%20%20%20%29.addTo%28map_1f6df6a60b354d03925f446b605c16f4%29%3B%0A%20%20%20%20%20%20%20%20%20%20%20%20%0A%20%20%20%20%0A%20%20%20%20%20%20%20%20%20%20%20%20var%20popup_f5be71288d564783b40b755e06b153fb%20%3D%20L.popup%28%7BmaxWidth%3A%20%27300%27%7D%29%3B%0A%0A%20%20%20%20%20%20%20%20%20%20%20%20%0A%20%20%20%20%20%20%20%20%20%20%20%20%20%20%20%20var%20html_cd29ed407c354c7a93ff7ed8a3dc6a9e%20%3D%20%24%28%27%3Cdiv%20id%3D%22html_cd29ed407c354c7a93ff7ed8a3dc6a9e%22%20style%3D%22width%3A%20100.0%25%3B%20height%3A%20100.0%25%3B%22%3ECharlestown%3C/div%3E%27%29%5B0%5D%3B%0A%20%20%20%20%20%20%20%20%20%20%20%20%20%20%20%20popup_f5be71288d564783b40b755e06b153fb.setContent%28html_cd29ed407c354c7a93ff7ed8a3dc6a9e%29%3B%0A%20%20%20%20%20%20%20%20%20%20%20%20%0A%0A%20%20%20%20%20%20%20%20%20%20%20%20circle_marker_0fbab33f9d45450fab2c5bea84fad5b1.bindPopup%28popup_f5be71288d564783b40b755e06b153fb%29%3B%0A%0A%20%20%20%20%20%20%20%20%20%20%20%20%0A%20%20%20%20%20%20%20%20%0A%20%20%20%20%0A%20%20%20%20%20%20%20%20%20%20%20%20var%20circle_marker_57e9d4a7671d46da889b7fbe7c5f0d67%20%3D%20L.circleMarker%28%0A%20%20%20%20%20%20%20%20%20%20%20%20%20%20%20%20%5B42.3639186%2C-71.0638993%5D%2C%0A%20%20%20%20%20%20%20%20%20%20%20%20%20%20%20%20%7B%0A%20%20%22bubblingMouseEvents%22%3A%20true%2C%0A%20%20%22color%22%3A%20%22%23236CA7%22%2C%0A%20%20%22dashArray%22%3A%20null%2C%0A%20%20%22dashOffset%22%3A%20null%2C%0A%20%20%22fill%22%3A%20true%2C%0A%20%20%22fillColor%22%3A%20%22%23236CA7%22%2C%0A%20%20%22fillOpacity%22%3A%200.7%2C%0A%20%20%22fillRule%22%3A%20%22evenodd%22%2C%0A%20%20%22lineCap%22%3A%20%22round%22%2C%0A%20%20%22lineJoin%22%3A%20%22round%22%2C%0A%20%20%22opacity%22%3A%201.0%2C%0A%20%20%22radius%22%3A%205%2C%0A%20%20%22stroke%22%3A%20true%2C%0A%20%20%22weight%22%3A%203%0A%7D%0A%20%20%20%20%20%20%20%20%20%20%20%20%20%20%20%20%29.addTo%28map_1f6df6a60b354d03925f446b605c16f4%29%3B%0A%20%20%20%20%20%20%20%20%20%20%20%20%0A%20%20%20%20%0A%20%20%20%20%20%20%20%20%20%20%20%20var%20popup_f0523d45192c4ac1b68e075a45689317%20%3D%20L.popup%28%7BmaxWidth%3A%20%27300%27%7D%29%3B%0A%0A%20%20%20%20%20%20%20%20%20%20%20%20%0A%20%20%20%20%20%20%20%20%20%20%20%20%20%20%20%20var%20html_55fdfb54332a43089b3d29b8612f76a4%20%3D%20%24%28%27%3Cdiv%20id%3D%22html_55fdfb54332a43089b3d29b8612f76a4%22%20style%3D%22width%3A%20100.0%25%3B%20height%3A%20100.0%25%3B%22%3EWest%20End%3C/div%3E%27%29%5B0%5D%3B%0A%20%20%20%20%20%20%20%20%20%20%20%20%20%20%20%20popup_f0523d45192c4ac1b68e075a45689317.setContent%28html_55fdfb54332a43089b3d29b8612f76a4%29%3B%0A%20%20%20%20%20%20%20%20%20%20%20%20%0A%0A%20%20%20%20%20%20%20%20%20%20%20%20circle_marker_57e9d4a7671d46da889b7fbe7c5f0d67.bindPopup%28popup_f0523d45192c4ac1b68e075a45689317%29%3B%0A%0A%20%20%20%20%20%20%20%20%20%20%20%20%0A%20%20%20%20%20%20%20%20%0A%20%20%20%20%0A%20%20%20%20%20%20%20%20%20%20%20%20var%20circle_marker_83205e63b6174e03ac87cff1fd381190%20%3D%20L.circleMarker%28%0A%20%20%20%20%20%20%20%20%20%20%20%20%20%20%20%20%5B42.3587085%2C-71.067829%5D%2C%0A%20%20%20%20%20%20%20%20%20%20%20%20%20%20%20%20%7B%0A%20%20%22bubblingMouseEvents%22%3A%20true%2C%0A%20%20%22color%22%3A%20%22%23236CA7%22%2C%0A%20%20%22dashArray%22%3A%20null%2C%0A%20%20%22dashOffset%22%3A%20null%2C%0A%20%20%22fill%22%3A%20true%2C%0A%20%20%22fillColor%22%3A%20%22%23236CA7%22%2C%0A%20%20%22fillOpacity%22%3A%200.7%2C%0A%20%20%22fillRule%22%3A%20%22evenodd%22%2C%0A%20%20%22lineCap%22%3A%20%22round%22%2C%0A%20%20%22lineJoin%22%3A%20%22round%22%2C%0A%20%20%22opacity%22%3A%201.0%2C%0A%20%20%22radius%22%3A%205%2C%0A%20%20%22stroke%22%3A%20true%2C%0A%20%20%22weight%22%3A%203%0A%7D%0A%20%20%20%20%20%20%20%20%20%20%20%20%20%20%20%20%29.addTo%28map_1f6df6a60b354d03925f446b605c16f4%29%3B%0A%20%20%20%20%20%20%20%20%20%20%20%20%0A%20%20%20%20%0A%20%20%20%20%20%20%20%20%20%20%20%20var%20popup_8ff515d9ba104bf5b0b7a5bc30d790cd%20%3D%20L.popup%28%7BmaxWidth%3A%20%27300%27%7D%29%3B%0A%0A%20%20%20%20%20%20%20%20%20%20%20%20%0A%20%20%20%20%20%20%20%20%20%20%20%20%20%20%20%20var%20html_ff8bd602340b42e3a87e1f0c2475c46a%20%3D%20%24%28%27%3Cdiv%20id%3D%22html_ff8bd602340b42e3a87e1f0c2475c46a%22%20style%3D%22width%3A%20100.0%25%3B%20height%3A%20100.0%25%3B%22%3EBeacon%20Hill%3C/div%3E%27%29%5B0%5D%3B%0A%20%20%20%20%20%20%20%20%20%20%20%20%20%20%20%20popup_8ff515d9ba104bf5b0b7a5bc30d790cd.setContent%28html_ff8bd602340b42e3a87e1f0c2475c46a%29%3B%0A%20%20%20%20%20%20%20%20%20%20%20%20%0A%0A%20%20%20%20%20%20%20%20%20%20%20%20circle_marker_83205e63b6174e03ac87cff1fd381190.bindPopup%28popup_8ff515d9ba104bf5b0b7a5bc30d790cd%29%3B%0A%0A%20%20%20%20%20%20%20%20%20%20%20%20%0A%20%20%20%20%20%20%20%20%0A%20%20%20%20%0A%20%20%20%20%20%20%20%20%20%20%20%20var%20circle_marker_735e742b7a5444d2af897a68323de578%20%3D%20L.circleMarker%28%0A%20%20%20%20%20%20%20%20%20%20%20%20%20%20%20%20%5B42.35860195%2C-71.06387508501135%5D%2C%0A%20%20%20%20%20%20%20%20%20%20%20%20%20%20%20%20%7B%0A%20%20%22bubblingMouseEvents%22%3A%20true%2C%0A%20%20%22color%22%3A%20%22%23236CA7%22%2C%0A%20%20%22dashArray%22%3A%20null%2C%0A%20%20%22dashOffset%22%3A%20null%2C%0A%20%20%22fill%22%3A%20true%2C%0A%20%20%22fillColor%22%3A%20%22%23236CA7%22%2C%0A%20%20%22fillOpacity%22%3A%200.7%2C%0A%20%20%22fillRule%22%3A%20%22evenodd%22%2C%0A%20%20%22lineCap%22%3A%20%22round%22%2C%0A%20%20%22lineJoin%22%3A%20%22round%22%2C%0A%20%20%22opacity%22%3A%201.0%2C%0A%20%20%22radius%22%3A%205%2C%0A%20%20%22stroke%22%3A%20true%2C%0A%20%20%22weight%22%3A%203%0A%7D%0A%20%20%20%20%20%20%20%20%20%20%20%20%20%20%20%20%29.addTo%28map_1f6df6a60b354d03925f446b605c16f4%29%3B%0A%20%20%20%20%20%20%20%20%20%20%20%20%0A%20%20%20%20%0A%20%20%20%20%20%20%20%20%20%20%20%20var%20popup_c7094d5a5086440fb13cf2f6121ed1c7%20%3D%20L.popup%28%7BmaxWidth%3A%20%27300%27%7D%29%3B%0A%0A%20%20%20%20%20%20%20%20%20%20%20%20%0A%20%20%20%20%20%20%20%20%20%20%20%20%20%20%20%20var%20html_f976d13ae65542ebb1bfdc4f9f3c29ba%20%3D%20%24%28%27%3Cdiv%20id%3D%22html_f976d13ae65542ebb1bfdc4f9f3c29ba%22%20style%3D%22width%3A%20100.0%25%3B%20height%3A%20100.0%25%3B%22%3EDowntown%3C/div%3E%27%29%5B0%5D%3B%0A%20%20%20%20%20%20%20%20%20%20%20%20%20%20%20%20popup_c7094d5a5086440fb13cf2f6121ed1c7.setContent%28html_f976d13ae65542ebb1bfdc4f9f3c29ba%29%3B%0A%20%20%20%20%20%20%20%20%20%20%20%20%0A%0A%20%20%20%20%20%20%20%20%20%20%20%20circle_marker_735e742b7a5444d2af897a68323de578.bindPopup%28popup_c7094d5a5086440fb13cf2f6121ed1c7%29%3B%0A%0A%20%20%20%20%20%20%20%20%20%20%20%20%0A%20%20%20%20%20%20%20%20%0A%20%20%20%20%0A%20%20%20%20%20%20%20%20%20%20%20%20var%20circle_marker_48cb5727e4a84697b66c9d198f427714%20%3D%20L.circleMarker%28%0A%20%20%20%20%20%20%20%20%20%20%20%20%20%20%20%20%5B42.3451868%2C-71.1045987%5D%2C%0A%20%20%20%20%20%20%20%20%20%20%20%20%20%20%20%20%7B%0A%20%20%22bubblingMouseEvents%22%3A%20true%2C%0A%20%20%22color%22%3A%20%22%23236CA7%22%2C%0A%20%20%22dashArray%22%3A%20null%2C%0A%20%20%22dashOffset%22%3A%20null%2C%0A%20%20%22fill%22%3A%20true%2C%0A%20%20%22fillColor%22%3A%20%22%23236CA7%22%2C%0A%20%20%22fillOpacity%22%3A%200.7%2C%0A%20%20%22fillRule%22%3A%20%22evenodd%22%2C%0A%20%20%22lineCap%22%3A%20%22round%22%2C%0A%20%20%22lineJoin%22%3A%20%22round%22%2C%0A%20%20%22opacity%22%3A%201.0%2C%0A%20%20%22radius%22%3A%205%2C%0A%20%20%22stroke%22%3A%20true%2C%0A%20%20%22weight%22%3A%203%0A%7D%0A%20%20%20%20%20%20%20%20%20%20%20%20%20%20%20%20%29.addTo%28map_1f6df6a60b354d03925f446b605c16f4%29%3B%0A%20%20%20%20%20%20%20%20%20%20%20%20%0A%20%20%20%20%0A%20%20%20%20%20%20%20%20%20%20%20%20var%20popup_fd1b8024b0f44720a1566166c2e50588%20%3D%20L.popup%28%7BmaxWidth%3A%20%27300%27%7D%29%3B%0A%0A%20%20%20%20%20%20%20%20%20%20%20%20%0A%20%20%20%20%20%20%20%20%20%20%20%20%20%20%20%20var%20html_0837f79b6b354169b120517990b9c2cd%20%3D%20%24%28%27%3Cdiv%20id%3D%22html_0837f79b6b354169b120517990b9c2cd%22%20style%3D%22width%3A%20100.0%25%3B%20height%3A%20100.0%25%3B%22%3EFenway%3C/div%3E%27%29%5B0%5D%3B%0A%20%20%20%20%20%20%20%20%20%20%20%20%20%20%20%20popup_fd1b8024b0f44720a1566166c2e50588.setContent%28html_0837f79b6b354169b120517990b9c2cd%29%3B%0A%20%20%20%20%20%20%20%20%20%20%20%20%0A%0A%20%20%20%20%20%20%20%20%20%20%20%20circle_marker_48cb5727e4a84697b66c9d198f427714.bindPopup%28popup_fd1b8024b0f44720a1566166c2e50588%29%3B%0A%0A%20%20%20%20%20%20%20%20%20%20%20%20%0A%20%20%20%20%20%20%20%20%0A%20%20%20%20%0A%20%20%20%20%20%20%20%20%20%20%20%20var%20circle_marker_8191509ee9e4462da4c19f4a78eb5067%20%3D%20L.circleMarker%28%0A%20%20%20%20%20%20%20%20%20%20%20%20%20%20%20%20%5B42.3500971%2C-71.1564423%5D%2C%0A%20%20%20%20%20%20%20%20%20%20%20%20%20%20%20%20%7B%0A%20%20%22bubblingMouseEvents%22%3A%20true%2C%0A%20%20%22color%22%3A%20%22%23236CA7%22%2C%0A%20%20%22dashArray%22%3A%20null%2C%0A%20%20%22dashOffset%22%3A%20null%2C%0A%20%20%22fill%22%3A%20true%2C%0A%20%20%22fillColor%22%3A%20%22%23236CA7%22%2C%0A%20%20%22fillOpacity%22%3A%200.7%2C%0A%20%20%22fillRule%22%3A%20%22evenodd%22%2C%0A%20%20%22lineCap%22%3A%20%22round%22%2C%0A%20%20%22lineJoin%22%3A%20%22round%22%2C%0A%20%20%22opacity%22%3A%201.0%2C%0A%20%20%22radius%22%3A%205%2C%0A%20%20%22stroke%22%3A%20true%2C%0A%20%20%22weight%22%3A%203%0A%7D%0A%20%20%20%20%20%20%20%20%20%20%20%20%20%20%20%20%29.addTo%28map_1f6df6a60b354d03925f446b605c16f4%29%3B%0A%20%20%20%20%20%20%20%20%20%20%20%20%0A%20%20%20%20%0A%20%20%20%20%20%20%20%20%20%20%20%20var%20popup_6ee9c00a7f0a495f8d46c3c9668e211c%20%3D%20L.popup%28%7BmaxWidth%3A%20%27300%27%7D%29%3B%0A%0A%20%20%20%20%20%20%20%20%20%20%20%20%0A%20%20%20%20%20%20%20%20%20%20%20%20%20%20%20%20var%20html_efbbedf8170a49508c11e4e247d94ccf%20%3D%20%24%28%27%3Cdiv%20id%3D%22html_efbbedf8170a49508c11e4e247d94ccf%22%20style%3D%22width%3A%20100.0%25%3B%20height%3A%20100.0%25%3B%22%3EBrighton%3C/div%3E%27%29%5B0%5D%3B%0A%20%20%20%20%20%20%20%20%20%20%20%20%20%20%20%20popup_6ee9c00a7f0a495f8d46c3c9668e211c.setContent%28html_efbbedf8170a49508c11e4e247d94ccf%29%3B%0A%20%20%20%20%20%20%20%20%20%20%20%20%0A%0A%20%20%20%20%20%20%20%20%20%20%20%20circle_marker_8191509ee9e4462da4c19f4a78eb5067.bindPopup%28popup_6ee9c00a7f0a495f8d46c3c9668e211c%29%3B%0A%0A%20%20%20%20%20%20%20%20%20%20%20%20%0A%20%20%20%20%20%20%20%20%0A%20%20%20%20%0A%20%20%20%20%20%20%20%20%20%20%20%20var%20circle_marker_1b7df07a7e114ef684b97b911946cb8e%20%3D%20L.circleMarker%28%0A%20%20%20%20%20%20%20%20%20%20%20%20%20%20%20%20%5B42.2792649%2C-71.1494972%5D%2C%0A%20%20%20%20%20%20%20%20%20%20%20%20%20%20%20%20%7B%0A%20%20%22bubblingMouseEvents%22%3A%20true%2C%0A%20%20%22color%22%3A%20%22%23236CA7%22%2C%0A%20%20%22dashArray%22%3A%20null%2C%0A%20%20%22dashOffset%22%3A%20null%2C%0A%20%20%22fill%22%3A%20true%2C%0A%20%20%22fillColor%22%3A%20%22%23236CA7%22%2C%0A%20%20%22fillOpacity%22%3A%200.7%2C%0A%20%20%22fillRule%22%3A%20%22evenodd%22%2C%0A%20%20%22lineCap%22%3A%20%22round%22%2C%0A%20%20%22lineJoin%22%3A%20%22round%22%2C%0A%20%20%22opacity%22%3A%201.0%2C%0A%20%20%22radius%22%3A%205%2C%0A%20%20%22stroke%22%3A%20true%2C%0A%20%20%22weight%22%3A%203%0A%7D%0A%20%20%20%20%20%20%20%20%20%20%20%20%20%20%20%20%29.addTo%28map_1f6df6a60b354d03925f446b605c16f4%29%3B%0A%20%20%20%20%20%20%20%20%20%20%20%20%0A%20%20%20%20%0A%20%20%20%20%20%20%20%20%20%20%20%20var%20popup_08ea9e710435467ca6244f67c35d0d52%20%3D%20L.popup%28%7BmaxWidth%3A%20%27300%27%7D%29%3B%0A%0A%20%20%20%20%20%20%20%20%20%20%20%20%0A%20%20%20%20%20%20%20%20%20%20%20%20%20%20%20%20var%20html_7c920d9ee86548b5a788b60ade555416%20%3D%20%24%28%27%3Cdiv%20id%3D%22html_7c920d9ee86548b5a788b60ade555416%22%20style%3D%22width%3A%20100.0%25%3B%20height%3A%20100.0%25%3B%22%3EWest%20Roxbury%3C/div%3E%27%29%5B0%5D%3B%0A%20%20%20%20%20%20%20%20%20%20%20%20%20%20%20%20popup_08ea9e710435467ca6244f67c35d0d52.setContent%28html_7c920d9ee86548b5a788b60ade555416%29%3B%0A%20%20%20%20%20%20%20%20%20%20%20%20%0A%0A%20%20%20%20%20%20%20%20%20%20%20%20circle_marker_1b7df07a7e114ef684b97b911946cb8e.bindPopup%28popup_08ea9e710435467ca6244f67c35d0d52%29%3B%0A%0A%20%20%20%20%20%20%20%20%20%20%20%20%0A%20%20%20%20%20%20%20%20%0A%20%20%20%20%0A%20%20%20%20%20%20%20%20%20%20%20%20var%20circle_marker_e0b31e0544ae4d45ae59158bf26b71b2%20%3D%20L.circleMarker%28%0A%20%20%20%20%20%20%20%20%20%20%20%20%20%20%20%20%5B42.2556543%2C-71.1244963%5D%2C%0A%20%20%20%20%20%20%20%20%20%20%20%20%20%20%20%20%7B%0A%20%20%22bubblingMouseEvents%22%3A%20true%2C%0A%20%20%22color%22%3A%20%22%23236CA7%22%2C%0A%20%20%22dashArray%22%3A%20null%2C%0A%20%20%22dashOffset%22%3A%20null%2C%0A%20%20%22fill%22%3A%20true%2C%0A%20%20%22fillColor%22%3A%20%22%23236CA7%22%2C%0A%20%20%22fillOpacity%22%3A%200.7%2C%0A%20%20%22fillRule%22%3A%20%22evenodd%22%2C%0A%20%20%22lineCap%22%3A%20%22round%22%2C%0A%20%20%22lineJoin%22%3A%20%22round%22%2C%0A%20%20%22opacity%22%3A%201.0%2C%0A%20%20%22radius%22%3A%205%2C%0A%20%20%22stroke%22%3A%20true%2C%0A%20%20%22weight%22%3A%203%0A%7D%0A%20%20%20%20%20%20%20%20%20%20%20%20%20%20%20%20%29.addTo%28map_1f6df6a60b354d03925f446b605c16f4%29%3B%0A%20%20%20%20%20%20%20%20%20%20%20%20%0A%20%20%20%20%0A%20%20%20%20%20%20%20%20%20%20%20%20var%20popup_0f80d0e2179247eea43186ebe8dad9a7%20%3D%20L.popup%28%7BmaxWidth%3A%20%27300%27%7D%29%3B%0A%0A%20%20%20%20%20%20%20%20%20%20%20%20%0A%20%20%20%20%20%20%20%20%20%20%20%20%20%20%20%20var%20html_397a1cfff534487a97d04886791d1da4%20%3D%20%24%28%27%3Cdiv%20id%3D%22html_397a1cfff534487a97d04886791d1da4%22%20style%3D%22width%3A%20100.0%25%3B%20height%3A%20100.0%25%3B%22%3EHyde%20Park%3C/div%3E%27%29%5B0%5D%3B%0A%20%20%20%20%20%20%20%20%20%20%20%20%20%20%20%20popup_0f80d0e2179247eea43186ebe8dad9a7.setContent%28html_397a1cfff534487a97d04886791d1da4%29%3B%0A%20%20%20%20%20%20%20%20%20%20%20%20%0A%0A%20%20%20%20%20%20%20%20%20%20%20%20circle_marker_e0b31e0544ae4d45ae59158bf26b71b2.bindPopup%28popup_0f80d0e2179247eea43186ebe8dad9a7%29%3B%0A%0A%20%20%20%20%20%20%20%20%20%20%20%20%0A%20%20%20%20%20%20%20%20%0A%20%20%20%20%0A%20%20%20%20%20%20%20%20%20%20%20%20var%20circle_marker_4af7b26379444c36a19b6b256c96e445%20%3D%20L.circleMarker%28%0A%20%20%20%20%20%20%20%20%20%20%20%20%20%20%20%20%5B42.2723208%2C-71.0869953%5D%2C%0A%20%20%20%20%20%20%20%20%20%20%20%20%20%20%20%20%7B%0A%20%20%22bubblingMouseEvents%22%3A%20true%2C%0A%20%20%22color%22%3A%20%22%23236CA7%22%2C%0A%20%20%22dashArray%22%3A%20null%2C%0A%20%20%22dashOffset%22%3A%20null%2C%0A%20%20%22fill%22%3A%20true%2C%0A%20%20%22fillColor%22%3A%20%22%23236CA7%22%2C%0A%20%20%22fillOpacity%22%3A%200.7%2C%0A%20%20%22fillRule%22%3A%20%22evenodd%22%2C%0A%20%20%22lineCap%22%3A%20%22round%22%2C%0A%20%20%22lineJoin%22%3A%20%22round%22%2C%0A%20%20%22opacity%22%3A%201.0%2C%0A%20%20%22radius%22%3A%205%2C%0A%20%20%22stroke%22%3A%20true%2C%0A%20%20%22weight%22%3A%203%0A%7D%0A%20%20%20%20%20%20%20%20%20%20%20%20%20%20%20%20%29.addTo%28map_1f6df6a60b354d03925f446b605c16f4%29%3B%0A%20%20%20%20%20%20%20%20%20%20%20%20%0A%20%20%20%20%0A%20%20%20%20%20%20%20%20%20%20%20%20var%20popup_84cdd482c6db4c479515aab36b180afd%20%3D%20L.popup%28%7BmaxWidth%3A%20%27300%27%7D%29%3B%0A%0A%20%20%20%20%20%20%20%20%20%20%20%20%0A%20%20%20%20%20%20%20%20%20%20%20%20%20%20%20%20var%20html_19cb57ed4dd74718bf15c73d43b04117%20%3D%20%24%28%27%3Cdiv%20id%3D%22html_19cb57ed4dd74718bf15c73d43b04117%22%20style%3D%22width%3A%20100.0%25%3B%20height%3A%20100.0%25%3B%22%3EMattapan%3C/div%3E%27%29%5B0%5D%3B%0A%20%20%20%20%20%20%20%20%20%20%20%20%20%20%20%20popup_84cdd482c6db4c479515aab36b180afd.setContent%28html_19cb57ed4dd74718bf15c73d43b04117%29%3B%0A%20%20%20%20%20%20%20%20%20%20%20%20%0A%0A%20%20%20%20%20%20%20%20%20%20%20%20circle_marker_4af7b26379444c36a19b6b256c96e445.bindPopup%28popup_84cdd482c6db4c479515aab36b180afd%29%3B%0A%0A%20%20%20%20%20%20%20%20%20%20%20%20%0A%20%20%20%20%20%20%20%20%0A%20%20%20%20%0A%20%20%20%20%20%20%20%20%20%20%20%20var%20circle_marker_2e72bbfb760249c096ef7e567a42e9d3%20%3D%20L.circleMarker%28%0A%20%20%20%20%20%20%20%20%20%20%20%20%20%20%20%20%5B42.2973205%2C-71.0744952%5D%2C%0A%20%20%20%20%20%20%20%20%20%20%20%20%20%20%20%20%7B%0A%20%20%22bubblingMouseEvents%22%3A%20true%2C%0A%20%20%22color%22%3A%20%22%23236CA7%22%2C%0A%20%20%22dashArray%22%3A%20null%2C%0A%20%20%22dashOffset%22%3A%20null%2C%0A%20%20%22fill%22%3A%20true%2C%0A%20%20%22fillColor%22%3A%20%22%23236CA7%22%2C%0A%20%20%22fillOpacity%22%3A%200.7%2C%0A%20%20%22fillRule%22%3A%20%22evenodd%22%2C%0A%20%20%22lineCap%22%3A%20%22round%22%2C%0A%20%20%22lineJoin%22%3A%20%22round%22%2C%0A%20%20%22opacity%22%3A%201.0%2C%0A%20%20%22radius%22%3A%205%2C%0A%20%20%22stroke%22%3A%20true%2C%0A%20%20%22weight%22%3A%203%0A%7D%0A%20%20%20%20%20%20%20%20%20%20%20%20%20%20%20%20%29.addTo%28map_1f6df6a60b354d03925f446b605c16f4%29%3B%0A%20%20%20%20%20%20%20%20%20%20%20%20%0A%20%20%20%20%0A%20%20%20%20%20%20%20%20%20%20%20%20var%20popup_150ca9d34034427e929b8dd3e00c6c02%20%3D%20L.popup%28%7BmaxWidth%3A%20%27300%27%7D%29%3B%0A%0A%20%20%20%20%20%20%20%20%20%20%20%20%0A%20%20%20%20%20%20%20%20%20%20%20%20%20%20%20%20var%20html_88298b916a9046da930ae2d7ea8827fa%20%3D%20%24%28%27%3Cdiv%20id%3D%22html_88298b916a9046da930ae2d7ea8827fa%22%20style%3D%22width%3A%20100.0%25%3B%20height%3A%20100.0%25%3B%22%3EDorchester%3C/div%3E%27%29%5B0%5D%3B%0A%20%20%20%20%20%20%20%20%20%20%20%20%20%20%20%20popup_150ca9d34034427e929b8dd3e00c6c02.setContent%28html_88298b916a9046da930ae2d7ea8827fa%29%3B%0A%20%20%20%20%20%20%20%20%20%20%20%20%0A%0A%20%20%20%20%20%20%20%20%20%20%20%20circle_marker_2e72bbfb760249c096ef7e567a42e9d3.bindPopup%28popup_150ca9d34034427e929b8dd3e00c6c02%29%3B%0A%0A%20%20%20%20%20%20%20%20%20%20%20%20%0A%20%20%20%20%20%20%20%20%0A%20%20%20%20%0A%20%20%20%20%20%20%20%20%20%20%20%20var%20circle_marker_27c688d42bc6494e8b572f4d0d7d639c%20%3D%20L.circleMarker%28%0A%20%20%20%20%20%20%20%20%20%20%20%20%20%20%20%20%5B42.3547517%2C-71.0531784%5D%2C%0A%20%20%20%20%20%20%20%20%20%20%20%20%20%20%20%20%7B%0A%20%20%22bubblingMouseEvents%22%3A%20true%2C%0A%20%20%22color%22%3A%20%22%23236CA7%22%2C%0A%20%20%22dashArray%22%3A%20null%2C%0A%20%20%22dashOffset%22%3A%20null%2C%0A%20%20%22fill%22%3A%20true%2C%0A%20%20%22fillColor%22%3A%20%22%23236CA7%22%2C%0A%20%20%22fillOpacity%22%3A%200.7%2C%0A%20%20%22fillRule%22%3A%20%22evenodd%22%2C%0A%20%20%22lineCap%22%3A%20%22round%22%2C%0A%20%20%22lineJoin%22%3A%20%22round%22%2C%0A%20%20%22opacity%22%3A%201.0%2C%0A%20%20%22radius%22%3A%205%2C%0A%20%20%22stroke%22%3A%20true%2C%0A%20%20%22weight%22%3A%203%0A%7D%0A%20%20%20%20%20%20%20%20%20%20%20%20%20%20%20%20%29.addTo%28map_1f6df6a60b354d03925f446b605c16f4%29%3B%0A%20%20%20%20%20%20%20%20%20%20%20%20%0A%20%20%20%20%0A%20%20%20%20%20%20%20%20%20%20%20%20var%20popup_4d06ea896c22466686681d2867f4aaef%20%3D%20L.popup%28%7BmaxWidth%3A%20%27300%27%7D%29%3B%0A%0A%20%20%20%20%20%20%20%20%20%20%20%20%0A%20%20%20%20%20%20%20%20%20%20%20%20%20%20%20%20var%20html_5af19612a30840c58696000daae36dd9%20%3D%20%24%28%27%3Cdiv%20id%3D%22html_5af19612a30840c58696000daae36dd9%22%20style%3D%22width%3A%20100.0%25%3B%20height%3A%20100.0%25%3B%22%3ESouth%20Boston%20Waterfront%3C/div%3E%27%29%5B0%5D%3B%0A%20%20%20%20%20%20%20%20%20%20%20%20%20%20%20%20popup_4d06ea896c22466686681d2867f4aaef.setContent%28html_5af19612a30840c58696000daae36dd9%29%3B%0A%20%20%20%20%20%20%20%20%20%20%20%20%0A%0A%20%20%20%20%20%20%20%20%20%20%20%20circle_marker_27c688d42bc6494e8b572f4d0d7d639c.bindPopup%28popup_4d06ea896c22466686681d2867f4aaef%29%3B%0A%0A%20%20%20%20%20%20%20%20%20%20%20%20%0A%20%20%20%20%20%20%20%20%0A%20%20%20%20%0A%20%20%20%20%20%20%20%20%20%20%20%20var%20circle_marker_54d81a93782248619fa3063dd4e59aed%20%3D%20L.circleMarker%28%0A%20%20%20%20%20%20%20%20%20%20%20%20%20%20%20%20%5B42.3334312%2C-71.0494949%5D%2C%0A%20%20%20%20%20%20%20%20%20%20%20%20%20%20%20%20%7B%0A%20%20%22bubblingMouseEvents%22%3A%20true%2C%0A%20%20%22color%22%3A%20%22%23236CA7%22%2C%0A%20%20%22dashArray%22%3A%20null%2C%0A%20%20%22dashOffset%22%3A%20null%2C%0A%20%20%22fill%22%3A%20true%2C%0A%20%20%22fillColor%22%3A%20%22%23236CA7%22%2C%0A%20%20%22fillOpacity%22%3A%200.7%2C%0A%20%20%22fillRule%22%3A%20%22evenodd%22%2C%0A%20%20%22lineCap%22%3A%20%22round%22%2C%0A%20%20%22lineJoin%22%3A%20%22round%22%2C%0A%20%20%22opacity%22%3A%201.0%2C%0A%20%20%22radius%22%3A%205%2C%0A%20%20%22stroke%22%3A%20true%2C%0A%20%20%22weight%22%3A%203%0A%7D%0A%20%20%20%20%20%20%20%20%20%20%20%20%20%20%20%20%29.addTo%28map_1f6df6a60b354d03925f446b605c16f4%29%3B%0A%20%20%20%20%20%20%20%20%20%20%20%20%0A%20%20%20%20%0A%20%20%20%20%20%20%20%20%20%20%20%20var%20popup_85f8e42766fd4535ab09ef57c465e3ec%20%3D%20L.popup%28%7BmaxWidth%3A%20%27300%27%7D%29%3B%0A%0A%20%20%20%20%20%20%20%20%20%20%20%20%0A%20%20%20%20%20%20%20%20%20%20%20%20%20%20%20%20var%20html_68a20fc07630410b869a37de60f43e10%20%3D%20%24%28%27%3Cdiv%20id%3D%22html_68a20fc07630410b869a37de60f43e10%22%20style%3D%22width%3A%20100.0%25%3B%20height%3A%20100.0%25%3B%22%3ESouth%20Boston%3C/div%3E%27%29%5B0%5D%3B%0A%20%20%20%20%20%20%20%20%20%20%20%20%20%20%20%20popup_85f8e42766fd4535ab09ef57c465e3ec.setContent%28html_68a20fc07630410b869a37de60f43e10%29%3B%0A%20%20%20%20%20%20%20%20%20%20%20%20%0A%0A%20%20%20%20%20%20%20%20%20%20%20%20circle_marker_54d81a93782248619fa3063dd4e59aed.bindPopup%28popup_85f8e42766fd4535ab09ef57c465e3ec%29%3B%0A%0A%20%20%20%20%20%20%20%20%20%20%20%20%0A%20%20%20%20%20%20%20%20%0A%20%20%20%20%0A%20%20%20%20%20%20%20%20%20%20%20%20var%20circle_marker_b6eed1deeb30488fa0c1644594f7f4ce%20%3D%20L.circleMarker%28%0A%20%20%20%20%20%20%20%20%20%20%20%20%20%20%20%20%5B42.3554344%2C-71.1321271%5D%2C%0A%20%20%20%20%20%20%20%20%20%20%20%20%20%20%20%20%7B%0A%20%20%22bubblingMouseEvents%22%3A%20true%2C%0A%20%20%22color%22%3A%20%22%23236CA7%22%2C%0A%20%20%22dashArray%22%3A%20null%2C%0A%20%20%22dashOffset%22%3A%20null%2C%0A%20%20%22fill%22%3A%20true%2C%0A%20%20%22fillColor%22%3A%20%22%23236CA7%22%2C%0A%20%20%22fillOpacity%22%3A%200.7%2C%0A%20%20%22fillRule%22%3A%20%22evenodd%22%2C%0A%20%20%22lineCap%22%3A%20%22round%22%2C%0A%20%20%22lineJoin%22%3A%20%22round%22%2C%0A%20%20%22opacity%22%3A%201.0%2C%0A%20%20%22radius%22%3A%205%2C%0A%20%20%22stroke%22%3A%20true%2C%0A%20%20%22weight%22%3A%203%0A%7D%0A%20%20%20%20%20%20%20%20%20%20%20%20%20%20%20%20%29.addTo%28map_1f6df6a60b354d03925f446b605c16f4%29%3B%0A%20%20%20%20%20%20%20%20%20%20%20%20%0A%20%20%20%20%0A%20%20%20%20%20%20%20%20%20%20%20%20var%20popup_25015c25301a4ff4a238ca723d852720%20%3D%20L.popup%28%7BmaxWidth%3A%20%27300%27%7D%29%3B%0A%0A%20%20%20%20%20%20%20%20%20%20%20%20%0A%20%20%20%20%20%20%20%20%20%20%20%20%20%20%20%20var%20html_edd2ea8eff94488fbafbb9f6e9d6f362%20%3D%20%24%28%27%3Cdiv%20id%3D%22html_edd2ea8eff94488fbafbb9f6e9d6f362%22%20style%3D%22width%3A%20100.0%25%3B%20height%3A%20100.0%25%3B%22%3EAllston%3C/div%3E%27%29%5B0%5D%3B%0A%20%20%20%20%20%20%20%20%20%20%20%20%20%20%20%20popup_25015c25301a4ff4a238ca723d852720.setContent%28html_edd2ea8eff94488fbafbb9f6e9d6f362%29%3B%0A%20%20%20%20%20%20%20%20%20%20%20%20%0A%0A%20%20%20%20%20%20%20%20%20%20%20%20circle_marker_b6eed1deeb30488fa0c1644594f7f4ce.bindPopup%28popup_25015c25301a4ff4a238ca723d852720%29%3B%0A%0A%20%20%20%20%20%20%20%20%20%20%20%20%0A%20%20%20%20%20%20%20%20%0A%20%20%20%20%0A%20%20%20%20%20%20%20%20%20%20%20%20var%20circle_marker_ca3e76d4049e416199563d82cb1679a7%20%3D%20L.circleMarker%28%0A%20%20%20%20%20%20%20%20%20%20%20%20%20%20%20%20%5B42.26972205%2C-70.92086034179461%5D%2C%0A%20%20%20%20%20%20%20%20%20%20%20%20%20%20%20%20%7B%0A%20%20%22bubblingMouseEvents%22%3A%20true%2C%0A%20%20%22color%22%3A%20%22%23236CA7%22%2C%0A%20%20%22dashArray%22%3A%20null%2C%0A%20%20%22dashOffset%22%3A%20null%2C%0A%20%20%22fill%22%3A%20true%2C%0A%20%20%22fillColor%22%3A%20%22%23236CA7%22%2C%0A%20%20%22fillOpacity%22%3A%200.7%2C%0A%20%20%22fillRule%22%3A%20%22evenodd%22%2C%0A%20%20%22lineCap%22%3A%20%22round%22%2C%0A%20%20%22lineJoin%22%3A%20%22round%22%2C%0A%20%20%22opacity%22%3A%201.0%2C%0A%20%20%22radius%22%3A%205%2C%0A%20%20%22stroke%22%3A%20true%2C%0A%20%20%22weight%22%3A%203%0A%7D%0A%20%20%20%20%20%20%20%20%20%20%20%20%20%20%20%20%29.addTo%28map_1f6df6a60b354d03925f446b605c16f4%29%3B%0A%20%20%20%20%20%20%20%20%20%20%20%20%0A%20%20%20%20%0A%20%20%20%20%20%20%20%20%20%20%20%20var%20popup_3b979c51e16d4eb49d7f2a1fa4057cf1%20%3D%20L.popup%28%7BmaxWidth%3A%20%27300%27%7D%29%3B%0A%0A%20%20%20%20%20%20%20%20%20%20%20%20%0A%20%20%20%20%20%20%20%20%20%20%20%20%20%20%20%20var%20html_a5b1adc6de56447cbb757b45f9d9bf7c%20%3D%20%24%28%27%3Cdiv%20id%3D%22html_a5b1adc6de56447cbb757b45f9d9bf7c%22%20style%3D%22width%3A%20100.0%25%3B%20height%3A%20100.0%25%3B%22%3EHarbor%20Islands%3C/div%3E%27%29%5B0%5D%3B%0A%20%20%20%20%20%20%20%20%20%20%20%20%20%20%20%20popup_3b979c51e16d4eb49d7f2a1fa4057cf1.setContent%28html_a5b1adc6de56447cbb757b45f9d9bf7c%29%3B%0A%20%20%20%20%20%20%20%20%20%20%20%20%0A%0A%20%20%20%20%20%20%20%20%20%20%20%20circle_marker_ca3e76d4049e416199563d82cb1679a7.bindPopup%28popup_3b979c51e16d4eb49d7f2a1fa4057cf1%29%3B%0A%0A%20%20%20%20%20%20%20%20%20%20%20%20%0A%20%20%20%20%20%20%20%20%0A%3C/script%3E onload=\"this.contentDocument.open();this.contentDocument.write(    decodeURIComponent(this.getAttribute('data-html')));this.contentDocument.close();\" allowfullscreen webkitallowfullscreen mozallowfullscreen></iframe></div></div>"
      ],
      "text/plain": [
       "<folium.folium.Map at 0x7f9f999c5dd8>"
      ]
     },
     "execution_count": 95,
     "metadata": {},
     "output_type": "execute_result"
    }
   ],
   "source": [
    "# create map of Boston using latitude and longitude values\n",
    "map_boston = folium.Map(location=[42.324843,-71.095016], zoom_start=12) # use coordinates for Roxbury, most central\n",
    "\n",
    "# add markers to map\n",
    "for lat, lng, neighborhood in zip(neighborhoods_df['Lat'], neighborhoods_df['Long'], neighborhoods_df['Name']):\n",
    "    label = '{}'.format(neighborhood)\n",
    "    label = folium.Popup(label, parse_html=True)\n",
    "    folium.CircleMarker(\n",
    "        [lat, lng],\n",
    "        radius=5,\n",
    "        popup=label,\n",
    "        color='#236CA7',\n",
    "        fill=True,\n",
    "        fill_color='#236CA7',\n",
    "        fill_opacity=0.7,\n",
    "        parse_html=False).add_to(map_boston)  \n",
    "    \n",
    "map_boston"
   ]
  },
  {
   "cell_type": "markdown",
   "id": "administrative-frank",
   "metadata": {},
   "source": [
    "### Foursquare API category hierarchy"
   ]
  },
  {
   "cell_type": "markdown",
   "id": "swiss-treaty",
   "metadata": {},
   "source": [
    "Building a hierarchy of categories for grouping restaurants by type was more difficult than I anticipated.\n",
    "\n",
    "The child categories are nested under their parent categories, but the depth of the child categories is unknown. So I had to develop a way to recursively loop through the categories, which I did with the `cat_grouper()` function below.\n",
    "\n",
    "First, I called the `venues/categories` endpoint of the API to get a JSON encoded version of their hierarchy."
   ]
  },
  {
   "cell_type": "code",
   "execution_count": 78,
   "id": "mechanical-polish",
   "metadata": {},
   "outputs": [],
   "source": [
    "url = 'https://api.foursquare.com/v2/venues/categories?&client_id={}&client_secret={}&v={}'.format(\n",
    "    CLIENT_ID, \n",
    "    CLIENT_SECRET, \n",
    "    VERSION, \n",
    ")\n",
    "\n",
    "results = requests.get(url).json()"
   ]
  },
  {
   "cell_type": "code",
   "execution_count": 79,
   "id": "fabulous-spirit",
   "metadata": {},
   "outputs": [
    {
     "name": "stdout",
     "output_type": "stream",
     "text": [
      "Arts & Entertainment\n",
      "College & University\n",
      "Event\n",
      "Food\n",
      "Nightlife Spot\n",
      "Outdoors & Recreation\n",
      "Professional & Other Places\n",
      "Residence\n",
      "Shop & Service\n",
      "Travel & Transport\n"
     ]
    }
   ],
   "source": [
    "# print all top-level categories in the Foursquare API hierarchy\n",
    "categories = results['response']['categories']\n",
    "\n",
    "for category in categories:\n",
    "    print(category['name'])"
   ]
  },
  {
   "cell_type": "markdown",
   "id": "developing-perception",
   "metadata": {},
   "source": [
    "<br>\n",
    "I isolated the Food category from the results of the API categories call: I used a list comprehension to take the element whose dictionary value for the key `name` was `Food`."
   ]
  },
  {
   "cell_type": "code",
   "execution_count": 80,
   "id": "through-arcade",
   "metadata": {},
   "outputs": [],
   "source": [
    "# select food parent category and all descendent categories\n",
    "food_category = [cat for cat in categories if cat['name']=='Food'][0]"
   ]
  },
  {
   "cell_type": "markdown",
   "id": "provincial-scheme",
   "metadata": {},
   "source": [
    "<br>\n",
    "Then, for each child category of the Food category, I built a flattened list of descendent categories. These lists also contained the original child category, so I took the first value of each list as the name of the subcategory.\n",
    "<br><br>\n",
    "\n",
    "_**Note:** For the sake of simplicity, I'm only grouping by the first level of child categories in the Food category. This reduces the number of possible Food subcategories from 357 to 92. This is still a large number, and could be reduced further by manual grouping._"
   ]
  },
  {
   "cell_type": "code",
   "execution_count": 81,
   "id": "constitutional-cornwall",
   "metadata": {},
   "outputs": [],
   "source": [
    "# loop recursively through child categories of the food category\n",
    "# append children to list and add that list to a dictionary\n",
    "\n",
    "def cat_grouper(category):\n",
    "    subcategory_list.append(category['name'])\n",
    "    child_cats = category['categories']\n",
    "    if len(child_cats)>0:\n",
    "        for child in child_cats:\n",
    "            cat_grouper(child)\n",
    "            \n",
    "category_dict = {}\n",
    "\n",
    "for category in food_category['categories']:\n",
    "    \n",
    "    subcategory_list = []\n",
    "    cat_grouper(category)\n",
    "    group_name = subcategory_list[0]\n",
    "    group = subcategory_list[1:]\n",
    "    category_dict[group_name] = group"
   ]
  },
  {
   "cell_type": "code",
   "execution_count": 89,
   "id": "structural-receptor",
   "metadata": {},
   "outputs": [
    {
     "name": "stdout",
     "output_type": "stream",
     "text": [
      "Afghan Restaurant \n",
      "African Restaurant (2 subcategories)\n",
      "\tEthiopian Restaurant\n",
      "\tMauritian Restaurant\n",
      "...\n"
     ]
    }
   ],
   "source": [
    "# print food venue category hierarchy example\n",
    "for category, subcategories in category_dict.items():\n",
    "    print(category,f\"({len(subcategories)} subcategories)\" if subcategories else '')\n",
    "    if subcategories:\n",
    "        for subcategory in subcategories:\n",
    "            print('\\t' + subcategory)\n",
    "        break # stop loop after first subcategory example\n",
    "\n",
    "print('...')"
   ]
  },
  {
   "cell_type": "markdown",
   "id": "cross-difficulty",
   "metadata": {},
   "source": [
    "<br>\n",
    "Lastly, I wrote a function `find_parent` that takes in a category and determines wether or not it is a top-level category. If the category is a descendent, the function returns the top-level category. This is for grouping the food venue categories later."
   ]
  },
  {
   "cell_type": "code",
   "execution_count": 14,
   "id": "brave-geneva",
   "metadata": {},
   "outputs": [],
   "source": [
    "# function for finding parent category\n",
    "def find_parent(category):\n",
    "    \n",
    "    # if category is a top-level category, return itself\n",
    "    if category in category_dict.keys():\n",
    "        return category\n",
    "    \n",
    "    # if category is a subcategory, return the top-level category\n",
    "    else:\n",
    "        for parent, children in category_dict.items():\n",
    "            if category in children:\n",
    "                return parent"
   ]
  },
  {
   "cell_type": "markdown",
   "id": "requested-terrorist",
   "metadata": {},
   "source": [
    "### Venue details"
   ]
  },
  {
   "cell_type": "code",
   "execution_count": 90,
   "id": "frozen-madonna",
   "metadata": {},
   "outputs": [],
   "source": [
    "def getNearbyFoodVenues(names, latitudes, longitudes, radius=1000):\n",
    "    categoryId = '4d4b7105d754a06374d81259' # food category\n",
    "    venues_list=[] # list to hold venues data\n",
    "    for name, lat, lng in zip(names, latitudes, longitudes):\n",
    "        print(name)\n",
    "            \n",
    "        # create the API request URL\n",
    "        url = 'https://api.foursquare.com/v2/venues/explore?&client_id={}&client_secret={}&v={}&ll={},{}&radius={}&limit={}&categoryId={}'.format(\n",
    "            CLIENT_ID, \n",
    "            CLIENT_SECRET, \n",
    "            VERSION, \n",
    "            lat, \n",
    "            lng, \n",
    "            radius, \n",
    "            LIMIT,\n",
    "            categoryId)\n",
    "            \n",
    "        # make the GET request\n",
    "        results = requests.get(url).json()[\"response\"]['groups'][0]['items']\n",
    "        \n",
    "        # return only relevant information for each nearby venue\n",
    "        for v in results:            \n",
    "            venues_list.append([(\n",
    "            name, \n",
    "            lat, \n",
    "            lng, \n",
    "            v['venue']['name'],\n",
    "            v['venue']['id'],\n",
    "            v['venue']['location'].get('city',''), # use .get() method to set default value if city not returned\n",
    "            v['venue']['location'].get('address',''), # use .get() method to set default value if address not returned\n",
    "            v['venue']['location']['lat'], \n",
    "            v['venue']['location']['lng'],  \n",
    "            v['venue']['location']['distance'],  \n",
    "            v['venue']['categories'][0]['name'])])\n",
    "\n",
    "    # loop through list of venues data and build a datafram\n",
    "    nearby_venues = pd.DataFrame([item for venue_list in venues_list for item in venue_list])\n",
    "    nearby_venues.columns = ['Neighborhood', \n",
    "                  'Neighborhood Latitude', \n",
    "                  'Neighborhood Longitude', \n",
    "                  'Venue Name', \n",
    "                  'Venue ID',\n",
    "                  'Venue City',\n",
    "                  'Venue Address',\n",
    "                  'Venue Latitude', \n",
    "                  'Venue Longitude', \n",
    "                  'Venue Distance', \n",
    "                  'Venue Category']\n",
    "    \n",
    "    # return dataframe\n",
    "    return(nearby_venues)"
   ]
  },
  {
   "cell_type": "code",
   "execution_count": 78,
   "id": "elegant-sunset",
   "metadata": {},
   "outputs": [
    {
     "name": "stdout",
     "output_type": "stream",
     "text": [
      "Roslindale\n",
      "Jamaica Plain\n",
      "Mission Hill\n",
      "Longwood\n",
      "Bay Village\n",
      "Leather District\n",
      "Chinatown\n",
      "North End\n",
      "Roxbury\n",
      "South End\n",
      "Back Bay\n",
      "East Boston\n",
      "Charlestown\n",
      "West End\n",
      "Beacon Hill\n",
      "Downtown\n",
      "Fenway\n",
      "Brighton\n",
      "West Roxbury\n",
      "Hyde Park\n",
      "Mattapan\n",
      "Dorchester\n",
      "South Boston Waterfront\n",
      "South Boston\n",
      "Allston\n",
      "Harbor Islands\n"
     ]
    }
   ],
   "source": [
    "food_venues = getNearbyFoodVenues(names=neighborhoods_df['Name'],\n",
    "                                   latitudes=neighborhoods_df['Lat'],\n",
    "                                   longitudes=neighborhoods_df['Long']\n",
    "                                  )"
   ]
  },
  {
   "cell_type": "markdown",
   "id": "previous-olympus",
   "metadata": {},
   "source": [
    "<br>\n",
    "There is quite a bit of overlap between neighborhoods in the nearby search results; many food venues in my dataframe are duplicates. One idea I had was to match the original neighborhood value with the returned city value from the API, but the city value was not always included and the formatting. Instead, I sorted the venues by distance from the original neighborhood coordinates, and dropped the duplicates by their ID.\n",
    "<br><br>\n",
    "\n",
    "_**Note:** This is not a perfect solution, as a venue on the edge of one neighborhood might actually be closer to the coordinates for a different neighborhood, thus skewing the neighborhood results. But, for the sake of simplicity and time, this was the solution I decided to use._"
   ]
  },
  {
   "cell_type": "code",
   "execution_count": 80,
   "id": "junior-techno",
   "metadata": {},
   "outputs": [],
   "source": [
    "# drop any overlapping search results from nearby neighborhoods based on distance\n",
    "food_venues = food_venues.sort_values(by='Venue Distance').drop_duplicates('Venue ID')"
   ]
  },
  {
   "cell_type": "code",
   "execution_count": 194,
   "id": "empty-polymer",
   "metadata": {},
   "outputs": [
    {
     "name": "stdout",
     "output_type": "stream",
     "text": [
      "944 food venues found in Boston\n"
     ]
    }
   ],
   "source": [
    "# print number of food venues after deduplication\n",
    "print('{} food venues found in Boston'.format(food_venues.shape[0]))"
   ]
  },
  {
   "cell_type": "code",
   "execution_count": 81,
   "id": "ordered-conducting",
   "metadata": {},
   "outputs": [],
   "source": [
    "# add series for parent categories\n",
    "food_venues['Category Group'] = food_venues['Venue Category'].apply(find_parent)"
   ]
  },
  {
   "cell_type": "code",
   "execution_count": 195,
   "id": "interesting-methodology",
   "metadata": {},
   "outputs": [
    {
     "name": "stdout",
     "output_type": "stream",
     "text": [
      "Number of categories before grouping: 77\n",
      "Number of categories after grouping: 51\n"
     ]
    }
   ],
   "source": [
    "# count all cateogories\n",
    "print(f\"Number of categories before grouping: {food_venues['Venue Category'].nunique()}\")\n",
    "print(f\"Number of categories after grouping: {food_venues['Category Group'].nunique()}\")"
   ]
  },
  {
   "cell_type": "code",
   "execution_count": 120,
   "id": "chemical-tumor",
   "metadata": {},
   "outputs": [],
   "source": [
    "# write dataframe to file for future reference\n",
    "path = './data/food_venues.csv'\n",
    "food_venues.to_csv(path,index=False)"
   ]
  },
  {
   "cell_type": "raw",
   "id": "killing-judges",
   "metadata": {},
   "source": [
    "ALTERNATE START POINT"
   ]
  },
  {
   "cell_type": "code",
   "execution_count": 3,
   "id": "placed-dividend",
   "metadata": {},
   "outputs": [
    {
     "data": {
      "text/plain": [
       "(944, 12)"
      ]
     },
     "execution_count": 3,
     "metadata": {},
     "output_type": "execute_result"
    }
   ],
   "source": [
    "# load dataframe from file\n",
    "path = './data/food_venues.csv'\n",
    "food_venues = pd.read_csv(path)\n",
    "food_venues.shape"
   ]
  },
  {
   "cell_type": "code",
   "execution_count": 4,
   "id": "prescription-advocacy",
   "metadata": {},
   "outputs": [],
   "source": [
    "# divide venues in two groups\n",
    "fv1 = food_venues[:450]\n",
    "fv2 = food_venues[450:]"
   ]
  },
  {
   "cell_type": "code",
   "execution_count": 5,
   "id": "signal-vision",
   "metadata": {},
   "outputs": [
    {
     "data": {
      "text/html": [
       "<div>\n",
       "<style scoped>\n",
       "    .dataframe tbody tr th:only-of-type {\n",
       "        vertical-align: middle;\n",
       "    }\n",
       "\n",
       "    .dataframe tbody tr th {\n",
       "        vertical-align: top;\n",
       "    }\n",
       "\n",
       "    .dataframe thead th {\n",
       "        text-align: right;\n",
       "    }\n",
       "</style>\n",
       "<table border=\"1\" class=\"dataframe\">\n",
       "  <thead>\n",
       "    <tr style=\"text-align: right;\">\n",
       "      <th></th>\n",
       "      <th>Neighborhood</th>\n",
       "      <th>Neighborhood Latitude</th>\n",
       "      <th>Neighborhood Longitude</th>\n",
       "      <th>Venue Name</th>\n",
       "      <th>Venue ID</th>\n",
       "      <th>Venue City</th>\n",
       "      <th>Venue Address</th>\n",
       "      <th>Venue Latitude</th>\n",
       "      <th>Venue Longitude</th>\n",
       "      <th>Venue Distance</th>\n",
       "      <th>Venue Category</th>\n",
       "      <th>Category Group</th>\n",
       "    </tr>\n",
       "  </thead>\n",
       "  <tbody>\n",
       "    <tr>\n",
       "      <th>450</th>\n",
       "      <td>Downtown</td>\n",
       "      <td>42.358602</td>\n",
       "      <td>-71.063875</td>\n",
       "      <td>Luke's Lobster</td>\n",
       "      <td>57df24c0498e90b0a1084a1b</td>\n",
       "      <td>Boston</td>\n",
       "      <td>290 Washington St</td>\n",
       "      <td>42.357508</td>\n",
       "      <td>-71.058537</td>\n",
       "      <td>455</td>\n",
       "      <td>Seafood Restaurant</td>\n",
       "      <td>Seafood Restaurant</td>\n",
       "    </tr>\n",
       "    <tr>\n",
       "      <th>451</th>\n",
       "      <td>South Boston</td>\n",
       "      <td>42.333431</td>\n",
       "      <td>-71.049495</td>\n",
       "      <td>Domino's Pizza</td>\n",
       "      <td>4b08340cf964a520370623e3</td>\n",
       "      <td>Boston</td>\n",
       "      <td>163 Old Colony Ave</td>\n",
       "      <td>42.334135</td>\n",
       "      <td>-71.054952</td>\n",
       "      <td>455</td>\n",
       "      <td>Pizza Place</td>\n",
       "      <td>Pizza Place</td>\n",
       "    </tr>\n",
       "    <tr>\n",
       "      <th>452</th>\n",
       "      <td>Downtown</td>\n",
       "      <td>42.358602</td>\n",
       "      <td>-71.063875</td>\n",
       "      <td>Chicken &amp; Rice Guys</td>\n",
       "      <td>589b46b63bd4ab27b4a897aa</td>\n",
       "      <td>Boston</td>\n",
       "      <td>280 Washington St</td>\n",
       "      <td>42.357532</td>\n",
       "      <td>-71.058523</td>\n",
       "      <td>456</td>\n",
       "      <td>Asian Restaurant</td>\n",
       "      <td>Asian Restaurant</td>\n",
       "    </tr>\n",
       "    <tr>\n",
       "      <th>453</th>\n",
       "      <td>Allston</td>\n",
       "      <td>42.355434</td>\n",
       "      <td>-71.132127</td>\n",
       "      <td>Whole Heart Provisions</td>\n",
       "      <td>5605cfde498e93568a705014</td>\n",
       "      <td>Boston</td>\n",
       "      <td>487 Cambridge St</td>\n",
       "      <td>42.353745</td>\n",
       "      <td>-71.137189</td>\n",
       "      <td>456</td>\n",
       "      <td>Vegetarian / Vegan Restaurant</td>\n",
       "      <td>Vegetarian / Vegan Restaurant</td>\n",
       "    </tr>\n",
       "    <tr>\n",
       "      <th>454</th>\n",
       "      <td>Longwood</td>\n",
       "      <td>42.341533</td>\n",
       "      <td>-71.110155</td>\n",
       "      <td>Longwood Galleria</td>\n",
       "      <td>4f285b15e4b0dbe3eb65b802</td>\n",
       "      <td>Boston</td>\n",
       "      <td>Brookline Ave @ The Fenway, Boston, MA 02215</td>\n",
       "      <td>42.338291</td>\n",
       "      <td>-71.106756</td>\n",
       "      <td>456</td>\n",
       "      <td>Food Court</td>\n",
       "      <td>Food Court</td>\n",
       "    </tr>\n",
       "    <tr>\n",
       "      <th>...</th>\n",
       "      <td>...</td>\n",
       "      <td>...</td>\n",
       "      <td>...</td>\n",
       "      <td>...</td>\n",
       "      <td>...</td>\n",
       "      <td>...</td>\n",
       "      <td>...</td>\n",
       "      <td>...</td>\n",
       "      <td>...</td>\n",
       "      <td>...</td>\n",
       "      <td>...</td>\n",
       "      <td>...</td>\n",
       "    </tr>\n",
       "    <tr>\n",
       "      <th>939</th>\n",
       "      <td>Fenway</td>\n",
       "      <td>42.345187</td>\n",
       "      <td>-71.104599</td>\n",
       "      <td>Pho Common</td>\n",
       "      <td>5876ca2376f2ca2ec3393bba</td>\n",
       "      <td>Boston</td>\n",
       "      <td>468 Commonwealth Ave</td>\n",
       "      <td>42.348832</td>\n",
       "      <td>-71.093542</td>\n",
       "      <td>996</td>\n",
       "      <td>Vietnamese Restaurant</td>\n",
       "      <td>Asian Restaurant</td>\n",
       "    </tr>\n",
       "    <tr>\n",
       "      <th>940</th>\n",
       "      <td>Mattapan</td>\n",
       "      <td>42.272321</td>\n",
       "      <td>-71.086995</td>\n",
       "      <td>Pit Stop BBQ</td>\n",
       "      <td>4bf84bef8d30d13a50840018</td>\n",
       "      <td>Mattapan</td>\n",
       "      <td>888A Morton St</td>\n",
       "      <td>42.281019</td>\n",
       "      <td>-71.084142</td>\n",
       "      <td>996</td>\n",
       "      <td>BBQ Joint</td>\n",
       "      <td>BBQ Joint</td>\n",
       "    </tr>\n",
       "    <tr>\n",
       "      <th>941</th>\n",
       "      <td>Allston</td>\n",
       "      <td>42.355434</td>\n",
       "      <td>-71.132127</td>\n",
       "      <td>The Flatbread Company</td>\n",
       "      <td>5a11bae9e97dfb10df3682be</td>\n",
       "      <td>Brighton</td>\n",
       "      <td>76 Guest St</td>\n",
       "      <td>42.356927</td>\n",
       "      <td>-71.144099</td>\n",
       "      <td>998</td>\n",
       "      <td>Pizza Place</td>\n",
       "      <td>Pizza Place</td>\n",
       "    </tr>\n",
       "    <tr>\n",
       "      <th>942</th>\n",
       "      <td>Back Bay</td>\n",
       "      <td>42.350549</td>\n",
       "      <td>-71.080311</td>\n",
       "      <td>Woody's Grill &amp; Tap</td>\n",
       "      <td>40b28c80f964a520faf71ee3</td>\n",
       "      <td>Boston</td>\n",
       "      <td>58 Hemenway St</td>\n",
       "      <td>42.344811</td>\n",
       "      <td>-71.089644</td>\n",
       "      <td>998</td>\n",
       "      <td>Pizza Place</td>\n",
       "      <td>Pizza Place</td>\n",
       "    </tr>\n",
       "    <tr>\n",
       "      <th>943</th>\n",
       "      <td>Brighton</td>\n",
       "      <td>42.350097</td>\n",
       "      <td>-71.156442</td>\n",
       "      <td>dates and olives</td>\n",
       "      <td>55f43443498e33bde91d8e04</td>\n",
       "      <td>Boston</td>\n",
       "      <td>160 Chestnut Hill Ave</td>\n",
       "      <td>42.341262</td>\n",
       "      <td>-71.154371</td>\n",
       "      <td>998</td>\n",
       "      <td>Mediterranean Restaurant</td>\n",
       "      <td>Mediterranean Restaurant</td>\n",
       "    </tr>\n",
       "  </tbody>\n",
       "</table>\n",
       "<p>494 rows × 12 columns</p>\n",
       "</div>"
      ],
      "text/plain": [
       "     Neighborhood  Neighborhood Latitude  Neighborhood Longitude  \\\n",
       "450      Downtown              42.358602              -71.063875   \n",
       "451  South Boston              42.333431              -71.049495   \n",
       "452      Downtown              42.358602              -71.063875   \n",
       "453       Allston              42.355434              -71.132127   \n",
       "454      Longwood              42.341533              -71.110155   \n",
       "..            ...                    ...                     ...   \n",
       "939        Fenway              42.345187              -71.104599   \n",
       "940      Mattapan              42.272321              -71.086995   \n",
       "941       Allston              42.355434              -71.132127   \n",
       "942      Back Bay              42.350549              -71.080311   \n",
       "943      Brighton              42.350097              -71.156442   \n",
       "\n",
       "                 Venue Name                  Venue ID Venue City  \\\n",
       "450          Luke's Lobster  57df24c0498e90b0a1084a1b     Boston   \n",
       "451          Domino's Pizza  4b08340cf964a520370623e3     Boston   \n",
       "452     Chicken & Rice Guys  589b46b63bd4ab27b4a897aa     Boston   \n",
       "453  Whole Heart Provisions  5605cfde498e93568a705014     Boston   \n",
       "454       Longwood Galleria  4f285b15e4b0dbe3eb65b802     Boston   \n",
       "..                      ...                       ...        ...   \n",
       "939              Pho Common  5876ca2376f2ca2ec3393bba     Boston   \n",
       "940            Pit Stop BBQ  4bf84bef8d30d13a50840018   Mattapan   \n",
       "941   The Flatbread Company  5a11bae9e97dfb10df3682be   Brighton   \n",
       "942     Woody's Grill & Tap  40b28c80f964a520faf71ee3     Boston   \n",
       "943        dates and olives  55f43443498e33bde91d8e04     Boston   \n",
       "\n",
       "                                    Venue Address  Venue Latitude  \\\n",
       "450                             290 Washington St       42.357508   \n",
       "451                            163 Old Colony Ave       42.334135   \n",
       "452                             280 Washington St       42.357532   \n",
       "453                              487 Cambridge St       42.353745   \n",
       "454  Brookline Ave @ The Fenway, Boston, MA 02215       42.338291   \n",
       "..                                            ...             ...   \n",
       "939                          468 Commonwealth Ave       42.348832   \n",
       "940                                888A Morton St       42.281019   \n",
       "941                                   76 Guest St       42.356927   \n",
       "942                                58 Hemenway St       42.344811   \n",
       "943                         160 Chestnut Hill Ave       42.341262   \n",
       "\n",
       "     Venue Longitude  Venue Distance                 Venue Category  \\\n",
       "450       -71.058537             455             Seafood Restaurant   \n",
       "451       -71.054952             455                    Pizza Place   \n",
       "452       -71.058523             456               Asian Restaurant   \n",
       "453       -71.137189             456  Vegetarian / Vegan Restaurant   \n",
       "454       -71.106756             456                     Food Court   \n",
       "..               ...             ...                            ...   \n",
       "939       -71.093542             996          Vietnamese Restaurant   \n",
       "940       -71.084142             996                      BBQ Joint   \n",
       "941       -71.144099             998                    Pizza Place   \n",
       "942       -71.089644             998                    Pizza Place   \n",
       "943       -71.154371             998       Mediterranean Restaurant   \n",
       "\n",
       "                    Category Group  \n",
       "450             Seafood Restaurant  \n",
       "451                    Pizza Place  \n",
       "452               Asian Restaurant  \n",
       "453  Vegetarian / Vegan Restaurant  \n",
       "454                     Food Court  \n",
       "..                             ...  \n",
       "939               Asian Restaurant  \n",
       "940                      BBQ Joint  \n",
       "941                    Pizza Place  \n",
       "942                    Pizza Place  \n",
       "943       Mediterranean Restaurant  \n",
       "\n",
       "[494 rows x 12 columns]"
      ]
     },
     "execution_count": 5,
     "metadata": {},
     "output_type": "execute_result"
    }
   ],
   "source": [
    "fv2"
   ]
  },
  {
   "cell_type": "code",
   "execution_count": 6,
   "id": "superior-color",
   "metadata": {},
   "outputs": [],
   "source": [
    "def getVenueDetails(venue_ids):\n",
    "    venues_list = []\n",
    "    for venue_id in venue_ids:\n",
    "        url = 'https://api.foursquare.com/v2/venues/{}?&client_id={}&client_secret={}&v={}'.format(\n",
    "            venue_id,\n",
    "            CLIENT_ID, \n",
    "            CLIENT_SECRET, \n",
    "            VERSION)\n",
    "\n",
    "        # make the GET request\n",
    "        r = requests.get(url).json()['response']\n",
    "        try:\n",
    "            v = r.get('venue',{})\n",
    "\n",
    "            venue_details = [(\n",
    "                v.get('id',None),\n",
    "                v.get('name',None),\n",
    "                v.get('rating',None),\n",
    "                v.get('ratingSignals',None),\n",
    "                v.get('price',{}).get('tier',None),\n",
    "                v.get('price',{}).get('message',None)\n",
    "            )]\n",
    "\n",
    "            venues_list.append(venue_details)\n",
    "        except:\n",
    "            print(r)\n",
    "\n",
    "\n",
    "    venue_details = pd.DataFrame([item for venue_details in venues_list for item in venue_details])\n",
    "    venue_details.columns = [\n",
    "        'Venue ID',\n",
    "        'Venue Name',\n",
    "        'Venue Rating',\n",
    "        'Venue Rating Signals',\n",
    "        'Venue Price Tier',\n",
    "        'Venue Price Message']\n",
    "\n",
    "    return venue_details"
   ]
  },
  {
   "cell_type": "raw",
   "id": "injured-shipping",
   "metadata": {},
   "source": [
    "# get details for first half of venue dataset\n",
    "fv1_details = getVenueDetails(fv1['Venue ID'])\n",
    "fv1_details.shape"
   ]
  },
  {
   "cell_type": "raw",
   "id": "egyptian-sleeve",
   "metadata": {},
   "source": [
    "# write data to file for reference\n",
    "fv1_details.to_csv('./data/food_venue_details_1.csv')"
   ]
  },
  {
   "cell_type": "raw",
   "id": "vocational-delay",
   "metadata": {},
   "source": [
    "# get details for first half of venue dataset\n",
    "fv2_details = getVenueDetails(fv2['Venue ID'])\n",
    "fv2_details.shape"
   ]
  },
  {
   "cell_type": "raw",
   "id": "peaceful-framework",
   "metadata": {},
   "source": [
    "# write data to file for reference\n",
    "fv2_details.to_csv('./data/food_venue_details_2.csv')"
   ]
  },
  {
   "cell_type": "code",
   "execution_count": 14,
   "id": "honey-queen",
   "metadata": {},
   "outputs": [
    {
     "data": {
      "text/plain": [
       "(944, 6)"
      ]
     },
     "execution_count": 14,
     "metadata": {},
     "output_type": "execute_result"
    }
   ],
   "source": [
    "# load datasets and combine\n",
    "fv1_details = pd.read_csv('./data/food_venue_details_1.csv',index_col=0)\n",
    "fv2_details = pd.read_csv('./data/food_venue_details_2.csv',index_col=0)\n",
    "fv_details = pd.concat([fv1_details,fv2_details],ignore_index=True)\n",
    "fv_details.shape"
   ]
  },
  {
   "cell_type": "code",
   "execution_count": 15,
   "id": "governmental-developer",
   "metadata": {},
   "outputs": [
    {
     "data": {
      "text/plain": [
       "(944, 11)"
      ]
     },
     "execution_count": 15,
     "metadata": {},
     "output_type": "execute_result"
    }
   ],
   "source": [
    "food_venues = fv_details.merge(food_venues[['Venue ID',\n",
    "                                            'Neighborhood',\n",
    "                                            'Venue Category',\n",
    "                                            'Category Group',\n",
    "                                            'Venue Latitude',\n",
    "                                            'Venue Longitude']],\n",
    "                               left_on='Venue ID',\n",
    "                               right_on='Venue ID',\n",
    "                               how='left')\n",
    "food_venues.shape"
   ]
  },
  {
   "cell_type": "markdown",
   "id": "technical-healing",
   "metadata": {},
   "source": [
    "## Explore data"
   ]
  },
  {
   "cell_type": "code",
   "execution_count": 16,
   "id": "trained-toronto",
   "metadata": {},
   "outputs": [
    {
     "data": {
      "text/plain": [
       "Dunkin'                28\n",
       "SUBWAY                 11\n",
       "sweetgreen              8\n",
       "Tatte Bakery & Cafe     8\n",
       "Domino's Pizza          7\n",
       "McDonald's              7\n",
       "B.GOOD                  3\n",
       "Legal Sea Foods         3\n",
       "Tasty Burger            3\n",
       "Burger King             3\n",
       "Name: Venue Name, dtype: int64"
      ]
     },
     "execution_count": 16,
     "metadata": {},
     "output_type": "execute_result"
    }
   ],
   "source": [
    "# venues with the most locations\n",
    "food_venues['Venue Name'].value_counts().head()"
   ]
  },
  {
   "cell_type": "code",
   "execution_count": 152,
   "id": "intellectual-minute",
   "metadata": {},
   "outputs": [
    {
     "data": {
      "text/plain": [
       "Neighborhood\n",
       "Fenway       83\n",
       "Back Bay     72\n",
       "North End    64\n",
       "South End    60\n",
       "Brighton     57\n",
       "dtype: int64"
      ]
     },
     "execution_count": 152,
     "metadata": {},
     "output_type": "execute_result"
    }
   ],
   "source": [
    "# venues in each neighborhood\n",
    "neighborhood_counts = food_venues.value_counts('Neighborhood')\n",
    "neighborhood_counts.head()"
   ]
  },
  {
   "cell_type": "code",
   "execution_count": 153,
   "id": "sorted-alcohol",
   "metadata": {},
   "outputs": [
    {
     "data": {
      "text/plain": [
       "Neighborhood\n",
       "Allston        8.163830\n",
       "Back Bay       8.165278\n",
       "Bay Village    8.145714\n",
       "Beacon Hill    7.760000\n",
       "Brighton       7.186486\n",
       "Name: Venue Rating, dtype: float64"
      ]
     },
     "execution_count": 153,
     "metadata": {},
     "output_type": "execute_result"
    }
   ],
   "source": [
    "# mean rating for each neighborhood\n",
    "neighborhood_ratings = food_venues.groupby('Neighborhood')['Venue Rating'].mean()\n",
    "neighborhood_ratings.head()"
   ]
  },
  {
   "cell_type": "code",
   "execution_count": 157,
   "id": "adaptive-principal",
   "metadata": {},
   "outputs": [
    {
     "data": {
      "text/plain": [
       "<AxesSubplot:ylabel='Neighborhood'>"
      ]
     },
     "execution_count": 157,
     "metadata": {},
     "output_type": "execute_result"
    },
    {
     "data": {
      "image/png": "[encoded data removed]",
      "text/plain": [
       "<Figure size 432x288 with 1 Axes>"
      ]
     },
     "metadata": {},
     "output_type": "display_data"
    }
   ],
   "source": [
    "# mean price tier for each neighborhood\n",
    "neighborhood_prices = food_venues.groupby('Neighborhood')['Venue Price Tier'].mean()\n",
    "neighborhood_prices.sort_values().plot.barh()"
   ]
  },
  {
   "cell_type": "code",
   "execution_count": 17,
   "id": "tribal-participation",
   "metadata": {},
   "outputs": [],
   "source": [
    "# create series for multiple locations (boolean)\n",
    "food_venues['Multiple Locations'] = food_venues.groupby('Venue Name')['Venue Name'].transform('count')>1\n",
    "food_venues['Multiple Locations'] = food_venues['Multiple Locations'].astype(int)"
   ]
  },
  {
   "cell_type": "code",
   "execution_count": 18,
   "id": "isolated-joshua",
   "metadata": {},
   "outputs": [
    {
     "data": {
      "image/png": "[encoded data removed]",
      "text/plain": [
       "<Figure size 432x288 with 1 Axes>"
      ]
     },
     "metadata": {},
     "output_type": "display_data"
    }
   ],
   "source": [
    "# plot venue rating by multiple locations - box plot\n",
    "sns.boxplot(x=\"Multiple Locations\", y=\"Venue Rating\", data=food_venues)\n",
    "plt.title('Venue rating by whether or not there are multiple locations')\n",
    "plt.show()"
   ]
  },
  {
   "cell_type": "code",
   "execution_count": 20,
   "id": "brutal-modern",
   "metadata": {},
   "outputs": [
    {
     "data": {
      "text/html": [
       "<div>\n",
       "<style scoped>\n",
       "    .dataframe tbody tr th:only-of-type {\n",
       "        vertical-align: middle;\n",
       "    }\n",
       "\n",
       "    .dataframe tbody tr th {\n",
       "        vertical-align: top;\n",
       "    }\n",
       "\n",
       "    .dataframe thead th {\n",
       "        text-align: right;\n",
       "    }\n",
       "</style>\n",
       "<table border=\"1\" class=\"dataframe\">\n",
       "  <thead>\n",
       "    <tr style=\"text-align: right;\">\n",
       "      <th></th>\n",
       "      <th></th>\n",
       "      <th>Percentage</th>\n",
       "    </tr>\n",
       "    <tr>\n",
       "      <th>Neighborhood</th>\n",
       "      <th>Multiple Locations</th>\n",
       "      <th></th>\n",
       "    </tr>\n",
       "  </thead>\n",
       "  <tbody>\n",
       "    <tr>\n",
       "      <th rowspan=\"2\" valign=\"top\">Allston</th>\n",
       "      <th>0</th>\n",
       "      <td>0.979167</td>\n",
       "    </tr>\n",
       "    <tr>\n",
       "      <th>1</th>\n",
       "      <td>0.020833</td>\n",
       "    </tr>\n",
       "    <tr>\n",
       "      <th rowspan=\"2\" valign=\"top\">Back Bay</th>\n",
       "      <th>0</th>\n",
       "      <td>0.833333</td>\n",
       "    </tr>\n",
       "    <tr>\n",
       "      <th>1</th>\n",
       "      <td>0.166667</td>\n",
       "    </tr>\n",
       "    <tr>\n",
       "      <th rowspan=\"2\" valign=\"top\">Bay Village</th>\n",
       "      <th>0</th>\n",
       "      <td>0.742857</td>\n",
       "    </tr>\n",
       "    <tr>\n",
       "      <th>1</th>\n",
       "      <td>0.257143</td>\n",
       "    </tr>\n",
       "    <tr>\n",
       "      <th rowspan=\"2\" valign=\"top\">Beacon Hill</th>\n",
       "      <th>0</th>\n",
       "      <td>0.880000</td>\n",
       "    </tr>\n",
       "    <tr>\n",
       "      <th>1</th>\n",
       "      <td>0.120000</td>\n",
       "    </tr>\n",
       "    <tr>\n",
       "      <th rowspan=\"2\" valign=\"top\">Brighton</th>\n",
       "      <th>0</th>\n",
       "      <td>0.824561</td>\n",
       "    </tr>\n",
       "    <tr>\n",
       "      <th>1</th>\n",
       "      <td>0.175439</td>\n",
       "    </tr>\n",
       "    <tr>\n",
       "      <th rowspan=\"2\" valign=\"top\">Charlestown</th>\n",
       "      <th>0</th>\n",
       "      <td>0.815789</td>\n",
       "    </tr>\n",
       "    <tr>\n",
       "      <th>1</th>\n",
       "      <td>0.184211</td>\n",
       "    </tr>\n",
       "    <tr>\n",
       "      <th rowspan=\"2\" valign=\"top\">Chinatown</th>\n",
       "      <th>0</th>\n",
       "      <td>0.974359</td>\n",
       "    </tr>\n",
       "    <tr>\n",
       "      <th>1</th>\n",
       "      <td>0.025641</td>\n",
       "    </tr>\n",
       "    <tr>\n",
       "      <th rowspan=\"2\" valign=\"top\">Dorchester</th>\n",
       "      <th>0</th>\n",
       "      <td>0.823529</td>\n",
       "    </tr>\n",
       "    <tr>\n",
       "      <th>1</th>\n",
       "      <td>0.176471</td>\n",
       "    </tr>\n",
       "    <tr>\n",
       "      <th rowspan=\"2\" valign=\"top\">Downtown</th>\n",
       "      <th>0</th>\n",
       "      <td>0.864865</td>\n",
       "    </tr>\n",
       "    <tr>\n",
       "      <th>1</th>\n",
       "      <td>0.135135</td>\n",
       "    </tr>\n",
       "    <tr>\n",
       "      <th rowspan=\"2\" valign=\"top\">East Boston</th>\n",
       "      <th>0</th>\n",
       "      <td>0.894737</td>\n",
       "    </tr>\n",
       "    <tr>\n",
       "      <th>1</th>\n",
       "      <td>0.105263</td>\n",
       "    </tr>\n",
       "    <tr>\n",
       "      <th rowspan=\"2\" valign=\"top\">Fenway</th>\n",
       "      <th>0</th>\n",
       "      <td>0.867470</td>\n",
       "    </tr>\n",
       "    <tr>\n",
       "      <th>1</th>\n",
       "      <td>0.132530</td>\n",
       "    </tr>\n",
       "    <tr>\n",
       "      <th rowspan=\"2\" valign=\"top\">Hyde Park</th>\n",
       "      <th>0</th>\n",
       "      <td>0.764706</td>\n",
       "    </tr>\n",
       "    <tr>\n",
       "      <th>1</th>\n",
       "      <td>0.235294</td>\n",
       "    </tr>\n",
       "    <tr>\n",
       "      <th rowspan=\"2\" valign=\"top\">Jamaica Plain</th>\n",
       "      <th>0</th>\n",
       "      <td>0.892857</td>\n",
       "    </tr>\n",
       "    <tr>\n",
       "      <th>1</th>\n",
       "      <td>0.107143</td>\n",
       "    </tr>\n",
       "    <tr>\n",
       "      <th rowspan=\"2\" valign=\"top\">Leather District</th>\n",
       "      <th>0</th>\n",
       "      <td>0.888889</td>\n",
       "    </tr>\n",
       "    <tr>\n",
       "      <th>1</th>\n",
       "      <td>0.111111</td>\n",
       "    </tr>\n",
       "    <tr>\n",
       "      <th rowspan=\"2\" valign=\"top\">Longwood</th>\n",
       "      <th>0</th>\n",
       "      <td>0.729730</td>\n",
       "    </tr>\n",
       "    <tr>\n",
       "      <th>1</th>\n",
       "      <td>0.270270</td>\n",
       "    </tr>\n",
       "    <tr>\n",
       "      <th rowspan=\"2\" valign=\"top\">Mattapan</th>\n",
       "      <th>0</th>\n",
       "      <td>0.687500</td>\n",
       "    </tr>\n",
       "    <tr>\n",
       "      <th>1</th>\n",
       "      <td>0.312500</td>\n",
       "    </tr>\n",
       "    <tr>\n",
       "      <th rowspan=\"2\" valign=\"top\">Mission Hill</th>\n",
       "      <th>0</th>\n",
       "      <td>0.769231</td>\n",
       "    </tr>\n",
       "    <tr>\n",
       "      <th>1</th>\n",
       "      <td>0.230769</td>\n",
       "    </tr>\n",
       "    <tr>\n",
       "      <th rowspan=\"2\" valign=\"top\">North End</th>\n",
       "      <th>0</th>\n",
       "      <td>0.953125</td>\n",
       "    </tr>\n",
       "    <tr>\n",
       "      <th>1</th>\n",
       "      <td>0.046875</td>\n",
       "    </tr>\n",
       "    <tr>\n",
       "      <th rowspan=\"2\" valign=\"top\">Roslindale</th>\n",
       "      <th>0</th>\n",
       "      <td>0.870968</td>\n",
       "    </tr>\n",
       "    <tr>\n",
       "      <th>1</th>\n",
       "      <td>0.129032</td>\n",
       "    </tr>\n",
       "    <tr>\n",
       "      <th rowspan=\"2\" valign=\"top\">Roxbury</th>\n",
       "      <th>0</th>\n",
       "      <td>0.826087</td>\n",
       "    </tr>\n",
       "    <tr>\n",
       "      <th>1</th>\n",
       "      <td>0.173913</td>\n",
       "    </tr>\n",
       "    <tr>\n",
       "      <th rowspan=\"2\" valign=\"top\">South Boston</th>\n",
       "      <th>0</th>\n",
       "      <td>0.846154</td>\n",
       "    </tr>\n",
       "    <tr>\n",
       "      <th>1</th>\n",
       "      <td>0.153846</td>\n",
       "    </tr>\n",
       "    <tr>\n",
       "      <th rowspan=\"2\" valign=\"top\">South Boston Waterfront</th>\n",
       "      <th>0</th>\n",
       "      <td>0.790698</td>\n",
       "    </tr>\n",
       "    <tr>\n",
       "      <th>1</th>\n",
       "      <td>0.209302</td>\n",
       "    </tr>\n",
       "    <tr>\n",
       "      <th rowspan=\"2\" valign=\"top\">South End</th>\n",
       "      <th>0</th>\n",
       "      <td>0.916667</td>\n",
       "    </tr>\n",
       "    <tr>\n",
       "      <th>1</th>\n",
       "      <td>0.083333</td>\n",
       "    </tr>\n",
       "    <tr>\n",
       "      <th rowspan=\"2\" valign=\"top\">West End</th>\n",
       "      <th>0</th>\n",
       "      <td>0.714286</td>\n",
       "    </tr>\n",
       "    <tr>\n",
       "      <th>1</th>\n",
       "      <td>0.285714</td>\n",
       "    </tr>\n",
       "    <tr>\n",
       "      <th rowspan=\"2\" valign=\"top\">West Roxbury</th>\n",
       "      <th>0</th>\n",
       "      <td>0.787879</td>\n",
       "    </tr>\n",
       "    <tr>\n",
       "      <th>1</th>\n",
       "      <td>0.212121</td>\n",
       "    </tr>\n",
       "  </tbody>\n",
       "</table>\n",
       "</div>"
      ],
      "text/plain": [
       "                                            Percentage\n",
       "Neighborhood            Multiple Locations            \n",
       "Allston                 0                     0.979167\n",
       "                        1                     0.020833\n",
       "Back Bay                0                     0.833333\n",
       "                        1                     0.166667\n",
       "Bay Village             0                     0.742857\n",
       "                        1                     0.257143\n",
       "Beacon Hill             0                     0.880000\n",
       "                        1                     0.120000\n",
       "Brighton                0                     0.824561\n",
       "                        1                     0.175439\n",
       "Charlestown             0                     0.815789\n",
       "                        1                     0.184211\n",
       "Chinatown               0                     0.974359\n",
       "                        1                     0.025641\n",
       "Dorchester              0                     0.823529\n",
       "                        1                     0.176471\n",
       "Downtown                0                     0.864865\n",
       "                        1                     0.135135\n",
       "East Boston             0                     0.894737\n",
       "                        1                     0.105263\n",
       "Fenway                  0                     0.867470\n",
       "                        1                     0.132530\n",
       "Hyde Park               0                     0.764706\n",
       "                        1                     0.235294\n",
       "Jamaica Plain           0                     0.892857\n",
       "                        1                     0.107143\n",
       "Leather District        0                     0.888889\n",
       "                        1                     0.111111\n",
       "Longwood                0                     0.729730\n",
       "                        1                     0.270270\n",
       "Mattapan                0                     0.687500\n",
       "                        1                     0.312500\n",
       "Mission Hill            0                     0.769231\n",
       "                        1                     0.230769\n",
       "North End               0                     0.953125\n",
       "                        1                     0.046875\n",
       "Roslindale              0                     0.870968\n",
       "                        1                     0.129032\n",
       "Roxbury                 0                     0.826087\n",
       "                        1                     0.173913\n",
       "South Boston            0                     0.846154\n",
       "                        1                     0.153846\n",
       "South Boston Waterfront 0                     0.790698\n",
       "                        1                     0.209302\n",
       "South End               0                     0.916667\n",
       "                        1                     0.083333\n",
       "West End                0                     0.714286\n",
       "                        1                     0.285714\n",
       "West Roxbury            0                     0.787879\n",
       "                        1                     0.212121"
      ]
     },
     "execution_count": 20,
     "metadata": {},
     "output_type": "execute_result"
    }
   ],
   "source": [
    "# food venues multiple locations by neighborhood\n",
    "grouped = food_venues.groupby('Neighborhood')['Multiple Locations']\n",
    "grouped.value_counts(normalize=True).to_frame(name='Percentage')"
   ]
  },
  {
   "cell_type": "code",
   "execution_count": 21,
   "id": "smart-dietary",
   "metadata": {},
   "outputs": [
    {
     "data": {
      "text/plain": [
       "Allston                    48\n",
       "Back Bay                   72\n",
       "Bay Village                35\n",
       "Beacon Hill                25\n",
       "Brighton                   57\n",
       "Charlestown                38\n",
       "Chinatown                  39\n",
       "Dorchester                 17\n",
       "Downtown                   37\n",
       "East Boston                38\n",
       "Fenway                     83\n",
       "Hyde Park                  17\n",
       "Jamaica Plain              28\n",
       "Leather District           18\n",
       "Longwood                   37\n",
       "Mattapan                   16\n",
       "Mission Hill               39\n",
       "North End                  64\n",
       "Roslindale                 31\n",
       "Roxbury                    23\n",
       "South Boston               39\n",
       "South Boston Waterfront    43\n",
       "South End                  60\n",
       "West End                    7\n",
       "West Roxbury               33\n",
       "Name: Neighborhood, dtype: int64"
      ]
     },
     "execution_count": 21,
     "metadata": {},
     "output_type": "execute_result"
    }
   ],
   "source": [
    "# venues in each neighborhood\n",
    "food_venues['Neighborhood'].value_counts().sort_index()"
   ]
  },
  {
   "cell_type": "code",
   "execution_count": 23,
   "id": "spatial-restriction",
   "metadata": {
    "collapsed": true,
    "jupyter": {
     "outputs_hidden": true,
     "source_hidden": true
    }
   },
   "outputs": [
    {
     "data": {
      "image/png": "[encoded data removed]",
      "text/plain": [
       "<Figure size 432x288 with 1 Axes>"
      ]
     },
     "metadata": {},
     "output_type": "display_data"
    }
   ],
   "source": [
    "frequent_venues = food_venues['Category Group'].value_counts().reset_index().rename(columns={'index':'Category','Category Group':'Venues'})\n",
    "sns.barplot(data=frequent_venues,x='Venues',y='Category',color='tab:blue')\n",
    "plt.title('Top 10 most popular food venue categories')\n",
    "plt.show()"
   ]
  },
  {
   "cell_type": "markdown",
   "id": "premier-obligation",
   "metadata": {},
   "source": [
    "### Question: What are the most common food venue types? "
   ]
  },
  {
   "cell_type": "code",
   "execution_count": 68,
   "id": "missing-penguin",
   "metadata": {},
   "outputs": [
    {
     "data": {
      "image/png": "[encoded data removed]",
      "text/plain": [
       "<Figure size 432x288 with 1 Axes>"
      ]
     },
     "metadata": {},
     "output_type": "display_data"
    }
   ],
   "source": [
    "# most popular food venues types\n",
    "food_venues['Category Group'].value_counts().head(10).sort_values(ascending=True).plot.barh(width=.8,color='tab:blue',alpha=.8)\n",
    "plt.title('Top 10 most popular food venue categories in Boston')\n",
    "plt.show()"
   ]
  },
  {
   "cell_type": "markdown",
   "id": "civic-mission",
   "metadata": {},
   "source": [
    "**Answer:** The most common restaurant type in Boston is Asian Restaurant, followed by Pizza Place, and American Restaurant, and Italian Restaurant.\n",
    "\n",
    "_**Note:** Remember from before, the Asian Restaurant category in the Foursquare category hierarchy has the most subcategories (88), so from one perspective, it makes sense that it is the most frequent category grouping in this dataset. If the Pizza Place category was grouped with the Italian Restaurant category rather than being distinct, it would be the most frequent category._"
   ]
  },
  {
   "cell_type": "markdown",
   "id": "selected-apparatus",
   "metadata": {},
   "source": [
    "### Question: What is the distribution of the venue ratings?"
   ]
  },
  {
   "cell_type": "code",
   "execution_count": 23,
   "id": "polyphonic-credit",
   "metadata": {},
   "outputs": [
    {
     "data": {
      "text/plain": [
       "<AxesSubplot:xlabel='Venue Rating', ylabel='Count'>"
      ]
     },
     "execution_count": 23,
     "metadata": {},
     "output_type": "execute_result"
    },
    {
     "data": {
      "image/png": "[encoded data removed]",
      "text/plain": [
       "<Figure size 432x288 with 1 Axes>"
      ]
     },
     "metadata": {},
     "output_type": "display_data"
    }
   ],
   "source": [
    "sns.histplot(food_venues,x='Venue Rating')"
   ]
  },
  {
   "cell_type": "markdown",
   "id": "adverse-advertising",
   "metadata": {},
   "source": [
    "**Answer:** Most of the venues are rated between 7 and 9, with very few rated below 6."
   ]
  },
  {
   "cell_type": "markdown",
   "id": "graphic-testing",
   "metadata": {},
   "source": [
    "### Question: How many venues are there in each price category?"
   ]
  },
  {
   "cell_type": "code",
   "execution_count": 96,
   "id": "oriental-waste",
   "metadata": {},
   "outputs": [
    {
     "data": {
      "image/png": "[encoded data removed]",
      "text/plain": [
       "<Figure size 432x288 with 1 Axes>"
      ]
     },
     "metadata": {},
     "output_type": "display_data"
    }
   ],
   "source": [
    "food_venues.value_counts('Venue Price Message').plot.bar(color='tab:blue', alpha=.8)\n",
    "plt.title('Number of venues by price category')\n",
    "plt.xticks(rotation=0)\n",
    "plt.show()"
   ]
  },
  {
   "cell_type": "markdown",
   "id": "happy-roots",
   "metadata": {},
   "source": [
    "**Answer:** Most venues are in the `Cheap` or `Moderate` price categories, with relatively few in the `Very Expensive` category"
   ]
  },
  {
   "cell_type": "markdown",
   "id": "corrected-tomorrow",
   "metadata": {},
   "source": [
    "### Question: Does venue rating correspond with price?"
   ]
  },
  {
   "cell_type": "code",
   "execution_count": 25,
   "id": "liberal-sailing",
   "metadata": {
    "jupyter": {
     "source_hidden": true
    }
   },
   "outputs": [
    {
     "data": {
      "image/png": "[encoded data removed]",
      "text/plain": [
       "<Figure size 432x288 with 1 Axes>"
      ]
     },
     "metadata": {},
     "output_type": "display_data"
    }
   ],
   "source": [
    "# plot venue rating by price - box plot\n",
    "sns.boxplot(x=\"Venue Price Message\", y=\"Venue Rating\", data=food_venues)\n",
    "plt.title('Venue rating by price category')\n",
    "plt.show()"
   ]
  },
  {
   "cell_type": "markdown",
   "id": "passing-commission",
   "metadata": {},
   "source": [
    "**Answer:** The median rating increases as the price tier increases. The range of ratings in each price category is smaller as the price increases, with `Very Expensive` restaurants having the smallest range of all, which is likely related to that category having the fewest number of venues.\n",
    "\n",
    "Another way to look at this relationship between price and rating is through a regression line."
   ]
  },
  {
   "cell_type": "code",
   "execution_count": 27,
   "id": "referenced-classification",
   "metadata": {
    "jupyter": {
     "source_hidden": true
    }
   },
   "outputs": [
    {
     "data": {
      "image/png": "[encoded data removed]",
      "text/plain": [
       "<Figure size 432x288 with 1 Axes>"
      ]
     },
     "metadata": {},
     "output_type": "display_data"
    }
   ],
   "source": [
    "# plot venue rating by price\n",
    "sns.regplot(data=food_venues,x='Venue Price Tier', y='Venue Rating',color='tab:blue')\n",
    "plt.title('Average venue rating by price tier')\n",
    "plt.show()"
   ]
  },
  {
   "cell_type": "markdown",
   "id": "secondary-princeton",
   "metadata": {},
   "source": [
    "**Result:** There is a strong positive correlation between a venue's price tier and the average rating."
   ]
  },
  {
   "cell_type": "markdown",
   "id": "aerial-salon",
   "metadata": {},
   "source": [
    "### Question: Does average venue price correspond with per capita income by neighborhood?"
   ]
  },
  {
   "cell_type": "code",
   "execution_count": 28,
   "id": "independent-enterprise",
   "metadata": {},
   "outputs": [
    {
     "data": {
      "text/html": [
       "<div>\n",
       "<style scoped>\n",
       "    .dataframe tbody tr th:only-of-type {\n",
       "        vertical-align: middle;\n",
       "    }\n",
       "\n",
       "    .dataframe tbody tr th {\n",
       "        vertical-align: top;\n",
       "    }\n",
       "\n",
       "    .dataframe thead th {\n",
       "        text-align: right;\n",
       "    }\n",
       "</style>\n",
       "<table border=\"1\" class=\"dataframe\">\n",
       "  <thead>\n",
       "    <tr style=\"text-align: right;\">\n",
       "      <th></th>\n",
       "      <th>Mean Per Capita Income</th>\n",
       "      <th>Median Household Income</th>\n",
       "      <th>Median Family Income</th>\n",
       "    </tr>\n",
       "    <tr>\n",
       "      <th>Neighborhood</th>\n",
       "      <th></th>\n",
       "      <th></th>\n",
       "      <th></th>\n",
       "    </tr>\n",
       "  </thead>\n",
       "  <tbody>\n",
       "    <tr>\n",
       "      <th>Allston</th>\n",
       "      <td>$34,149</td>\n",
       "      <td>$58,141</td>\n",
       "      <td>$73,975</td>\n",
       "    </tr>\n",
       "    <tr>\n",
       "      <th>Back Bay</th>\n",
       "      <td>$110,677</td>\n",
       "      <td>$111,185</td>\n",
       "      <td>$197,348</td>\n",
       "    </tr>\n",
       "    <tr>\n",
       "      <th>Beacon Hill</th>\n",
       "      <td>$100,005</td>\n",
       "      <td>$110,841</td>\n",
       "      <td>$205,960</td>\n",
       "    </tr>\n",
       "    <tr>\n",
       "      <th>Brighton</th>\n",
       "      <td>$41,261</td>\n",
       "      <td>$77,625</td>\n",
       "      <td>$92,364</td>\n",
       "    </tr>\n",
       "    <tr>\n",
       "      <th>Charlestown</th>\n",
       "      <td>$75,339</td>\n",
       "      <td>$127,400</td>\n",
       "      <td>$162,386</td>\n",
       "    </tr>\n",
       "  </tbody>\n",
       "</table>\n",
       "</div>"
      ],
      "text/plain": [
       "             Mean Per Capita Income Median Household Income  \\\n",
       "Neighborhood                                                  \n",
       "Allston                     $34,149                $58,141    \n",
       "Back Bay                   $110,677               $111,185    \n",
       "Beacon Hill                $100,005               $110,841    \n",
       "Brighton                    $41,261                $77,625    \n",
       "Charlestown                 $75,339               $127,400    \n",
       "\n",
       "             Median Family Income  \n",
       "Neighborhood                       \n",
       "Allston                   $73,975  \n",
       "Back Bay                 $197,348  \n",
       "Beacon Hill              $205,960  \n",
       "Brighton                  $92,364  \n",
       "Charlestown              $162,386  "
      ]
     },
     "execution_count": 28,
     "metadata": {},
     "output_type": "execute_result"
    }
   ],
   "source": [
    "income_path = \"./data/boston_demographics/income.csv\"\n",
    "income_df = pd.read_csv(income_path)\n",
    "income_df = income_df.drop(columns='Total Households').set_index('Neighborhood')\n",
    "income_df.head()"
   ]
  },
  {
   "cell_type": "code",
   "execution_count": 29,
   "id": "atmospheric-speaking",
   "metadata": {},
   "outputs": [],
   "source": [
    "# format string values as float values\n",
    "def currency_formatter(string):\n",
    "    string = string.strip().replace('$','').replace(',','')\n",
    "    return float(string)\n",
    "\n",
    "for col in ['Mean Per Capita Income','Median Household Income','Median Family Income']:\n",
    "    income_df[col]=income_df[col].apply(currency_formatter)"
   ]
  },
  {
   "cell_type": "code",
   "execution_count": 148,
   "id": "hispanic-karaoke",
   "metadata": {
    "collapsed": true,
    "jupyter": {
     "outputs_hidden": true
    }
   },
   "outputs": [
    {
     "data": {
      "text/plain": [
       "Neighborhood\n",
       "Allston                    1\n",
       "Back Bay                   6\n",
       "Beacon Hill                6\n",
       "Brighton                   2\n",
       "Charlestown                4\n",
       "Dorchester                 1\n",
       "Downtown                   4\n",
       "East Boston                1\n",
       "Fenway                     1\n",
       "Hyde Park                  1\n",
       "Jamaica Plain              2\n",
       "Longwood                   0\n",
       "Mattapan                   1\n",
       "Mission Hill               1\n",
       "North End                  5\n",
       "Roslindale                 2\n",
       "Roxbury                    0\n",
       "South Boston               3\n",
       "South Boston Waterfront    7\n",
       "South End                  4\n",
       "West End                   4\n",
       "West Roxbury               2\n",
       "Name: Mean Per Capita Income, dtype: category\n",
       "Categories (8, int64): [0 < 1 < 2 < 3 < 4 < 5 < 6 < 7]"
      ]
     },
     "execution_count": 148,
     "metadata": {},
     "output_type": "execute_result"
    }
   ],
   "source": [
    "# bin neighborhoods by per capita income\n",
    "nbins = 8\n",
    "pd.cut(income_df['Mean Per Capita Income'], bins=nbins, labels=list(range(nbins)))"
   ]
  },
  {
   "cell_type": "code",
   "execution_count": 31,
   "id": "suitable-drain",
   "metadata": {},
   "outputs": [],
   "source": [
    "# mean venue price tier by neighborhood\n",
    "neighborhood_mean_price = food_venues.groupby('Neighborhood')['Venue Price Tier'].mean()"
   ]
  },
  {
   "cell_type": "code",
   "execution_count": 32,
   "id": "reflected-lodge",
   "metadata": {},
   "outputs": [],
   "source": [
    "# combine mean venue price tier and income data\n",
    "price_income = pd.concat([neighborhood_mean_price,income_df],axis=1)"
   ]
  },
  {
   "cell_type": "code",
   "execution_count": 33,
   "id": "frozen-accountability",
   "metadata": {},
   "outputs": [
    {
     "data": {
      "image/png": "[encoded data removed]",
      "text/plain": [
       "<Figure size 432x288 with 1 Axes>"
      ]
     },
     "metadata": {},
     "output_type": "display_data"
    }
   ],
   "source": [
    "# plot mean per capita income and mean venue price tier\n",
    "sns.regplot(data=price_income, y='Venue Price Tier',x='Mean Per Capita Income',color='tab:blue')\n",
    "plt.title('Mean Venue Price by Per Capita Income for Boston Nieghborhoods')\n",
    "plt.show()"
   ]
  },
  {
   "cell_type": "markdown",
   "id": "planned-connection",
   "metadata": {},
   "source": [
    "**Answer:** Yes, there is a positive correlation between mean per capita income by neighborhood and mean venue price."
   ]
  },
  {
   "cell_type": "markdown",
   "id": "physical-isaac",
   "metadata": {},
   "source": [
    "### Question: Is there a relationship betwen venue rating or price and restaurant density (by area or by population)"
   ]
  },
  {
   "cell_type": "code",
   "execution_count": 34,
   "id": "according-facing",
   "metadata": {},
   "outputs": [
    {
     "data": {
      "text/html": [
       "<div>\n",
       "<style scoped>\n",
       "    .dataframe tbody tr th:only-of-type {\n",
       "        vertical-align: middle;\n",
       "    }\n",
       "\n",
       "    .dataframe tbody tr th {\n",
       "        vertical-align: top;\n",
       "    }\n",
       "\n",
       "    .dataframe thead th {\n",
       "        text-align: right;\n",
       "    }\n",
       "</style>\n",
       "<table border=\"1\" class=\"dataframe\">\n",
       "  <thead>\n",
       "    <tr style=\"text-align: right;\">\n",
       "      <th></th>\n",
       "      <th>Total Population</th>\n",
       "    </tr>\n",
       "    <tr>\n",
       "      <th>Neighborhood</th>\n",
       "      <th></th>\n",
       "    </tr>\n",
       "  </thead>\n",
       "  <tbody>\n",
       "    <tr>\n",
       "      <th>Allston</th>\n",
       "      <td>19261</td>\n",
       "    </tr>\n",
       "    <tr>\n",
       "      <th>Back Bay</th>\n",
       "      <td>17783</td>\n",
       "    </tr>\n",
       "    <tr>\n",
       "      <th>Beacon Hill</th>\n",
       "      <td>9648</td>\n",
       "    </tr>\n",
       "    <tr>\n",
       "      <th>Brighton</th>\n",
       "      <td>55297</td>\n",
       "    </tr>\n",
       "    <tr>\n",
       "      <th>Charlestown</th>\n",
       "      <td>19890</td>\n",
       "    </tr>\n",
       "  </tbody>\n",
       "</table>\n",
       "</div>"
      ],
      "text/plain": [
       "              Total Population\n",
       "Neighborhood                  \n",
       "Allston                  19261\n",
       "Back Bay                 17783\n",
       "Beacon Hill               9648\n",
       "Brighton                 55297\n",
       "Charlestown              19890"
      ]
     },
     "execution_count": 34,
     "metadata": {},
     "output_type": "execute_result"
    }
   ],
   "source": [
    "pop_path = \"./data/boston_demographics/race.csv\"\n",
    "pop_df = pd.read_csv(pop_path)\n",
    "pop_df = pop_df[['Neighborhood','Total Population']]\n",
    "pop_df['Total Population'] = pop_df['Total Population'].str.replace(',','').astype(int)\n",
    "pop_df.set_index('Neighborhood',inplace=True)\n",
    "pop_df.head()"
   ]
  },
  {
   "cell_type": "code",
   "execution_count": 35,
   "id": "enclosed-admission",
   "metadata": {},
   "outputs": [
    {
     "data": {
      "text/html": [
       "<div>\n",
       "<style scoped>\n",
       "    .dataframe tbody tr th:only-of-type {\n",
       "        vertical-align: middle;\n",
       "    }\n",
       "\n",
       "    .dataframe tbody tr th {\n",
       "        vertical-align: top;\n",
       "    }\n",
       "\n",
       "    .dataframe thead th {\n",
       "        text-align: right;\n",
       "    }\n",
       "</style>\n",
       "<table border=\"1\" class=\"dataframe\">\n",
       "  <thead>\n",
       "    <tr style=\"text-align: right;\">\n",
       "      <th></th>\n",
       "      <th>Venues</th>\n",
       "    </tr>\n",
       "    <tr>\n",
       "      <th>Neighborhood</th>\n",
       "      <th></th>\n",
       "    </tr>\n",
       "  </thead>\n",
       "  <tbody>\n",
       "    <tr>\n",
       "      <th>Fenway</th>\n",
       "      <td>83</td>\n",
       "    </tr>\n",
       "    <tr>\n",
       "      <th>Back Bay</th>\n",
       "      <td>72</td>\n",
       "    </tr>\n",
       "    <tr>\n",
       "      <th>North End</th>\n",
       "      <td>64</td>\n",
       "    </tr>\n",
       "    <tr>\n",
       "      <th>South End</th>\n",
       "      <td>60</td>\n",
       "    </tr>\n",
       "    <tr>\n",
       "      <th>Brighton</th>\n",
       "      <td>57</td>\n",
       "    </tr>\n",
       "  </tbody>\n",
       "</table>\n",
       "</div>"
      ],
      "text/plain": [
       "              Venues\n",
       "Neighborhood        \n",
       "Fenway            83\n",
       "Back Bay          72\n",
       "North End         64\n",
       "South End         60\n",
       "Brighton          57"
      ]
     },
     "execution_count": 35,
     "metadata": {},
     "output_type": "execute_result"
    }
   ],
   "source": [
    "neighborhood_venues = food_venues.value_counts('Neighborhood').to_frame(name='Venues')\n",
    "neighborhood_venues.head()"
   ]
  },
  {
   "cell_type": "code",
   "execution_count": 41,
   "id": "diverse-jacksonville",
   "metadata": {},
   "outputs": [
    {
     "data": {
      "text/html": [
       "<div>\n",
       "<style scoped>\n",
       "    .dataframe tbody tr th:only-of-type {\n",
       "        vertical-align: middle;\n",
       "    }\n",
       "\n",
       "    .dataframe tbody tr th {\n",
       "        vertical-align: top;\n",
       "    }\n",
       "\n",
       "    .dataframe thead th {\n",
       "        text-align: right;\n",
       "    }\n",
       "</style>\n",
       "<table border=\"1\" class=\"dataframe\">\n",
       "  <thead>\n",
       "    <tr style=\"text-align: right;\">\n",
       "      <th></th>\n",
       "      <th>Total Population</th>\n",
       "      <th>SqMiles</th>\n",
       "      <th>Venues</th>\n",
       "    </tr>\n",
       "  </thead>\n",
       "  <tbody>\n",
       "    <tr>\n",
       "      <th>Allston</th>\n",
       "      <td>19261.0</td>\n",
       "      <td>1.56</td>\n",
       "      <td>48.0</td>\n",
       "    </tr>\n",
       "    <tr>\n",
       "      <th>Back Bay</th>\n",
       "      <td>17783.0</td>\n",
       "      <td>0.62</td>\n",
       "      <td>72.0</td>\n",
       "    </tr>\n",
       "    <tr>\n",
       "      <th>Beacon Hill</th>\n",
       "      <td>9648.0</td>\n",
       "      <td>0.31</td>\n",
       "      <td>25.0</td>\n",
       "    </tr>\n",
       "    <tr>\n",
       "      <th>Brighton</th>\n",
       "      <td>55297.0</td>\n",
       "      <td>2.88</td>\n",
       "      <td>57.0</td>\n",
       "    </tr>\n",
       "    <tr>\n",
       "      <th>Charlestown</th>\n",
       "      <td>19890.0</td>\n",
       "      <td>1.36</td>\n",
       "      <td>38.0</td>\n",
       "    </tr>\n",
       "  </tbody>\n",
       "</table>\n",
       "</div>"
      ],
      "text/plain": [
       "             Total Population  SqMiles  Venues\n",
       "Allston               19261.0     1.56    48.0\n",
       "Back Bay              17783.0     0.62    72.0\n",
       "Beacon Hill            9648.0     0.31    25.0\n",
       "Brighton              55297.0     2.88    57.0\n",
       "Charlestown           19890.0     1.36    38.0"
      ]
     },
     "execution_count": 41,
     "metadata": {},
     "output_type": "execute_result"
    }
   ],
   "source": [
    "density_df = pd.concat([pop_df,neighborhoods_df.set_index('Name')['SqMiles'], neighborhood_venues],axis=1)\n",
    "density_df.head()"
   ]
  },
  {
   "cell_type": "code",
   "execution_count": 42,
   "id": "undefined-trinity",
   "metadata": {},
   "outputs": [
    {
     "data": {
      "text/html": [
       "<div>\n",
       "<style scoped>\n",
       "    .dataframe tbody tr th:only-of-type {\n",
       "        vertical-align: middle;\n",
       "    }\n",
       "\n",
       "    .dataframe tbody tr th {\n",
       "        vertical-align: top;\n",
       "    }\n",
       "\n",
       "    .dataframe thead th {\n",
       "        text-align: right;\n",
       "    }\n",
       "</style>\n",
       "<table border=\"1\" class=\"dataframe\">\n",
       "  <thead>\n",
       "    <tr style=\"text-align: right;\">\n",
       "      <th></th>\n",
       "      <th>Mean Price</th>\n",
       "      <th>Mean Rating</th>\n",
       "      <th>Total Population</th>\n",
       "      <th>SqMiles</th>\n",
       "      <th>Venues</th>\n",
       "      <th>Venues Per Capita</th>\n",
       "      <th>Venues Per Sq Mi</th>\n",
       "    </tr>\n",
       "  </thead>\n",
       "  <tbody>\n",
       "    <tr>\n",
       "      <th>Allston</th>\n",
       "      <td>1.586957</td>\n",
       "      <td>8.163830</td>\n",
       "      <td>19261.0</td>\n",
       "      <td>1.56</td>\n",
       "      <td>48.0</td>\n",
       "      <td>0.002492</td>\n",
       "      <td>30.769231</td>\n",
       "    </tr>\n",
       "    <tr>\n",
       "      <th>Back Bay</th>\n",
       "      <td>2.142857</td>\n",
       "      <td>8.165278</td>\n",
       "      <td>17783.0</td>\n",
       "      <td>0.62</td>\n",
       "      <td>72.0</td>\n",
       "      <td>0.004049</td>\n",
       "      <td>116.129032</td>\n",
       "    </tr>\n",
       "    <tr>\n",
       "      <th>Beacon Hill</th>\n",
       "      <td>2.120000</td>\n",
       "      <td>7.760000</td>\n",
       "      <td>9648.0</td>\n",
       "      <td>0.31</td>\n",
       "      <td>25.0</td>\n",
       "      <td>0.002591</td>\n",
       "      <td>80.645161</td>\n",
       "    </tr>\n",
       "    <tr>\n",
       "      <th>Brighton</th>\n",
       "      <td>1.375000</td>\n",
       "      <td>7.186486</td>\n",
       "      <td>55297.0</td>\n",
       "      <td>2.88</td>\n",
       "      <td>57.0</td>\n",
       "      <td>0.001031</td>\n",
       "      <td>19.791667</td>\n",
       "    </tr>\n",
       "    <tr>\n",
       "      <th>Charlestown</th>\n",
       "      <td>1.527778</td>\n",
       "      <td>7.283333</td>\n",
       "      <td>19890.0</td>\n",
       "      <td>1.36</td>\n",
       "      <td>38.0</td>\n",
       "      <td>0.001911</td>\n",
       "      <td>27.941176</td>\n",
       "    </tr>\n",
       "  </tbody>\n",
       "</table>\n",
       "</div>"
      ],
      "text/plain": [
       "             Mean Price  Mean Rating  Total Population  SqMiles  Venues  \\\n",
       "Allston        1.586957     8.163830           19261.0     1.56    48.0   \n",
       "Back Bay       2.142857     8.165278           17783.0     0.62    72.0   \n",
       "Beacon Hill    2.120000     7.760000            9648.0     0.31    25.0   \n",
       "Brighton       1.375000     7.186486           55297.0     2.88    57.0   \n",
       "Charlestown    1.527778     7.283333           19890.0     1.36    38.0   \n",
       "\n",
       "             Venues Per Capita  Venues Per Sq Mi  \n",
       "Allston               0.002492         30.769231  \n",
       "Back Bay              0.004049        116.129032  \n",
       "Beacon Hill           0.002591         80.645161  \n",
       "Brighton              0.001031         19.791667  \n",
       "Charlestown           0.001911         27.941176  "
      ]
     },
     "execution_count": 42,
     "metadata": {},
     "output_type": "execute_result"
    }
   ],
   "source": [
    "# add column for venues per capita\n",
    "density_df['Venues Per Capita'] = density_df['Venues'] / density_df['Total Population']\n",
    "# add column for venues per square mile\n",
    "density_df['Venues Per Sq Mi'] = density_df['Venues'] / density_df['SqMiles']\n",
    "# add column for mean rating by neighborhood\n",
    "density_df.insert(0,'Mean Rating',value=food_venues.groupby('Neighborhood')['Venue Rating'].mean())\n",
    "# add column for mean price by neighborhood\n",
    "density_df.insert(0,'Mean Price',value=food_venues.groupby('Neighborhood')['Venue Price Tier'].mean())\n",
    "\n",
    "density_df.head()"
   ]
  },
  {
   "cell_type": "code",
   "execution_count": 43,
   "id": "overall-orlando",
   "metadata": {},
   "outputs": [
    {
     "data": {
      "text/html": [
       "<style  type=\"text/css\" >\n",
       "#T_8c51895a_aa6a_11eb_b6ab_a45e60cb13cdrow0_col0,#T_8c51895a_aa6a_11eb_b6ab_a45e60cb13cdrow1_col1,#T_8c51895a_aa6a_11eb_b6ab_a45e60cb13cdrow2_col2,#T_8c51895a_aa6a_11eb_b6ab_a45e60cb13cdrow3_col3,#T_8c51895a_aa6a_11eb_b6ab_a45e60cb13cdrow4_col4,#T_8c51895a_aa6a_11eb_b6ab_a45e60cb13cdrow5_col5,#T_8c51895a_aa6a_11eb_b6ab_a45e60cb13cdrow6_col6{\n",
       "            background-color:  #023858;\n",
       "            color:  #f1f1f1;\n",
       "        }#T_8c51895a_aa6a_11eb_b6ab_a45e60cb13cdrow0_col1{\n",
       "            background-color:  #04588a;\n",
       "            color:  #f1f1f1;\n",
       "        }#T_8c51895a_aa6a_11eb_b6ab_a45e60cb13cdrow0_col2{\n",
       "            background-color:  #fdf5fa;\n",
       "            color:  #000000;\n",
       "        }#T_8c51895a_aa6a_11eb_b6ab_a45e60cb13cdrow0_col3{\n",
       "            background-color:  #fbf3f9;\n",
       "            color:  #000000;\n",
       "        }#T_8c51895a_aa6a_11eb_b6ab_a45e60cb13cdrow0_col4{\n",
       "            background-color:  #529bc7;\n",
       "            color:  #000000;\n",
       "        }#T_8c51895a_aa6a_11eb_b6ab_a45e60cb13cdrow0_col5{\n",
       "            background-color:  #056faf;\n",
       "            color:  #f1f1f1;\n",
       "        }#T_8c51895a_aa6a_11eb_b6ab_a45e60cb13cdrow0_col6{\n",
       "            background-color:  #3d93c2;\n",
       "            color:  #000000;\n",
       "        }#T_8c51895a_aa6a_11eb_b6ab_a45e60cb13cdrow1_col0{\n",
       "            background-color:  #04598c;\n",
       "            color:  #f1f1f1;\n",
       "        }#T_8c51895a_aa6a_11eb_b6ab_a45e60cb13cdrow1_col2{\n",
       "            background-color:  #fef6fa;\n",
       "            color:  #000000;\n",
       "        }#T_8c51895a_aa6a_11eb_b6ab_a45e60cb13cdrow1_col3,#T_8c51895a_aa6a_11eb_b6ab_a45e60cb13cdrow2_col5,#T_8c51895a_aa6a_11eb_b6ab_a45e60cb13cdrow3_col0,#T_8c51895a_aa6a_11eb_b6ab_a45e60cb13cdrow3_col1,#T_8c51895a_aa6a_11eb_b6ab_a45e60cb13cdrow3_col4,#T_8c51895a_aa6a_11eb_b6ab_a45e60cb13cdrow3_col5,#T_8c51895a_aa6a_11eb_b6ab_a45e60cb13cdrow3_col6,#T_8c51895a_aa6a_11eb_b6ab_a45e60cb13cdrow5_col2{\n",
       "            background-color:  #fff7fb;\n",
       "            color:  #000000;\n",
       "        }#T_8c51895a_aa6a_11eb_b6ab_a45e60cb13cdrow1_col4{\n",
       "            background-color:  #4e9ac6;\n",
       "            color:  #000000;\n",
       "        }#T_8c51895a_aa6a_11eb_b6ab_a45e60cb13cdrow1_col5{\n",
       "            background-color:  #1b7eb7;\n",
       "            color:  #000000;\n",
       "        }#T_8c51895a_aa6a_11eb_b6ab_a45e60cb13cdrow1_col6{\n",
       "            background-color:  #3991c1;\n",
       "            color:  #000000;\n",
       "        }#T_8c51895a_aa6a_11eb_b6ab_a45e60cb13cdrow2_col0{\n",
       "            background-color:  #faf3f9;\n",
       "            color:  #000000;\n",
       "        }#T_8c51895a_aa6a_11eb_b6ab_a45e60cb13cdrow2_col1{\n",
       "            background-color:  #f7f0f7;\n",
       "            color:  #000000;\n",
       "        }#T_8c51895a_aa6a_11eb_b6ab_a45e60cb13cdrow2_col3{\n",
       "            background-color:  #045585;\n",
       "            color:  #f1f1f1;\n",
       "        }#T_8c51895a_aa6a_11eb_b6ab_a45e60cb13cdrow2_col4,#T_8c51895a_aa6a_11eb_b6ab_a45e60cb13cdrow6_col2{\n",
       "            background-color:  #f2ecf5;\n",
       "            color:  #000000;\n",
       "        }#T_8c51895a_aa6a_11eb_b6ab_a45e60cb13cdrow2_col6{\n",
       "            background-color:  #fbf4f9;\n",
       "            color:  #000000;\n",
       "        }#T_8c51895a_aa6a_11eb_b6ab_a45e60cb13cdrow3_col2{\n",
       "            background-color:  #045687;\n",
       "            color:  #f1f1f1;\n",
       "        }#T_8c51895a_aa6a_11eb_b6ab_a45e60cb13cdrow4_col0,#T_8c51895a_aa6a_11eb_b6ab_a45e60cb13cdrow6_col0{\n",
       "            background-color:  #2f8bbe;\n",
       "            color:  #000000;\n",
       "        }#T_8c51895a_aa6a_11eb_b6ab_a45e60cb13cdrow4_col1,#T_8c51895a_aa6a_11eb_b6ab_a45e60cb13cdrow6_col1{\n",
       "            background-color:  #2987bc;\n",
       "            color:  #000000;\n",
       "        }#T_8c51895a_aa6a_11eb_b6ab_a45e60cb13cdrow4_col2{\n",
       "            background-color:  #d7d6e9;\n",
       "            color:  #000000;\n",
       "        }#T_8c51895a_aa6a_11eb_b6ab_a45e60cb13cdrow4_col3{\n",
       "            background-color:  #dddbec;\n",
       "            color:  #000000;\n",
       "        }#T_8c51895a_aa6a_11eb_b6ab_a45e60cb13cdrow4_col5{\n",
       "            background-color:  #3b92c1;\n",
       "            color:  #000000;\n",
       "        }#T_8c51895a_aa6a_11eb_b6ab_a45e60cb13cdrow4_col6{\n",
       "            background-color:  #c1cae2;\n",
       "            color:  #000000;\n",
       "        }#T_8c51895a_aa6a_11eb_b6ab_a45e60cb13cdrow5_col0{\n",
       "            background-color:  #056fae;\n",
       "            color:  #f1f1f1;\n",
       "        }#T_8c51895a_aa6a_11eb_b6ab_a45e60cb13cdrow5_col1{\n",
       "            background-color:  #167bb6;\n",
       "            color:  #000000;\n",
       "        }#T_8c51895a_aa6a_11eb_b6ab_a45e60cb13cdrow5_col3{\n",
       "            background-color:  #f8f1f8;\n",
       "            color:  #000000;\n",
       "        }#T_8c51895a_aa6a_11eb_b6ab_a45e60cb13cdrow5_col4{\n",
       "            background-color:  #5c9fc9;\n",
       "            color:  #000000;\n",
       "        }#T_8c51895a_aa6a_11eb_b6ab_a45e60cb13cdrow5_col6{\n",
       "            background-color:  #056dab;\n",
       "            color:  #f1f1f1;\n",
       "        }#T_8c51895a_aa6a_11eb_b6ab_a45e60cb13cdrow6_col3{\n",
       "            background-color:  #f0eaf4;\n",
       "            color:  #000000;\n",
       "        }#T_8c51895a_aa6a_11eb_b6ab_a45e60cb13cdrow6_col4{\n",
       "            background-color:  #d8d7e9;\n",
       "            color:  #000000;\n",
       "        }#T_8c51895a_aa6a_11eb_b6ab_a45e60cb13cdrow6_col5{\n",
       "            background-color:  #056ba7;\n",
       "            color:  #f1f1f1;\n",
       "        }</style><table id=\"T_8c51895a_aa6a_11eb_b6ab_a45e60cb13cd\" ><thead>    <tr>        <th class=\"blank level0\" ></th>        <th class=\"col_heading level0 col0\" >Mean Price</th>        <th class=\"col_heading level0 col1\" >Mean Rating</th>        <th class=\"col_heading level0 col2\" >Total Population</th>        <th class=\"col_heading level0 col3\" >SqMiles</th>        <th class=\"col_heading level0 col4\" >Venues</th>        <th class=\"col_heading level0 col5\" >Venues Per Capita</th>        <th class=\"col_heading level0 col6\" >Venues Per Sq Mi</th>    </tr></thead><tbody>\n",
       "                <tr>\n",
       "                        <th id=\"T_8c51895a_aa6a_11eb_b6ab_a45e60cb13cdlevel0_row0\" class=\"row_heading level0 row0\" >Mean Price</th>\n",
       "                        <td id=\"T_8c51895a_aa6a_11eb_b6ab_a45e60cb13cdrow0_col0\" class=\"data row0 col0\" >1.000000</td>\n",
       "                        <td id=\"T_8c51895a_aa6a_11eb_b6ab_a45e60cb13cdrow0_col1\" class=\"data row0 col1\" >0.805386</td>\n",
       "                        <td id=\"T_8c51895a_aa6a_11eb_b6ab_a45e60cb13cdrow0_col2\" class=\"data row0 col2\" >-0.519462</td>\n",
       "                        <td id=\"T_8c51895a_aa6a_11eb_b6ab_a45e60cb13cdrow0_col3\" class=\"data row0 col3\" >-0.572796</td>\n",
       "                        <td id=\"T_8c51895a_aa6a_11eb_b6ab_a45e60cb13cdrow0_col4\" class=\"data row0 col4\" >0.436403</td>\n",
       "                        <td id=\"T_8c51895a_aa6a_11eb_b6ab_a45e60cb13cdrow0_col5\" class=\"data row0 col5\" >0.617801</td>\n",
       "                        <td id=\"T_8c51895a_aa6a_11eb_b6ab_a45e60cb13cdrow0_col6\" class=\"data row0 col6\" >0.434860</td>\n",
       "            </tr>\n",
       "            <tr>\n",
       "                        <th id=\"T_8c51895a_aa6a_11eb_b6ab_a45e60cb13cdlevel0_row1\" class=\"row_heading level0 row1\" >Mean Rating</th>\n",
       "                        <td id=\"T_8c51895a_aa6a_11eb_b6ab_a45e60cb13cdrow1_col0\" class=\"data row1 col0\" >0.805386</td>\n",
       "                        <td id=\"T_8c51895a_aa6a_11eb_b6ab_a45e60cb13cdrow1_col1\" class=\"data row1 col1\" >1.000000</td>\n",
       "                        <td id=\"T_8c51895a_aa6a_11eb_b6ab_a45e60cb13cdrow1_col2\" class=\"data row1 col2\" >-0.531804</td>\n",
       "                        <td id=\"T_8c51895a_aa6a_11eb_b6ab_a45e60cb13cdrow1_col3\" class=\"data row1 col3\" >-0.622943</td>\n",
       "                        <td id=\"T_8c51895a_aa6a_11eb_b6ab_a45e60cb13cdrow1_col4\" class=\"data row1 col4\" >0.443577</td>\n",
       "                        <td id=\"T_8c51895a_aa6a_11eb_b6ab_a45e60cb13cdrow1_col5\" class=\"data row1 col5\" >0.523986</td>\n",
       "                        <td id=\"T_8c51895a_aa6a_11eb_b6ab_a45e60cb13cdrow1_col6\" class=\"data row1 col6\" >0.447621</td>\n",
       "            </tr>\n",
       "            <tr>\n",
       "                        <th id=\"T_8c51895a_aa6a_11eb_b6ab_a45e60cb13cdlevel0_row2\" class=\"row_heading level0 row2\" >Total Population</th>\n",
       "                        <td id=\"T_8c51895a_aa6a_11eb_b6ab_a45e60cb13cdrow2_col0\" class=\"data row2 col0\" >-0.519462</td>\n",
       "                        <td id=\"T_8c51895a_aa6a_11eb_b6ab_a45e60cb13cdrow2_col1\" class=\"data row2 col1\" >-0.531804</td>\n",
       "                        <td id=\"T_8c51895a_aa6a_11eb_b6ab_a45e60cb13cdrow2_col2\" class=\"data row2 col2\" >1.000000</td>\n",
       "                        <td id=\"T_8c51895a_aa6a_11eb_b6ab_a45e60cb13cdrow2_col3\" class=\"data row2 col3\" >0.825631</td>\n",
       "                        <td id=\"T_8c51895a_aa6a_11eb_b6ab_a45e60cb13cdrow2_col4\" class=\"data row2 col4\" >-0.202676</td>\n",
       "                        <td id=\"T_8c51895a_aa6a_11eb_b6ab_a45e60cb13cdrow2_col5\" class=\"data row2 col5\" >-0.546963</td>\n",
       "                        <td id=\"T_8c51895a_aa6a_11eb_b6ab_a45e60cb13cdrow2_col6\" class=\"data row2 col6\" >-0.417014</td>\n",
       "            </tr>\n",
       "            <tr>\n",
       "                        <th id=\"T_8c51895a_aa6a_11eb_b6ab_a45e60cb13cdlevel0_row3\" class=\"row_heading level0 row3\" >SqMiles</th>\n",
       "                        <td id=\"T_8c51895a_aa6a_11eb_b6ab_a45e60cb13cdrow3_col0\" class=\"data row3 col0\" >-0.572796</td>\n",
       "                        <td id=\"T_8c51895a_aa6a_11eb_b6ab_a45e60cb13cdrow3_col1\" class=\"data row3 col1\" >-0.622943</td>\n",
       "                        <td id=\"T_8c51895a_aa6a_11eb_b6ab_a45e60cb13cdrow3_col2\" class=\"data row3 col2\" >0.825631</td>\n",
       "                        <td id=\"T_8c51895a_aa6a_11eb_b6ab_a45e60cb13cdrow3_col3\" class=\"data row3 col3\" >1.000000</td>\n",
       "                        <td id=\"T_8c51895a_aa6a_11eb_b6ab_a45e60cb13cdrow3_col4\" class=\"data row3 col4\" >-0.311356</td>\n",
       "                        <td id=\"T_8c51895a_aa6a_11eb_b6ab_a45e60cb13cdrow3_col5\" class=\"data row3 col5\" >-0.546751</td>\n",
       "                        <td id=\"T_8c51895a_aa6a_11eb_b6ab_a45e60cb13cdrow3_col6\" class=\"data row3 col6\" >-0.456628</td>\n",
       "            </tr>\n",
       "            <tr>\n",
       "                        <th id=\"T_8c51895a_aa6a_11eb_b6ab_a45e60cb13cdlevel0_row4\" class=\"row_heading level0 row4\" >Venues</th>\n",
       "                        <td id=\"T_8c51895a_aa6a_11eb_b6ab_a45e60cb13cdrow4_col0\" class=\"data row4 col0\" >0.436403</td>\n",
       "                        <td id=\"T_8c51895a_aa6a_11eb_b6ab_a45e60cb13cdrow4_col1\" class=\"data row4 col1\" >0.443577</td>\n",
       "                        <td id=\"T_8c51895a_aa6a_11eb_b6ab_a45e60cb13cdrow4_col2\" class=\"data row4 col2\" >-0.202676</td>\n",
       "                        <td id=\"T_8c51895a_aa6a_11eb_b6ab_a45e60cb13cdrow4_col3\" class=\"data row4 col3\" >-0.311356</td>\n",
       "                        <td id=\"T_8c51895a_aa6a_11eb_b6ab_a45e60cb13cdrow4_col4\" class=\"data row4 col4\" >1.000000</td>\n",
       "                        <td id=\"T_8c51895a_aa6a_11eb_b6ab_a45e60cb13cdrow4_col5\" class=\"data row4 col5\" >0.407265</td>\n",
       "                        <td id=\"T_8c51895a_aa6a_11eb_b6ab_a45e60cb13cdrow4_col6\" class=\"data row4 col6\" >-0.025762</td>\n",
       "            </tr>\n",
       "            <tr>\n",
       "                        <th id=\"T_8c51895a_aa6a_11eb_b6ab_a45e60cb13cdlevel0_row5\" class=\"row_heading level0 row5\" >Venues Per Capita</th>\n",
       "                        <td id=\"T_8c51895a_aa6a_11eb_b6ab_a45e60cb13cdrow5_col0\" class=\"data row5 col0\" >0.617801</td>\n",
       "                        <td id=\"T_8c51895a_aa6a_11eb_b6ab_a45e60cb13cdrow5_col1\" class=\"data row5 col1\" >0.523986</td>\n",
       "                        <td id=\"T_8c51895a_aa6a_11eb_b6ab_a45e60cb13cdrow5_col2\" class=\"data row5 col2\" >-0.546963</td>\n",
       "                        <td id=\"T_8c51895a_aa6a_11eb_b6ab_a45e60cb13cdrow5_col3\" class=\"data row5 col3\" >-0.546751</td>\n",
       "                        <td id=\"T_8c51895a_aa6a_11eb_b6ab_a45e60cb13cdrow5_col4\" class=\"data row5 col4\" >0.407265</td>\n",
       "                        <td id=\"T_8c51895a_aa6a_11eb_b6ab_a45e60cb13cdrow5_col5\" class=\"data row5 col5\" >1.000000</td>\n",
       "                        <td id=\"T_8c51895a_aa6a_11eb_b6ab_a45e60cb13cdrow5_col6\" class=\"data row5 col6\" >0.658912</td>\n",
       "            </tr>\n",
       "            <tr>\n",
       "                        <th id=\"T_8c51895a_aa6a_11eb_b6ab_a45e60cb13cdlevel0_row6\" class=\"row_heading level0 row6\" >Venues Per Sq Mi</th>\n",
       "                        <td id=\"T_8c51895a_aa6a_11eb_b6ab_a45e60cb13cdrow6_col0\" class=\"data row6 col0\" >0.434860</td>\n",
       "                        <td id=\"T_8c51895a_aa6a_11eb_b6ab_a45e60cb13cdrow6_col1\" class=\"data row6 col1\" >0.447621</td>\n",
       "                        <td id=\"T_8c51895a_aa6a_11eb_b6ab_a45e60cb13cdrow6_col2\" class=\"data row6 col2\" >-0.417014</td>\n",
       "                        <td id=\"T_8c51895a_aa6a_11eb_b6ab_a45e60cb13cdrow6_col3\" class=\"data row6 col3\" >-0.456628</td>\n",
       "                        <td id=\"T_8c51895a_aa6a_11eb_b6ab_a45e60cb13cdrow6_col4\" class=\"data row6 col4\" >-0.025762</td>\n",
       "                        <td id=\"T_8c51895a_aa6a_11eb_b6ab_a45e60cb13cdrow6_col5\" class=\"data row6 col5\" >0.658912</td>\n",
       "                        <td id=\"T_8c51895a_aa6a_11eb_b6ab_a45e60cb13cdrow6_col6\" class=\"data row6 col6\" >1.000000</td>\n",
       "            </tr>\n",
       "    </tbody></table>"
      ],
      "text/plain": [
       "<pandas.io.formats.style.Styler at 0x7f9f9834f6d8>"
      ]
     },
     "execution_count": 43,
     "metadata": {},
     "output_type": "execute_result"
    }
   ],
   "source": [
    "density_df.corr().style.background_gradient()"
   ]
  },
  {
   "cell_type": "code",
   "execution_count": 44,
   "id": "useful-semiconductor",
   "metadata": {},
   "outputs": [
    {
     "data": {
      "image/png": "[encoded data removed]",
      "text/plain": [
       "<Figure size 432x288 with 1 Axes>"
      ]
     },
     "metadata": {},
     "output_type": "display_data"
    }
   ],
   "source": [
    "sns.regplot(data=density_df, x='Venues Per Capita',y='Mean Rating',color='tab:blue')\n",
    "plt.title('Mean rating by venues per capita in Boston neighborhoods')\n",
    "plt.show()"
   ]
  },
  {
   "cell_type": "markdown",
   "id": "virgin-scenario",
   "metadata": {},
   "source": [
    "**Answer:** There is weak correlation between venues per capita and mean price/rating by neighborhood.\n",
    "\n",
    "_**Note:** Based on the spread in the confidence band for larger values of X, this relationship may not be strong enough to include in the final feature set._"
   ]
  },
  {
   "cell_type": "code",
   "execution_count": 45,
   "id": "medieval-publicity",
   "metadata": {},
   "outputs": [
    {
     "data": {
      "text/html": [
       "<style  type=\"text/css\" >\n",
       "#T_b2b45848_aa6a_11eb_b312_a45e60cb13cdrow0_col0{\n",
       "            background-color:  #a9bfdc;\n",
       "            color:  #000000;\n",
       "        }#T_b2b45848_aa6a_11eb_b312_a45e60cb13cdrow1_col0{\n",
       "            background-color:  #045585;\n",
       "            color:  #f1f1f1;\n",
       "        }#T_b2b45848_aa6a_11eb_b312_a45e60cb13cdrow2_col0{\n",
       "            background-color:  #023858;\n",
       "            color:  #f1f1f1;\n",
       "        }#T_b2b45848_aa6a_11eb_b312_a45e60cb13cdrow3_col0{\n",
       "            background-color:  #045b8e;\n",
       "            color:  #f1f1f1;\n",
       "        }#T_b2b45848_aa6a_11eb_b312_a45e60cb13cdrow4_col0{\n",
       "            background-color:  #e3e0ee;\n",
       "            color:  #000000;\n",
       "        }#T_b2b45848_aa6a_11eb_b312_a45e60cb13cdrow5_col0{\n",
       "            background-color:  #bcc7e1;\n",
       "            color:  #000000;\n",
       "        }#T_b2b45848_aa6a_11eb_b312_a45e60cb13cdrow6_col0{\n",
       "            background-color:  #c1cae2;\n",
       "            color:  #000000;\n",
       "        }#T_b2b45848_aa6a_11eb_b312_a45e60cb13cdrow7_col0{\n",
       "            background-color:  #fff7fb;\n",
       "            color:  #000000;\n",
       "        }#T_b2b45848_aa6a_11eb_b312_a45e60cb13cdrow8_col0{\n",
       "            background-color:  #056fae;\n",
       "            color:  #f1f1f1;\n",
       "        }#T_b2b45848_aa6a_11eb_b312_a45e60cb13cdrow9_col0{\n",
       "            background-color:  #acc0dd;\n",
       "            color:  #000000;\n",
       "        }#T_b2b45848_aa6a_11eb_b312_a45e60cb13cdrow10_col0{\n",
       "            background-color:  #89b1d4;\n",
       "            color:  #000000;\n",
       "        }#T_b2b45848_aa6a_11eb_b312_a45e60cb13cdrow11_col0{\n",
       "            background-color:  #dbdaeb;\n",
       "            color:  #000000;\n",
       "        }#T_b2b45848_aa6a_11eb_b312_a45e60cb13cdrow12_col0{\n",
       "            background-color:  #bfc9e1;\n",
       "            color:  #000000;\n",
       "        }#T_b2b45848_aa6a_11eb_b312_a45e60cb13cdrow13_col0{\n",
       "            background-color:  #8bb2d4;\n",
       "            color:  #000000;\n",
       "        }#T_b2b45848_aa6a_11eb_b312_a45e60cb13cdrow14_col0{\n",
       "            background-color:  #b8c6e0;\n",
       "            color:  #000000;\n",
       "        }#T_b2b45848_aa6a_11eb_b312_a45e60cb13cdrow15_col0{\n",
       "            background-color:  #f3edf5;\n",
       "            color:  #000000;\n",
       "        }#T_b2b45848_aa6a_11eb_b312_a45e60cb13cdrow16_col0{\n",
       "            background-color:  #f1ebf5;\n",
       "            color:  #000000;\n",
       "        }#T_b2b45848_aa6a_11eb_b312_a45e60cb13cdrow17_col0{\n",
       "            background-color:  #045c90;\n",
       "            color:  #f1f1f1;\n",
       "        }#T_b2b45848_aa6a_11eb_b312_a45e60cb13cdrow18_col0{\n",
       "            background-color:  #d3d4e7;\n",
       "            color:  #000000;\n",
       "        }#T_b2b45848_aa6a_11eb_b312_a45e60cb13cdrow19_col0{\n",
       "            background-color:  #e6e2ef;\n",
       "            color:  #000000;\n",
       "        }#T_b2b45848_aa6a_11eb_b312_a45e60cb13cdrow20_col0{\n",
       "            background-color:  #dcdaeb;\n",
       "            color:  #000000;\n",
       "        }#T_b2b45848_aa6a_11eb_b312_a45e60cb13cdrow21_col0{\n",
       "            background-color:  #056ba7;\n",
       "            color:  #f1f1f1;\n",
       "        }#T_b2b45848_aa6a_11eb_b312_a45e60cb13cdrow22_col0{\n",
       "            background-color:  #1b7eb7;\n",
       "            color:  #000000;\n",
       "        }#T_b2b45848_aa6a_11eb_b312_a45e60cb13cdrow23_col0{\n",
       "            background-color:  #d8d7e9;\n",
       "            color:  #000000;\n",
       "        }#T_b2b45848_aa6a_11eb_b312_a45e60cb13cdrow24_col0{\n",
       "            background-color:  #dddbec;\n",
       "            color:  #000000;\n",
       "        }</style><table id=\"T_b2b45848_aa6a_11eb_b312_a45e60cb13cd\" ><thead>    <tr>        <th class=\"blank level0\" ></th>        <th class=\"col_heading level0 col0\" >Venue Price Tier</th>    </tr>    <tr>        <th class=\"index_name level0\" >Neighborhood</th>        <th class=\"blank\" ></th>    </tr></thead><tbody>\n",
       "                <tr>\n",
       "                        <th id=\"T_b2b45848_aa6a_11eb_b312_a45e60cb13cdlevel0_row0\" class=\"row_heading level0 row0\" >Allston</th>\n",
       "                        <td id=\"T_b2b45848_aa6a_11eb_b312_a45e60cb13cdrow0_col0\" class=\"data row0 col0\" >1.586957</td>\n",
       "            </tr>\n",
       "            <tr>\n",
       "                        <th id=\"T_b2b45848_aa6a_11eb_b312_a45e60cb13cdlevel0_row1\" class=\"row_heading level0 row1\" >Back Bay</th>\n",
       "                        <td id=\"T_b2b45848_aa6a_11eb_b312_a45e60cb13cdrow1_col0\" class=\"data row1 col0\" >2.142857</td>\n",
       "            </tr>\n",
       "            <tr>\n",
       "                        <th id=\"T_b2b45848_aa6a_11eb_b312_a45e60cb13cdlevel0_row2\" class=\"row_heading level0 row2\" >Bay Village</th>\n",
       "                        <td id=\"T_b2b45848_aa6a_11eb_b312_a45e60cb13cdrow2_col0\" class=\"data row2 col0\" >2.257143</td>\n",
       "            </tr>\n",
       "            <tr>\n",
       "                        <th id=\"T_b2b45848_aa6a_11eb_b312_a45e60cb13cdlevel0_row3\" class=\"row_heading level0 row3\" >Beacon Hill</th>\n",
       "                        <td id=\"T_b2b45848_aa6a_11eb_b312_a45e60cb13cdrow3_col0\" class=\"data row3 col0\" >2.120000</td>\n",
       "            </tr>\n",
       "            <tr>\n",
       "                        <th id=\"T_b2b45848_aa6a_11eb_b312_a45e60cb13cdlevel0_row4\" class=\"row_heading level0 row4\" >Brighton</th>\n",
       "                        <td id=\"T_b2b45848_aa6a_11eb_b312_a45e60cb13cdrow4_col0\" class=\"data row4 col0\" >1.375000</td>\n",
       "            </tr>\n",
       "            <tr>\n",
       "                        <th id=\"T_b2b45848_aa6a_11eb_b312_a45e60cb13cdlevel0_row5\" class=\"row_heading level0 row5\" >Charlestown</th>\n",
       "                        <td id=\"T_b2b45848_aa6a_11eb_b312_a45e60cb13cdrow5_col0\" class=\"data row5 col0\" >1.527778</td>\n",
       "            </tr>\n",
       "            <tr>\n",
       "                        <th id=\"T_b2b45848_aa6a_11eb_b312_a45e60cb13cdlevel0_row6\" class=\"row_heading level0 row6\" >Chinatown</th>\n",
       "                        <td id=\"T_b2b45848_aa6a_11eb_b312_a45e60cb13cdrow6_col0\" class=\"data row6 col0\" >1.513514</td>\n",
       "            </tr>\n",
       "            <tr>\n",
       "                        <th id=\"T_b2b45848_aa6a_11eb_b312_a45e60cb13cdlevel0_row7\" class=\"row_heading level0 row7\" >Dorchester</th>\n",
       "                        <td id=\"T_b2b45848_aa6a_11eb_b312_a45e60cb13cdrow7_col0\" class=\"data row7 col0\" >1.200000</td>\n",
       "            </tr>\n",
       "            <tr>\n",
       "                        <th id=\"T_b2b45848_aa6a_11eb_b312_a45e60cb13cdlevel0_row8\" class=\"row_heading level0 row8\" >Downtown</th>\n",
       "                        <td id=\"T_b2b45848_aa6a_11eb_b312_a45e60cb13cdrow8_col0\" class=\"data row8 col0\" >2.000000</td>\n",
       "            </tr>\n",
       "            <tr>\n",
       "                        <th id=\"T_b2b45848_aa6a_11eb_b312_a45e60cb13cdlevel0_row9\" class=\"row_heading level0 row9\" >East Boston</th>\n",
       "                        <td id=\"T_b2b45848_aa6a_11eb_b312_a45e60cb13cdrow9_col0\" class=\"data row9 col0\" >1.578947</td>\n",
       "            </tr>\n",
       "            <tr>\n",
       "                        <th id=\"T_b2b45848_aa6a_11eb_b312_a45e60cb13cdlevel0_row10\" class=\"row_heading level0 row10\" >Fenway</th>\n",
       "                        <td id=\"T_b2b45848_aa6a_11eb_b312_a45e60cb13cdrow10_col0\" class=\"data row10 col0\" >1.670886</td>\n",
       "            </tr>\n",
       "            <tr>\n",
       "                        <th id=\"T_b2b45848_aa6a_11eb_b312_a45e60cb13cdlevel0_row11\" class=\"row_heading level0 row11\" >Hyde Park</th>\n",
       "                        <td id=\"T_b2b45848_aa6a_11eb_b312_a45e60cb13cdrow11_col0\" class=\"data row11 col0\" >1.411765</td>\n",
       "            </tr>\n",
       "            <tr>\n",
       "                        <th id=\"T_b2b45848_aa6a_11eb_b312_a45e60cb13cdlevel0_row12\" class=\"row_heading level0 row12\" >Jamaica Plain</th>\n",
       "                        <td id=\"T_b2b45848_aa6a_11eb_b312_a45e60cb13cdrow12_col0\" class=\"data row12 col0\" >1.518519</td>\n",
       "            </tr>\n",
       "            <tr>\n",
       "                        <th id=\"T_b2b45848_aa6a_11eb_b312_a45e60cb13cdlevel0_row13\" class=\"row_heading level0 row13\" >Leather District</th>\n",
       "                        <td id=\"T_b2b45848_aa6a_11eb_b312_a45e60cb13cdrow13_col0\" class=\"data row13 col0\" >1.666667</td>\n",
       "            </tr>\n",
       "            <tr>\n",
       "                        <th id=\"T_b2b45848_aa6a_11eb_b312_a45e60cb13cdlevel0_row14\" class=\"row_heading level0 row14\" >Longwood</th>\n",
       "                        <td id=\"T_b2b45848_aa6a_11eb_b312_a45e60cb13cdrow14_col0\" class=\"data row14 col0\" >1.540541</td>\n",
       "            </tr>\n",
       "            <tr>\n",
       "                        <th id=\"T_b2b45848_aa6a_11eb_b312_a45e60cb13cdlevel0_row15\" class=\"row_heading level0 row15\" >Mattapan</th>\n",
       "                        <td id=\"T_b2b45848_aa6a_11eb_b312_a45e60cb13cdrow15_col0\" class=\"data row15 col0\" >1.285714</td>\n",
       "            </tr>\n",
       "            <tr>\n",
       "                        <th id=\"T_b2b45848_aa6a_11eb_b312_a45e60cb13cdlevel0_row16\" class=\"row_heading level0 row16\" >Mission Hill</th>\n",
       "                        <td id=\"T_b2b45848_aa6a_11eb_b312_a45e60cb13cdrow16_col0\" class=\"data row16 col0\" >1.297297</td>\n",
       "            </tr>\n",
       "            <tr>\n",
       "                        <th id=\"T_b2b45848_aa6a_11eb_b312_a45e60cb13cdlevel0_row17\" class=\"row_heading level0 row17\" >North End</th>\n",
       "                        <td id=\"T_b2b45848_aa6a_11eb_b312_a45e60cb13cdrow17_col0\" class=\"data row17 col0\" >2.109375</td>\n",
       "            </tr>\n",
       "            <tr>\n",
       "                        <th id=\"T_b2b45848_aa6a_11eb_b312_a45e60cb13cdlevel0_row18\" class=\"row_heading level0 row18\" >Roslindale</th>\n",
       "                        <td id=\"T_b2b45848_aa6a_11eb_b312_a45e60cb13cdrow18_col0\" class=\"data row18 col0\" >1.451613</td>\n",
       "            </tr>\n",
       "            <tr>\n",
       "                        <th id=\"T_b2b45848_aa6a_11eb_b312_a45e60cb13cdlevel0_row19\" class=\"row_heading level0 row19\" >Roxbury</th>\n",
       "                        <td id=\"T_b2b45848_aa6a_11eb_b312_a45e60cb13cdrow19_col0\" class=\"data row19 col0\" >1.363636</td>\n",
       "            </tr>\n",
       "            <tr>\n",
       "                        <th id=\"T_b2b45848_aa6a_11eb_b312_a45e60cb13cdlevel0_row20\" class=\"row_heading level0 row20\" >South Boston</th>\n",
       "                        <td id=\"T_b2b45848_aa6a_11eb_b312_a45e60cb13cdrow20_col0\" class=\"data row20 col0\" >1.410256</td>\n",
       "            </tr>\n",
       "            <tr>\n",
       "                        <th id=\"T_b2b45848_aa6a_11eb_b312_a45e60cb13cdlevel0_row21\" class=\"row_heading level0 row21\" >South Boston Waterfront</th>\n",
       "                        <td id=\"T_b2b45848_aa6a_11eb_b312_a45e60cb13cdrow21_col0\" class=\"data row21 col0\" >2.023256</td>\n",
       "            </tr>\n",
       "            <tr>\n",
       "                        <th id=\"T_b2b45848_aa6a_11eb_b312_a45e60cb13cdlevel0_row22\" class=\"row_heading level0 row22\" >South End</th>\n",
       "                        <td id=\"T_b2b45848_aa6a_11eb_b312_a45e60cb13cdrow22_col0\" class=\"data row22 col0\" >1.932203</td>\n",
       "            </tr>\n",
       "            <tr>\n",
       "                        <th id=\"T_b2b45848_aa6a_11eb_b312_a45e60cb13cdlevel0_row23\" class=\"row_heading level0 row23\" >West End</th>\n",
       "                        <td id=\"T_b2b45848_aa6a_11eb_b312_a45e60cb13cdrow23_col0\" class=\"data row23 col0\" >1.428571</td>\n",
       "            </tr>\n",
       "            <tr>\n",
       "                        <th id=\"T_b2b45848_aa6a_11eb_b312_a45e60cb13cdlevel0_row24\" class=\"row_heading level0 row24\" >West Roxbury</th>\n",
       "                        <td id=\"T_b2b45848_aa6a_11eb_b312_a45e60cb13cdrow24_col0\" class=\"data row24 col0\" >1.406250</td>\n",
       "            </tr>\n",
       "    </tbody></table>"
      ],
      "text/plain": [
       "<pandas.io.formats.style.Styler at 0x7f9f99482e80>"
      ]
     },
     "execution_count": 45,
     "metadata": {},
     "output_type": "execute_result"
    }
   ],
   "source": [
    "# average price tier by neighborhood\n",
    "food_venues.groupby('Neighborhood')['Venue Price Tier'].mean().to_frame().style.background_gradient()"
   ]
  },
  {
   "cell_type": "code",
   "execution_count": 67,
   "id": "pharmaceutical-chart",
   "metadata": {},
   "outputs": [
    {
     "data": {
      "image/png": "[encoded data removed]",
      "text/plain": [
       "<Figure size 432x288 with 1 Axes>"
      ]
     },
     "metadata": {},
     "output_type": "display_data"
    }
   ],
   "source": [
    "# average rating by neighborhood\n",
    "neighborhood_ratings = food_venues.groupby('Neighborhood')['Venue Rating'].mean()\n",
    "neighborhood_ratings.sort_values(ascending=False).head(10).plot.barh(color='tab:blue',width=.75,alpha=.75)\n",
    "plt.title('Average rating by neighborhood')\n",
    "plt.show()"
   ]
  },
  {
   "cell_type": "markdown",
   "id": "waiting-canyon",
   "metadata": {},
   "source": [
    "### What are the most common food venues by category in each neighborhood?"
   ]
  },
  {
   "cell_type": "code",
   "execution_count": 167,
   "id": "authorized-intermediate",
   "metadata": {},
   "outputs": [],
   "source": [
    "category_dummies = pd.get_dummies(food_venues['Category Group'])\n",
    "category_dummies['Neighborhood'] = food_venues['Neighborhood']"
   ]
  },
  {
   "cell_type": "code",
   "execution_count": 168,
   "id": "invisible-project",
   "metadata": {},
   "outputs": [
    {
     "data": {
      "text/html": [
       "<div>\n",
       "<style scoped>\n",
       "    .dataframe tbody tr th:only-of-type {\n",
       "        vertical-align: middle;\n",
       "    }\n",
       "\n",
       "    .dataframe tbody tr th {\n",
       "        vertical-align: top;\n",
       "    }\n",
       "\n",
       "    .dataframe thead th {\n",
       "        text-align: right;\n",
       "    }\n",
       "</style>\n",
       "<table border=\"1\" class=\"dataframe\">\n",
       "  <thead>\n",
       "    <tr style=\"text-align: right;\">\n",
       "      <th></th>\n",
       "      <th>Afghan Restaurant</th>\n",
       "      <th>African Restaurant</th>\n",
       "      <th>American Restaurant</th>\n",
       "      <th>Asian Restaurant</th>\n",
       "      <th>BBQ Joint</th>\n",
       "      <th>Bagel Shop</th>\n",
       "      <th>Bakery</th>\n",
       "      <th>Belgian Restaurant</th>\n",
       "      <th>Bistro</th>\n",
       "      <th>Breakfast Spot</th>\n",
       "      <th>...</th>\n",
       "      <th>Restaurant</th>\n",
       "      <th>Salad Place</th>\n",
       "      <th>Sandwich Place</th>\n",
       "      <th>Seafood Restaurant</th>\n",
       "      <th>Snack Place</th>\n",
       "      <th>Southern / Soul Food Restaurant</th>\n",
       "      <th>Spanish Restaurant</th>\n",
       "      <th>Steakhouse</th>\n",
       "      <th>Vegetarian / Vegan Restaurant</th>\n",
       "      <th>Wings Joint</th>\n",
       "    </tr>\n",
       "    <tr>\n",
       "      <th>Neighborhood</th>\n",
       "      <th></th>\n",
       "      <th></th>\n",
       "      <th></th>\n",
       "      <th></th>\n",
       "      <th></th>\n",
       "      <th></th>\n",
       "      <th></th>\n",
       "      <th></th>\n",
       "      <th></th>\n",
       "      <th></th>\n",
       "      <th></th>\n",
       "      <th></th>\n",
       "      <th></th>\n",
       "      <th></th>\n",
       "      <th></th>\n",
       "      <th></th>\n",
       "      <th></th>\n",
       "      <th></th>\n",
       "      <th></th>\n",
       "      <th></th>\n",
       "      <th></th>\n",
       "    </tr>\n",
       "  </thead>\n",
       "  <tbody>\n",
       "    <tr>\n",
       "      <th>Allston</th>\n",
       "      <td>0.020833</td>\n",
       "      <td>0.0</td>\n",
       "      <td>0.020833</td>\n",
       "      <td>0.333333</td>\n",
       "      <td>0.0</td>\n",
       "      <td>0.000000</td>\n",
       "      <td>0.062500</td>\n",
       "      <td>0.0</td>\n",
       "      <td>0.00</td>\n",
       "      <td>0.000000</td>\n",
       "      <td>...</td>\n",
       "      <td>0.020833</td>\n",
       "      <td>0.000000</td>\n",
       "      <td>0.020833</td>\n",
       "      <td>0.020833</td>\n",
       "      <td>0.020833</td>\n",
       "      <td>0.000000</td>\n",
       "      <td>0.0</td>\n",
       "      <td>0.000000</td>\n",
       "      <td>0.020833</td>\n",
       "      <td>0.000000</td>\n",
       "    </tr>\n",
       "    <tr>\n",
       "      <th>Back Bay</th>\n",
       "      <td>0.000000</td>\n",
       "      <td>0.0</td>\n",
       "      <td>0.152778</td>\n",
       "      <td>0.138889</td>\n",
       "      <td>0.0</td>\n",
       "      <td>0.013889</td>\n",
       "      <td>0.027778</td>\n",
       "      <td>0.0</td>\n",
       "      <td>0.00</td>\n",
       "      <td>0.000000</td>\n",
       "      <td>...</td>\n",
       "      <td>0.041667</td>\n",
       "      <td>0.027778</td>\n",
       "      <td>0.027778</td>\n",
       "      <td>0.097222</td>\n",
       "      <td>0.000000</td>\n",
       "      <td>0.013889</td>\n",
       "      <td>0.0</td>\n",
       "      <td>0.027778</td>\n",
       "      <td>0.000000</td>\n",
       "      <td>0.000000</td>\n",
       "    </tr>\n",
       "    <tr>\n",
       "      <th>Bay Village</th>\n",
       "      <td>0.000000</td>\n",
       "      <td>0.0</td>\n",
       "      <td>0.085714</td>\n",
       "      <td>0.114286</td>\n",
       "      <td>0.0</td>\n",
       "      <td>0.000000</td>\n",
       "      <td>0.057143</td>\n",
       "      <td>0.0</td>\n",
       "      <td>0.00</td>\n",
       "      <td>0.057143</td>\n",
       "      <td>...</td>\n",
       "      <td>0.000000</td>\n",
       "      <td>0.028571</td>\n",
       "      <td>0.085714</td>\n",
       "      <td>0.114286</td>\n",
       "      <td>0.000000</td>\n",
       "      <td>0.000000</td>\n",
       "      <td>0.0</td>\n",
       "      <td>0.085714</td>\n",
       "      <td>0.028571</td>\n",
       "      <td>0.000000</td>\n",
       "    </tr>\n",
       "    <tr>\n",
       "      <th>Beacon Hill</th>\n",
       "      <td>0.000000</td>\n",
       "      <td>0.0</td>\n",
       "      <td>0.200000</td>\n",
       "      <td>0.080000</td>\n",
       "      <td>0.0</td>\n",
       "      <td>0.040000</td>\n",
       "      <td>0.040000</td>\n",
       "      <td>0.0</td>\n",
       "      <td>0.04</td>\n",
       "      <td>0.040000</td>\n",
       "      <td>...</td>\n",
       "      <td>0.040000</td>\n",
       "      <td>0.000000</td>\n",
       "      <td>0.000000</td>\n",
       "      <td>0.000000</td>\n",
       "      <td>0.000000</td>\n",
       "      <td>0.000000</td>\n",
       "      <td>0.0</td>\n",
       "      <td>0.040000</td>\n",
       "      <td>0.000000</td>\n",
       "      <td>0.000000</td>\n",
       "    </tr>\n",
       "    <tr>\n",
       "      <th>Brighton</th>\n",
       "      <td>0.000000</td>\n",
       "      <td>0.0</td>\n",
       "      <td>0.017544</td>\n",
       "      <td>0.263158</td>\n",
       "      <td>0.0</td>\n",
       "      <td>0.000000</td>\n",
       "      <td>0.052632</td>\n",
       "      <td>0.0</td>\n",
       "      <td>0.00</td>\n",
       "      <td>0.017544</td>\n",
       "      <td>...</td>\n",
       "      <td>0.017544</td>\n",
       "      <td>0.000000</td>\n",
       "      <td>0.035088</td>\n",
       "      <td>0.000000</td>\n",
       "      <td>0.000000</td>\n",
       "      <td>0.000000</td>\n",
       "      <td>0.0</td>\n",
       "      <td>0.000000</td>\n",
       "      <td>0.017544</td>\n",
       "      <td>0.017544</td>\n",
       "    </tr>\n",
       "  </tbody>\n",
       "</table>\n",
       "<p>5 rows × 51 columns</p>\n",
       "</div>"
      ],
      "text/plain": [
       "              Afghan Restaurant  African Restaurant  American Restaurant  \\\n",
       "Neighborhood                                                               \n",
       "Allston                0.020833                 0.0             0.020833   \n",
       "Back Bay               0.000000                 0.0             0.152778   \n",
       "Bay Village            0.000000                 0.0             0.085714   \n",
       "Beacon Hill            0.000000                 0.0             0.200000   \n",
       "Brighton               0.000000                 0.0             0.017544   \n",
       "\n",
       "              Asian Restaurant  BBQ Joint  Bagel Shop    Bakery  \\\n",
       "Neighborhood                                                      \n",
       "Allston               0.333333        0.0    0.000000  0.062500   \n",
       "Back Bay              0.138889        0.0    0.013889  0.027778   \n",
       "Bay Village           0.114286        0.0    0.000000  0.057143   \n",
       "Beacon Hill           0.080000        0.0    0.040000  0.040000   \n",
       "Brighton              0.263158        0.0    0.000000  0.052632   \n",
       "\n",
       "              Belgian Restaurant  Bistro  Breakfast Spot  ...  Restaurant  \\\n",
       "Neighborhood                                              ...               \n",
       "Allston                      0.0    0.00        0.000000  ...    0.020833   \n",
       "Back Bay                     0.0    0.00        0.000000  ...    0.041667   \n",
       "Bay Village                  0.0    0.00        0.057143  ...    0.000000   \n",
       "Beacon Hill                  0.0    0.04        0.040000  ...    0.040000   \n",
       "Brighton                     0.0    0.00        0.017544  ...    0.017544   \n",
       "\n",
       "              Salad Place  Sandwich Place  Seafood Restaurant  Snack Place  \\\n",
       "Neighborhood                                                                 \n",
       "Allston          0.000000        0.020833            0.020833     0.020833   \n",
       "Back Bay         0.027778        0.027778            0.097222     0.000000   \n",
       "Bay Village      0.028571        0.085714            0.114286     0.000000   \n",
       "Beacon Hill      0.000000        0.000000            0.000000     0.000000   \n",
       "Brighton         0.000000        0.035088            0.000000     0.000000   \n",
       "\n",
       "              Southern / Soul Food Restaurant  Spanish Restaurant  Steakhouse  \\\n",
       "Neighborhood                                                                    \n",
       "Allston                              0.000000                 0.0    0.000000   \n",
       "Back Bay                             0.013889                 0.0    0.027778   \n",
       "Bay Village                          0.000000                 0.0    0.085714   \n",
       "Beacon Hill                          0.000000                 0.0    0.040000   \n",
       "Brighton                             0.000000                 0.0    0.000000   \n",
       "\n",
       "              Vegetarian / Vegan Restaurant  Wings Joint  \n",
       "Neighborhood                                              \n",
       "Allston                            0.020833     0.000000  \n",
       "Back Bay                           0.000000     0.000000  \n",
       "Bay Village                        0.028571     0.000000  \n",
       "Beacon Hill                        0.000000     0.000000  \n",
       "Brighton                           0.017544     0.017544  \n",
       "\n",
       "[5 rows x 51 columns]"
      ]
     },
     "execution_count": 168,
     "metadata": {},
     "output_type": "execute_result"
    }
   ],
   "source": [
    "neighborhoods_grouped = category_dummies.groupby('Neighborhood').mean()\n",
    "neighborhoods_grouped.head()"
   ]
  },
  {
   "cell_type": "code",
   "execution_count": null,
   "id": "unlimited-muslim",
   "metadata": {},
   "outputs": [],
   "source": []
  },
  {
   "cell_type": "code",
   "execution_count": 136,
   "id": "metallic-bacon",
   "metadata": {},
   "outputs": [
    {
     "name": "stdout",
     "output_type": "stream",
     "text": [
      "Allston\n",
      "\t1. Asian Restaurant (0.3333)\n",
      "\t2. Bakery (0.0625)\n",
      "\t3. Mexican Restaurant (0.0625)\n",
      "\t4. Diner (0.0417)\n",
      "\t5. Café (0.0417)\n",
      "\n",
      "Back Bay\n",
      "\t1. American Restaurant (0.1528)\n",
      "\t2. Asian Restaurant (0.1389)\n",
      "\t3. Seafood Restaurant (0.0972)\n",
      "\t4. Mexican Restaurant (0.0833)\n",
      "\t5. Italian Restaurant (0.0694)\n",
      "\n",
      "Bay Village\n",
      "\t1. Italian Restaurant (0.1429)\n",
      "\t2. Asian Restaurant (0.1143)\n",
      "\t3. Seafood Restaurant (0.1143)\n",
      "\t4. Pizza Place (0.1143)\n",
      "\t5. Steakhouse (0.0857)\n",
      "\n",
      "Beacon Hill\n",
      "\t1. American Restaurant (0.2)\n",
      "\t2. Italian Restaurant (0.16)\n",
      "\t3. Pizza Place (0.16)\n",
      "\t4. Asian Restaurant (0.08)\n",
      "\t5. French Restaurant (0.08)\n",
      "\n",
      "Brighton\n",
      "\t1. Asian Restaurant (0.2632)\n",
      "\t2. Pizza Place (0.1754)\n",
      "\t3. Café (0.0877)\n",
      "\t4. Bakery (0.0526)\n",
      "\t5. Greek Restaurant (0.0526)\n",
      "\n",
      "Charlestown\n",
      "\t1. Café (0.2368)\n",
      "\t2. Pizza Place (0.1316)\n",
      "\t3. Sandwich Place (0.0789)\n",
      "\t4. Donut Shop (0.0789)\n",
      "\t5. Gastropub (0.0789)\n",
      "\n",
      "Chinatown\n",
      "\t1. Asian Restaurant (0.5897)\n",
      "\t2. Bakery (0.1795)\n",
      "\t3. Pizza Place (0.0513)\n",
      "\t4. Restaurant (0.0256)\n",
      "\t5. Mexican Restaurant (0.0256)\n",
      "\n",
      "Dorchester\n",
      "\t1. Pizza Place (0.1765)\n",
      "\t2. Fast Food Restaurant (0.0588)\n",
      "\t3. Vegetarian / Vegan Restaurant (0.0588)\n",
      "\t4. Café (0.0588)\n",
      "\t5. Diner (0.0588)\n",
      "\n",
      "Downtown\n",
      "\t1. American Restaurant (0.1622)\n",
      "\t2. Asian Restaurant (0.1081)\n",
      "\t3. Sandwich Place (0.0811)\n",
      "\t4. Restaurant (0.0811)\n",
      "\t5. Italian Restaurant (0.0541)\n",
      "\n",
      "East Boston\n",
      "\t1. Mexican Restaurant (0.2105)\n",
      "\t2. Latin American Restaurant (0.1316)\n",
      "\t3. Sandwich Place (0.0789)\n",
      "\t4. Italian Restaurant (0.0789)\n",
      "\t5. Pizza Place (0.0789)\n",
      "\n",
      "Fenway\n",
      "\t1. Asian Restaurant (0.2892)\n",
      "\t2. Café (0.0843)\n",
      "\t3. American Restaurant (0.0723)\n",
      "\t4. Mexican Restaurant (0.0602)\n",
      "\t5. Restaurant (0.0482)\n",
      "\n",
      "Hyde Park\n",
      "\t1. American Restaurant (0.2353)\n",
      "\t2. Pizza Place (0.2353)\n",
      "\t3. Asian Restaurant (0.1765)\n",
      "\t4. Fast Food Restaurant (0.0588)\n",
      "\t5. Italian Restaurant (0.0588)\n",
      "\n",
      "Jamaica Plain\n",
      "\t1. Asian Restaurant (0.1786)\n",
      "\t2. Bakery (0.1429)\n",
      "\t3. American Restaurant (0.1429)\n",
      "\t4. Mexican Restaurant (0.1071)\n",
      "\t5. Pizza Place (0.0714)\n",
      "\n",
      "Leather District\n",
      "\t1. Asian Restaurant (0.1667)\n",
      "\t2. Sandwich Place (0.1667)\n",
      "\t3. Café (0.1111)\n",
      "\t4. Mediterranean Restaurant (0.0556)\n",
      "\t5. Deli / Bodega (0.0556)\n",
      "\n",
      "Longwood\n",
      "\t1. Asian Restaurant (0.1892)\n",
      "\t2. Café (0.1081)\n",
      "\t3. Falafel Restaurant (0.0811)\n",
      "\t4. Donut Shop (0.0811)\n",
      "\t5. Sandwich Place (0.0811)\n",
      "\n",
      "Mattapan\n",
      "\t1. Pizza Place (0.1875)\n",
      "\t2. Donut Shop (0.125)\n",
      "\t3. Fast Food Restaurant (0.125)\n",
      "\t4. Bakery (0.0625)\n",
      "\t5. Indian Restaurant (0.0625)\n",
      "\n",
      "Mission Hill\n",
      "\t1. Pizza Place (0.1795)\n",
      "\t2. Café (0.1795)\n",
      "\t3. Donut Shop (0.1026)\n",
      "\t4. American Restaurant (0.0769)\n",
      "\t5. Asian Restaurant (0.0769)\n",
      "\n",
      "North End\n",
      "\t1. Italian Restaurant (0.4375)\n",
      "\t2. Seafood Restaurant (0.125)\n",
      "\t3. Bakery (0.0938)\n",
      "\t4. Pizza Place (0.0938)\n",
      "\t5. Café (0.0312)\n",
      "\n",
      "Roslindale\n",
      "\t1. Pizza Place (0.1613)\n",
      "\t2. American Restaurant (0.129)\n",
      "\t3. Bakery (0.129)\n",
      "\t4. Asian Restaurant (0.0968)\n",
      "\t5. Greek Restaurant (0.0645)\n",
      "\n",
      "Roxbury\n",
      "\t1. Pizza Place (0.2174)\n",
      "\t2. Caribbean Restaurant (0.1304)\n",
      "\t3. Café (0.087)\n",
      "\t4. Donut Shop (0.087)\n",
      "\t5. African Restaurant (0.0435)\n",
      "\n",
      "South Boston\n",
      "\t1. Pizza Place (0.3333)\n",
      "\t2. Asian Restaurant (0.1026)\n",
      "\t3. Donut Shop (0.0769)\n",
      "\t4. Sandwich Place (0.0769)\n",
      "\t5. Italian Restaurant (0.0513)\n",
      "\n",
      "South Boston Waterfront\n",
      "\t1. Seafood Restaurant (0.1395)\n",
      "\t2. American Restaurant (0.1163)\n",
      "\t3. Italian Restaurant (0.093)\n",
      "\t4. Steakhouse (0.0698)\n",
      "\t5. Asian Restaurant (0.0698)\n",
      "\n",
      "South End\n",
      "\t1. Asian Restaurant (0.1333)\n",
      "\t2. Café (0.0833)\n",
      "\t3. American Restaurant (0.0833)\n",
      "\t4. Italian Restaurant (0.0667)\n",
      "\t5. French Restaurant (0.0667)\n",
      "\n",
      "West End\n",
      "\t1. Mexican Restaurant (0.2857)\n",
      "\t2. Deli / Bodega (0.1429)\n",
      "\t3. Restaurant (0.1429)\n",
      "\t4. Burger Joint (0.1429)\n",
      "\t5. Italian Restaurant (0.1429)\n",
      "\n",
      "West Roxbury\n",
      "\t1. Pizza Place (0.2424)\n",
      "\t2. Asian Restaurant (0.1818)\n",
      "\t3. American Restaurant (0.0909)\n",
      "\t4. Donut Shop (0.0606)\n",
      "\t5. Bagel Shop (0.0606)\n",
      "\n"
     ]
    }
   ],
   "source": [
    "for row in neighborhoods_grouped.iterrows():\n",
    "    print(row[0])\n",
    "    for i,cat in enumerate(row[1].sort_values(ascending=False).head().iteritems(),1):\n",
    "        print('\\t{}. {} ({})'.format(i,cat[0],round(cat[1],4)))\n",
    "    print()\n"
   ]
  },
  {
   "cell_type": "code",
   "execution_count": 149,
   "id": "aerial-layer",
   "metadata": {},
   "outputs": [
    {
     "data": {
      "text/html": [
       "<div>\n",
       "<style scoped>\n",
       "    .dataframe tbody tr th:only-of-type {\n",
       "        vertical-align: middle;\n",
       "    }\n",
       "\n",
       "    .dataframe tbody tr th {\n",
       "        vertical-align: top;\n",
       "    }\n",
       "\n",
       "    .dataframe thead th {\n",
       "        text-align: right;\n",
       "    }\n",
       "</style>\n",
       "<table border=\"1\" class=\"dataframe\">\n",
       "  <thead>\n",
       "    <tr style=\"text-align: right;\">\n",
       "      <th></th>\n",
       "      <th>1st Most Frequent</th>\n",
       "      <th>2nd Most Frequent</th>\n",
       "      <th>3rd Most Frequent</th>\n",
       "      <th>4th Most Frequent</th>\n",
       "      <th>5th Most Frequent</th>\n",
       "    </tr>\n",
       "  </thead>\n",
       "  <tbody>\n",
       "    <tr>\n",
       "      <th>Allston</th>\n",
       "      <td>Asian Restaurant</td>\n",
       "      <td>Bakery</td>\n",
       "      <td>Mexican Restaurant</td>\n",
       "      <td>Diner</td>\n",
       "      <td>Café</td>\n",
       "    </tr>\n",
       "    <tr>\n",
       "      <th>Back Bay</th>\n",
       "      <td>American Restaurant</td>\n",
       "      <td>Asian Restaurant</td>\n",
       "      <td>Seafood Restaurant</td>\n",
       "      <td>Mexican Restaurant</td>\n",
       "      <td>Italian Restaurant</td>\n",
       "    </tr>\n",
       "    <tr>\n",
       "      <th>Bay Village</th>\n",
       "      <td>Italian Restaurant</td>\n",
       "      <td>Asian Restaurant</td>\n",
       "      <td>Seafood Restaurant</td>\n",
       "      <td>Pizza Place</td>\n",
       "      <td>Steakhouse</td>\n",
       "    </tr>\n",
       "    <tr>\n",
       "      <th>Beacon Hill</th>\n",
       "      <td>American Restaurant</td>\n",
       "      <td>Italian Restaurant</td>\n",
       "      <td>Pizza Place</td>\n",
       "      <td>Asian Restaurant</td>\n",
       "      <td>French Restaurant</td>\n",
       "    </tr>\n",
       "    <tr>\n",
       "      <th>Brighton</th>\n",
       "      <td>Asian Restaurant</td>\n",
       "      <td>Pizza Place</td>\n",
       "      <td>Café</td>\n",
       "      <td>Bakery</td>\n",
       "      <td>Greek Restaurant</td>\n",
       "    </tr>\n",
       "  </tbody>\n",
       "</table>\n",
       "</div>"
      ],
      "text/plain": [
       "               1st Most Frequent   2nd Most Frequent   3rd Most Frequent  \\\n",
       "Allston         Asian Restaurant              Bakery  Mexican Restaurant   \n",
       "Back Bay     American Restaurant    Asian Restaurant  Seafood Restaurant   \n",
       "Bay Village   Italian Restaurant    Asian Restaurant  Seafood Restaurant   \n",
       "Beacon Hill  American Restaurant  Italian Restaurant         Pizza Place   \n",
       "Brighton        Asian Restaurant         Pizza Place                Café   \n",
       "\n",
       "              4th Most Frequent   5th Most Frequent  \n",
       "Allston                   Diner                Café  \n",
       "Back Bay     Mexican Restaurant  Italian Restaurant  \n",
       "Bay Village         Pizza Place          Steakhouse  \n",
       "Beacon Hill    Asian Restaurant   French Restaurant  \n",
       "Brighton                 Bakery    Greek Restaurant  "
      ]
     },
     "execution_count": 149,
     "metadata": {},
     "output_type": "execute_result"
    }
   ],
   "source": [
    "frequent_categories_dict = {}\n",
    "for row in neighborhoods_grouped.iterrows():\n",
    "    name = row[0]\n",
    "    categories = [cat for cat in row[1].sort_values(ascending=False).head().index]\n",
    "    frequent_categories_dict[name] = categories\n",
    "    \n",
    "neighborhood_categories = pd.DataFrame.from_dict(frequent_categories_dict,orient='index')\n",
    "neighborhood_categories.columns = [\n",
    "    '1st Most Frequent',\n",
    "    '2nd Most Frequent',\n",
    "    '3rd Most Frequent',\n",
    "    '4th Most Frequent',\n",
    "    '5th Most Frequent',\n",
    "]\n",
    "\n",
    "neighborhood_categories.head()"
   ]
  },
  {
   "cell_type": "code",
   "execution_count": 165,
   "id": "seasonal-hydrogen",
   "metadata": {},
   "outputs": [],
   "source": [
    "# features = pd.concat([neighborhood_categories,features],axis=1)"
   ]
  },
  {
   "cell_type": "markdown",
   "id": "environmental-appliance",
   "metadata": {},
   "source": [
    "## Clustering data\n",
    "\n",
    "My original question for this data was which Boston neighborhoods are the most similar or dissimilar with regard to their food venues.\n",
    "\n",
    "Based on the analysis above, I will use the following variables in my feature set for clustering:\n",
    "1. Mean rating\n",
    "2. Mean price (tier)\n",
    "3. Percentage of venues that are chains (multiple locations)\n",
    "4. Restaurants per capita\n",
    "5. Most common restaurant types"
   ]
  },
  {
   "cell_type": "raw",
   "id": "identified-binary",
   "metadata": {},
   "source": [
    "nbins = 3\n",
    "food_venues['Rating Bins'] = pd.cut(food_venues['Venue Rating'], bins=nbins, labels=['Low','Medium','High'])\n",
    "food_venues.drop(columns='Rating Bins')"
   ]
  },
  {
   "cell_type": "code",
   "execution_count": 215,
   "id": "silver-appeal",
   "metadata": {},
   "outputs": [],
   "source": [
    "features = food_venues.groupby('Neighborhood')[['Multiple Locations','Venue Rating','Venue Price Tier']].mean()"
   ]
  },
  {
   "cell_type": "code",
   "execution_count": 216,
   "id": "parental-arlington",
   "metadata": {},
   "outputs": [],
   "source": [
    "features = pd.concat([neighborhoods_grouped,features],axis=1)"
   ]
  },
  {
   "cell_type": "code",
   "execution_count": 217,
   "id": "automotive-feeding",
   "metadata": {},
   "outputs": [
    {
     "data": {
      "text/plain": [
       "array([[ 4.89897949, -0.29212743, -0.86921015, ..., -1.85332763,\n",
       "         1.11931927, -0.15002285],\n",
       "       [-0.20412415, -0.29212743,  1.20383521, ...,  0.05555676,\n",
       "         1.12181907,  1.67115769],\n",
       "       [-0.20412415, -0.29212743,  0.15016704, ...,  1.23984422,\n",
       "         1.08804478,  2.045568  ],\n",
       "       ...,\n",
       "       [-0.20412415,  2.87717963,  0.11275871, ..., -1.03523432,\n",
       "         1.04077448,  0.98103701],\n",
       "       [-0.20412415, -0.29212743, -1.1965331 , ...,  1.61382973,\n",
       "         0.58985688, -0.6689067 ],\n",
       "       [-0.20412415, -0.29212743,  0.23178523, ...,  0.65053371,\n",
       "        -0.77178748, -0.74203371]])"
      ]
     },
     "execution_count": 217,
     "metadata": {},
     "output_type": "execute_result"
    }
   ],
   "source": [
    "# features = food_venues[['Venue Rating','Venue Price Tier']]\n",
    "X = features\n",
    "X = preprocessing.StandardScaler().fit(X).transform(X)\n",
    "X"
   ]
  },
  {
   "cell_type": "code",
   "execution_count": 218,
   "id": "surgical-vietnamese",
   "metadata": {},
   "outputs": [
    {
     "data": {
      "text/plain": [
       "array([1, 0, 0, 0, 1, 4, 1, 2, 0, 1, 1, 4, 1, 0, 4, 4, 4, 0, 1, 4, 4, 0,\n",
       "       1, 3, 4], dtype=int32)"
      ]
     },
     "execution_count": 218,
     "metadata": {},
     "output_type": "execute_result"
    }
   ],
   "source": [
    "# set number of clusters\n",
    "kclusters = 5\n",
    "\n",
    "# run k-means clustering\n",
    "kmeans = KMeans(n_clusters=kclusters, random_state=0).fit(X)\n",
    "kmeans.labels_"
   ]
  },
  {
   "cell_type": "code",
   "execution_count": 219,
   "id": "certified-therapist",
   "metadata": {},
   "outputs": [],
   "source": [
    "features.insert(0,'Cluster',kmeans.labels_)"
   ]
  },
  {
   "cell_type": "code",
   "execution_count": 220,
   "id": "verified-boutique",
   "metadata": {},
   "outputs": [
    {
     "name": "stdout",
     "output_type": "stream",
     "text": [
      "Back Bay, Bay Village, Beacon Hill, Downtown, Leather District, North End, South Boston Waterfront\n",
      "Allston, Brighton, Chinatown, East Boston, Fenway, Jamaica Plain, Roslindale, South End\n",
      "Dorchester\n",
      "West End\n",
      "Charlestown, Hyde Park, Longwood, Mattapan, Mission Hill, Roxbury, South Boston, West Roxbury\n"
     ]
    }
   ],
   "source": [
    "for cluster in features.reset_index().groupby('Cluster')['Neighborhood'].apply(lambda x: ', '.join(x)):\n",
    "    print(cluster)"
   ]
  },
  {
   "cell_type": "code",
   "execution_count": 221,
   "id": "speaking-subsection",
   "metadata": {},
   "outputs": [
    {
     "data": {
      "text/html": [
       "<div>\n",
       "<style scoped>\n",
       "    .dataframe tbody tr th:only-of-type {\n",
       "        vertical-align: middle;\n",
       "    }\n",
       "\n",
       "    .dataframe tbody tr th {\n",
       "        vertical-align: top;\n",
       "    }\n",
       "\n",
       "    .dataframe thead th {\n",
       "        text-align: right;\n",
       "    }\n",
       "</style>\n",
       "<table border=\"1\" class=\"dataframe\">\n",
       "  <thead>\n",
       "    <tr style=\"text-align: right;\">\n",
       "      <th></th>\n",
       "      <th>Multiple Locations</th>\n",
       "      <th>Venue Rating</th>\n",
       "      <th>Venue Price Tier</th>\n",
       "    </tr>\n",
       "    <tr>\n",
       "      <th>Cluster</th>\n",
       "      <th></th>\n",
       "      <th></th>\n",
       "      <th></th>\n",
       "    </tr>\n",
       "  </thead>\n",
       "  <tbody>\n",
       "    <tr>\n",
       "      <th>0</th>\n",
       "      <td>0.149462</td>\n",
       "      <td>8.114145</td>\n",
       "      <td>2.045614</td>\n",
       "    </tr>\n",
       "    <tr>\n",
       "      <th>1</th>\n",
       "      <td>0.097402</td>\n",
       "      <td>7.690060</td>\n",
       "      <td>1.578455</td>\n",
       "    </tr>\n",
       "    <tr>\n",
       "      <th>2</th>\n",
       "      <td>0.176471</td>\n",
       "      <td>6.520000</td>\n",
       "      <td>1.200000</td>\n",
       "    </tr>\n",
       "    <tr>\n",
       "      <th>3</th>\n",
       "      <td>0.285714</td>\n",
       "      <td>7.857143</td>\n",
       "      <td>1.428571</td>\n",
       "    </tr>\n",
       "    <tr>\n",
       "      <th>4</th>\n",
       "      <td>0.221616</td>\n",
       "      <td>6.898773</td>\n",
       "      <td>1.405405</td>\n",
       "    </tr>\n",
       "  </tbody>\n",
       "</table>\n",
       "</div>"
      ],
      "text/plain": [
       "         Multiple Locations  Venue Rating  Venue Price Tier\n",
       "Cluster                                                    \n",
       "0                  0.149462      8.114145          2.045614\n",
       "1                  0.097402      7.690060          1.578455\n",
       "2                  0.176471      6.520000          1.200000\n",
       "3                  0.285714      7.857143          1.428571\n",
       "4                  0.221616      6.898773          1.405405"
      ]
     },
     "execution_count": 221,
     "metadata": {},
     "output_type": "execute_result"
    }
   ],
   "source": [
    "features.groupby('Cluster')[['Multiple Locations','Venue Rating','Venue Price Tier']].mean()"
   ]
  },
  {
   "cell_type": "code",
   "execution_count": 237,
   "id": "genuine-resort",
   "metadata": {},
   "outputs": [
    {
     "data": {
      "text/plain": [
       "<AxesSubplot:xlabel='Venue Price Tier', ylabel='Neighborhood'>"
      ]
     },
     "execution_count": 237,
     "metadata": {},
     "output_type": "execute_result"
    },
    {
     "data": {
      "image/png": "[encoded data removed]",
      "text/plain": [
       "<Figure size 432x288 with 1 Axes>"
      ]
     },
     "metadata": {},
     "output_type": "display_data"
    }
   ],
   "source": [
    "sns.barplot(data=features.reset_index().sort_values(by='Venue Price Tier',ascending=False),y='Neighborhood',x='Venue Price Tier',hue='Cluster')"
   ]
  },
  {
   "cell_type": "markdown",
   "id": "checked-bottom",
   "metadata": {},
   "source": [
    "---\n",
    "# Results"
   ]
  },
  {
   "cell_type": "markdown",
   "id": "directed-cigarette",
   "metadata": {},
   "source": [
    "---\n",
    "# Discussion"
   ]
  },
  {
   "cell_type": "markdown",
   "id": "traditional-performance",
   "metadata": {},
   "source": [
    "---\n",
    "# Conclusion"
   ]
  }
 ],
 "metadata": {
  "kernelspec": {
   "display_name": "Python 3",
   "language": "python",
   "name": "python3"
  },
  "language_info": {
   "codemirror_mode": {
    "name": "ipython",
    "version": 3
   },
   "file_extension": ".py",
   "mimetype": "text/x-python",
   "name": "python",
   "nbconvert_exporter": "python",
   "pygments_lexer": "ipython3",
   "version": "3.6.10"
  }
 },
 "nbformat": 4,
 "nbformat_minor": 5
}
