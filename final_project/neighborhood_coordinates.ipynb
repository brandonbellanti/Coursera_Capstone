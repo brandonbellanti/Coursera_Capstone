{
 "cells": [
  {
   "cell_type": "code",
   "execution_count": 8,
   "id": "brief-boards",
   "metadata": {},
   "outputs": [],
   "source": [
    "#libraries\n",
    "import pandas as pd, numpy as np\n",
    "import json"
   ]
  },
  {
   "cell_type": "markdown",
   "id": "unusual-renewal",
   "metadata": {},
   "source": [
    "### Coordinate data for Boston Neighborhoods"
   ]
  },
  {
   "cell_type": "code",
   "execution_count": 17,
   "id": "broke-somalia",
   "metadata": {},
   "outputs": [
    {
     "data": {
      "text/html": [
       "<div>\n",
       "<style scoped>\n",
       "    .dataframe tbody tr th:only-of-type {\n",
       "        vertical-align: middle;\n",
       "    }\n",
       "\n",
       "    .dataframe tbody tr th {\n",
       "        vertical-align: top;\n",
       "    }\n",
       "\n",
       "    .dataframe thead th {\n",
       "        text-align: right;\n",
       "    }\n",
       "</style>\n",
       "<table border=\"1\" class=\"dataframe\">\n",
       "  <thead>\n",
       "    <tr style=\"text-align: right;\">\n",
       "      <th></th>\n",
       "      <th>OBJECTID</th>\n",
       "      <th>Name</th>\n",
       "      <th>Acres</th>\n",
       "      <th>Neighborhood_ID</th>\n",
       "      <th>SqMiles</th>\n",
       "    </tr>\n",
       "  </thead>\n",
       "  <tbody>\n",
       "    <tr>\n",
       "      <th>0</th>\n",
       "      <td>27</td>\n",
       "      <td>Roslindale</td>\n",
       "      <td>1605.568237</td>\n",
       "      <td>15</td>\n",
       "      <td>2.51</td>\n",
       "    </tr>\n",
       "    <tr>\n",
       "      <th>1</th>\n",
       "      <td>28</td>\n",
       "      <td>Jamaica Plain</td>\n",
       "      <td>2519.245394</td>\n",
       "      <td>11</td>\n",
       "      <td>3.94</td>\n",
       "    </tr>\n",
       "    <tr>\n",
       "      <th>2</th>\n",
       "      <td>29</td>\n",
       "      <td>Mission Hill</td>\n",
       "      <td>350.853564</td>\n",
       "      <td>13</td>\n",
       "      <td>0.55</td>\n",
       "    </tr>\n",
       "    <tr>\n",
       "      <th>3</th>\n",
       "      <td>30</td>\n",
       "      <td>Longwood</td>\n",
       "      <td>188.611947</td>\n",
       "      <td>28</td>\n",
       "      <td>0.29</td>\n",
       "    </tr>\n",
       "    <tr>\n",
       "      <th>4</th>\n",
       "      <td>31</td>\n",
       "      <td>Bay Village</td>\n",
       "      <td>26.539839</td>\n",
       "      <td>33</td>\n",
       "      <td>0.04</td>\n",
       "    </tr>\n",
       "  </tbody>\n",
       "</table>\n",
       "</div>"
      ],
      "text/plain": [
       "   OBJECTID           Name        Acres  Neighborhood_ID  SqMiles\n",
       "0        27     Roslindale  1605.568237               15     2.51\n",
       "1        28  Jamaica Plain  2519.245394               11     3.94\n",
       "2        29   Mission Hill   350.853564               13     0.55\n",
       "3        30       Longwood   188.611947               28     0.29\n",
       "4        31    Bay Village    26.539839               33     0.04"
      ]
     },
     "execution_count": 17,
     "metadata": {},
     "output_type": "execute_result"
    }
   ],
   "source": [
    "url = 'http://bostonopendata-boston.opendata.arcgis.com/datasets/3525b0ee6e6b427f9aab5d0a1d0a1a28_0.csv'\n",
    "neighborhoods_df = pd.read_csv(url)\n",
    "neighborhoods_df.drop(columns=['ShapeSTArea','ShapeSTLength'],inplace=True)\n",
    "neighborhoods_df.head()"
   ]
  },
  {
   "cell_type": "code",
   "execution_count": 18,
   "id": "eastern-forum",
   "metadata": {},
   "outputs": [
    {
     "name": "stdout",
     "output_type": "stream",
     "text": [
      "1. Allston\n",
      "2. Back Bay\n",
      "3. Bay Village\n",
      "4. Beacon Hill\n",
      "5. Brighton\n",
      "6. Charlestown\n",
      "7. Chinatown\n",
      "8. Dorchester\n",
      "9. Downtown\n",
      "10. East Boston\n",
      "11. Fenway\n",
      "12. Harbor Islands\n",
      "13. Hyde Park\n",
      "14. Jamaica Plain\n",
      "15. Leather District\n",
      "16. Longwood\n",
      "17. Mattapan\n",
      "18. Mission Hill\n",
      "19. North End\n",
      "20. Roslindale\n",
      "21. Roxbury\n",
      "22. South Boston\n",
      "23. South Boston Waterfront\n",
      "24. South End\n",
      "25. West End\n",
      "26. West Roxbury\n"
     ]
    }
   ],
   "source": [
    "neighborhoods = neighborhoods_df['Name'].unique().tolist()\n",
    "for i,neighborhood in enumerate(sorted(neighborhoods),1):\n",
    "    print(f\"{i}.\",neighborhood)"
   ]
  },
  {
   "cell_type": "code",
   "execution_count": 11,
   "id": "helpful-glance",
   "metadata": {},
   "outputs": [],
   "source": [
    "neighborhoods_df[['Lat','Long']] = np.nan"
   ]
  },
  {
   "cell_type": "code",
   "execution_count": 12,
   "id": "swedish-briefs",
   "metadata": {},
   "outputs": [
    {
     "name": "stdout",
     "output_type": "stream",
     "text": [
      "The coordinates of Boston, Massachusetts are 42.3602534, -71.0582912\n"
     ]
    }
   ],
   "source": [
    "# fetch the coordinates for Boston\n",
    "from geopy.geocoders import Nominatim # convert an address into latitude and longitude values\n",
    "\n",
    "address = 'Boston, Massachusetts'\n",
    "geolocator = Nominatim(user_agent=\"boston_explorer\")\n",
    "location = geolocator.geocode(address)\n",
    "\n",
    "print('The coordinates of {} are {}, {}'.format(address,location.latitude,location.longitude))"
   ]
  },
  {
   "cell_type": "code",
   "execution_count": 19,
   "id": "familiar-wisdom",
   "metadata": {},
   "outputs": [],
   "source": [
    "neighborhoods_df.set_index('Name',inplace=True)\n",
    "\n",
    "for neighborhood in neighborhoods_df.index:\n",
    "    print(neighborhood)\n",
    "    address = f'{neighborhood}, Boston, Massachusetts'\n",
    "    geolocator = Nominatim(user_agent=\"boston_explorer\")\n",
    "    location = geolocator.geocode(address)\n",
    "    neighborhoods_df.loc[neighborhood,'Lat'] = location.latitude\n",
    "    neighborhoods_df.loc[neighborhood,'Long'] = location.longitude\n",
    "\n",
    "neighborhoods_df.reset_index(inplace=True)"
   ]
  },
  {
   "cell_type": "code",
   "execution_count": 20,
   "id": "earned-angola",
   "metadata": {},
   "outputs": [
    {
     "data": {
      "text/html": [
       "<div>\n",
       "<style scoped>\n",
       "    .dataframe tbody tr th:only-of-type {\n",
       "        vertical-align: middle;\n",
       "    }\n",
       "\n",
       "    .dataframe tbody tr th {\n",
       "        vertical-align: top;\n",
       "    }\n",
       "\n",
       "    .dataframe thead th {\n",
       "        text-align: right;\n",
       "    }\n",
       "</style>\n",
       "<table border=\"1\" class=\"dataframe\">\n",
       "  <thead>\n",
       "    <tr style=\"text-align: right;\">\n",
       "      <th></th>\n",
       "      <th>Name</th>\n",
       "      <th>OBJECTID</th>\n",
       "      <th>Acres</th>\n",
       "      <th>Neighborhood_ID</th>\n",
       "      <th>SqMiles</th>\n",
       "      <th>Lat</th>\n",
       "      <th>Long</th>\n",
       "    </tr>\n",
       "  </thead>\n",
       "  <tbody>\n",
       "    <tr>\n",
       "      <th>0</th>\n",
       "      <td>Roslindale</td>\n",
       "      <td>27</td>\n",
       "      <td>1605.568237</td>\n",
       "      <td>15</td>\n",
       "      <td>2.51</td>\n",
       "      <td>42.291209</td>\n",
       "      <td>-71.124497</td>\n",
       "    </tr>\n",
       "    <tr>\n",
       "      <th>1</th>\n",
       "      <td>Jamaica Plain</td>\n",
       "      <td>28</td>\n",
       "      <td>2519.245394</td>\n",
       "      <td>11</td>\n",
       "      <td>3.94</td>\n",
       "      <td>42.309820</td>\n",
       "      <td>-71.120330</td>\n",
       "    </tr>\n",
       "    <tr>\n",
       "      <th>2</th>\n",
       "      <td>Mission Hill</td>\n",
       "      <td>29</td>\n",
       "      <td>350.853564</td>\n",
       "      <td>13</td>\n",
       "      <td>0.55</td>\n",
       "      <td>42.332560</td>\n",
       "      <td>-71.103608</td>\n",
       "    </tr>\n",
       "    <tr>\n",
       "      <th>3</th>\n",
       "      <td>Longwood</td>\n",
       "      <td>30</td>\n",
       "      <td>188.611947</td>\n",
       "      <td>28</td>\n",
       "      <td>0.29</td>\n",
       "      <td>42.341533</td>\n",
       "      <td>-71.110155</td>\n",
       "    </tr>\n",
       "    <tr>\n",
       "      <th>4</th>\n",
       "      <td>Bay Village</td>\n",
       "      <td>31</td>\n",
       "      <td>26.539839</td>\n",
       "      <td>33</td>\n",
       "      <td>0.04</td>\n",
       "      <td>42.350011</td>\n",
       "      <td>-71.066948</td>\n",
       "    </tr>\n",
       "  </tbody>\n",
       "</table>\n",
       "</div>"
      ],
      "text/plain": [
       "            Name  OBJECTID        Acres  Neighborhood_ID  SqMiles        Lat  \\\n",
       "0     Roslindale        27  1605.568237               15     2.51  42.291209   \n",
       "1  Jamaica Plain        28  2519.245394               11     3.94  42.309820   \n",
       "2   Mission Hill        29   350.853564               13     0.55  42.332560   \n",
       "3       Longwood        30   188.611947               28     0.29  42.341533   \n",
       "4    Bay Village        31    26.539839               33     0.04  42.350011   \n",
       "\n",
       "        Long  \n",
       "0 -71.124497  \n",
       "1 -71.120330  \n",
       "2 -71.103608  \n",
       "3 -71.110155  \n",
       "4 -71.066948  "
      ]
     },
     "execution_count": 20,
     "metadata": {},
     "output_type": "execute_result"
    }
   ],
   "source": [
    "neighborhoods_df.head()"
   ]
  }
 ],
 "metadata": {
  "kernelspec": {
   "display_name": "Python 3",
   "language": "python",
   "name": "python3"
  },
  "language_info": {
   "codemirror_mode": {
    "name": "ipython",
    "version": 3
   },
   "file_extension": ".py",
   "mimetype": "text/x-python",
   "name": "python",
   "nbconvert_exporter": "python",
   "pygments_lexer": "ipython3",
   "version": "3.6.10"
  }
 },
 "nbformat": 4,
 "nbformat_minor": 5
}
