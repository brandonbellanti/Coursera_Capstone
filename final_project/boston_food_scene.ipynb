{
 "cells": [
  {
   "cell_type": "markdown",
   "id": "inner-major",
   "metadata": {},
   "source": [
    "![picture of Boston skyline from the Charles River](https://images.unsplash.com/photo-1560799260-b737af7dd0fc?ixid=MnwxMjA3fDB8MHxwaG90by1wYWdlfHx8fGVufDB8fHx8&ixlib=rb-1.2.1&auto=format&fit=crop&w=2462&q=80)\n",
    "_Photo by Prateek Pisat on [Unsplash](https://unsplash.com/photos/SFsKWydc7qY)_"
   ]
  },
  {
   "cell_type": "markdown",
   "id": "massive-blast",
   "metadata": {},
   "source": [
    "# Mapping Boston's Food Scene\n",
    "Prepared by Brandon Bellanti<br>\n",
    "Last updated April 25, 2021\n",
    "\n",
    "---"
   ]
  },
  {
   "cell_type": "markdown",
   "id": "coastal-reggae",
   "metadata": {},
   "source": [
    "## Introduction/Business Problem\n",
    "\n",
    "In my project, I will analyze and cluster food venues across Boston. I'll look at aspects like type of food, price, rating, hours, and location.\n",
    "\n",
    "Some of the questions I'm interested in answering are:\n",
    "\n",
    "* Are restaurants of a given food type distrubuted evenly across the city, or are they clustered together? If they're clustered, is there a correlation between the type of food and the demographics of that neighborhood?\n",
    "* Which neighborhoods in Boston are the most similar in terms of food venues? Which neighborhoods are most different? \n",
    "* Does average food venue price correspond with income, either per-capita or by household?\n",
    "\n",
    "The audience for this analysis is anyone interested in exploring Boston's food scene. One practical way it could be used is by someone who wants to open a restaurant in Boston: they would be able to see where similar restaurants – their competition – already exist or perhaps do not exist."
   ]
  },
  {
   "cell_type": "markdown",
   "id": "bridal-candle",
   "metadata": {},
   "source": [
    "## Data\n",
    "\n",
    "My data will come from two main sources, Boston's open data hub – [Analyze Boston](https://data.boston.gov/) – and the Foursquare API.\n",
    "\n",
    "I'll use datasets available on Analyze Boston for [neighborhood](http://bostonopendata-boston.opendata.arcgis.com/datasets/3525b0ee6e6b427f9aab5d0a1d0a1a28_0.csv) and possibly [demographic data](https://data.boston.gov/dataset/neighborhood-demographics/resource/d8c23c6a-b868-4ba4-8a3b-b9615a21be07?view_id=875bddaa-ffb9-4eaa-bdb5-1b77b414182b) like income or mobility.\n",
    "\n",
    "I'll use the Foursquare API for venue data. Once I have coordinate data for each Boston neighborhood (returned using the geopy library and the neighborhood data from Analyze Boston), I will call the `/venues` endpoint of the Foursquare API and search for nearby venues that have the categoryId `Food` (4d4b7105d754a06374d81259).\n",
    "\n",
    "Searching by categoryId also includes all venues in child categories and their children, so I will group the venues by common parent categories to have fewer values overall. Since the results of the standard `/venues` endpoint does not contain parent category information, I'll build a separate reference dataframe with the hierarchy on the Foursquare API [Venue Categories](https://developer.foursquare.com/docs/build-with-foursquare/categories/) page. \n",
    "\n",
    "For each venue, I am interested in details such as price and rating, as well as opening hours and popular times. These details are accessed through a Premium endpoint - `/venues/VENUE_ID` – and I am limited to 500 Premium calls per day, so I will store the returned data to CSV files for each neighborhood if I hit my premium call limit. This way, if necessary, I can build a small cache of data over a couple of days and collect all the data I need.\n",
    "\n",
    "I will use the K-Nearest-Neighbor algorithm to cluster the venues."
   ]
  }
 ],
 "metadata": {
  "kernelspec": {
   "display_name": "Python 3",
   "language": "python",
   "name": "python3"
  },
  "language_info": {
   "codemirror_mode": {
    "name": "ipython",
    "version": 3
   },
   "file_extension": ".py",
   "mimetype": "text/x-python",
   "name": "python",
   "nbconvert_exporter": "python",
   "pygments_lexer": "ipython3",
   "version": "3.6.10"
  }
 },
 "nbformat": 4,
 "nbformat_minor": 5
}
