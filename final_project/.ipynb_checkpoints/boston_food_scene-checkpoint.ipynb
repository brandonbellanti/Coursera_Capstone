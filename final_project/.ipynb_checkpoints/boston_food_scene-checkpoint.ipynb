{
 "cells": [
  {
   "cell_type": "markdown",
   "id": "offensive-consent",
   "metadata": {},
   "source": [
    "![picture of Boston skyline from the Charles River](https://images.unsplash.com/photo-1560799260-b737af7dd0fc?ixid=MnwxMjA3fDB8MHxwaG90by1wYWdlfHx8fGVufDB8fHx8&ixlib=rb-1.2.1&auto=format&fit=crop&w=2462&q=80)\n",
    "_Photo by Prateek Pisat on [Unsplash](https://unsplash.com/photos/SFsKWydc7qY)_"
   ]
  },
  {
   "cell_type": "markdown",
   "id": "cosmetic-engine",
   "metadata": {},
   "source": [
    "# Mapping Boston's Food Scene\n",
    "Prepared by Brandon Bellanti<br>\n",
    "Last updated May 1, 2021\n",
    "\n",
    "---"
   ]
  },
  {
   "cell_type": "markdown",
   "id": "spread-comedy",
   "metadata": {},
   "source": [
    "# Table of Contents\n",
    "1. [Introduction](#Introduction/Business-Problem)\n",
    "2. [Data](#Data)\n",
    "3. [Methodology](#Methodology)\n",
    "    * [Collect data](#Collect-data)\n",
    "    * [Explore data](#Explore-data)\n",
    "    * [Cluster data](#Cluster-data)\n",
    "4. [Results](#Results)\n",
    "5. [Discussion](#Discussion)\n",
    "6. [Conclusion](#Conclusion)"
   ]
  },
  {
   "cell_type": "markdown",
   "id": "fiscal-canyon",
   "metadata": {},
   "source": [
    "---\n",
    "# Introduction/Business Problem\n",
    "\n",
    "In this project, I analyze and cluster Boston nieghborhoods to find which ones are most similar based on their food venues. I'll look at aspects like categories of venue, price tier, rating, and venue location.\n",
    "\n",
    "Some of the questions I'm interested in answering are:\n",
    "\n",
    "* What are the most common categories for food venues in Boston? In each neighborhood?\n",
    "* Do higher prices correlate with higher ratings?\n",
    "* Does average food venue price correspond with income, either per-capita or by household?\n",
    "* Are restaurants of a given food type distrubuted evenly across the city, or are they clustered together? If they're clustered, is there a correlation between the type of food and the demographics of that neighborhood?\n",
    "\n",
    "The audience for this analysis is anyone interested in exploring Boston's food scene. One practical way it could be used is by someone who wants to open a restaurant in Boston: they would be able to see where similar restaurants – their competition – already exist or perhaps do not exist."
   ]
  },
  {
   "cell_type": "markdown",
   "id": "hearing-vatican",
   "metadata": {},
   "source": [
    "*[Jump to top](#Table-of-Contents)*\n",
    "\n",
    "---\n",
    "# Data\n",
    "\n",
    "My data will come from two main sources, Boston's open data hub – [Analyze Boston](https://data.boston.gov/) – and the Foursquare API.\n",
    "\n",
    "I'll use datasets available on Analyze Boston for [neighborhood](http://bostonopendata-boston.opendata.arcgis.com/datasets/3525b0ee6e6b427f9aab5d0a1d0a1a28_0.csv) and [demographic data](https://data.boston.gov/dataset/neighborhood-demographics/resource/d8c23c6a-b868-4ba4-8a3b-b9615a21be07?view_id=875bddaa-ffb9-4eaa-bdb5-1b77b414182b) like income and population.\n",
    "\n",
    "I'll use the Foursquare API for venue data. Once I have coordinate data for each Boston neighborhood (returned using the geopy library and the neighborhood data from Analyze Boston), I will call the `/venues` endpoint of the Foursquare API and search for nearby venues that have the categoryId `Food`.\n",
    "\n",
    "Searching by categoryId also includes all venues in child categories and their children, so I will group the venues by common parent categories to have fewer values overall. Since the results of the standard `/venues` endpoint does not contain parent category information, I'll build a separate reference dataframe with the hierarchy on the Foursquare API [Venue Categories](https://developer.foursquare.com/docs/build-with-foursquare/categories/) page. \n",
    "\n",
    "For each venue, I am interested in more specific details such as price and rating. These details are accessed through a Premium endpoint - `/venues/VENUE_ID` – and I am limited to 500 Premium calls per day, so I will store the returned data to CSV files. This way, I can build a small cache of data over a couple of days and collect all the data I need.\n",
    "\n",
    "I will use the K-Nearest-Neighbor algorithm to cluster the venues."
   ]
  },
  {
   "cell_type": "markdown",
   "id": "clear-messenger",
   "metadata": {},
   "source": [
    "*[Jump to top](#Table-of-Contents)*\n",
    "\n",
    "---\n",
    "# Methodology\n",
    "\n",
    "The method I used is fairly straightforward and can be grouped into three stages:\n",
    "1. Collect the data\n",
    "2. Explore the data\n",
    "3. Cluster the data\n",
    "\n",
    "Each stage is described in detail below, along with the code I used."
   ]
  },
  {
   "cell_type": "markdown",
   "id": "secondary-winner",
   "metadata": {},
   "source": [
    "Before I begin with collection, analysis, and clustering, I import the Python libraries that I'll be using and load my credentials for accessing the Foursquare API."
   ]
  },
  {
   "cell_type": "code",
   "execution_count": 3,
   "id": "million-bulletin",
   "metadata": {},
   "outputs": [],
   "source": [
    "# import libraries\n",
    "import pandas as pd, numpy as np\n",
    "import matplotlib as mpl\n",
    "import matplotlib.pyplot as plt\n",
    "%matplotlib inline\n",
    "mpl.style.use('ggplot')\n",
    "# sns.set_theme(style=\"whitegrid\")\n",
    "import seaborn as sns\n",
    "import json\n",
    "import requests\n",
    "import folium # map rendering library\n",
    "\n",
    "from sklearn import preprocessing\n",
    "from sklearn.cluster import KMeans"
   ]
  },
  {
   "cell_type": "code",
   "execution_count": 4,
   "id": "authorized-lebanon",
   "metadata": {
    "tags": [
     "hide_input"
    ]
   },
   "outputs": [],
   "source": [
    "# API credentials for the Foursquare API\n",
    "\n",
    "CLIENT_ID = 'PHPYTVIC22RACPESMK2BTWWGZQLEP1H5X4OM5YD3UWPEQ1MN' # your Foursquare ID\n",
    "CLIENT_SECRET = 'CKKXK00Y4X4IEBXB0BXABSPIQWRTTXG0CLII4E1RRNVU4ZMN' # your Foursquare Secret\n",
    "VERSION = '20180605' # Foursquare API version\n",
    "LIMIT = 100 # A default Foursquare API limit value\n",
    "\n",
    "# print('Your credentails:')\n",
    "# print('CLIENT_ID: ' + CLIENT_ID)\n",
    "# print('CLIENT_SECRET: ' + CLIENT_SECRET)"
   ]
  },
  {
   "cell_type": "markdown",
   "id": "broke-basketball",
   "metadata": {},
   "source": [
    "## Collect data"
   ]
  },
  {
   "cell_type": "markdown",
   "id": "competitive-marriage",
   "metadata": {},
   "source": [
    "### Coordinates for Boston neighborhoods"
   ]
  },
  {
   "cell_type": "markdown",
   "id": "incorporated-premises",
   "metadata": {},
   "source": [
    "The City of Boston publishes quite a bit of data publicly through the **Analyze Boston** website ([data.boston.gov](https://data.boston.gov/)). I used the `read_csv()` method in Pandas to build a dataframe from their [Boston Neighborhoods](https://data.boston.gov/dataset/boston-neighborhoods1) dataset, dropping the columns I didn't need."
   ]
  },
  {
   "cell_type": "code",
   "execution_count": 5,
   "id": "assisted-college",
   "metadata": {},
   "outputs": [],
   "source": [
    "url = 'http://bostonopendata-boston.opendata.arcgis.com/datasets/3525b0ee6e6b427f9aab5d0a1d0a1a28_0.csv'\n",
    "neighborhoods_df = pd.read_csv(url)\n",
    "neighborhoods_df.drop(columns=['ShapeSTArea','ShapeSTLength'],inplace=True)"
   ]
  },
  {
   "cell_type": "code",
   "execution_count": 4,
   "id": "recent-rabbit",
   "metadata": {},
   "outputs": [
    {
     "name": "stdout",
     "output_type": "stream",
     "text": [
      "1) Allston\n",
      "2) Back Bay\n",
      "3) Bay Village\n",
      "4) Beacon Hill\n",
      "5) Brighton\n",
      "6) Charlestown\n",
      "7) Chinatown\n",
      "8) Dorchester\n",
      "9) Downtown\n",
      "10) East Boston\n",
      "11) Fenway\n",
      "12) Harbor Islands\n",
      "13) Hyde Park\n",
      "14) Jamaica Plain\n",
      "15) Leather District\n",
      "16) Longwood\n",
      "17) Mattapan\n",
      "18) Mission Hill\n",
      "19) North End\n",
      "20) Roslindale\n",
      "21) Roxbury\n",
      "22) South Boston\n",
      "23) South Boston Waterfront\n",
      "24) South End\n",
      "25) West End\n",
      "26) West Roxbury\n"
     ]
    }
   ],
   "source": [
    "# print numbered list of Boston neighborhoods\n",
    "neighborhoods = neighborhoods_df['Name'].unique()\n",
    "for i,neighborhood in enumerate(sorted(neighborhoods),1):\n",
    "    print(f\"{i})\",neighborhood)"
   ]
  },
  {
   "cell_type": "markdown",
   "id": "eastern-teach",
   "metadata": {},
   "source": [
    "<br>\n",
    "I need coordinate data (latitude and longitude) to get an accurate result set of nearby restaurants when I call the Foursquare API, so I created empty columns in my dataframe, used a function in the geopy library to fetch the coordinates for each neighborhood, and add the coordinates to the new columns."
   ]
  },
  {
   "cell_type": "code",
   "execution_count": 38,
   "id": "painful-clearance",
   "metadata": {},
   "outputs": [],
   "source": [
    "# create empty series for latitude and longitude\n",
    "neighborhoods_df[['Lat','Long']] = np.nan"
   ]
  },
  {
   "cell_type": "code",
   "execution_count": 6,
   "id": "white-executive",
   "metadata": {},
   "outputs": [
    {
     "name": "stdout",
     "output_type": "stream",
     "text": [
      "The coordinates of Boston, Massachusetts are 42.3602534, -71.0582912\n"
     ]
    }
   ],
   "source": [
    "# fetch the coordinates for Boston\n",
    "from geopy.geocoders import Nominatim # convert an address into latitude and longitude values\n",
    "\n",
    "address = 'Boston, Massachusetts'\n",
    "geolocator = Nominatim(user_agent=\"boston_explorer\")\n",
    "location = geolocator.geocode(address)\n",
    "\n",
    "boston_lat, boston_long = location.latitude, location.longitude\n",
    "\n",
    "print('The coordinates of {} are {}, {}'.format(address,boston_lat,boston_long))"
   ]
  },
  {
   "cell_type": "code",
   "execution_count": 7,
   "id": "raised-hello",
   "metadata": {},
   "outputs": [
    {
     "data": {
      "text/html": [
       "<div>\n",
       "<style scoped>\n",
       "    .dataframe tbody tr th:only-of-type {\n",
       "        vertical-align: middle;\n",
       "    }\n",
       "\n",
       "    .dataframe tbody tr th {\n",
       "        vertical-align: top;\n",
       "    }\n",
       "\n",
       "    .dataframe thead th {\n",
       "        text-align: right;\n",
       "    }\n",
       "</style>\n",
       "<table border=\"1\" class=\"dataframe\">\n",
       "  <thead>\n",
       "    <tr style=\"text-align: right;\">\n",
       "      <th></th>\n",
       "      <th>Name</th>\n",
       "      <th>OBJECTID</th>\n",
       "      <th>Acres</th>\n",
       "      <th>Neighborhood_ID</th>\n",
       "      <th>SqMiles</th>\n",
       "      <th>Lat</th>\n",
       "      <th>Long</th>\n",
       "    </tr>\n",
       "  </thead>\n",
       "  <tbody>\n",
       "    <tr>\n",
       "      <th>0</th>\n",
       "      <td>Roslindale</td>\n",
       "      <td>27</td>\n",
       "      <td>1605.568237</td>\n",
       "      <td>15</td>\n",
       "      <td>2.51</td>\n",
       "      <td>42.291209</td>\n",
       "      <td>-71.124497</td>\n",
       "    </tr>\n",
       "    <tr>\n",
       "      <th>1</th>\n",
       "      <td>Jamaica Plain</td>\n",
       "      <td>28</td>\n",
       "      <td>2519.245394</td>\n",
       "      <td>11</td>\n",
       "      <td>3.94</td>\n",
       "      <td>42.309820</td>\n",
       "      <td>-71.120330</td>\n",
       "    </tr>\n",
       "    <tr>\n",
       "      <th>2</th>\n",
       "      <td>Mission Hill</td>\n",
       "      <td>29</td>\n",
       "      <td>350.853564</td>\n",
       "      <td>13</td>\n",
       "      <td>0.55</td>\n",
       "      <td>42.332560</td>\n",
       "      <td>-71.103608</td>\n",
       "    </tr>\n",
       "    <tr>\n",
       "      <th>3</th>\n",
       "      <td>Longwood</td>\n",
       "      <td>30</td>\n",
       "      <td>188.611947</td>\n",
       "      <td>28</td>\n",
       "      <td>0.29</td>\n",
       "      <td>42.341533</td>\n",
       "      <td>-71.110155</td>\n",
       "    </tr>\n",
       "    <tr>\n",
       "      <th>4</th>\n",
       "      <td>Bay Village</td>\n",
       "      <td>31</td>\n",
       "      <td>26.539839</td>\n",
       "      <td>33</td>\n",
       "      <td>0.04</td>\n",
       "      <td>42.350011</td>\n",
       "      <td>-71.066948</td>\n",
       "    </tr>\n",
       "  </tbody>\n",
       "</table>\n",
       "</div>"
      ],
      "text/plain": [
       "            Name  OBJECTID        Acres  Neighborhood_ID  SqMiles        Lat  \\\n",
       "0     Roslindale        27  1605.568237               15     2.51  42.291209   \n",
       "1  Jamaica Plain        28  2519.245394               11     3.94  42.309820   \n",
       "2   Mission Hill        29   350.853564               13     0.55  42.332560   \n",
       "3       Longwood        30   188.611947               28     0.29  42.341533   \n",
       "4    Bay Village        31    26.539839               33     0.04  42.350011   \n",
       "\n",
       "        Long  \n",
       "0 -71.124497  \n",
       "1 -71.120330  \n",
       "2 -71.103608  \n",
       "3 -71.110155  \n",
       "4 -71.066948  "
      ]
     },
     "execution_count": 7,
     "metadata": {},
     "output_type": "execute_result"
    }
   ],
   "source": [
    "# fetch the coordinates for each neighborhood in Boston and add to the dataframe\n",
    "neighborhoods_df.set_index('Name',inplace=True)\n",
    "\n",
    "for neighborhood in neighborhoods_df.index:\n",
    "#     print(neighborhood)\n",
    "    address = f'{neighborhood}, Boston, Massachusetts'\n",
    "    geolocator = Nominatim(user_agent=\"boston_explorer\")\n",
    "    location = geolocator.geocode(address)\n",
    "    neighborhoods_df.loc[neighborhood,'Lat'] = location.latitude\n",
    "    neighborhoods_df.loc[neighborhood,'Long'] = location.longitude\n",
    "\n",
    "neighborhoods_df.reset_index(inplace=True)\n",
    "\n",
    "neighborhoods_df.head()"
   ]
  },
  {
   "cell_type": "markdown",
   "id": "promising-excitement",
   "metadata": {},
   "source": [
    "<br>\n",
    "With the coordinate data for each neighborhood, I can build a map of Boston with markers and details for each neighborhood."
   ]
  },
  {
   "cell_type": "code",
   "execution_count": 14,
   "id": "significant-destiny",
   "metadata": {},
   "outputs": [
    {
     "data": {
      "text/html": [
       "<div style=\"width:100%;\"><div style=\"position:relative;width:100%;height:0;padding-bottom:60%;\"><span style=\"color:#565656\">Make this Notebook Trusted to load map: File -> Trust Notebook</span><iframe src=\"about:blank\" style=\"position:absolute;width:100%;height:100%;left:0;top:0;border:none !important;\" data-html=%3C%21DOCTYPE%20html%3E%0A%3Chead%3E%20%20%20%20%0A%20%20%20%20%3Cmeta%20http-equiv%3D%22content-type%22%20content%3D%22text/html%3B%20charset%3DUTF-8%22%20/%3E%0A%20%20%20%20%3Cscript%3EL_PREFER_CANVAS%20%3D%20false%3B%20L_NO_TOUCH%20%3D%20false%3B%20L_DISABLE_3D%20%3D%20false%3B%3C/script%3E%0A%20%20%20%20%3Cscript%20src%3D%22https%3A//cdn.jsdelivr.net/npm/leaflet%401.2.0/dist/leaflet.js%22%3E%3C/script%3E%0A%20%20%20%20%3Cscript%20src%3D%22https%3A//ajax.googleapis.com/ajax/libs/jquery/1.11.1/jquery.min.js%22%3E%3C/script%3E%0A%20%20%20%20%3Cscript%20src%3D%22https%3A//maxcdn.bootstrapcdn.com/bootstrap/3.2.0/js/bootstrap.min.js%22%3E%3C/script%3E%0A%20%20%20%20%3Cscript%20src%3D%22https%3A//cdnjs.cloudflare.com/ajax/libs/Leaflet.awesome-markers/2.0.2/leaflet.awesome-markers.js%22%3E%3C/script%3E%0A%20%20%20%20%3Clink%20rel%3D%22stylesheet%22%20href%3D%22https%3A//cdn.jsdelivr.net/npm/leaflet%401.2.0/dist/leaflet.css%22/%3E%0A%20%20%20%20%3Clink%20rel%3D%22stylesheet%22%20href%3D%22https%3A//maxcdn.bootstrapcdn.com/bootstrap/3.2.0/css/bootstrap.min.css%22/%3E%0A%20%20%20%20%3Clink%20rel%3D%22stylesheet%22%20href%3D%22https%3A//maxcdn.bootstrapcdn.com/bootstrap/3.2.0/css/bootstrap-theme.min.css%22/%3E%0A%20%20%20%20%3Clink%20rel%3D%22stylesheet%22%20href%3D%22https%3A//maxcdn.bootstrapcdn.com/font-awesome/4.6.3/css/font-awesome.min.css%22/%3E%0A%20%20%20%20%3Clink%20rel%3D%22stylesheet%22%20href%3D%22https%3A//cdnjs.cloudflare.com/ajax/libs/Leaflet.awesome-markers/2.0.2/leaflet.awesome-markers.css%22/%3E%0A%20%20%20%20%3Clink%20rel%3D%22stylesheet%22%20href%3D%22https%3A//rawgit.com/python-visualization/folium/master/folium/templates/leaflet.awesome.rotate.css%22/%3E%0A%20%20%20%20%3Cstyle%3Ehtml%2C%20body%20%7Bwidth%3A%20100%25%3Bheight%3A%20100%25%3Bmargin%3A%200%3Bpadding%3A%200%3B%7D%3C/style%3E%0A%20%20%20%20%3Cstyle%3E%23map%20%7Bposition%3Aabsolute%3Btop%3A0%3Bbottom%3A0%3Bright%3A0%3Bleft%3A0%3B%7D%3C/style%3E%0A%20%20%20%20%0A%20%20%20%20%20%20%20%20%20%20%20%20%3Cstyle%3E%20%23map_ae02f7cf6f2b4e8890ca862597bec934%20%7B%0A%20%20%20%20%20%20%20%20%20%20%20%20%20%20%20%20position%20%3A%20relative%3B%0A%20%20%20%20%20%20%20%20%20%20%20%20%20%20%20%20width%20%3A%20100.0%25%3B%0A%20%20%20%20%20%20%20%20%20%20%20%20%20%20%20%20height%3A%20100.0%25%3B%0A%20%20%20%20%20%20%20%20%20%20%20%20%20%20%20%20left%3A%200.0%25%3B%0A%20%20%20%20%20%20%20%20%20%20%20%20%20%20%20%20top%3A%200.0%25%3B%0A%20%20%20%20%20%20%20%20%20%20%20%20%20%20%20%20%7D%0A%20%20%20%20%20%20%20%20%20%20%20%20%3C/style%3E%0A%20%20%20%20%20%20%20%20%0A%3C/head%3E%0A%3Cbody%3E%20%20%20%20%0A%20%20%20%20%0A%20%20%20%20%20%20%20%20%20%20%20%20%3Cdiv%20class%3D%22folium-map%22%20id%3D%22map_ae02f7cf6f2b4e8890ca862597bec934%22%20%3E%3C/div%3E%0A%20%20%20%20%20%20%20%20%0A%3C/body%3E%0A%3Cscript%3E%20%20%20%20%0A%20%20%20%20%0A%0A%20%20%20%20%20%20%20%20%20%20%20%20%0A%20%20%20%20%20%20%20%20%20%20%20%20%20%20%20%20var%20bounds%20%3D%20null%3B%0A%20%20%20%20%20%20%20%20%20%20%20%20%0A%0A%20%20%20%20%20%20%20%20%20%20%20%20var%20map_ae02f7cf6f2b4e8890ca862597bec934%20%3D%20L.map%28%0A%20%20%20%20%20%20%20%20%20%20%20%20%20%20%20%20%20%20%20%20%20%20%20%20%20%20%20%20%20%20%20%20%20%20%27map_ae02f7cf6f2b4e8890ca862597bec934%27%2C%0A%20%20%20%20%20%20%20%20%20%20%20%20%20%20%20%20%20%20%20%20%20%20%20%20%20%20%20%20%20%20%20%20%20%20%7Bcenter%3A%20%5B42.324843%2C-71.095016%5D%2C%0A%20%20%20%20%20%20%20%20%20%20%20%20%20%20%20%20%20%20%20%20%20%20%20%20%20%20%20%20%20%20%20%20%20%20zoom%3A%2012%2C%0A%20%20%20%20%20%20%20%20%20%20%20%20%20%20%20%20%20%20%20%20%20%20%20%20%20%20%20%20%20%20%20%20%20%20maxBounds%3A%20bounds%2C%0A%20%20%20%20%20%20%20%20%20%20%20%20%20%20%20%20%20%20%20%20%20%20%20%20%20%20%20%20%20%20%20%20%20%20layers%3A%20%5B%5D%2C%0A%20%20%20%20%20%20%20%20%20%20%20%20%20%20%20%20%20%20%20%20%20%20%20%20%20%20%20%20%20%20%20%20%20%20worldCopyJump%3A%20false%2C%0A%20%20%20%20%20%20%20%20%20%20%20%20%20%20%20%20%20%20%20%20%20%20%20%20%20%20%20%20%20%20%20%20%20%20crs%3A%20L.CRS.EPSG3857%0A%20%20%20%20%20%20%20%20%20%20%20%20%20%20%20%20%20%20%20%20%20%20%20%20%20%20%20%20%20%20%20%20%20%7D%29%3B%0A%20%20%20%20%20%20%20%20%20%20%20%20%0A%20%20%20%20%20%20%20%20%0A%20%20%20%20%0A%20%20%20%20%20%20%20%20%20%20%20%20var%20tile_layer_43f67f01a48f43c5b7373a20334a8046%20%3D%20L.tileLayer%28%0A%20%20%20%20%20%20%20%20%20%20%20%20%20%20%20%20%27https%3A//%7Bs%7D.tile.openstreetmap.org/%7Bz%7D/%7Bx%7D/%7By%7D.png%27%2C%0A%20%20%20%20%20%20%20%20%20%20%20%20%20%20%20%20%7B%0A%20%20%22attribution%22%3A%20null%2C%0A%20%20%22detectRetina%22%3A%20false%2C%0A%20%20%22maxZoom%22%3A%2018%2C%0A%20%20%22minZoom%22%3A%201%2C%0A%20%20%22noWrap%22%3A%20false%2C%0A%20%20%22subdomains%22%3A%20%22abc%22%0A%7D%0A%20%20%20%20%20%20%20%20%20%20%20%20%20%20%20%20%29.addTo%28map_ae02f7cf6f2b4e8890ca862597bec934%29%3B%0A%20%20%20%20%20%20%20%20%0A%20%20%20%20%0A%20%20%20%20%20%20%20%20%20%20%20%20var%20circle_marker_43cb6f9f11734c0095c17d870b612ff1%20%3D%20L.circleMarker%28%0A%20%20%20%20%20%20%20%20%20%20%20%20%20%20%20%20%5B42.2912093%2C-71.1244966%5D%2C%0A%20%20%20%20%20%20%20%20%20%20%20%20%20%20%20%20%7B%0A%20%20%22bubblingMouseEvents%22%3A%20true%2C%0A%20%20%22color%22%3A%20%22%23236CA7%22%2C%0A%20%20%22dashArray%22%3A%20null%2C%0A%20%20%22dashOffset%22%3A%20null%2C%0A%20%20%22fill%22%3A%20true%2C%0A%20%20%22fillColor%22%3A%20%22%23236CA7%22%2C%0A%20%20%22fillOpacity%22%3A%200.7%2C%0A%20%20%22fillRule%22%3A%20%22evenodd%22%2C%0A%20%20%22lineCap%22%3A%20%22round%22%2C%0A%20%20%22lineJoin%22%3A%20%22round%22%2C%0A%20%20%22opacity%22%3A%201.0%2C%0A%20%20%22radius%22%3A%205%2C%0A%20%20%22stroke%22%3A%20true%2C%0A%20%20%22weight%22%3A%203%0A%7D%0A%20%20%20%20%20%20%20%20%20%20%20%20%20%20%20%20%29.addTo%28map_ae02f7cf6f2b4e8890ca862597bec934%29%3B%0A%20%20%20%20%20%20%20%20%20%20%20%20%0A%20%20%20%20%0A%20%20%20%20%20%20%20%20%20%20%20%20var%20popup_c059301d980f4f0ba6f313a2f44f7fda%20%3D%20L.popup%28%7BmaxWidth%3A%20%27300%27%7D%29%3B%0A%0A%20%20%20%20%20%20%20%20%20%20%20%20%0A%20%20%20%20%20%20%20%20%20%20%20%20%20%20%20%20var%20html_9d55d85742c346dabb42c856e96124b8%20%3D%20%24%28%27%3Cdiv%20id%3D%22html_9d55d85742c346dabb42c856e96124b8%22%20style%3D%22width%3A%20100.0%25%3B%20height%3A%20100.0%25%3B%22%3ERoslindale%3C/div%3E%27%29%5B0%5D%3B%0A%20%20%20%20%20%20%20%20%20%20%20%20%20%20%20%20popup_c059301d980f4f0ba6f313a2f44f7fda.setContent%28html_9d55d85742c346dabb42c856e96124b8%29%3B%0A%20%20%20%20%20%20%20%20%20%20%20%20%0A%0A%20%20%20%20%20%20%20%20%20%20%20%20circle_marker_43cb6f9f11734c0095c17d870b612ff1.bindPopup%28popup_c059301d980f4f0ba6f313a2f44f7fda%29%3B%0A%0A%20%20%20%20%20%20%20%20%20%20%20%20%0A%20%20%20%20%20%20%20%20%0A%20%20%20%20%0A%20%20%20%20%20%20%20%20%20%20%20%20var%20circle_marker_aae046a7634a4c59be7c83faf204b55a%20%3D%20L.circleMarker%28%0A%20%20%20%20%20%20%20%20%20%20%20%20%20%20%20%20%5B42.3098201%2C-71.1203299%5D%2C%0A%20%20%20%20%20%20%20%20%20%20%20%20%20%20%20%20%7B%0A%20%20%22bubblingMouseEvents%22%3A%20true%2C%0A%20%20%22color%22%3A%20%22%23236CA7%22%2C%0A%20%20%22dashArray%22%3A%20null%2C%0A%20%20%22dashOffset%22%3A%20null%2C%0A%20%20%22fill%22%3A%20true%2C%0A%20%20%22fillColor%22%3A%20%22%23236CA7%22%2C%0A%20%20%22fillOpacity%22%3A%200.7%2C%0A%20%20%22fillRule%22%3A%20%22evenodd%22%2C%0A%20%20%22lineCap%22%3A%20%22round%22%2C%0A%20%20%22lineJoin%22%3A%20%22round%22%2C%0A%20%20%22opacity%22%3A%201.0%2C%0A%20%20%22radius%22%3A%205%2C%0A%20%20%22stroke%22%3A%20true%2C%0A%20%20%22weight%22%3A%203%0A%7D%0A%20%20%20%20%20%20%20%20%20%20%20%20%20%20%20%20%29.addTo%28map_ae02f7cf6f2b4e8890ca862597bec934%29%3B%0A%20%20%20%20%20%20%20%20%20%20%20%20%0A%20%20%20%20%0A%20%20%20%20%20%20%20%20%20%20%20%20var%20popup_0577613bf6d443a1be665a49909008c9%20%3D%20L.popup%28%7BmaxWidth%3A%20%27300%27%7D%29%3B%0A%0A%20%20%20%20%20%20%20%20%20%20%20%20%0A%20%20%20%20%20%20%20%20%20%20%20%20%20%20%20%20var%20html_5d58b6ea62f04b339f4e4c5fa399dbcf%20%3D%20%24%28%27%3Cdiv%20id%3D%22html_5d58b6ea62f04b339f4e4c5fa399dbcf%22%20style%3D%22width%3A%20100.0%25%3B%20height%3A%20100.0%25%3B%22%3EJamaica%20Plain%3C/div%3E%27%29%5B0%5D%3B%0A%20%20%20%20%20%20%20%20%20%20%20%20%20%20%20%20popup_0577613bf6d443a1be665a49909008c9.setContent%28html_5d58b6ea62f04b339f4e4c5fa399dbcf%29%3B%0A%20%20%20%20%20%20%20%20%20%20%20%20%0A%0A%20%20%20%20%20%20%20%20%20%20%20%20circle_marker_aae046a7634a4c59be7c83faf204b55a.bindPopup%28popup_0577613bf6d443a1be665a49909008c9%29%3B%0A%0A%20%20%20%20%20%20%20%20%20%20%20%20%0A%20%20%20%20%20%20%20%20%0A%20%20%20%20%0A%20%20%20%20%20%20%20%20%20%20%20%20var%20circle_marker_e710f645c257455594466af50994477c%20%3D%20L.circleMarker%28%0A%20%20%20%20%20%20%20%20%20%20%20%20%20%20%20%20%5B42.33255965%2C-71.10360773640765%5D%2C%0A%20%20%20%20%20%20%20%20%20%20%20%20%20%20%20%20%7B%0A%20%20%22bubblingMouseEvents%22%3A%20true%2C%0A%20%20%22color%22%3A%20%22%23236CA7%22%2C%0A%20%20%22dashArray%22%3A%20null%2C%0A%20%20%22dashOffset%22%3A%20null%2C%0A%20%20%22fill%22%3A%20true%2C%0A%20%20%22fillColor%22%3A%20%22%23236CA7%22%2C%0A%20%20%22fillOpacity%22%3A%200.7%2C%0A%20%20%22fillRule%22%3A%20%22evenodd%22%2C%0A%20%20%22lineCap%22%3A%20%22round%22%2C%0A%20%20%22lineJoin%22%3A%20%22round%22%2C%0A%20%20%22opacity%22%3A%201.0%2C%0A%20%20%22radius%22%3A%205%2C%0A%20%20%22stroke%22%3A%20true%2C%0A%20%20%22weight%22%3A%203%0A%7D%0A%20%20%20%20%20%20%20%20%20%20%20%20%20%20%20%20%29.addTo%28map_ae02f7cf6f2b4e8890ca862597bec934%29%3B%0A%20%20%20%20%20%20%20%20%20%20%20%20%0A%20%20%20%20%0A%20%20%20%20%20%20%20%20%20%20%20%20var%20popup_03c7463e15fc4678bf88d37af9787c2f%20%3D%20L.popup%28%7BmaxWidth%3A%20%27300%27%7D%29%3B%0A%0A%20%20%20%20%20%20%20%20%20%20%20%20%0A%20%20%20%20%20%20%20%20%20%20%20%20%20%20%20%20var%20html_46d5a0c695c846af9275f380cc136179%20%3D%20%24%28%27%3Cdiv%20id%3D%22html_46d5a0c695c846af9275f380cc136179%22%20style%3D%22width%3A%20100.0%25%3B%20height%3A%20100.0%25%3B%22%3EMission%20Hill%3C/div%3E%27%29%5B0%5D%3B%0A%20%20%20%20%20%20%20%20%20%20%20%20%20%20%20%20popup_03c7463e15fc4678bf88d37af9787c2f.setContent%28html_46d5a0c695c846af9275f380cc136179%29%3B%0A%20%20%20%20%20%20%20%20%20%20%20%20%0A%0A%20%20%20%20%20%20%20%20%20%20%20%20circle_marker_e710f645c257455594466af50994477c.bindPopup%28popup_03c7463e15fc4678bf88d37af9787c2f%29%3B%0A%0A%20%20%20%20%20%20%20%20%20%20%20%20%0A%20%20%20%20%20%20%20%20%0A%20%20%20%20%0A%20%20%20%20%20%20%20%20%20%20%20%20var%20circle_marker_86de8f6a3f244cb784cb1b1d9b0001b3%20%3D%20L.circleMarker%28%0A%20%20%20%20%20%20%20%20%20%20%20%20%20%20%20%20%5B42.3415333%2C-71.1101551%5D%2C%0A%20%20%20%20%20%20%20%20%20%20%20%20%20%20%20%20%7B%0A%20%20%22bubblingMouseEvents%22%3A%20true%2C%0A%20%20%22color%22%3A%20%22%23236CA7%22%2C%0A%20%20%22dashArray%22%3A%20null%2C%0A%20%20%22dashOffset%22%3A%20null%2C%0A%20%20%22fill%22%3A%20true%2C%0A%20%20%22fillColor%22%3A%20%22%23236CA7%22%2C%0A%20%20%22fillOpacity%22%3A%200.7%2C%0A%20%20%22fillRule%22%3A%20%22evenodd%22%2C%0A%20%20%22lineCap%22%3A%20%22round%22%2C%0A%20%20%22lineJoin%22%3A%20%22round%22%2C%0A%20%20%22opacity%22%3A%201.0%2C%0A%20%20%22radius%22%3A%205%2C%0A%20%20%22stroke%22%3A%20true%2C%0A%20%20%22weight%22%3A%203%0A%7D%0A%20%20%20%20%20%20%20%20%20%20%20%20%20%20%20%20%29.addTo%28map_ae02f7cf6f2b4e8890ca862597bec934%29%3B%0A%20%20%20%20%20%20%20%20%20%20%20%20%0A%20%20%20%20%0A%20%20%20%20%20%20%20%20%20%20%20%20var%20popup_ac69576c30604afa8e69a659860dd2d2%20%3D%20L.popup%28%7BmaxWidth%3A%20%27300%27%7D%29%3B%0A%0A%20%20%20%20%20%20%20%20%20%20%20%20%0A%20%20%20%20%20%20%20%20%20%20%20%20%20%20%20%20var%20html_bd55a9d15a0848f082ec945a37b8fae8%20%3D%20%24%28%27%3Cdiv%20id%3D%22html_bd55a9d15a0848f082ec945a37b8fae8%22%20style%3D%22width%3A%20100.0%25%3B%20height%3A%20100.0%25%3B%22%3ELongwood%3C/div%3E%27%29%5B0%5D%3B%0A%20%20%20%20%20%20%20%20%20%20%20%20%20%20%20%20popup_ac69576c30604afa8e69a659860dd2d2.setContent%28html_bd55a9d15a0848f082ec945a37b8fae8%29%3B%0A%20%20%20%20%20%20%20%20%20%20%20%20%0A%0A%20%20%20%20%20%20%20%20%20%20%20%20circle_marker_86de8f6a3f244cb784cb1b1d9b0001b3.bindPopup%28popup_ac69576c30604afa8e69a659860dd2d2%29%3B%0A%0A%20%20%20%20%20%20%20%20%20%20%20%20%0A%20%20%20%20%20%20%20%20%0A%20%20%20%20%0A%20%20%20%20%20%20%20%20%20%20%20%20var%20circle_marker_4fbd2aa17eb340e0990e90a9c9e5e5d3%20%3D%20L.circleMarker%28%0A%20%20%20%20%20%20%20%20%20%20%20%20%20%20%20%20%5B42.35001105%2C-71.0669477958571%5D%2C%0A%20%20%20%20%20%20%20%20%20%20%20%20%20%20%20%20%7B%0A%20%20%22bubblingMouseEvents%22%3A%20true%2C%0A%20%20%22color%22%3A%20%22%23236CA7%22%2C%0A%20%20%22dashArray%22%3A%20null%2C%0A%20%20%22dashOffset%22%3A%20null%2C%0A%20%20%22fill%22%3A%20true%2C%0A%20%20%22fillColor%22%3A%20%22%23236CA7%22%2C%0A%20%20%22fillOpacity%22%3A%200.7%2C%0A%20%20%22fillRule%22%3A%20%22evenodd%22%2C%0A%20%20%22lineCap%22%3A%20%22round%22%2C%0A%20%20%22lineJoin%22%3A%20%22round%22%2C%0A%20%20%22opacity%22%3A%201.0%2C%0A%20%20%22radius%22%3A%205%2C%0A%20%20%22stroke%22%3A%20true%2C%0A%20%20%22weight%22%3A%203%0A%7D%0A%20%20%20%20%20%20%20%20%20%20%20%20%20%20%20%20%29.addTo%28map_ae02f7cf6f2b4e8890ca862597bec934%29%3B%0A%20%20%20%20%20%20%20%20%20%20%20%20%0A%20%20%20%20%0A%20%20%20%20%20%20%20%20%20%20%20%20var%20popup_0a5a5ade23854bac9e7be2cd654d3164%20%3D%20L.popup%28%7BmaxWidth%3A%20%27300%27%7D%29%3B%0A%0A%20%20%20%20%20%20%20%20%20%20%20%20%0A%20%20%20%20%20%20%20%20%20%20%20%20%20%20%20%20var%20html_eaf6ebc7646048619bca668e1d4c1150%20%3D%20%24%28%27%3Cdiv%20id%3D%22html_eaf6ebc7646048619bca668e1d4c1150%22%20style%3D%22width%3A%20100.0%25%3B%20height%3A%20100.0%25%3B%22%3EBay%20Village%3C/div%3E%27%29%5B0%5D%3B%0A%20%20%20%20%20%20%20%20%20%20%20%20%20%20%20%20popup_0a5a5ade23854bac9e7be2cd654d3164.setContent%28html_eaf6ebc7646048619bca668e1d4c1150%29%3B%0A%20%20%20%20%20%20%20%20%20%20%20%20%0A%0A%20%20%20%20%20%20%20%20%20%20%20%20circle_marker_4fbd2aa17eb340e0990e90a9c9e5e5d3.bindPopup%28popup_0a5a5ade23854bac9e7be2cd654d3164%29%3B%0A%0A%20%20%20%20%20%20%20%20%20%20%20%20%0A%20%20%20%20%20%20%20%20%0A%20%20%20%20%0A%20%20%20%20%20%20%20%20%20%20%20%20var%20circle_marker_2760386c7a8b4388a8e3a69a479947e8%20%3D%20L.circleMarker%28%0A%20%20%20%20%20%20%20%20%20%20%20%20%20%20%20%20%5B42.3523222%2C-71.05734307739965%5D%2C%0A%20%20%20%20%20%20%20%20%20%20%20%20%20%20%20%20%7B%0A%20%20%22bubblingMouseEvents%22%3A%20true%2C%0A%20%20%22color%22%3A%20%22%23236CA7%22%2C%0A%20%20%22dashArray%22%3A%20null%2C%0A%20%20%22dashOffset%22%3A%20null%2C%0A%20%20%22fill%22%3A%20true%2C%0A%20%20%22fillColor%22%3A%20%22%23236CA7%22%2C%0A%20%20%22fillOpacity%22%3A%200.7%2C%0A%20%20%22fillRule%22%3A%20%22evenodd%22%2C%0A%20%20%22lineCap%22%3A%20%22round%22%2C%0A%20%20%22lineJoin%22%3A%20%22round%22%2C%0A%20%20%22opacity%22%3A%201.0%2C%0A%20%20%22radius%22%3A%205%2C%0A%20%20%22stroke%22%3A%20true%2C%0A%20%20%22weight%22%3A%203%0A%7D%0A%20%20%20%20%20%20%20%20%20%20%20%20%20%20%20%20%29.addTo%28map_ae02f7cf6f2b4e8890ca862597bec934%29%3B%0A%20%20%20%20%20%20%20%20%20%20%20%20%0A%20%20%20%20%0A%20%20%20%20%20%20%20%20%20%20%20%20var%20popup_fc0decaa9e1546caa6c3a618c1c9c380%20%3D%20L.popup%28%7BmaxWidth%3A%20%27300%27%7D%29%3B%0A%0A%20%20%20%20%20%20%20%20%20%20%20%20%0A%20%20%20%20%20%20%20%20%20%20%20%20%20%20%20%20var%20html_2b7766f4b2c8417e947265f83e5b1ea9%20%3D%20%24%28%27%3Cdiv%20id%3D%22html_2b7766f4b2c8417e947265f83e5b1ea9%22%20style%3D%22width%3A%20100.0%25%3B%20height%3A%20100.0%25%3B%22%3ELeather%20District%3C/div%3E%27%29%5B0%5D%3B%0A%20%20%20%20%20%20%20%20%20%20%20%20%20%20%20%20popup_fc0decaa9e1546caa6c3a618c1c9c380.setContent%28html_2b7766f4b2c8417e947265f83e5b1ea9%29%3B%0A%20%20%20%20%20%20%20%20%20%20%20%20%0A%0A%20%20%20%20%20%20%20%20%20%20%20%20circle_marker_2760386c7a8b4388a8e3a69a479947e8.bindPopup%28popup_fc0decaa9e1546caa6c3a618c1c9c380%29%3B%0A%0A%20%20%20%20%20%20%20%20%20%20%20%20%0A%20%20%20%20%20%20%20%20%0A%20%20%20%20%0A%20%20%20%20%20%20%20%20%20%20%20%20var%20circle_marker_5e8b9b15d91e418e97aa0372cbb81e9f%20%3D%20L.circleMarker%28%0A%20%20%20%20%20%20%20%20%20%20%20%20%20%20%20%20%5B42.3513291%2C-71.0626228%5D%2C%0A%20%20%20%20%20%20%20%20%20%20%20%20%20%20%20%20%7B%0A%20%20%22bubblingMouseEvents%22%3A%20true%2C%0A%20%20%22color%22%3A%20%22%23236CA7%22%2C%0A%20%20%22dashArray%22%3A%20null%2C%0A%20%20%22dashOffset%22%3A%20null%2C%0A%20%20%22fill%22%3A%20true%2C%0A%20%20%22fillColor%22%3A%20%22%23236CA7%22%2C%0A%20%20%22fillOpacity%22%3A%200.7%2C%0A%20%20%22fillRule%22%3A%20%22evenodd%22%2C%0A%20%20%22lineCap%22%3A%20%22round%22%2C%0A%20%20%22lineJoin%22%3A%20%22round%22%2C%0A%20%20%22opacity%22%3A%201.0%2C%0A%20%20%22radius%22%3A%205%2C%0A%20%20%22stroke%22%3A%20true%2C%0A%20%20%22weight%22%3A%203%0A%7D%0A%20%20%20%20%20%20%20%20%20%20%20%20%20%20%20%20%29.addTo%28map_ae02f7cf6f2b4e8890ca862597bec934%29%3B%0A%20%20%20%20%20%20%20%20%20%20%20%20%0A%20%20%20%20%0A%20%20%20%20%20%20%20%20%20%20%20%20var%20popup_9dca0cd4531a4b74a6a17e9dfe64efb6%20%3D%20L.popup%28%7BmaxWidth%3A%20%27300%27%7D%29%3B%0A%0A%20%20%20%20%20%20%20%20%20%20%20%20%0A%20%20%20%20%20%20%20%20%20%20%20%20%20%20%20%20var%20html_5d43c17d6e834f3aae19709b47548b8f%20%3D%20%24%28%27%3Cdiv%20id%3D%22html_5d43c17d6e834f3aae19709b47548b8f%22%20style%3D%22width%3A%20100.0%25%3B%20height%3A%20100.0%25%3B%22%3EChinatown%3C/div%3E%27%29%5B0%5D%3B%0A%20%20%20%20%20%20%20%20%20%20%20%20%20%20%20%20popup_9dca0cd4531a4b74a6a17e9dfe64efb6.setContent%28html_5d43c17d6e834f3aae19709b47548b8f%29%3B%0A%20%20%20%20%20%20%20%20%20%20%20%20%0A%0A%20%20%20%20%20%20%20%20%20%20%20%20circle_marker_5e8b9b15d91e418e97aa0372cbb81e9f.bindPopup%28popup_9dca0cd4531a4b74a6a17e9dfe64efb6%29%3B%0A%0A%20%20%20%20%20%20%20%20%20%20%20%20%0A%20%20%20%20%20%20%20%20%0A%20%20%20%20%0A%20%20%20%20%20%20%20%20%20%20%20%20var%20circle_marker_6c0db31b3b5b47b3b56aa684ab59b31c%20%3D%20L.circleMarker%28%0A%20%20%20%20%20%20%20%20%20%20%20%20%20%20%20%20%5B42.3650974%2C-71.0544954%5D%2C%0A%20%20%20%20%20%20%20%20%20%20%20%20%20%20%20%20%7B%0A%20%20%22bubblingMouseEvents%22%3A%20true%2C%0A%20%20%22color%22%3A%20%22%23236CA7%22%2C%0A%20%20%22dashArray%22%3A%20null%2C%0A%20%20%22dashOffset%22%3A%20null%2C%0A%20%20%22fill%22%3A%20true%2C%0A%20%20%22fillColor%22%3A%20%22%23236CA7%22%2C%0A%20%20%22fillOpacity%22%3A%200.7%2C%0A%20%20%22fillRule%22%3A%20%22evenodd%22%2C%0A%20%20%22lineCap%22%3A%20%22round%22%2C%0A%20%20%22lineJoin%22%3A%20%22round%22%2C%0A%20%20%22opacity%22%3A%201.0%2C%0A%20%20%22radius%22%3A%205%2C%0A%20%20%22stroke%22%3A%20true%2C%0A%20%20%22weight%22%3A%203%0A%7D%0A%20%20%20%20%20%20%20%20%20%20%20%20%20%20%20%20%29.addTo%28map_ae02f7cf6f2b4e8890ca862597bec934%29%3B%0A%20%20%20%20%20%20%20%20%20%20%20%20%0A%20%20%20%20%0A%20%20%20%20%20%20%20%20%20%20%20%20var%20popup_3234f874660a49238b43b46a64440da1%20%3D%20L.popup%28%7BmaxWidth%3A%20%27300%27%7D%29%3B%0A%0A%20%20%20%20%20%20%20%20%20%20%20%20%0A%20%20%20%20%20%20%20%20%20%20%20%20%20%20%20%20var%20html_740a5708dbb64cfb8275881be9a42c39%20%3D%20%24%28%27%3Cdiv%20id%3D%22html_740a5708dbb64cfb8275881be9a42c39%22%20style%3D%22width%3A%20100.0%25%3B%20height%3A%20100.0%25%3B%22%3ENorth%20End%3C/div%3E%27%29%5B0%5D%3B%0A%20%20%20%20%20%20%20%20%20%20%20%20%20%20%20%20popup_3234f874660a49238b43b46a64440da1.setContent%28html_740a5708dbb64cfb8275881be9a42c39%29%3B%0A%20%20%20%20%20%20%20%20%20%20%20%20%0A%0A%20%20%20%20%20%20%20%20%20%20%20%20circle_marker_6c0db31b3b5b47b3b56aa684ab59b31c.bindPopup%28popup_3234f874660a49238b43b46a64440da1%29%3B%0A%0A%20%20%20%20%20%20%20%20%20%20%20%20%0A%20%20%20%20%20%20%20%20%0A%20%20%20%20%0A%20%20%20%20%20%20%20%20%20%20%20%20var%20circle_marker_746d718d748a463a9a730269e09e8b76%20%3D%20L.circleMarker%28%0A%20%20%20%20%20%20%20%20%20%20%20%20%20%20%20%20%5B42.3248426%2C-71.0950158%5D%2C%0A%20%20%20%20%20%20%20%20%20%20%20%20%20%20%20%20%7B%0A%20%20%22bubblingMouseEvents%22%3A%20true%2C%0A%20%20%22color%22%3A%20%22%23236CA7%22%2C%0A%20%20%22dashArray%22%3A%20null%2C%0A%20%20%22dashOffset%22%3A%20null%2C%0A%20%20%22fill%22%3A%20true%2C%0A%20%20%22fillColor%22%3A%20%22%23236CA7%22%2C%0A%20%20%22fillOpacity%22%3A%200.7%2C%0A%20%20%22fillRule%22%3A%20%22evenodd%22%2C%0A%20%20%22lineCap%22%3A%20%22round%22%2C%0A%20%20%22lineJoin%22%3A%20%22round%22%2C%0A%20%20%22opacity%22%3A%201.0%2C%0A%20%20%22radius%22%3A%205%2C%0A%20%20%22stroke%22%3A%20true%2C%0A%20%20%22weight%22%3A%203%0A%7D%0A%20%20%20%20%20%20%20%20%20%20%20%20%20%20%20%20%29.addTo%28map_ae02f7cf6f2b4e8890ca862597bec934%29%3B%0A%20%20%20%20%20%20%20%20%20%20%20%20%0A%20%20%20%20%0A%20%20%20%20%20%20%20%20%20%20%20%20var%20popup_e639820258054bbe9762d7a8e14b2056%20%3D%20L.popup%28%7BmaxWidth%3A%20%27300%27%7D%29%3B%0A%0A%20%20%20%20%20%20%20%20%20%20%20%20%0A%20%20%20%20%20%20%20%20%20%20%20%20%20%20%20%20var%20html_8910cd7632b546e190b05506c9b7234c%20%3D%20%24%28%27%3Cdiv%20id%3D%22html_8910cd7632b546e190b05506c9b7234c%22%20style%3D%22width%3A%20100.0%25%3B%20height%3A%20100.0%25%3B%22%3ERoxbury%3C/div%3E%27%29%5B0%5D%3B%0A%20%20%20%20%20%20%20%20%20%20%20%20%20%20%20%20popup_e639820258054bbe9762d7a8e14b2056.setContent%28html_8910cd7632b546e190b05506c9b7234c%29%3B%0A%20%20%20%20%20%20%20%20%20%20%20%20%0A%0A%20%20%20%20%20%20%20%20%20%20%20%20circle_marker_746d718d748a463a9a730269e09e8b76.bindPopup%28popup_e639820258054bbe9762d7a8e14b2056%29%3B%0A%0A%20%20%20%20%20%20%20%20%20%20%20%20%0A%20%20%20%20%20%20%20%20%0A%20%20%20%20%0A%20%20%20%20%20%20%20%20%20%20%20%20var%20circle_marker_6a198097572d44cd98b3796cb6a84595%20%3D%20L.circleMarker%28%0A%20%20%20%20%20%20%20%20%20%20%20%20%20%20%20%20%5B42.34131%2C-71.0772298%5D%2C%0A%20%20%20%20%20%20%20%20%20%20%20%20%20%20%20%20%7B%0A%20%20%22bubblingMouseEvents%22%3A%20true%2C%0A%20%20%22color%22%3A%20%22%23236CA7%22%2C%0A%20%20%22dashArray%22%3A%20null%2C%0A%20%20%22dashOffset%22%3A%20null%2C%0A%20%20%22fill%22%3A%20true%2C%0A%20%20%22fillColor%22%3A%20%22%23236CA7%22%2C%0A%20%20%22fillOpacity%22%3A%200.7%2C%0A%20%20%22fillRule%22%3A%20%22evenodd%22%2C%0A%20%20%22lineCap%22%3A%20%22round%22%2C%0A%20%20%22lineJoin%22%3A%20%22round%22%2C%0A%20%20%22opacity%22%3A%201.0%2C%0A%20%20%22radius%22%3A%205%2C%0A%20%20%22stroke%22%3A%20true%2C%0A%20%20%22weight%22%3A%203%0A%7D%0A%20%20%20%20%20%20%20%20%20%20%20%20%20%20%20%20%29.addTo%28map_ae02f7cf6f2b4e8890ca862597bec934%29%3B%0A%20%20%20%20%20%20%20%20%20%20%20%20%0A%20%20%20%20%0A%20%20%20%20%20%20%20%20%20%20%20%20var%20popup_4bb88899bd2a42698563b6bc897e185a%20%3D%20L.popup%28%7BmaxWidth%3A%20%27300%27%7D%29%3B%0A%0A%20%20%20%20%20%20%20%20%20%20%20%20%0A%20%20%20%20%20%20%20%20%20%20%20%20%20%20%20%20var%20html_6924bea275db42a8aa2091e59f6b3720%20%3D%20%24%28%27%3Cdiv%20id%3D%22html_6924bea275db42a8aa2091e59f6b3720%22%20style%3D%22width%3A%20100.0%25%3B%20height%3A%20100.0%25%3B%22%3ESouth%20End%3C/div%3E%27%29%5B0%5D%3B%0A%20%20%20%20%20%20%20%20%20%20%20%20%20%20%20%20popup_4bb88899bd2a42698563b6bc897e185a.setContent%28html_6924bea275db42a8aa2091e59f6b3720%29%3B%0A%20%20%20%20%20%20%20%20%20%20%20%20%0A%0A%20%20%20%20%20%20%20%20%20%20%20%20circle_marker_6a198097572d44cd98b3796cb6a84595.bindPopup%28popup_4bb88899bd2a42698563b6bc897e185a%29%3B%0A%0A%20%20%20%20%20%20%20%20%20%20%20%20%0A%20%20%20%20%20%20%20%20%0A%20%20%20%20%0A%20%20%20%20%20%20%20%20%20%20%20%20var%20circle_marker_892b07840db4473988f8ac05b546be70%20%3D%20L.circleMarker%28%0A%20%20%20%20%20%20%20%20%20%20%20%20%20%20%20%20%5B42.35054885%2C-71.08031131584724%5D%2C%0A%20%20%20%20%20%20%20%20%20%20%20%20%20%20%20%20%7B%0A%20%20%22bubblingMouseEvents%22%3A%20true%2C%0A%20%20%22color%22%3A%20%22%23236CA7%22%2C%0A%20%20%22dashArray%22%3A%20null%2C%0A%20%20%22dashOffset%22%3A%20null%2C%0A%20%20%22fill%22%3A%20true%2C%0A%20%20%22fillColor%22%3A%20%22%23236CA7%22%2C%0A%20%20%22fillOpacity%22%3A%200.7%2C%0A%20%20%22fillRule%22%3A%20%22evenodd%22%2C%0A%20%20%22lineCap%22%3A%20%22round%22%2C%0A%20%20%22lineJoin%22%3A%20%22round%22%2C%0A%20%20%22opacity%22%3A%201.0%2C%0A%20%20%22radius%22%3A%205%2C%0A%20%20%22stroke%22%3A%20true%2C%0A%20%20%22weight%22%3A%203%0A%7D%0A%20%20%20%20%20%20%20%20%20%20%20%20%20%20%20%20%29.addTo%28map_ae02f7cf6f2b4e8890ca862597bec934%29%3B%0A%20%20%20%20%20%20%20%20%20%20%20%20%0A%20%20%20%20%0A%20%20%20%20%20%20%20%20%20%20%20%20var%20popup_ffc9b3a976d1474f8a3371f233f64896%20%3D%20L.popup%28%7BmaxWidth%3A%20%27300%27%7D%29%3B%0A%0A%20%20%20%20%20%20%20%20%20%20%20%20%0A%20%20%20%20%20%20%20%20%20%20%20%20%20%20%20%20var%20html_e46dc30018d54dc7a96b55e8a9b2ad28%20%3D%20%24%28%27%3Cdiv%20id%3D%22html_e46dc30018d54dc7a96b55e8a9b2ad28%22%20style%3D%22width%3A%20100.0%25%3B%20height%3A%20100.0%25%3B%22%3EBack%20Bay%3C/div%3E%27%29%5B0%5D%3B%0A%20%20%20%20%20%20%20%20%20%20%20%20%20%20%20%20popup_ffc9b3a976d1474f8a3371f233f64896.setContent%28html_e46dc30018d54dc7a96b55e8a9b2ad28%29%3B%0A%20%20%20%20%20%20%20%20%20%20%20%20%0A%0A%20%20%20%20%20%20%20%20%20%20%20%20circle_marker_892b07840db4473988f8ac05b546be70.bindPopup%28popup_ffc9b3a976d1474f8a3371f233f64896%29%3B%0A%0A%20%20%20%20%20%20%20%20%20%20%20%20%0A%20%20%20%20%20%20%20%20%0A%20%20%20%20%0A%20%20%20%20%20%20%20%20%20%20%20%20var%20circle_marker_7b5a21b7fd3649979898b83c828feea9%20%3D%20L.circleMarker%28%0A%20%20%20%20%20%20%20%20%20%20%20%20%20%20%20%20%5B42.3750973%2C-71.0392173%5D%2C%0A%20%20%20%20%20%20%20%20%20%20%20%20%20%20%20%20%7B%0A%20%20%22bubblingMouseEvents%22%3A%20true%2C%0A%20%20%22color%22%3A%20%22%23236CA7%22%2C%0A%20%20%22dashArray%22%3A%20null%2C%0A%20%20%22dashOffset%22%3A%20null%2C%0A%20%20%22fill%22%3A%20true%2C%0A%20%20%22fillColor%22%3A%20%22%23236CA7%22%2C%0A%20%20%22fillOpacity%22%3A%200.7%2C%0A%20%20%22fillRule%22%3A%20%22evenodd%22%2C%0A%20%20%22lineCap%22%3A%20%22round%22%2C%0A%20%20%22lineJoin%22%3A%20%22round%22%2C%0A%20%20%22opacity%22%3A%201.0%2C%0A%20%20%22radius%22%3A%205%2C%0A%20%20%22stroke%22%3A%20true%2C%0A%20%20%22weight%22%3A%203%0A%7D%0A%20%20%20%20%20%20%20%20%20%20%20%20%20%20%20%20%29.addTo%28map_ae02f7cf6f2b4e8890ca862597bec934%29%3B%0A%20%20%20%20%20%20%20%20%20%20%20%20%0A%20%20%20%20%0A%20%20%20%20%20%20%20%20%20%20%20%20var%20popup_1fe6a1c13f9b43329902a8fb0558f47a%20%3D%20L.popup%28%7BmaxWidth%3A%20%27300%27%7D%29%3B%0A%0A%20%20%20%20%20%20%20%20%20%20%20%20%0A%20%20%20%20%20%20%20%20%20%20%20%20%20%20%20%20var%20html_279229ad69dd4f9bb232e2da45b3dd2d%20%3D%20%24%28%27%3Cdiv%20id%3D%22html_279229ad69dd4f9bb232e2da45b3dd2d%22%20style%3D%22width%3A%20100.0%25%3B%20height%3A%20100.0%25%3B%22%3EEast%20Boston%3C/div%3E%27%29%5B0%5D%3B%0A%20%20%20%20%20%20%20%20%20%20%20%20%20%20%20%20popup_1fe6a1c13f9b43329902a8fb0558f47a.setContent%28html_279229ad69dd4f9bb232e2da45b3dd2d%29%3B%0A%20%20%20%20%20%20%20%20%20%20%20%20%0A%0A%20%20%20%20%20%20%20%20%20%20%20%20circle_marker_7b5a21b7fd3649979898b83c828feea9.bindPopup%28popup_1fe6a1c13f9b43329902a8fb0558f47a%29%3B%0A%0A%20%20%20%20%20%20%20%20%20%20%20%20%0A%20%20%20%20%20%20%20%20%0A%20%20%20%20%0A%20%20%20%20%20%20%20%20%20%20%20%20var%20circle_marker_adb1d11f6c944d84b4e61641597335d1%20%3D%20L.circleMarker%28%0A%20%20%20%20%20%20%20%20%20%20%20%20%20%20%20%20%5B42.3778749%2C-71.0619957%5D%2C%0A%20%20%20%20%20%20%20%20%20%20%20%20%20%20%20%20%7B%0A%20%20%22bubblingMouseEvents%22%3A%20true%2C%0A%20%20%22color%22%3A%20%22%23236CA7%22%2C%0A%20%20%22dashArray%22%3A%20null%2C%0A%20%20%22dashOffset%22%3A%20null%2C%0A%20%20%22fill%22%3A%20true%2C%0A%20%20%22fillColor%22%3A%20%22%23236CA7%22%2C%0A%20%20%22fillOpacity%22%3A%200.7%2C%0A%20%20%22fillRule%22%3A%20%22evenodd%22%2C%0A%20%20%22lineCap%22%3A%20%22round%22%2C%0A%20%20%22lineJoin%22%3A%20%22round%22%2C%0A%20%20%22opacity%22%3A%201.0%2C%0A%20%20%22radius%22%3A%205%2C%0A%20%20%22stroke%22%3A%20true%2C%0A%20%20%22weight%22%3A%203%0A%7D%0A%20%20%20%20%20%20%20%20%20%20%20%20%20%20%20%20%29.addTo%28map_ae02f7cf6f2b4e8890ca862597bec934%29%3B%0A%20%20%20%20%20%20%20%20%20%20%20%20%0A%20%20%20%20%0A%20%20%20%20%20%20%20%20%20%20%20%20var%20popup_7e81fbbb157441e9a05f497244fd3802%20%3D%20L.popup%28%7BmaxWidth%3A%20%27300%27%7D%29%3B%0A%0A%20%20%20%20%20%20%20%20%20%20%20%20%0A%20%20%20%20%20%20%20%20%20%20%20%20%20%20%20%20var%20html_f6bfbd02ce094e3ea867efdfaeae162b%20%3D%20%24%28%27%3Cdiv%20id%3D%22html_f6bfbd02ce094e3ea867efdfaeae162b%22%20style%3D%22width%3A%20100.0%25%3B%20height%3A%20100.0%25%3B%22%3ECharlestown%3C/div%3E%27%29%5B0%5D%3B%0A%20%20%20%20%20%20%20%20%20%20%20%20%20%20%20%20popup_7e81fbbb157441e9a05f497244fd3802.setContent%28html_f6bfbd02ce094e3ea867efdfaeae162b%29%3B%0A%20%20%20%20%20%20%20%20%20%20%20%20%0A%0A%20%20%20%20%20%20%20%20%20%20%20%20circle_marker_adb1d11f6c944d84b4e61641597335d1.bindPopup%28popup_7e81fbbb157441e9a05f497244fd3802%29%3B%0A%0A%20%20%20%20%20%20%20%20%20%20%20%20%0A%20%20%20%20%20%20%20%20%0A%20%20%20%20%0A%20%20%20%20%20%20%20%20%20%20%20%20var%20circle_marker_e1eb8233779541a1ba1c45ef650edb4d%20%3D%20L.circleMarker%28%0A%20%20%20%20%20%20%20%20%20%20%20%20%20%20%20%20%5B42.3639186%2C-71.0638993%5D%2C%0A%20%20%20%20%20%20%20%20%20%20%20%20%20%20%20%20%7B%0A%20%20%22bubblingMouseEvents%22%3A%20true%2C%0A%20%20%22color%22%3A%20%22%23236CA7%22%2C%0A%20%20%22dashArray%22%3A%20null%2C%0A%20%20%22dashOffset%22%3A%20null%2C%0A%20%20%22fill%22%3A%20true%2C%0A%20%20%22fillColor%22%3A%20%22%23236CA7%22%2C%0A%20%20%22fillOpacity%22%3A%200.7%2C%0A%20%20%22fillRule%22%3A%20%22evenodd%22%2C%0A%20%20%22lineCap%22%3A%20%22round%22%2C%0A%20%20%22lineJoin%22%3A%20%22round%22%2C%0A%20%20%22opacity%22%3A%201.0%2C%0A%20%20%22radius%22%3A%205%2C%0A%20%20%22stroke%22%3A%20true%2C%0A%20%20%22weight%22%3A%203%0A%7D%0A%20%20%20%20%20%20%20%20%20%20%20%20%20%20%20%20%29.addTo%28map_ae02f7cf6f2b4e8890ca862597bec934%29%3B%0A%20%20%20%20%20%20%20%20%20%20%20%20%0A%20%20%20%20%0A%20%20%20%20%20%20%20%20%20%20%20%20var%20popup_4f69ac67c7e24a7ebdaf52b08294d08f%20%3D%20L.popup%28%7BmaxWidth%3A%20%27300%27%7D%29%3B%0A%0A%20%20%20%20%20%20%20%20%20%20%20%20%0A%20%20%20%20%20%20%20%20%20%20%20%20%20%20%20%20var%20html_46b5067f89f9496694baee8a9fbca1a0%20%3D%20%24%28%27%3Cdiv%20id%3D%22html_46b5067f89f9496694baee8a9fbca1a0%22%20style%3D%22width%3A%20100.0%25%3B%20height%3A%20100.0%25%3B%22%3EWest%20End%3C/div%3E%27%29%5B0%5D%3B%0A%20%20%20%20%20%20%20%20%20%20%20%20%20%20%20%20popup_4f69ac67c7e24a7ebdaf52b08294d08f.setContent%28html_46b5067f89f9496694baee8a9fbca1a0%29%3B%0A%20%20%20%20%20%20%20%20%20%20%20%20%0A%0A%20%20%20%20%20%20%20%20%20%20%20%20circle_marker_e1eb8233779541a1ba1c45ef650edb4d.bindPopup%28popup_4f69ac67c7e24a7ebdaf52b08294d08f%29%3B%0A%0A%20%20%20%20%20%20%20%20%20%20%20%20%0A%20%20%20%20%20%20%20%20%0A%20%20%20%20%0A%20%20%20%20%20%20%20%20%20%20%20%20var%20circle_marker_4604cfcbfb114631836f0efa0941e40e%20%3D%20L.circleMarker%28%0A%20%20%20%20%20%20%20%20%20%20%20%20%20%20%20%20%5B42.3587085%2C-71.067829%5D%2C%0A%20%20%20%20%20%20%20%20%20%20%20%20%20%20%20%20%7B%0A%20%20%22bubblingMouseEvents%22%3A%20true%2C%0A%20%20%22color%22%3A%20%22%23236CA7%22%2C%0A%20%20%22dashArray%22%3A%20null%2C%0A%20%20%22dashOffset%22%3A%20null%2C%0A%20%20%22fill%22%3A%20true%2C%0A%20%20%22fillColor%22%3A%20%22%23236CA7%22%2C%0A%20%20%22fillOpacity%22%3A%200.7%2C%0A%20%20%22fillRule%22%3A%20%22evenodd%22%2C%0A%20%20%22lineCap%22%3A%20%22round%22%2C%0A%20%20%22lineJoin%22%3A%20%22round%22%2C%0A%20%20%22opacity%22%3A%201.0%2C%0A%20%20%22radius%22%3A%205%2C%0A%20%20%22stroke%22%3A%20true%2C%0A%20%20%22weight%22%3A%203%0A%7D%0A%20%20%20%20%20%20%20%20%20%20%20%20%20%20%20%20%29.addTo%28map_ae02f7cf6f2b4e8890ca862597bec934%29%3B%0A%20%20%20%20%20%20%20%20%20%20%20%20%0A%20%20%20%20%0A%20%20%20%20%20%20%20%20%20%20%20%20var%20popup_da01e8ae6fa74ba78fdf8735ec037f3e%20%3D%20L.popup%28%7BmaxWidth%3A%20%27300%27%7D%29%3B%0A%0A%20%20%20%20%20%20%20%20%20%20%20%20%0A%20%20%20%20%20%20%20%20%20%20%20%20%20%20%20%20var%20html_1741adb2683a498290cb3867eda49a8b%20%3D%20%24%28%27%3Cdiv%20id%3D%22html_1741adb2683a498290cb3867eda49a8b%22%20style%3D%22width%3A%20100.0%25%3B%20height%3A%20100.0%25%3B%22%3EBeacon%20Hill%3C/div%3E%27%29%5B0%5D%3B%0A%20%20%20%20%20%20%20%20%20%20%20%20%20%20%20%20popup_da01e8ae6fa74ba78fdf8735ec037f3e.setContent%28html_1741adb2683a498290cb3867eda49a8b%29%3B%0A%20%20%20%20%20%20%20%20%20%20%20%20%0A%0A%20%20%20%20%20%20%20%20%20%20%20%20circle_marker_4604cfcbfb114631836f0efa0941e40e.bindPopup%28popup_da01e8ae6fa74ba78fdf8735ec037f3e%29%3B%0A%0A%20%20%20%20%20%20%20%20%20%20%20%20%0A%20%20%20%20%20%20%20%20%0A%20%20%20%20%0A%20%20%20%20%20%20%20%20%20%20%20%20var%20circle_marker_ce8e631527cf4a818e54e198105b71e0%20%3D%20L.circleMarker%28%0A%20%20%20%20%20%20%20%20%20%20%20%20%20%20%20%20%5B42.35860195%2C-71.06387508501135%5D%2C%0A%20%20%20%20%20%20%20%20%20%20%20%20%20%20%20%20%7B%0A%20%20%22bubblingMouseEvents%22%3A%20true%2C%0A%20%20%22color%22%3A%20%22%23236CA7%22%2C%0A%20%20%22dashArray%22%3A%20null%2C%0A%20%20%22dashOffset%22%3A%20null%2C%0A%20%20%22fill%22%3A%20true%2C%0A%20%20%22fillColor%22%3A%20%22%23236CA7%22%2C%0A%20%20%22fillOpacity%22%3A%200.7%2C%0A%20%20%22fillRule%22%3A%20%22evenodd%22%2C%0A%20%20%22lineCap%22%3A%20%22round%22%2C%0A%20%20%22lineJoin%22%3A%20%22round%22%2C%0A%20%20%22opacity%22%3A%201.0%2C%0A%20%20%22radius%22%3A%205%2C%0A%20%20%22stroke%22%3A%20true%2C%0A%20%20%22weight%22%3A%203%0A%7D%0A%20%20%20%20%20%20%20%20%20%20%20%20%20%20%20%20%29.addTo%28map_ae02f7cf6f2b4e8890ca862597bec934%29%3B%0A%20%20%20%20%20%20%20%20%20%20%20%20%0A%20%20%20%20%0A%20%20%20%20%20%20%20%20%20%20%20%20var%20popup_d9e4d0562d084a7c98bb62a22358d9ce%20%3D%20L.popup%28%7BmaxWidth%3A%20%27300%27%7D%29%3B%0A%0A%20%20%20%20%20%20%20%20%20%20%20%20%0A%20%20%20%20%20%20%20%20%20%20%20%20%20%20%20%20var%20html_cb1161c7ddb2474ba9f9f28ac641f6a1%20%3D%20%24%28%27%3Cdiv%20id%3D%22html_cb1161c7ddb2474ba9f9f28ac641f6a1%22%20style%3D%22width%3A%20100.0%25%3B%20height%3A%20100.0%25%3B%22%3EDowntown%3C/div%3E%27%29%5B0%5D%3B%0A%20%20%20%20%20%20%20%20%20%20%20%20%20%20%20%20popup_d9e4d0562d084a7c98bb62a22358d9ce.setContent%28html_cb1161c7ddb2474ba9f9f28ac641f6a1%29%3B%0A%20%20%20%20%20%20%20%20%20%20%20%20%0A%0A%20%20%20%20%20%20%20%20%20%20%20%20circle_marker_ce8e631527cf4a818e54e198105b71e0.bindPopup%28popup_d9e4d0562d084a7c98bb62a22358d9ce%29%3B%0A%0A%20%20%20%20%20%20%20%20%20%20%20%20%0A%20%20%20%20%20%20%20%20%0A%20%20%20%20%0A%20%20%20%20%20%20%20%20%20%20%20%20var%20circle_marker_cc38bb27602c4549b646bc239721c8f6%20%3D%20L.circleMarker%28%0A%20%20%20%20%20%20%20%20%20%20%20%20%20%20%20%20%5B42.3451868%2C-71.1045987%5D%2C%0A%20%20%20%20%20%20%20%20%20%20%20%20%20%20%20%20%7B%0A%20%20%22bubblingMouseEvents%22%3A%20true%2C%0A%20%20%22color%22%3A%20%22%23236CA7%22%2C%0A%20%20%22dashArray%22%3A%20null%2C%0A%20%20%22dashOffset%22%3A%20null%2C%0A%20%20%22fill%22%3A%20true%2C%0A%20%20%22fillColor%22%3A%20%22%23236CA7%22%2C%0A%20%20%22fillOpacity%22%3A%200.7%2C%0A%20%20%22fillRule%22%3A%20%22evenodd%22%2C%0A%20%20%22lineCap%22%3A%20%22round%22%2C%0A%20%20%22lineJoin%22%3A%20%22round%22%2C%0A%20%20%22opacity%22%3A%201.0%2C%0A%20%20%22radius%22%3A%205%2C%0A%20%20%22stroke%22%3A%20true%2C%0A%20%20%22weight%22%3A%203%0A%7D%0A%20%20%20%20%20%20%20%20%20%20%20%20%20%20%20%20%29.addTo%28map_ae02f7cf6f2b4e8890ca862597bec934%29%3B%0A%20%20%20%20%20%20%20%20%20%20%20%20%0A%20%20%20%20%0A%20%20%20%20%20%20%20%20%20%20%20%20var%20popup_3d0d12d0f3ff41758ee95e40c95c752e%20%3D%20L.popup%28%7BmaxWidth%3A%20%27300%27%7D%29%3B%0A%0A%20%20%20%20%20%20%20%20%20%20%20%20%0A%20%20%20%20%20%20%20%20%20%20%20%20%20%20%20%20var%20html_c4ac6e066fde4a3484b806e160e37b7d%20%3D%20%24%28%27%3Cdiv%20id%3D%22html_c4ac6e066fde4a3484b806e160e37b7d%22%20style%3D%22width%3A%20100.0%25%3B%20height%3A%20100.0%25%3B%22%3EFenway%3C/div%3E%27%29%5B0%5D%3B%0A%20%20%20%20%20%20%20%20%20%20%20%20%20%20%20%20popup_3d0d12d0f3ff41758ee95e40c95c752e.setContent%28html_c4ac6e066fde4a3484b806e160e37b7d%29%3B%0A%20%20%20%20%20%20%20%20%20%20%20%20%0A%0A%20%20%20%20%20%20%20%20%20%20%20%20circle_marker_cc38bb27602c4549b646bc239721c8f6.bindPopup%28popup_3d0d12d0f3ff41758ee95e40c95c752e%29%3B%0A%0A%20%20%20%20%20%20%20%20%20%20%20%20%0A%20%20%20%20%20%20%20%20%0A%20%20%20%20%0A%20%20%20%20%20%20%20%20%20%20%20%20var%20circle_marker_3f07d5647d33435a97c97b036fc631f1%20%3D%20L.circleMarker%28%0A%20%20%20%20%20%20%20%20%20%20%20%20%20%20%20%20%5B42.3500971%2C-71.1564423%5D%2C%0A%20%20%20%20%20%20%20%20%20%20%20%20%20%20%20%20%7B%0A%20%20%22bubblingMouseEvents%22%3A%20true%2C%0A%20%20%22color%22%3A%20%22%23236CA7%22%2C%0A%20%20%22dashArray%22%3A%20null%2C%0A%20%20%22dashOffset%22%3A%20null%2C%0A%20%20%22fill%22%3A%20true%2C%0A%20%20%22fillColor%22%3A%20%22%23236CA7%22%2C%0A%20%20%22fillOpacity%22%3A%200.7%2C%0A%20%20%22fillRule%22%3A%20%22evenodd%22%2C%0A%20%20%22lineCap%22%3A%20%22round%22%2C%0A%20%20%22lineJoin%22%3A%20%22round%22%2C%0A%20%20%22opacity%22%3A%201.0%2C%0A%20%20%22radius%22%3A%205%2C%0A%20%20%22stroke%22%3A%20true%2C%0A%20%20%22weight%22%3A%203%0A%7D%0A%20%20%20%20%20%20%20%20%20%20%20%20%20%20%20%20%29.addTo%28map_ae02f7cf6f2b4e8890ca862597bec934%29%3B%0A%20%20%20%20%20%20%20%20%20%20%20%20%0A%20%20%20%20%0A%20%20%20%20%20%20%20%20%20%20%20%20var%20popup_0d54728f13b6477e92cde34018cc180b%20%3D%20L.popup%28%7BmaxWidth%3A%20%27300%27%7D%29%3B%0A%0A%20%20%20%20%20%20%20%20%20%20%20%20%0A%20%20%20%20%20%20%20%20%20%20%20%20%20%20%20%20var%20html_b5a2bf803cef445e8bfdc972e505ebad%20%3D%20%24%28%27%3Cdiv%20id%3D%22html_b5a2bf803cef445e8bfdc972e505ebad%22%20style%3D%22width%3A%20100.0%25%3B%20height%3A%20100.0%25%3B%22%3EBrighton%3C/div%3E%27%29%5B0%5D%3B%0A%20%20%20%20%20%20%20%20%20%20%20%20%20%20%20%20popup_0d54728f13b6477e92cde34018cc180b.setContent%28html_b5a2bf803cef445e8bfdc972e505ebad%29%3B%0A%20%20%20%20%20%20%20%20%20%20%20%20%0A%0A%20%20%20%20%20%20%20%20%20%20%20%20circle_marker_3f07d5647d33435a97c97b036fc631f1.bindPopup%28popup_0d54728f13b6477e92cde34018cc180b%29%3B%0A%0A%20%20%20%20%20%20%20%20%20%20%20%20%0A%20%20%20%20%20%20%20%20%0A%20%20%20%20%0A%20%20%20%20%20%20%20%20%20%20%20%20var%20circle_marker_3f6c0967004349ce9b07a2ba4c104be9%20%3D%20L.circleMarker%28%0A%20%20%20%20%20%20%20%20%20%20%20%20%20%20%20%20%5B42.2792649%2C-71.1494972%5D%2C%0A%20%20%20%20%20%20%20%20%20%20%20%20%20%20%20%20%7B%0A%20%20%22bubblingMouseEvents%22%3A%20true%2C%0A%20%20%22color%22%3A%20%22%23236CA7%22%2C%0A%20%20%22dashArray%22%3A%20null%2C%0A%20%20%22dashOffset%22%3A%20null%2C%0A%20%20%22fill%22%3A%20true%2C%0A%20%20%22fillColor%22%3A%20%22%23236CA7%22%2C%0A%20%20%22fillOpacity%22%3A%200.7%2C%0A%20%20%22fillRule%22%3A%20%22evenodd%22%2C%0A%20%20%22lineCap%22%3A%20%22round%22%2C%0A%20%20%22lineJoin%22%3A%20%22round%22%2C%0A%20%20%22opacity%22%3A%201.0%2C%0A%20%20%22radius%22%3A%205%2C%0A%20%20%22stroke%22%3A%20true%2C%0A%20%20%22weight%22%3A%203%0A%7D%0A%20%20%20%20%20%20%20%20%20%20%20%20%20%20%20%20%29.addTo%28map_ae02f7cf6f2b4e8890ca862597bec934%29%3B%0A%20%20%20%20%20%20%20%20%20%20%20%20%0A%20%20%20%20%0A%20%20%20%20%20%20%20%20%20%20%20%20var%20popup_5b741b3c575244cbb15844ae8b2d0349%20%3D%20L.popup%28%7BmaxWidth%3A%20%27300%27%7D%29%3B%0A%0A%20%20%20%20%20%20%20%20%20%20%20%20%0A%20%20%20%20%20%20%20%20%20%20%20%20%20%20%20%20var%20html_7cf173be8a654d96b02e4151d78ab7aa%20%3D%20%24%28%27%3Cdiv%20id%3D%22html_7cf173be8a654d96b02e4151d78ab7aa%22%20style%3D%22width%3A%20100.0%25%3B%20height%3A%20100.0%25%3B%22%3EWest%20Roxbury%3C/div%3E%27%29%5B0%5D%3B%0A%20%20%20%20%20%20%20%20%20%20%20%20%20%20%20%20popup_5b741b3c575244cbb15844ae8b2d0349.setContent%28html_7cf173be8a654d96b02e4151d78ab7aa%29%3B%0A%20%20%20%20%20%20%20%20%20%20%20%20%0A%0A%20%20%20%20%20%20%20%20%20%20%20%20circle_marker_3f6c0967004349ce9b07a2ba4c104be9.bindPopup%28popup_5b741b3c575244cbb15844ae8b2d0349%29%3B%0A%0A%20%20%20%20%20%20%20%20%20%20%20%20%0A%20%20%20%20%20%20%20%20%0A%20%20%20%20%0A%20%20%20%20%20%20%20%20%20%20%20%20var%20circle_marker_49e286b8e9eb4753963db943d9b44101%20%3D%20L.circleMarker%28%0A%20%20%20%20%20%20%20%20%20%20%20%20%20%20%20%20%5B42.2556543%2C-71.1244963%5D%2C%0A%20%20%20%20%20%20%20%20%20%20%20%20%20%20%20%20%7B%0A%20%20%22bubblingMouseEvents%22%3A%20true%2C%0A%20%20%22color%22%3A%20%22%23236CA7%22%2C%0A%20%20%22dashArray%22%3A%20null%2C%0A%20%20%22dashOffset%22%3A%20null%2C%0A%20%20%22fill%22%3A%20true%2C%0A%20%20%22fillColor%22%3A%20%22%23236CA7%22%2C%0A%20%20%22fillOpacity%22%3A%200.7%2C%0A%20%20%22fillRule%22%3A%20%22evenodd%22%2C%0A%20%20%22lineCap%22%3A%20%22round%22%2C%0A%20%20%22lineJoin%22%3A%20%22round%22%2C%0A%20%20%22opacity%22%3A%201.0%2C%0A%20%20%22radius%22%3A%205%2C%0A%20%20%22stroke%22%3A%20true%2C%0A%20%20%22weight%22%3A%203%0A%7D%0A%20%20%20%20%20%20%20%20%20%20%20%20%20%20%20%20%29.addTo%28map_ae02f7cf6f2b4e8890ca862597bec934%29%3B%0A%20%20%20%20%20%20%20%20%20%20%20%20%0A%20%20%20%20%0A%20%20%20%20%20%20%20%20%20%20%20%20var%20popup_821cf94101d3421fbadd3818b3e1c3ee%20%3D%20L.popup%28%7BmaxWidth%3A%20%27300%27%7D%29%3B%0A%0A%20%20%20%20%20%20%20%20%20%20%20%20%0A%20%20%20%20%20%20%20%20%20%20%20%20%20%20%20%20var%20html_843f8d41e37e4714bde6b976e3d7ea48%20%3D%20%24%28%27%3Cdiv%20id%3D%22html_843f8d41e37e4714bde6b976e3d7ea48%22%20style%3D%22width%3A%20100.0%25%3B%20height%3A%20100.0%25%3B%22%3EHyde%20Park%3C/div%3E%27%29%5B0%5D%3B%0A%20%20%20%20%20%20%20%20%20%20%20%20%20%20%20%20popup_821cf94101d3421fbadd3818b3e1c3ee.setContent%28html_843f8d41e37e4714bde6b976e3d7ea48%29%3B%0A%20%20%20%20%20%20%20%20%20%20%20%20%0A%0A%20%20%20%20%20%20%20%20%20%20%20%20circle_marker_49e286b8e9eb4753963db943d9b44101.bindPopup%28popup_821cf94101d3421fbadd3818b3e1c3ee%29%3B%0A%0A%20%20%20%20%20%20%20%20%20%20%20%20%0A%20%20%20%20%20%20%20%20%0A%20%20%20%20%0A%20%20%20%20%20%20%20%20%20%20%20%20var%20circle_marker_8a45d11118534a75af6d3aaabc00000e%20%3D%20L.circleMarker%28%0A%20%20%20%20%20%20%20%20%20%20%20%20%20%20%20%20%5B42.2723208%2C-71.0869953%5D%2C%0A%20%20%20%20%20%20%20%20%20%20%20%20%20%20%20%20%7B%0A%20%20%22bubblingMouseEvents%22%3A%20true%2C%0A%20%20%22color%22%3A%20%22%23236CA7%22%2C%0A%20%20%22dashArray%22%3A%20null%2C%0A%20%20%22dashOffset%22%3A%20null%2C%0A%20%20%22fill%22%3A%20true%2C%0A%20%20%22fillColor%22%3A%20%22%23236CA7%22%2C%0A%20%20%22fillOpacity%22%3A%200.7%2C%0A%20%20%22fillRule%22%3A%20%22evenodd%22%2C%0A%20%20%22lineCap%22%3A%20%22round%22%2C%0A%20%20%22lineJoin%22%3A%20%22round%22%2C%0A%20%20%22opacity%22%3A%201.0%2C%0A%20%20%22radius%22%3A%205%2C%0A%20%20%22stroke%22%3A%20true%2C%0A%20%20%22weight%22%3A%203%0A%7D%0A%20%20%20%20%20%20%20%20%20%20%20%20%20%20%20%20%29.addTo%28map_ae02f7cf6f2b4e8890ca862597bec934%29%3B%0A%20%20%20%20%20%20%20%20%20%20%20%20%0A%20%20%20%20%0A%20%20%20%20%20%20%20%20%20%20%20%20var%20popup_bf006aad39834cf180aeef1b26543416%20%3D%20L.popup%28%7BmaxWidth%3A%20%27300%27%7D%29%3B%0A%0A%20%20%20%20%20%20%20%20%20%20%20%20%0A%20%20%20%20%20%20%20%20%20%20%20%20%20%20%20%20var%20html_461960b4cec44af88405220e147f92df%20%3D%20%24%28%27%3Cdiv%20id%3D%22html_461960b4cec44af88405220e147f92df%22%20style%3D%22width%3A%20100.0%25%3B%20height%3A%20100.0%25%3B%22%3EMattapan%3C/div%3E%27%29%5B0%5D%3B%0A%20%20%20%20%20%20%20%20%20%20%20%20%20%20%20%20popup_bf006aad39834cf180aeef1b26543416.setContent%28html_461960b4cec44af88405220e147f92df%29%3B%0A%20%20%20%20%20%20%20%20%20%20%20%20%0A%0A%20%20%20%20%20%20%20%20%20%20%20%20circle_marker_8a45d11118534a75af6d3aaabc00000e.bindPopup%28popup_bf006aad39834cf180aeef1b26543416%29%3B%0A%0A%20%20%20%20%20%20%20%20%20%20%20%20%0A%20%20%20%20%20%20%20%20%0A%20%20%20%20%0A%20%20%20%20%20%20%20%20%20%20%20%20var%20circle_marker_cdcb81afc98943fd84c712cb32f8b0e2%20%3D%20L.circleMarker%28%0A%20%20%20%20%20%20%20%20%20%20%20%20%20%20%20%20%5B42.2973205%2C-71.0744952%5D%2C%0A%20%20%20%20%20%20%20%20%20%20%20%20%20%20%20%20%7B%0A%20%20%22bubblingMouseEvents%22%3A%20true%2C%0A%20%20%22color%22%3A%20%22%23236CA7%22%2C%0A%20%20%22dashArray%22%3A%20null%2C%0A%20%20%22dashOffset%22%3A%20null%2C%0A%20%20%22fill%22%3A%20true%2C%0A%20%20%22fillColor%22%3A%20%22%23236CA7%22%2C%0A%20%20%22fillOpacity%22%3A%200.7%2C%0A%20%20%22fillRule%22%3A%20%22evenodd%22%2C%0A%20%20%22lineCap%22%3A%20%22round%22%2C%0A%20%20%22lineJoin%22%3A%20%22round%22%2C%0A%20%20%22opacity%22%3A%201.0%2C%0A%20%20%22radius%22%3A%205%2C%0A%20%20%22stroke%22%3A%20true%2C%0A%20%20%22weight%22%3A%203%0A%7D%0A%20%20%20%20%20%20%20%20%20%20%20%20%20%20%20%20%29.addTo%28map_ae02f7cf6f2b4e8890ca862597bec934%29%3B%0A%20%20%20%20%20%20%20%20%20%20%20%20%0A%20%20%20%20%0A%20%20%20%20%20%20%20%20%20%20%20%20var%20popup_4fdc8a9058c049f3a89bf4890f166842%20%3D%20L.popup%28%7BmaxWidth%3A%20%27300%27%7D%29%3B%0A%0A%20%20%20%20%20%20%20%20%20%20%20%20%0A%20%20%20%20%20%20%20%20%20%20%20%20%20%20%20%20var%20html_4251a2ebd4e447ab831b5fa76b49c0b3%20%3D%20%24%28%27%3Cdiv%20id%3D%22html_4251a2ebd4e447ab831b5fa76b49c0b3%22%20style%3D%22width%3A%20100.0%25%3B%20height%3A%20100.0%25%3B%22%3EDorchester%3C/div%3E%27%29%5B0%5D%3B%0A%20%20%20%20%20%20%20%20%20%20%20%20%20%20%20%20popup_4fdc8a9058c049f3a89bf4890f166842.setContent%28html_4251a2ebd4e447ab831b5fa76b49c0b3%29%3B%0A%20%20%20%20%20%20%20%20%20%20%20%20%0A%0A%20%20%20%20%20%20%20%20%20%20%20%20circle_marker_cdcb81afc98943fd84c712cb32f8b0e2.bindPopup%28popup_4fdc8a9058c049f3a89bf4890f166842%29%3B%0A%0A%20%20%20%20%20%20%20%20%20%20%20%20%0A%20%20%20%20%20%20%20%20%0A%20%20%20%20%0A%20%20%20%20%20%20%20%20%20%20%20%20var%20circle_marker_0fe639d7fe5943c3856761944b5dc735%20%3D%20L.circleMarker%28%0A%20%20%20%20%20%20%20%20%20%20%20%20%20%20%20%20%5B42.3547517%2C-71.0531784%5D%2C%0A%20%20%20%20%20%20%20%20%20%20%20%20%20%20%20%20%7B%0A%20%20%22bubblingMouseEvents%22%3A%20true%2C%0A%20%20%22color%22%3A%20%22%23236CA7%22%2C%0A%20%20%22dashArray%22%3A%20null%2C%0A%20%20%22dashOffset%22%3A%20null%2C%0A%20%20%22fill%22%3A%20true%2C%0A%20%20%22fillColor%22%3A%20%22%23236CA7%22%2C%0A%20%20%22fillOpacity%22%3A%200.7%2C%0A%20%20%22fillRule%22%3A%20%22evenodd%22%2C%0A%20%20%22lineCap%22%3A%20%22round%22%2C%0A%20%20%22lineJoin%22%3A%20%22round%22%2C%0A%20%20%22opacity%22%3A%201.0%2C%0A%20%20%22radius%22%3A%205%2C%0A%20%20%22stroke%22%3A%20true%2C%0A%20%20%22weight%22%3A%203%0A%7D%0A%20%20%20%20%20%20%20%20%20%20%20%20%20%20%20%20%29.addTo%28map_ae02f7cf6f2b4e8890ca862597bec934%29%3B%0A%20%20%20%20%20%20%20%20%20%20%20%20%0A%20%20%20%20%0A%20%20%20%20%20%20%20%20%20%20%20%20var%20popup_1608b84968194b66a74765e4b8e0a330%20%3D%20L.popup%28%7BmaxWidth%3A%20%27300%27%7D%29%3B%0A%0A%20%20%20%20%20%20%20%20%20%20%20%20%0A%20%20%20%20%20%20%20%20%20%20%20%20%20%20%20%20var%20html_f8caffef1cb54c4caea02a375e0e70a8%20%3D%20%24%28%27%3Cdiv%20id%3D%22html_f8caffef1cb54c4caea02a375e0e70a8%22%20style%3D%22width%3A%20100.0%25%3B%20height%3A%20100.0%25%3B%22%3ESouth%20Boston%20Waterfront%3C/div%3E%27%29%5B0%5D%3B%0A%20%20%20%20%20%20%20%20%20%20%20%20%20%20%20%20popup_1608b84968194b66a74765e4b8e0a330.setContent%28html_f8caffef1cb54c4caea02a375e0e70a8%29%3B%0A%20%20%20%20%20%20%20%20%20%20%20%20%0A%0A%20%20%20%20%20%20%20%20%20%20%20%20circle_marker_0fe639d7fe5943c3856761944b5dc735.bindPopup%28popup_1608b84968194b66a74765e4b8e0a330%29%3B%0A%0A%20%20%20%20%20%20%20%20%20%20%20%20%0A%20%20%20%20%20%20%20%20%0A%20%20%20%20%0A%20%20%20%20%20%20%20%20%20%20%20%20var%20circle_marker_b6ace99bfb634997acf4f1d4fefecdc9%20%3D%20L.circleMarker%28%0A%20%20%20%20%20%20%20%20%20%20%20%20%20%20%20%20%5B42.3334312%2C-71.0494949%5D%2C%0A%20%20%20%20%20%20%20%20%20%20%20%20%20%20%20%20%7B%0A%20%20%22bubblingMouseEvents%22%3A%20true%2C%0A%20%20%22color%22%3A%20%22%23236CA7%22%2C%0A%20%20%22dashArray%22%3A%20null%2C%0A%20%20%22dashOffset%22%3A%20null%2C%0A%20%20%22fill%22%3A%20true%2C%0A%20%20%22fillColor%22%3A%20%22%23236CA7%22%2C%0A%20%20%22fillOpacity%22%3A%200.7%2C%0A%20%20%22fillRule%22%3A%20%22evenodd%22%2C%0A%20%20%22lineCap%22%3A%20%22round%22%2C%0A%20%20%22lineJoin%22%3A%20%22round%22%2C%0A%20%20%22opacity%22%3A%201.0%2C%0A%20%20%22radius%22%3A%205%2C%0A%20%20%22stroke%22%3A%20true%2C%0A%20%20%22weight%22%3A%203%0A%7D%0A%20%20%20%20%20%20%20%20%20%20%20%20%20%20%20%20%29.addTo%28map_ae02f7cf6f2b4e8890ca862597bec934%29%3B%0A%20%20%20%20%20%20%20%20%20%20%20%20%0A%20%20%20%20%0A%20%20%20%20%20%20%20%20%20%20%20%20var%20popup_2db2b9628f924b0290e70802e4cf718a%20%3D%20L.popup%28%7BmaxWidth%3A%20%27300%27%7D%29%3B%0A%0A%20%20%20%20%20%20%20%20%20%20%20%20%0A%20%20%20%20%20%20%20%20%20%20%20%20%20%20%20%20var%20html_70a6ee9f6a9d493bb410ef171e2e966d%20%3D%20%24%28%27%3Cdiv%20id%3D%22html_70a6ee9f6a9d493bb410ef171e2e966d%22%20style%3D%22width%3A%20100.0%25%3B%20height%3A%20100.0%25%3B%22%3ESouth%20Boston%3C/div%3E%27%29%5B0%5D%3B%0A%20%20%20%20%20%20%20%20%20%20%20%20%20%20%20%20popup_2db2b9628f924b0290e70802e4cf718a.setContent%28html_70a6ee9f6a9d493bb410ef171e2e966d%29%3B%0A%20%20%20%20%20%20%20%20%20%20%20%20%0A%0A%20%20%20%20%20%20%20%20%20%20%20%20circle_marker_b6ace99bfb634997acf4f1d4fefecdc9.bindPopup%28popup_2db2b9628f924b0290e70802e4cf718a%29%3B%0A%0A%20%20%20%20%20%20%20%20%20%20%20%20%0A%20%20%20%20%20%20%20%20%0A%20%20%20%20%0A%20%20%20%20%20%20%20%20%20%20%20%20var%20circle_marker_0723ae9dfc3541daa9a0599c52a9a4fe%20%3D%20L.circleMarker%28%0A%20%20%20%20%20%20%20%20%20%20%20%20%20%20%20%20%5B42.3554344%2C-71.1321271%5D%2C%0A%20%20%20%20%20%20%20%20%20%20%20%20%20%20%20%20%7B%0A%20%20%22bubblingMouseEvents%22%3A%20true%2C%0A%20%20%22color%22%3A%20%22%23236CA7%22%2C%0A%20%20%22dashArray%22%3A%20null%2C%0A%20%20%22dashOffset%22%3A%20null%2C%0A%20%20%22fill%22%3A%20true%2C%0A%20%20%22fillColor%22%3A%20%22%23236CA7%22%2C%0A%20%20%22fillOpacity%22%3A%200.7%2C%0A%20%20%22fillRule%22%3A%20%22evenodd%22%2C%0A%20%20%22lineCap%22%3A%20%22round%22%2C%0A%20%20%22lineJoin%22%3A%20%22round%22%2C%0A%20%20%22opacity%22%3A%201.0%2C%0A%20%20%22radius%22%3A%205%2C%0A%20%20%22stroke%22%3A%20true%2C%0A%20%20%22weight%22%3A%203%0A%7D%0A%20%20%20%20%20%20%20%20%20%20%20%20%20%20%20%20%29.addTo%28map_ae02f7cf6f2b4e8890ca862597bec934%29%3B%0A%20%20%20%20%20%20%20%20%20%20%20%20%0A%20%20%20%20%0A%20%20%20%20%20%20%20%20%20%20%20%20var%20popup_cf640d85f32c429e868a4f0c874e7aff%20%3D%20L.popup%28%7BmaxWidth%3A%20%27300%27%7D%29%3B%0A%0A%20%20%20%20%20%20%20%20%20%20%20%20%0A%20%20%20%20%20%20%20%20%20%20%20%20%20%20%20%20var%20html_b7f0be853ac943a48e8b9db28f6951c5%20%3D%20%24%28%27%3Cdiv%20id%3D%22html_b7f0be853ac943a48e8b9db28f6951c5%22%20style%3D%22width%3A%20100.0%25%3B%20height%3A%20100.0%25%3B%22%3EAllston%3C/div%3E%27%29%5B0%5D%3B%0A%20%20%20%20%20%20%20%20%20%20%20%20%20%20%20%20popup_cf640d85f32c429e868a4f0c874e7aff.setContent%28html_b7f0be853ac943a48e8b9db28f6951c5%29%3B%0A%20%20%20%20%20%20%20%20%20%20%20%20%0A%0A%20%20%20%20%20%20%20%20%20%20%20%20circle_marker_0723ae9dfc3541daa9a0599c52a9a4fe.bindPopup%28popup_cf640d85f32c429e868a4f0c874e7aff%29%3B%0A%0A%20%20%20%20%20%20%20%20%20%20%20%20%0A%20%20%20%20%20%20%20%20%0A%20%20%20%20%0A%20%20%20%20%20%20%20%20%20%20%20%20var%20circle_marker_f9f224e97e6d4950898c68d3b0ce1596%20%3D%20L.circleMarker%28%0A%20%20%20%20%20%20%20%20%20%20%20%20%20%20%20%20%5B42.26972205%2C-70.92086034179461%5D%2C%0A%20%20%20%20%20%20%20%20%20%20%20%20%20%20%20%20%7B%0A%20%20%22bubblingMouseEvents%22%3A%20true%2C%0A%20%20%22color%22%3A%20%22%23236CA7%22%2C%0A%20%20%22dashArray%22%3A%20null%2C%0A%20%20%22dashOffset%22%3A%20null%2C%0A%20%20%22fill%22%3A%20true%2C%0A%20%20%22fillColor%22%3A%20%22%23236CA7%22%2C%0A%20%20%22fillOpacity%22%3A%200.7%2C%0A%20%20%22fillRule%22%3A%20%22evenodd%22%2C%0A%20%20%22lineCap%22%3A%20%22round%22%2C%0A%20%20%22lineJoin%22%3A%20%22round%22%2C%0A%20%20%22opacity%22%3A%201.0%2C%0A%20%20%22radius%22%3A%205%2C%0A%20%20%22stroke%22%3A%20true%2C%0A%20%20%22weight%22%3A%203%0A%7D%0A%20%20%20%20%20%20%20%20%20%20%20%20%20%20%20%20%29.addTo%28map_ae02f7cf6f2b4e8890ca862597bec934%29%3B%0A%20%20%20%20%20%20%20%20%20%20%20%20%0A%20%20%20%20%0A%20%20%20%20%20%20%20%20%20%20%20%20var%20popup_c8ba7f310b1d428bbffa4930121c9089%20%3D%20L.popup%28%7BmaxWidth%3A%20%27300%27%7D%29%3B%0A%0A%20%20%20%20%20%20%20%20%20%20%20%20%0A%20%20%20%20%20%20%20%20%20%20%20%20%20%20%20%20var%20html_fabca7413da149a3a3b8b838546b0281%20%3D%20%24%28%27%3Cdiv%20id%3D%22html_fabca7413da149a3a3b8b838546b0281%22%20style%3D%22width%3A%20100.0%25%3B%20height%3A%20100.0%25%3B%22%3EHarbor%20Islands%3C/div%3E%27%29%5B0%5D%3B%0A%20%20%20%20%20%20%20%20%20%20%20%20%20%20%20%20popup_c8ba7f310b1d428bbffa4930121c9089.setContent%28html_fabca7413da149a3a3b8b838546b0281%29%3B%0A%20%20%20%20%20%20%20%20%20%20%20%20%0A%0A%20%20%20%20%20%20%20%20%20%20%20%20circle_marker_f9f224e97e6d4950898c68d3b0ce1596.bindPopup%28popup_c8ba7f310b1d428bbffa4930121c9089%29%3B%0A%0A%20%20%20%20%20%20%20%20%20%20%20%20%0A%20%20%20%20%20%20%20%20%0A%3C/script%3E onload=\"this.contentDocument.open();this.contentDocument.write(    decodeURIComponent(this.getAttribute('data-html')));this.contentDocument.close();\" allowfullscreen webkitallowfullscreen mozallowfullscreen></iframe></div></div>"
      ],
      "text/plain": [
       "<folium.folium.Map at 0x7fef7f995f28>"
      ]
     },
     "execution_count": 14,
     "metadata": {},
     "output_type": "execute_result"
    }
   ],
   "source": [
    "# create map of Boston using latitude and longitude values\n",
    "map_boston = folium.Map(location=[42.324843,-71.095016], zoom_start=12) # use coordinates for Roxbury, most central\n",
    "\n",
    "# add markers to map\n",
    "for lat, lng, neighborhood in zip(neighborhoods_df['Lat'], neighborhoods_df['Long'], neighborhoods_df['Name']):\n",
    "    label = '{}'.format(neighborhood)\n",
    "    label = folium.Popup(label, parse_html=True)\n",
    "    folium.CircleMarker(\n",
    "        [lat, lng],\n",
    "        radius=5,\n",
    "        popup=label,\n",
    "        color='#236CA7',\n",
    "        fill=True,\n",
    "        fill_color='#236CA7',\n",
    "        fill_opacity=0.7,\n",
    "        parse_html=False).add_to(map_boston)  \n",
    "    \n",
    "map_boston"
   ]
  },
  {
   "cell_type": "markdown",
   "id": "august-latex",
   "metadata": {},
   "source": [
    "### Foursquare API category hierarchy"
   ]
  },
  {
   "cell_type": "markdown",
   "id": "hungarian-computer",
   "metadata": {},
   "source": [
    "Building a hierarchy of categories for grouping restaurants by type was more difficult than I anticipated.\n",
    "\n",
    "The child categories are nested under their parent categories, but the depth of the child categories is unknown. So I had to develop a way to recursively loop through the categories, which I did with the `cat_grouper()` function below.\n",
    "\n",
    "First, I called the `venues/categories` endpoint of the API to get a JSON encoded version of their hierarchy."
   ]
  },
  {
   "cell_type": "code",
   "execution_count": 78,
   "id": "latin-stranger",
   "metadata": {},
   "outputs": [],
   "source": [
    "url = 'https://api.foursquare.com/v2/venues/categories?&client_id={}&client_secret={}&v={}'.format(\n",
    "    CLIENT_ID, \n",
    "    CLIENT_SECRET, \n",
    "    VERSION, \n",
    ")\n",
    "\n",
    "results = requests.get(url).json()"
   ]
  },
  {
   "cell_type": "code",
   "execution_count": 79,
   "id": "expensive-brick",
   "metadata": {},
   "outputs": [
    {
     "name": "stdout",
     "output_type": "stream",
     "text": [
      "Arts & Entertainment\n",
      "College & University\n",
      "Event\n",
      "Food\n",
      "Nightlife Spot\n",
      "Outdoors & Recreation\n",
      "Professional & Other Places\n",
      "Residence\n",
      "Shop & Service\n",
      "Travel & Transport\n"
     ]
    }
   ],
   "source": [
    "# print all top-level categories in the Foursquare API hierarchy\n",
    "categories = results['response']['categories']\n",
    "\n",
    "for category in categories:\n",
    "    print(category['name'])"
   ]
  },
  {
   "cell_type": "markdown",
   "id": "extreme-ocean",
   "metadata": {},
   "source": [
    "<br>\n",
    "\n",
    "I isolated the Food category from the results of the API categories call using list comprehension to take the element whose dictionary value for the key `name` was `Food`."
   ]
  },
  {
   "cell_type": "code",
   "execution_count": 80,
   "id": "spanish-royal",
   "metadata": {},
   "outputs": [],
   "source": [
    "# select food parent category and all descendent categories\n",
    "food_category = [cat for cat in categories if cat['name']=='Food'][0]"
   ]
  },
  {
   "cell_type": "markdown",
   "id": "round-windsor",
   "metadata": {},
   "source": [
    "<br>\n",
    "\n",
    "Then, for each child category of the Food category, I built a flattened list of descendent categories. These lists also contained the original child category, so I took the first value of each list as the name of the subcategory.\n",
    "<br>\n",
    "\n",
    "_**Note:** For the sake of simplicity, I'm only grouping by the first level of child categories in the Food category. This reduces the number of possible Food subcategories from 357 to 92. This is still a large number, and could be reduced further by manual grouping._"
   ]
  },
  {
   "cell_type": "code",
   "execution_count": 81,
   "id": "racial-supervisor",
   "metadata": {},
   "outputs": [],
   "source": [
    "# loop recursively through child categories of the food category\n",
    "# append children to list and add that list to a dictionary\n",
    "\n",
    "def cat_grouper(category):\n",
    "    subcategory_list.append(category['name'])\n",
    "    child_cats = category['categories']\n",
    "    if len(child_cats)>0:\n",
    "        for child in child_cats:\n",
    "            cat_grouper(child)\n",
    "            \n",
    "category_dict = {}\n",
    "\n",
    "for category in food_category['categories']:\n",
    "    \n",
    "    subcategory_list = []\n",
    "    cat_grouper(category)\n",
    "    group_name = subcategory_list[0]\n",
    "    group = subcategory_list[1:]\n",
    "    category_dict[group_name] = group"
   ]
  },
  {
   "cell_type": "code",
   "execution_count": 89,
   "id": "mature-outline",
   "metadata": {},
   "outputs": [
    {
     "name": "stdout",
     "output_type": "stream",
     "text": [
      "Afghan Restaurant \n",
      "African Restaurant (2 subcategories)\n",
      "\tEthiopian Restaurant\n",
      "\tMauritian Restaurant\n",
      "...\n"
     ]
    }
   ],
   "source": [
    "# print food venue category hierarchy example\n",
    "for category, subcategories in category_dict.items():\n",
    "    print(category,f\"({len(subcategories)} subcategories)\" if subcategories else '')\n",
    "    if subcategories:\n",
    "        for subcategory in subcategories:\n",
    "            print('\\t' + subcategory)\n",
    "        break # stop loop after first subcategory example\n",
    "\n",
    "print('...')"
   ]
  },
  {
   "cell_type": "markdown",
   "id": "impaired-hierarchy",
   "metadata": {},
   "source": [
    "<br>\n",
    "\n",
    "Lastly, I wrote a function `find_parent()` that takes in a category and determines wether or not it is a top-level category. If the category is a descendent, the function returns the top-level category. This is for grouping the food venue categories later."
   ]
  },
  {
   "cell_type": "code",
   "execution_count": 14,
   "id": "applicable-steel",
   "metadata": {},
   "outputs": [],
   "source": [
    "# function for finding parent category\n",
    "def find_parent(category):\n",
    "    \n",
    "    # if category is a top-level category, return itself\n",
    "    if category in category_dict.keys():\n",
    "        return category\n",
    "    \n",
    "    # if category is a subcategory, return the top-level category\n",
    "    else:\n",
    "        for parent, children in category_dict.items():\n",
    "            if category in children:\n",
    "                return parent"
   ]
  },
  {
   "cell_type": "markdown",
   "id": "julian-thirty",
   "metadata": {},
   "source": [
    "### Venue details"
   ]
  },
  {
   "cell_type": "code",
   "execution_count": 90,
   "id": "alternate-catering",
   "metadata": {},
   "outputs": [],
   "source": [
    "def getNearbyFoodVenues(names, latitudes, longitudes, radius=1000):\n",
    "    categoryId = '4d4b7105d754a06374d81259' # food category\n",
    "    venues_list=[] # list to hold venues data\n",
    "    for name, lat, lng in zip(names, latitudes, longitudes):\n",
    "        print(name)\n",
    "            \n",
    "        # create the API request URL\n",
    "        url = 'https://api.foursquare.com/v2/venues/explore?&client_id={}&client_secret={}&v={}&ll={},{}&radius={}&limit={}&categoryId={}'.format(\n",
    "            CLIENT_ID, \n",
    "            CLIENT_SECRET, \n",
    "            VERSION, \n",
    "            lat, \n",
    "            lng, \n",
    "            radius, \n",
    "            LIMIT,\n",
    "            categoryId)\n",
    "            \n",
    "        # make the GET request\n",
    "        results = requests.get(url).json()[\"response\"]['groups'][0]['items']\n",
    "        \n",
    "        # return only relevant information for each nearby venue\n",
    "        for v in results:            \n",
    "            venues_list.append([(\n",
    "            name, \n",
    "            lat, \n",
    "            lng, \n",
    "            v['venue']['name'],\n",
    "            v['venue']['id'],\n",
    "            v['venue']['location'].get('city',''), # use .get() method to set default value if city not returned\n",
    "            v['venue']['location'].get('address',''), # use .get() method to set default value if address not returned\n",
    "            v['venue']['location']['lat'], \n",
    "            v['venue']['location']['lng'],  \n",
    "            v['venue']['location']['distance'],  \n",
    "            v['venue']['categories'][0]['name'])])\n",
    "\n",
    "    # loop through list of venues data and build a datafram\n",
    "    nearby_venues = pd.DataFrame([item for venue_list in venues_list for item in venue_list])\n",
    "    nearby_venues.columns = ['Neighborhood', \n",
    "                  'Neighborhood Latitude', \n",
    "                  'Neighborhood Longitude', \n",
    "                  'Venue Name', \n",
    "                  'Venue ID',\n",
    "                  'Venue City',\n",
    "                  'Venue Address',\n",
    "                  'Venue Latitude', \n",
    "                  'Venue Longitude', \n",
    "                  'Venue Distance', \n",
    "                  'Venue Category']\n",
    "    \n",
    "    # return dataframe\n",
    "    return(nearby_venues)"
   ]
  },
  {
   "cell_type": "code",
   "execution_count": 78,
   "id": "incorporate-resort",
   "metadata": {},
   "outputs": [
    {
     "name": "stdout",
     "output_type": "stream",
     "text": [
      "Roslindale\n",
      "Jamaica Plain\n",
      "Mission Hill\n",
      "Longwood\n",
      "Bay Village\n",
      "Leather District\n",
      "Chinatown\n",
      "North End\n",
      "Roxbury\n",
      "South End\n",
      "Back Bay\n",
      "East Boston\n",
      "Charlestown\n",
      "West End\n",
      "Beacon Hill\n",
      "Downtown\n",
      "Fenway\n",
      "Brighton\n",
      "West Roxbury\n",
      "Hyde Park\n",
      "Mattapan\n",
      "Dorchester\n",
      "South Boston Waterfront\n",
      "South Boston\n",
      "Allston\n",
      "Harbor Islands\n"
     ]
    }
   ],
   "source": [
    "food_venues = getNearbyFoodVenues(names=neighborhoods_df['Name'],\n",
    "                                   latitudes=neighborhoods_df['Lat'],\n",
    "                                   longitudes=neighborhoods_df['Long']\n",
    "                                  )"
   ]
  },
  {
   "cell_type": "markdown",
   "id": "formal-series",
   "metadata": {},
   "source": [
    "<br>\n",
    "There is quite a bit of overlap between neighborhoods in the nearby search results; many food venues in my dataframe are duplicates. One idea I had was to match the original neighborhood value with the returned city value from the API, but the city value was not always included and the formatting. Instead, I sorted the venues by distance from the original neighborhood coordinates, and dropped the duplicates by their ID.\n",
    "<br><br>\n",
    "\n",
    "_**Note:** This is not a perfect solution, as a venue on the edge of one neighborhood might actually be closer to the coordinates for a different neighborhood, thus skewing the neighborhood results. But, for the sake of simplicity and time, this was the solution I decided to use._"
   ]
  },
  {
   "cell_type": "code",
   "execution_count": 80,
   "id": "fancy-ideal",
   "metadata": {},
   "outputs": [],
   "source": [
    "# drop any overlapping search results from nearby neighborhoods based on distance\n",
    "food_venues = food_venues.sort_values(by='Venue Distance').drop_duplicates('Venue ID')"
   ]
  },
  {
   "cell_type": "code",
   "execution_count": 194,
   "id": "prepared-cleanup",
   "metadata": {},
   "outputs": [
    {
     "name": "stdout",
     "output_type": "stream",
     "text": [
      "944 food venues found in Boston\n"
     ]
    }
   ],
   "source": [
    "# print number of food venues after deduplication\n",
    "print('{} food venues found in Boston'.format(food_venues.shape[0]))"
   ]
  },
  {
   "cell_type": "code",
   "execution_count": 81,
   "id": "harmful-christianity",
   "metadata": {},
   "outputs": [],
   "source": [
    "# add series for parent categories\n",
    "food_venues['Category Group'] = food_venues['Venue Category'].apply(find_parent)"
   ]
  },
  {
   "cell_type": "code",
   "execution_count": 195,
   "id": "geological-advocacy",
   "metadata": {},
   "outputs": [
    {
     "name": "stdout",
     "output_type": "stream",
     "text": [
      "Number of categories before grouping: 77\n",
      "Number of categories after grouping: 51\n"
     ]
    }
   ],
   "source": [
    "# count all cateogories\n",
    "print(f\"Number of categories before grouping: {food_venues['Venue Category'].nunique()}\")\n",
    "print(f\"Number of categories after grouping: {food_venues['Category Group'].nunique()}\")"
   ]
  },
  {
   "cell_type": "code",
   "execution_count": 120,
   "id": "attractive-nylon",
   "metadata": {},
   "outputs": [],
   "source": [
    "# write dataframe to file for future reference\n",
    "path = './data/food_venues.csv'\n",
    "food_venues.to_csv(path,index=False)"
   ]
  },
  {
   "cell_type": "raw",
   "id": "friendly-worthy",
   "metadata": {},
   "source": [
    "ALTERNATE START POINT"
   ]
  },
  {
   "cell_type": "code",
   "execution_count": 17,
   "id": "concerned-bullet",
   "metadata": {},
   "outputs": [
    {
     "data": {
      "text/plain": [
       "(944, 12)"
      ]
     },
     "execution_count": 17,
     "metadata": {},
     "output_type": "execute_result"
    }
   ],
   "source": [
    "# load dataframe from file\n",
    "path = './data/food_venues.csv'\n",
    "food_venues = pd.read_csv(path)\n",
    "food_venues.shape"
   ]
  },
  {
   "cell_type": "code",
   "execution_count": 4,
   "id": "varying-aberdeen",
   "metadata": {},
   "outputs": [],
   "source": [
    "# divide venues in two groups\n",
    "fv1 = food_venues[:450]\n",
    "fv2 = food_venues[450:]"
   ]
  },
  {
   "cell_type": "code",
   "execution_count": 6,
   "id": "confirmed-uruguay",
   "metadata": {},
   "outputs": [],
   "source": [
    "def getVenueDetails(venue_ids):\n",
    "    venues_list = []\n",
    "    for venue_id in venue_ids:\n",
    "        url = 'https://api.foursquare.com/v2/venues/{}?&client_id={}&client_secret={}&v={}'.format(\n",
    "            venue_id,\n",
    "            CLIENT_ID, \n",
    "            CLIENT_SECRET, \n",
    "            VERSION)\n",
    "\n",
    "        # make the GET request\n",
    "        r = requests.get(url).json()['response']\n",
    "        try:\n",
    "            v = r.get('venue',{})\n",
    "\n",
    "            venue_details = [(\n",
    "                v.get('id',None),\n",
    "                v.get('name',None),\n",
    "                v.get('rating',None),\n",
    "                v.get('ratingSignals',None),\n",
    "                v.get('price',{}).get('tier',None),\n",
    "                v.get('price',{}).get('message',None)\n",
    "            )]\n",
    "\n",
    "            venues_list.append(venue_details)\n",
    "        except:\n",
    "            print(r)\n",
    "\n",
    "\n",
    "    venue_details = pd.DataFrame([item for venue_details in venues_list for item in venue_details])\n",
    "    venue_details.columns = [\n",
    "        'Venue ID',\n",
    "        'Venue Name',\n",
    "        'Venue Rating',\n",
    "        'Venue Rating Signals',\n",
    "        'Venue Price Tier',\n",
    "        'Venue Price Message']\n",
    "\n",
    "    return venue_details"
   ]
  },
  {
   "cell_type": "raw",
   "id": "august-cradle",
   "metadata": {},
   "source": [
    "# get details for first half of venue dataset\n",
    "fv1_details = getVenueDetails(fv1['Venue ID'])\n",
    "fv1_details.shape"
   ]
  },
  {
   "cell_type": "raw",
   "id": "collaborative-wright",
   "metadata": {},
   "source": [
    "# write data to file for reference\n",
    "fv1_details.to_csv('./data/food_venue_details_1.csv')"
   ]
  },
  {
   "cell_type": "raw",
   "id": "polar-reproduction",
   "metadata": {},
   "source": [
    "# get details for first half of venue dataset\n",
    "fv2_details = getVenueDetails(fv2['Venue ID'])\n",
    "fv2_details.shape"
   ]
  },
  {
   "cell_type": "raw",
   "id": "developing-gravity",
   "metadata": {},
   "source": [
    "# write data to file for reference\n",
    "fv2_details.to_csv('./data/food_venue_details_2.csv')"
   ]
  },
  {
   "cell_type": "code",
   "execution_count": 16,
   "id": "abandoned-printing",
   "metadata": {},
   "outputs": [
    {
     "data": {
      "text/plain": [
       "(944, 6)"
      ]
     },
     "execution_count": 16,
     "metadata": {},
     "output_type": "execute_result"
    }
   ],
   "source": [
    "# load datasets and combine\n",
    "fv1_details = pd.read_csv('./data/food_venue_details_1.csv',index_col=0)\n",
    "fv2_details = pd.read_csv('./data/food_venue_details_2.csv',index_col=0)\n",
    "fv_details = pd.concat([fv1_details,fv2_details],ignore_index=True)\n",
    "fv_details.shape"
   ]
  },
  {
   "cell_type": "code",
   "execution_count": 18,
   "id": "pending-tourism",
   "metadata": {},
   "outputs": [
    {
     "data": {
      "text/plain": [
       "(944, 11)"
      ]
     },
     "execution_count": 18,
     "metadata": {},
     "output_type": "execute_result"
    }
   ],
   "source": [
    "food_venues = fv_details.merge(food_venues[['Venue ID',\n",
    "                                            'Neighborhood',\n",
    "                                            'Venue Category',\n",
    "                                            'Category Group',\n",
    "                                            'Venue Latitude',\n",
    "                                            'Venue Longitude']],\n",
    "                               left_on='Venue ID',\n",
    "                               right_on='Venue ID',\n",
    "                               how='left')\n",
    "food_venues.shape"
   ]
  },
  {
   "cell_type": "markdown",
   "id": "multiple-intention",
   "metadata": {},
   "source": [
    "## Explore data"
   ]
  },
  {
   "cell_type": "code",
   "execution_count": 70,
   "id": "german-interference",
   "metadata": {},
   "outputs": [],
   "source": [
    "# function for printing a formatted series\n",
    "def series_print(series,label=''):\n",
    "    '''Print an numbered series with index names (keys) and values.'''\n",
    "    for i,(k,v) in enumerate(series.items(),1):\n",
    "        print('{}) {}:  {} {}'.format(i,k,v,label))"
   ]
  },
  {
   "cell_type": "markdown",
   "id": "metallic-stage",
   "metadata": {},
   "source": [
    "<br>\n",
    "\n",
    "**Question: Which venues have the most locations?**"
   ]
  },
  {
   "cell_type": "code",
   "execution_count": 59,
   "id": "shared-sterling",
   "metadata": {},
   "outputs": [
    {
     "name": "stdout",
     "output_type": "stream",
     "text": [
      "1) Dunkin':  28 venues\n",
      "2) SUBWAY:  11 venues\n",
      "3) sweetgreen:  8 venues\n",
      "4) Tatte Bakery & Cafe:  8 venues\n",
      "5) Domino's Pizza:  7 venues\n"
     ]
    }
   ],
   "source": [
    "# venues with the most locations\n",
    "series_print(food_venues['Venue Name'].value_counts().head(),label='venues')"
   ]
  },
  {
   "cell_type": "markdown",
   "id": "minimal-bunny",
   "metadata": {},
   "source": [
    "**Answer:** No surprise for anyone familiar with Boston, Dunkin' is the venue with the most locations across the city."
   ]
  },
  {
   "cell_type": "markdown",
   "id": "iraqi-portsmouth",
   "metadata": {},
   "source": [
    "<br>\n",
    "\n",
    "**Question: Which neighborhoods have the most venues?**"
   ]
  },
  {
   "cell_type": "code",
   "execution_count": 60,
   "id": "center-zambia",
   "metadata": {},
   "outputs": [
    {
     "name": "stdout",
     "output_type": "stream",
     "text": [
      "1) Fenway:  83 venues\n",
      "2) Back Bay:  72 venues\n",
      "3) North End:  64 venues\n",
      "4) South End:  60 venues\n",
      "5) Brighton:  57 venues\n"
     ]
    }
   ],
   "source": [
    "# venues in each neighborhood\n",
    "neighborhood_counts = food_venues.value_counts('Neighborhood')\n",
    "series_print(neighborhood_counts.sort_values(ascending=False).head(),label='venues')"
   ]
  },
  {
   "cell_type": "markdown",
   "id": "disabled-witness",
   "metadata": {},
   "source": [
    "<br>\n",
    "\n",
    "**Question: What is the mean rating for each neighborhood?**<br>\n",
    "*The Foursquare rating ranges from 0-10.*"
   ]
  },
  {
   "cell_type": "code",
   "execution_count": 64,
   "id": "requested-edmonton",
   "metadata": {},
   "outputs": [
    {
     "name": "stdout",
     "output_type": "stream",
     "text": [
      "1) North End:  8.253125 \n",
      "2) South Boston Waterfront:  8.232558139534884 \n",
      "3) Leather District:  8.166666666666666 \n",
      "4) Back Bay:  8.165277777777778 \n",
      "5) Allston:  8.163829787234045 \n"
     ]
    }
   ],
   "source": [
    "# mean rating for each neighborhood\n",
    "neighborhood_ratings = food_venues.groupby('Neighborhood')['Venue Rating'].mean()\n",
    "series_print(neighborhood_ratings.sort_values(ascending=False).head())"
   ]
  },
  {
   "cell_type": "markdown",
   "id": "clean-membership",
   "metadata": {},
   "source": [
    "<br>\n",
    "\n",
    "**Question: What is the mean price tier for each neighborhood?**<br>\n",
    "*The Foursquare price tier ranges from 1-4.*"
   ]
  },
  {
   "cell_type": "code",
   "execution_count": 69,
   "id": "increasing-turner",
   "metadata": {},
   "outputs": [
    {
     "name": "stdout",
     "output_type": "stream",
     "text": [
      "1) Bay Village:  2.257142857142857 \n",
      "2) Back Bay:  2.142857142857143 \n",
      "3) Beacon Hill:  2.12 \n",
      "4) North End:  2.109375 \n",
      "5) South Boston Waterfront:  2.0232558139534884 \n"
     ]
    }
   ],
   "source": [
    "# mean price tier for each neighborhood\n",
    "neighborhood_prices = food_venues.groupby('Neighborhood')['Venue Price Tier'].mean()\n",
    "series_print(neighborhood_prices.sort_values(ascending=False).head())"
   ]
  },
  {
   "cell_type": "markdown",
   "id": "elegant-accommodation",
   "metadata": {},
   "source": [
    "<br>\n",
    "\n",
    "**Question: What are the most common food venue categories in Boston?**"
   ]
  },
  {
   "cell_type": "code",
   "execution_count": 68,
   "id": "answering-studio",
   "metadata": {},
   "outputs": [
    {
     "data": {
      "image/png": "[encoded data removed]",
      "text/plain": [
       "<Figure size 432x288 with 1 Axes>"
      ]
     },
     "metadata": {},
     "output_type": "display_data"
    }
   ],
   "source": [
    "# most popular food venues types\n",
    "food_venues['Category Group'].value_counts().head(10).sort_values(ascending=True).plot.barh(width=.8,color='tab:blue',alpha=.8)\n",
    "plt.title('Top 10 most popular food venue categories in Boston')\n",
    "plt.show()"
   ]
  },
  {
   "cell_type": "markdown",
   "id": "radical-browser",
   "metadata": {},
   "source": [
    "**Answer:** The most common restaurant type in Boston is Asian Restaurant, followed by Pizza Place, and American Restaurant, and Italian Restaurant.\n",
    "\n",
    "_**Note:** Remember from before, the Asian Restaurant category in the Foursquare category hierarchy has the most subcategories (88), so from one perspective, it makes sense that it is the most frequent category grouping in this dataset. If the Pizza Place category was grouped with the Italian Restaurant category rather than being distinct, it would be the most frequent category._"
   ]
  },
  {
   "cell_type": "markdown",
   "id": "defined-argument",
   "metadata": {},
   "source": [
    "<br>\n",
    "\n",
    "**Question: What is the distribution of the venue ratings?**"
   ]
  },
  {
   "cell_type": "code",
   "execution_count": 23,
   "id": "minute-military",
   "metadata": {},
   "outputs": [
    {
     "data": {
      "text/plain": [
       "<AxesSubplot:xlabel='Venue Rating', ylabel='Count'>"
      ]
     },
     "execution_count": 23,
     "metadata": {},
     "output_type": "execute_result"
    },
    {
     "data": {
      "image/png": "[encoded data removed]",
      "text/plain": [
       "<Figure size 432x288 with 1 Axes>"
      ]
     },
     "metadata": {},
     "output_type": "display_data"
    }
   ],
   "source": [
    "sns.histplot(food_venues,x='Venue Rating')"
   ]
  },
  {
   "cell_type": "markdown",
   "id": "certain-trouble",
   "metadata": {},
   "source": [
    "**Answer:** Most of the venues are rated between 7 and 9, with very few rated below 6."
   ]
  },
  {
   "cell_type": "markdown",
   "id": "legitimate-gallery",
   "metadata": {},
   "source": [
    "<br>\n",
    "\n",
    "**Question: How many venues are there in each price category?**"
   ]
  },
  {
   "cell_type": "code",
   "execution_count": 96,
   "id": "built-colors",
   "metadata": {},
   "outputs": [
    {
     "data": {
      "image/png": "[encoded data removed]",
      "text/plain": [
       "<Figure size 432x288 with 1 Axes>"
      ]
     },
     "metadata": {},
     "output_type": "display_data"
    }
   ],
   "source": [
    "food_venues.value_counts('Venue Price Message').plot.bar(color='tab:blue', alpha=.8)\n",
    "plt.title('Number of venues by price category')\n",
    "plt.xticks(rotation=0)\n",
    "plt.show()"
   ]
  },
  {
   "cell_type": "markdown",
   "id": "loved-customer",
   "metadata": {},
   "source": [
    "**Answer:** Most venues are in the `Cheap` or `Moderate` price categories, with relatively few in the `Very Expensive` category"
   ]
  },
  {
   "cell_type": "markdown",
   "id": "starting-mason",
   "metadata": {},
   "source": [
    "<br>\n",
    "\n",
    "**Question: Does venue rating correspond with price?**"
   ]
  },
  {
   "cell_type": "code",
   "execution_count": 25,
   "id": "traditional-direction",
   "metadata": {
    "jupyter": {
     "source_hidden": true
    }
   },
   "outputs": [
    {
     "data": {
      "image/png": "[encoded data removed]",
      "text/plain": [
       "<Figure size 432x288 with 1 Axes>"
      ]
     },
     "metadata": {},
     "output_type": "display_data"
    }
   ],
   "source": [
    "# plot venue rating by price - box plot\n",
    "sns.boxplot(x=\"Venue Price Message\", y=\"Venue Rating\", data=food_venues)\n",
    "plt.title('Venue rating by price category')\n",
    "plt.show()"
   ]
  },
  {
   "cell_type": "markdown",
   "id": "acceptable-continent",
   "metadata": {},
   "source": [
    "**Answer:** The median rating increases as the price tier increases. The range of ratings in each price category is smaller as the price increases, with `Very Expensive` restaurants having the smallest range of all, which is likely related to that category having the fewest number of venues.\n",
    "\n",
    "Another way to look at this relationship between price and rating is through a regression line."
   ]
  },
  {
   "cell_type": "code",
   "execution_count": 27,
   "id": "interested-nancy",
   "metadata": {
    "jupyter": {
     "source_hidden": true
    }
   },
   "outputs": [
    {
     "data": {
      "image/png": "[encoded data removed]",
      "text/plain": [
       "<Figure size 432x288 with 1 Axes>"
      ]
     },
     "metadata": {},
     "output_type": "display_data"
    }
   ],
   "source": [
    "# plot venue rating by price\n",
    "sns.regplot(data=food_venues,x='Venue Price Tier', y='Venue Rating',color='tab:blue')\n",
    "plt.title('Average venue rating by price tier')\n",
    "plt.show()"
   ]
  },
  {
   "cell_type": "markdown",
   "id": "seven-rally",
   "metadata": {},
   "source": [
    "**Result:** There is a strong positive correlation between a venue's price tier and the average rating."
   ]
  },
  {
   "cell_type": "markdown",
   "id": "accompanied-senate",
   "metadata": {},
   "source": [
    "<br>\n",
    "\n",
    "**Question: Do venues with multiple locations have lower ratings than restaurants with a single venue?**"
   ]
  },
  {
   "cell_type": "code",
   "execution_count": 83,
   "id": "judicial-inclusion",
   "metadata": {},
   "outputs": [],
   "source": [
    "# create series for multiple locations (boolean)\n",
    "food_venues['Multiple Locations'] = food_venues.groupby('Venue Name')['Venue Name'].transform('count')>1\n",
    "food_venues['Multiple Locations'] = food_venues['Multiple Locations'].astype(int)"
   ]
  },
  {
   "cell_type": "code",
   "execution_count": 84,
   "id": "irish-clock",
   "metadata": {},
   "outputs": [
    {
     "data": {
      "image/png": "[encoded data removed]",
      "text/plain": [
       "<Figure size 432x288 with 1 Axes>"
      ]
     },
     "metadata": {},
     "output_type": "display_data"
    }
   ],
   "source": [
    "# plot venue rating by multiple locations - box plot\n",
    "sns.boxplot(x=\"Multiple Locations\", y=\"Venue Rating\", data=food_venues)\n",
    "plt.title('Venue rating by whether or not there are multiple locations')\n",
    "plt.show()"
   ]
  },
  {
   "cell_type": "code",
   "execution_count": 92,
   "id": "grave-certificate",
   "metadata": {},
   "outputs": [
    {
     "name": "stdout",
     "output_type": "stream",
     "text": [
      "Single Location: 7.81537267080745\n",
      "Multiple Locations: 7.426515151515155\n"
     ]
    }
   ],
   "source": [
    "for i, rating in food_venues.groupby('Multiple Locations')['Venue Rating'].mean().items():\n",
    "    label = 'Single Location' if i == 0 else 'Multiple Locations'\n",
    "    print('{}: {}'.format(label,rating))"
   ]
  },
  {
   "cell_type": "markdown",
   "id": "rental-transition",
   "metadata": {},
   "source": [
    "**Answer:** Yes, venues with multiple locations have lower mean and median ratings than venues with a single location."
   ]
  },
  {
   "cell_type": "markdown",
   "id": "intense-tenant",
   "metadata": {},
   "source": [
    "<br>\n",
    "\n",
    "**Question: Does average venue price correspond with per capita income by neighborhood?**\n",
    "\n",
    "To answer this question, I compare mean per capita income with mean venue price in each neighborhood. Income data is from Analyze Boston and represents figures from 2019. I binned the data to see generally how the neighborhoods are divided, then used a regression plot in the Seaborn library to view all the points and see if there was a correlation."
   ]
  },
  {
   "cell_type": "code",
   "execution_count": 111,
   "id": "numerous-genome",
   "metadata": {},
   "outputs": [
    {
     "data": {
      "text/html": [
       "<div>\n",
       "<style scoped>\n",
       "    .dataframe tbody tr th:only-of-type {\n",
       "        vertical-align: middle;\n",
       "    }\n",
       "\n",
       "    .dataframe tbody tr th {\n",
       "        vertical-align: top;\n",
       "    }\n",
       "\n",
       "    .dataframe thead th {\n",
       "        text-align: right;\n",
       "    }\n",
       "</style>\n",
       "<table border=\"1\" class=\"dataframe\">\n",
       "  <thead>\n",
       "    <tr style=\"text-align: right;\">\n",
       "      <th></th>\n",
       "      <th>Mean Per Capita Income</th>\n",
       "      <th>Median Household Income</th>\n",
       "      <th>Median Family Income</th>\n",
       "    </tr>\n",
       "    <tr>\n",
       "      <th>Neighborhood</th>\n",
       "      <th></th>\n",
       "      <th></th>\n",
       "      <th></th>\n",
       "    </tr>\n",
       "  </thead>\n",
       "  <tbody>\n",
       "    <tr>\n",
       "      <th>Allston</th>\n",
       "      <td>$34,149</td>\n",
       "      <td>$58,141</td>\n",
       "      <td>$73,975</td>\n",
       "    </tr>\n",
       "    <tr>\n",
       "      <th>Back Bay</th>\n",
       "      <td>$110,677</td>\n",
       "      <td>$111,185</td>\n",
       "      <td>$197,348</td>\n",
       "    </tr>\n",
       "    <tr>\n",
       "      <th>Beacon Hill</th>\n",
       "      <td>$100,005</td>\n",
       "      <td>$110,841</td>\n",
       "      <td>$205,960</td>\n",
       "    </tr>\n",
       "    <tr>\n",
       "      <th>Brighton</th>\n",
       "      <td>$41,261</td>\n",
       "      <td>$77,625</td>\n",
       "      <td>$92,364</td>\n",
       "    </tr>\n",
       "    <tr>\n",
       "      <th>Charlestown</th>\n",
       "      <td>$75,339</td>\n",
       "      <td>$127,400</td>\n",
       "      <td>$162,386</td>\n",
       "    </tr>\n",
       "  </tbody>\n",
       "</table>\n",
       "</div>"
      ],
      "text/plain": [
       "             Mean Per Capita Income Median Household Income  \\\n",
       "Neighborhood                                                  \n",
       "Allston                     $34,149                $58,141    \n",
       "Back Bay                   $110,677               $111,185    \n",
       "Beacon Hill                $100,005               $110,841    \n",
       "Brighton                    $41,261                $77,625    \n",
       "Charlestown                 $75,339               $127,400    \n",
       "\n",
       "             Median Family Income  \n",
       "Neighborhood                       \n",
       "Allston                   $73,975  \n",
       "Back Bay                 $197,348  \n",
       "Beacon Hill              $205,960  \n",
       "Brighton                  $92,364  \n",
       "Charlestown              $162,386  "
      ]
     },
     "execution_count": 111,
     "metadata": {},
     "output_type": "execute_result"
    }
   ],
   "source": [
    "income_path = \"./data/boston_demographics/income.csv\"\n",
    "income_df = pd.read_csv(income_path)\n",
    "income_df = income_df.drop(columns='Total Households').set_index('Neighborhood')\n",
    "income_df.head()"
   ]
  },
  {
   "cell_type": "code",
   "execution_count": 112,
   "id": "sophisticated-discovery",
   "metadata": {},
   "outputs": [],
   "source": [
    "# format string values as float values\n",
    "def currency_formatter(string):\n",
    "    string = string.strip().replace('$','').replace(',','')\n",
    "    return float(string)\n",
    "\n",
    "for col in ['Mean Per Capita Income','Median Household Income','Median Family Income']:\n",
    "    income_df[col]=income_df[col].apply(currency_formatter)"
   ]
  },
  {
   "cell_type": "code",
   "execution_count": 110,
   "id": "super-correction",
   "metadata": {},
   "outputs": [
    {
     "name": "stdout",
     "output_type": "stream",
     "text": [
      "Bin 0: Dorchester, East Boston, Fenway, Longwood, Mattapan, Mission Hill, Roxbury\n",
      "Bin 1: Allston, Brighton, Hyde Park, Jamaica Plain, Roslindale, West Roxbury\n",
      "Bin 2: Charlestown, Downtown, South Boston, West End\n",
      "Bin 3: Beacon Hill, North End, South End\n",
      "Bin 4: Back Bay, South Boston Waterfront\n"
     ]
    }
   ],
   "source": [
    "# bin neighborhoods by per capita income\n",
    "nbins = 5\n",
    "income_df['Per Capita Bins'] = pd.cut(income_df['Mean Per Capita Income'], bins=nbins, labels=list(range(nbins)))\n",
    "grouped = income_df.reset_index().groupby('Per Capita Bins')['Neighborhood'].apply(lambda x: ', '.join(x))\n",
    "for i, neighborhoods in grouped.items():\n",
    "    print('Bin {}: {}'.format(i,neighborhoods))"
   ]
  },
  {
   "cell_type": "code",
   "execution_count": 100,
   "id": "negative-residence",
   "metadata": {},
   "outputs": [],
   "source": [
    "# mean venue price tier by neighborhood\n",
    "neighborhood_mean_price = food_venues.groupby('Neighborhood')['Venue Price Tier'].mean()\n",
    "\n",
    "# combine mean venue price tier and income data\n",
    "price_income = pd.concat([neighborhood_mean_price,income_df],axis=1)"
   ]
  },
  {
   "cell_type": "code",
   "execution_count": 113,
   "id": "sustained-circulation",
   "metadata": {},
   "outputs": [
    {
     "data": {
      "image/png": "[encoded data removed]",
      "text/plain": [
       "<Figure size 432x288 with 1 Axes>"
      ]
     },
     "metadata": {},
     "output_type": "display_data"
    }
   ],
   "source": [
    "# plot mean per capita income and mean venue price tier\n",
    "sns.regplot(data=price_income, y='Venue Price Tier',x='Mean Per Capita Income',color='tab:blue')\n",
    "plt.title('Mean Venue Price by Per Capita Income for Boston Nieghborhoods')\n",
    "plt.show()"
   ]
  },
  {
   "cell_type": "markdown",
   "id": "patent-copper",
   "metadata": {},
   "source": [
    "**Answer:** Yes, there is a positive correlation between mean per capita income by neighborhood and mean venue price."
   ]
  },
  {
   "cell_type": "markdown",
   "id": "minus-estonia",
   "metadata": {},
   "source": [
    "<br>\n",
    "\n",
    "**Question: Is there a relationship betwen venue rating or price and venues per capita?**\n",
    "\n",
    "I used the same dataset from Analyze Boston as before, but looked at population instead of income. I simply divided the number of venues by the population in each neighborhood. Then, I added mean price and rating data. I used the `df.corr()` method to view the Pearson coefficient for each pair of variables, and used the `df.style.background_gradient()` method to make it easier to see which pairs had a stronger correlation. Finally, I made another regression plot to visualize one of the relationships that had a moderate correlation according to the table."
   ]
  },
  {
   "cell_type": "code",
   "execution_count": 117,
   "id": "nutritional-programming",
   "metadata": {},
   "outputs": [],
   "source": [
    "pop_path = \"./data/boston_demographics/race.csv\"\n",
    "pop_df = pd.read_csv(pop_path)\n",
    "pop_df = pop_df[['Neighborhood','Total Population']]\n",
    "pop_df['Total Population'] = pop_df['Total Population'].str.replace(',','').astype(int)\n",
    "pop_df.set_index('Neighborhood',inplace=True)"
   ]
  },
  {
   "cell_type": "code",
   "execution_count": 118,
   "id": "radical-bachelor",
   "metadata": {},
   "outputs": [],
   "source": [
    "neighborhood_venues = food_venues.value_counts('Neighborhood').to_frame(name='Venues')"
   ]
  },
  {
   "cell_type": "code",
   "execution_count": 119,
   "id": "composed-disabled",
   "metadata": {},
   "outputs": [
    {
     "data": {
      "text/html": [
       "<div>\n",
       "<style scoped>\n",
       "    .dataframe tbody tr th:only-of-type {\n",
       "        vertical-align: middle;\n",
       "    }\n",
       "\n",
       "    .dataframe tbody tr th {\n",
       "        vertical-align: top;\n",
       "    }\n",
       "\n",
       "    .dataframe thead th {\n",
       "        text-align: right;\n",
       "    }\n",
       "</style>\n",
       "<table border=\"1\" class=\"dataframe\">\n",
       "  <thead>\n",
       "    <tr style=\"text-align: right;\">\n",
       "      <th></th>\n",
       "      <th>Total Population</th>\n",
       "      <th>SqMiles</th>\n",
       "      <th>Venues</th>\n",
       "    </tr>\n",
       "  </thead>\n",
       "  <tbody>\n",
       "    <tr>\n",
       "      <th>Allston</th>\n",
       "      <td>19261.0</td>\n",
       "      <td>1.56</td>\n",
       "      <td>48.0</td>\n",
       "    </tr>\n",
       "    <tr>\n",
       "      <th>Back Bay</th>\n",
       "      <td>17783.0</td>\n",
       "      <td>0.62</td>\n",
       "      <td>72.0</td>\n",
       "    </tr>\n",
       "    <tr>\n",
       "      <th>Beacon Hill</th>\n",
       "      <td>9648.0</td>\n",
       "      <td>0.31</td>\n",
       "      <td>25.0</td>\n",
       "    </tr>\n",
       "    <tr>\n",
       "      <th>Brighton</th>\n",
       "      <td>55297.0</td>\n",
       "      <td>2.88</td>\n",
       "      <td>57.0</td>\n",
       "    </tr>\n",
       "    <tr>\n",
       "      <th>Charlestown</th>\n",
       "      <td>19890.0</td>\n",
       "      <td>1.36</td>\n",
       "      <td>38.0</td>\n",
       "    </tr>\n",
       "  </tbody>\n",
       "</table>\n",
       "</div>"
      ],
      "text/plain": [
       "             Total Population  SqMiles  Venues\n",
       "Allston               19261.0     1.56    48.0\n",
       "Back Bay              17783.0     0.62    72.0\n",
       "Beacon Hill            9648.0     0.31    25.0\n",
       "Brighton              55297.0     2.88    57.0\n",
       "Charlestown           19890.0     1.36    38.0"
      ]
     },
     "execution_count": 119,
     "metadata": {},
     "output_type": "execute_result"
    }
   ],
   "source": [
    "density_df = pd.concat([pop_df,neighborhoods_df.set_index('Name')['SqMiles'], neighborhood_venues],axis=1)\n",
    "density_df.head()"
   ]
  },
  {
   "cell_type": "code",
   "execution_count": 120,
   "id": "greek-secondary",
   "metadata": {},
   "outputs": [
    {
     "data": {
      "text/html": [
       "<div>\n",
       "<style scoped>\n",
       "    .dataframe tbody tr th:only-of-type {\n",
       "        vertical-align: middle;\n",
       "    }\n",
       "\n",
       "    .dataframe tbody tr th {\n",
       "        vertical-align: top;\n",
       "    }\n",
       "\n",
       "    .dataframe thead th {\n",
       "        text-align: right;\n",
       "    }\n",
       "</style>\n",
       "<table border=\"1\" class=\"dataframe\">\n",
       "  <thead>\n",
       "    <tr style=\"text-align: right;\">\n",
       "      <th></th>\n",
       "      <th>Mean Price</th>\n",
       "      <th>Mean Rating</th>\n",
       "      <th>Total Population</th>\n",
       "      <th>SqMiles</th>\n",
       "      <th>Venues</th>\n",
       "      <th>Venues Per Capita</th>\n",
       "      <th>Venues Per Sq Mi</th>\n",
       "    </tr>\n",
       "  </thead>\n",
       "  <tbody>\n",
       "    <tr>\n",
       "      <th>Allston</th>\n",
       "      <td>1.586957</td>\n",
       "      <td>8.163830</td>\n",
       "      <td>19261.0</td>\n",
       "      <td>1.56</td>\n",
       "      <td>48.0</td>\n",
       "      <td>0.002492</td>\n",
       "      <td>30.769231</td>\n",
       "    </tr>\n",
       "    <tr>\n",
       "      <th>Back Bay</th>\n",
       "      <td>2.142857</td>\n",
       "      <td>8.165278</td>\n",
       "      <td>17783.0</td>\n",
       "      <td>0.62</td>\n",
       "      <td>72.0</td>\n",
       "      <td>0.004049</td>\n",
       "      <td>116.129032</td>\n",
       "    </tr>\n",
       "    <tr>\n",
       "      <th>Beacon Hill</th>\n",
       "      <td>2.120000</td>\n",
       "      <td>7.760000</td>\n",
       "      <td>9648.0</td>\n",
       "      <td>0.31</td>\n",
       "      <td>25.0</td>\n",
       "      <td>0.002591</td>\n",
       "      <td>80.645161</td>\n",
       "    </tr>\n",
       "    <tr>\n",
       "      <th>Brighton</th>\n",
       "      <td>1.375000</td>\n",
       "      <td>7.186486</td>\n",
       "      <td>55297.0</td>\n",
       "      <td>2.88</td>\n",
       "      <td>57.0</td>\n",
       "      <td>0.001031</td>\n",
       "      <td>19.791667</td>\n",
       "    </tr>\n",
       "    <tr>\n",
       "      <th>Charlestown</th>\n",
       "      <td>1.527778</td>\n",
       "      <td>7.283333</td>\n",
       "      <td>19890.0</td>\n",
       "      <td>1.36</td>\n",
       "      <td>38.0</td>\n",
       "      <td>0.001911</td>\n",
       "      <td>27.941176</td>\n",
       "    </tr>\n",
       "  </tbody>\n",
       "</table>\n",
       "</div>"
      ],
      "text/plain": [
       "             Mean Price  Mean Rating  Total Population  SqMiles  Venues  \\\n",
       "Allston        1.586957     8.163830           19261.0     1.56    48.0   \n",
       "Back Bay       2.142857     8.165278           17783.0     0.62    72.0   \n",
       "Beacon Hill    2.120000     7.760000            9648.0     0.31    25.0   \n",
       "Brighton       1.375000     7.186486           55297.0     2.88    57.0   \n",
       "Charlestown    1.527778     7.283333           19890.0     1.36    38.0   \n",
       "\n",
       "             Venues Per Capita  Venues Per Sq Mi  \n",
       "Allston               0.002492         30.769231  \n",
       "Back Bay              0.004049        116.129032  \n",
       "Beacon Hill           0.002591         80.645161  \n",
       "Brighton              0.001031         19.791667  \n",
       "Charlestown           0.001911         27.941176  "
      ]
     },
     "execution_count": 120,
     "metadata": {},
     "output_type": "execute_result"
    }
   ],
   "source": [
    "# add column for venues per capita\n",
    "density_df['Venues Per Capita'] = density_df['Venues'] / density_df['Total Population']\n",
    "# add column for venues per square mile\n",
    "density_df['Venues Per Sq Mi'] = density_df['Venues'] / density_df['SqMiles']\n",
    "# add column for mean rating by neighborhood\n",
    "density_df.insert(0,'Mean Rating',value=food_venues.groupby('Neighborhood')['Venue Rating'].mean())\n",
    "# add column for mean price by neighborhood\n",
    "density_df.insert(0,'Mean Price',value=food_venues.groupby('Neighborhood')['Venue Price Tier'].mean())\n",
    "\n",
    "density_df.head()"
   ]
  },
  {
   "cell_type": "code",
   "execution_count": 121,
   "id": "random-basis",
   "metadata": {},
   "outputs": [
    {
     "data": {
      "text/html": [
       "<style  type=\"text/css\" >\n",
       "#T_bf74b95a_ab47_11eb_a4ef_a45e60cb13cdrow0_col0,#T_bf74b95a_ab47_11eb_a4ef_a45e60cb13cdrow1_col1,#T_bf74b95a_ab47_11eb_a4ef_a45e60cb13cdrow2_col2,#T_bf74b95a_ab47_11eb_a4ef_a45e60cb13cdrow3_col3,#T_bf74b95a_ab47_11eb_a4ef_a45e60cb13cdrow4_col4,#T_bf74b95a_ab47_11eb_a4ef_a45e60cb13cdrow5_col5,#T_bf74b95a_ab47_11eb_a4ef_a45e60cb13cdrow6_col6{\n",
       "            background-color:  #023858;\n",
       "            color:  #f1f1f1;\n",
       "        }#T_bf74b95a_ab47_11eb_a4ef_a45e60cb13cdrow0_col1{\n",
       "            background-color:  #04588a;\n",
       "            color:  #f1f1f1;\n",
       "        }#T_bf74b95a_ab47_11eb_a4ef_a45e60cb13cdrow0_col2{\n",
       "            background-color:  #fdf5fa;\n",
       "            color:  #000000;\n",
       "        }#T_bf74b95a_ab47_11eb_a4ef_a45e60cb13cdrow0_col3{\n",
       "            background-color:  #fbf3f9;\n",
       "            color:  #000000;\n",
       "        }#T_bf74b95a_ab47_11eb_a4ef_a45e60cb13cdrow0_col4{\n",
       "            background-color:  #529bc7;\n",
       "            color:  #000000;\n",
       "        }#T_bf74b95a_ab47_11eb_a4ef_a45e60cb13cdrow0_col5{\n",
       "            background-color:  #056faf;\n",
       "            color:  #f1f1f1;\n",
       "        }#T_bf74b95a_ab47_11eb_a4ef_a45e60cb13cdrow0_col6{\n",
       "            background-color:  #3d93c2;\n",
       "            color:  #000000;\n",
       "        }#T_bf74b95a_ab47_11eb_a4ef_a45e60cb13cdrow1_col0{\n",
       "            background-color:  #04598c;\n",
       "            color:  #f1f1f1;\n",
       "        }#T_bf74b95a_ab47_11eb_a4ef_a45e60cb13cdrow1_col2{\n",
       "            background-color:  #fef6fa;\n",
       "            color:  #000000;\n",
       "        }#T_bf74b95a_ab47_11eb_a4ef_a45e60cb13cdrow1_col3,#T_bf74b95a_ab47_11eb_a4ef_a45e60cb13cdrow2_col5,#T_bf74b95a_ab47_11eb_a4ef_a45e60cb13cdrow3_col0,#T_bf74b95a_ab47_11eb_a4ef_a45e60cb13cdrow3_col1,#T_bf74b95a_ab47_11eb_a4ef_a45e60cb13cdrow3_col4,#T_bf74b95a_ab47_11eb_a4ef_a45e60cb13cdrow3_col5,#T_bf74b95a_ab47_11eb_a4ef_a45e60cb13cdrow3_col6,#T_bf74b95a_ab47_11eb_a4ef_a45e60cb13cdrow5_col2{\n",
       "            background-color:  #fff7fb;\n",
       "            color:  #000000;\n",
       "        }#T_bf74b95a_ab47_11eb_a4ef_a45e60cb13cdrow1_col4{\n",
       "            background-color:  #4e9ac6;\n",
       "            color:  #000000;\n",
       "        }#T_bf74b95a_ab47_11eb_a4ef_a45e60cb13cdrow1_col5{\n",
       "            background-color:  #1b7eb7;\n",
       "            color:  #000000;\n",
       "        }#T_bf74b95a_ab47_11eb_a4ef_a45e60cb13cdrow1_col6{\n",
       "            background-color:  #3991c1;\n",
       "            color:  #000000;\n",
       "        }#T_bf74b95a_ab47_11eb_a4ef_a45e60cb13cdrow2_col0{\n",
       "            background-color:  #faf3f9;\n",
       "            color:  #000000;\n",
       "        }#T_bf74b95a_ab47_11eb_a4ef_a45e60cb13cdrow2_col1{\n",
       "            background-color:  #f7f0f7;\n",
       "            color:  #000000;\n",
       "        }#T_bf74b95a_ab47_11eb_a4ef_a45e60cb13cdrow2_col3{\n",
       "            background-color:  #045585;\n",
       "            color:  #f1f1f1;\n",
       "        }#T_bf74b95a_ab47_11eb_a4ef_a45e60cb13cdrow2_col4,#T_bf74b95a_ab47_11eb_a4ef_a45e60cb13cdrow6_col2{\n",
       "            background-color:  #f2ecf5;\n",
       "            color:  #000000;\n",
       "        }#T_bf74b95a_ab47_11eb_a4ef_a45e60cb13cdrow2_col6{\n",
       "            background-color:  #fbf4f9;\n",
       "            color:  #000000;\n",
       "        }#T_bf74b95a_ab47_11eb_a4ef_a45e60cb13cdrow3_col2{\n",
       "            background-color:  #045687;\n",
       "            color:  #f1f1f1;\n",
       "        }#T_bf74b95a_ab47_11eb_a4ef_a45e60cb13cdrow4_col0,#T_bf74b95a_ab47_11eb_a4ef_a45e60cb13cdrow6_col0{\n",
       "            background-color:  #2f8bbe;\n",
       "            color:  #000000;\n",
       "        }#T_bf74b95a_ab47_11eb_a4ef_a45e60cb13cdrow4_col1,#T_bf74b95a_ab47_11eb_a4ef_a45e60cb13cdrow6_col1{\n",
       "            background-color:  #2987bc;\n",
       "            color:  #000000;\n",
       "        }#T_bf74b95a_ab47_11eb_a4ef_a45e60cb13cdrow4_col2{\n",
       "            background-color:  #d7d6e9;\n",
       "            color:  #000000;\n",
       "        }#T_bf74b95a_ab47_11eb_a4ef_a45e60cb13cdrow4_col3{\n",
       "            background-color:  #dddbec;\n",
       "            color:  #000000;\n",
       "        }#T_bf74b95a_ab47_11eb_a4ef_a45e60cb13cdrow4_col5{\n",
       "            background-color:  #3b92c1;\n",
       "            color:  #000000;\n",
       "        }#T_bf74b95a_ab47_11eb_a4ef_a45e60cb13cdrow4_col6{\n",
       "            background-color:  #c1cae2;\n",
       "            color:  #000000;\n",
       "        }#T_bf74b95a_ab47_11eb_a4ef_a45e60cb13cdrow5_col0{\n",
       "            background-color:  #056fae;\n",
       "            color:  #f1f1f1;\n",
       "        }#T_bf74b95a_ab47_11eb_a4ef_a45e60cb13cdrow5_col1{\n",
       "            background-color:  #167bb6;\n",
       "            color:  #000000;\n",
       "        }#T_bf74b95a_ab47_11eb_a4ef_a45e60cb13cdrow5_col3{\n",
       "            background-color:  #f8f1f8;\n",
       "            color:  #000000;\n",
       "        }#T_bf74b95a_ab47_11eb_a4ef_a45e60cb13cdrow5_col4{\n",
       "            background-color:  #5c9fc9;\n",
       "            color:  #000000;\n",
       "        }#T_bf74b95a_ab47_11eb_a4ef_a45e60cb13cdrow5_col6{\n",
       "            background-color:  #056dab;\n",
       "            color:  #f1f1f1;\n",
       "        }#T_bf74b95a_ab47_11eb_a4ef_a45e60cb13cdrow6_col3{\n",
       "            background-color:  #f0eaf4;\n",
       "            color:  #000000;\n",
       "        }#T_bf74b95a_ab47_11eb_a4ef_a45e60cb13cdrow6_col4{\n",
       "            background-color:  #d8d7e9;\n",
       "            color:  #000000;\n",
       "        }#T_bf74b95a_ab47_11eb_a4ef_a45e60cb13cdrow6_col5{\n",
       "            background-color:  #056ba7;\n",
       "            color:  #f1f1f1;\n",
       "        }</style><table id=\"T_bf74b95a_ab47_11eb_a4ef_a45e60cb13cd\" ><thead>    <tr>        <th class=\"blank level0\" ></th>        <th class=\"col_heading level0 col0\" >Mean Price</th>        <th class=\"col_heading level0 col1\" >Mean Rating</th>        <th class=\"col_heading level0 col2\" >Total Population</th>        <th class=\"col_heading level0 col3\" >SqMiles</th>        <th class=\"col_heading level0 col4\" >Venues</th>        <th class=\"col_heading level0 col5\" >Venues Per Capita</th>        <th class=\"col_heading level0 col6\" >Venues Per Sq Mi</th>    </tr></thead><tbody>\n",
       "                <tr>\n",
       "                        <th id=\"T_bf74b95a_ab47_11eb_a4ef_a45e60cb13cdlevel0_row0\" class=\"row_heading level0 row0\" >Mean Price</th>\n",
       "                        <td id=\"T_bf74b95a_ab47_11eb_a4ef_a45e60cb13cdrow0_col0\" class=\"data row0 col0\" >1.000000</td>\n",
       "                        <td id=\"T_bf74b95a_ab47_11eb_a4ef_a45e60cb13cdrow0_col1\" class=\"data row0 col1\" >0.805386</td>\n",
       "                        <td id=\"T_bf74b95a_ab47_11eb_a4ef_a45e60cb13cdrow0_col2\" class=\"data row0 col2\" >-0.519462</td>\n",
       "                        <td id=\"T_bf74b95a_ab47_11eb_a4ef_a45e60cb13cdrow0_col3\" class=\"data row0 col3\" >-0.572796</td>\n",
       "                        <td id=\"T_bf74b95a_ab47_11eb_a4ef_a45e60cb13cdrow0_col4\" class=\"data row0 col4\" >0.436403</td>\n",
       "                        <td id=\"T_bf74b95a_ab47_11eb_a4ef_a45e60cb13cdrow0_col5\" class=\"data row0 col5\" >0.617801</td>\n",
       "                        <td id=\"T_bf74b95a_ab47_11eb_a4ef_a45e60cb13cdrow0_col6\" class=\"data row0 col6\" >0.434860</td>\n",
       "            </tr>\n",
       "            <tr>\n",
       "                        <th id=\"T_bf74b95a_ab47_11eb_a4ef_a45e60cb13cdlevel0_row1\" class=\"row_heading level0 row1\" >Mean Rating</th>\n",
       "                        <td id=\"T_bf74b95a_ab47_11eb_a4ef_a45e60cb13cdrow1_col0\" class=\"data row1 col0\" >0.805386</td>\n",
       "                        <td id=\"T_bf74b95a_ab47_11eb_a4ef_a45e60cb13cdrow1_col1\" class=\"data row1 col1\" >1.000000</td>\n",
       "                        <td id=\"T_bf74b95a_ab47_11eb_a4ef_a45e60cb13cdrow1_col2\" class=\"data row1 col2\" >-0.531804</td>\n",
       "                        <td id=\"T_bf74b95a_ab47_11eb_a4ef_a45e60cb13cdrow1_col3\" class=\"data row1 col3\" >-0.622943</td>\n",
       "                        <td id=\"T_bf74b95a_ab47_11eb_a4ef_a45e60cb13cdrow1_col4\" class=\"data row1 col4\" >0.443577</td>\n",
       "                        <td id=\"T_bf74b95a_ab47_11eb_a4ef_a45e60cb13cdrow1_col5\" class=\"data row1 col5\" >0.523986</td>\n",
       "                        <td id=\"T_bf74b95a_ab47_11eb_a4ef_a45e60cb13cdrow1_col6\" class=\"data row1 col6\" >0.447621</td>\n",
       "            </tr>\n",
       "            <tr>\n",
       "                        <th id=\"T_bf74b95a_ab47_11eb_a4ef_a45e60cb13cdlevel0_row2\" class=\"row_heading level0 row2\" >Total Population</th>\n",
       "                        <td id=\"T_bf74b95a_ab47_11eb_a4ef_a45e60cb13cdrow2_col0\" class=\"data row2 col0\" >-0.519462</td>\n",
       "                        <td id=\"T_bf74b95a_ab47_11eb_a4ef_a45e60cb13cdrow2_col1\" class=\"data row2 col1\" >-0.531804</td>\n",
       "                        <td id=\"T_bf74b95a_ab47_11eb_a4ef_a45e60cb13cdrow2_col2\" class=\"data row2 col2\" >1.000000</td>\n",
       "                        <td id=\"T_bf74b95a_ab47_11eb_a4ef_a45e60cb13cdrow2_col3\" class=\"data row2 col3\" >0.825631</td>\n",
       "                        <td id=\"T_bf74b95a_ab47_11eb_a4ef_a45e60cb13cdrow2_col4\" class=\"data row2 col4\" >-0.202676</td>\n",
       "                        <td id=\"T_bf74b95a_ab47_11eb_a4ef_a45e60cb13cdrow2_col5\" class=\"data row2 col5\" >-0.546963</td>\n",
       "                        <td id=\"T_bf74b95a_ab47_11eb_a4ef_a45e60cb13cdrow2_col6\" class=\"data row2 col6\" >-0.417014</td>\n",
       "            </tr>\n",
       "            <tr>\n",
       "                        <th id=\"T_bf74b95a_ab47_11eb_a4ef_a45e60cb13cdlevel0_row3\" class=\"row_heading level0 row3\" >SqMiles</th>\n",
       "                        <td id=\"T_bf74b95a_ab47_11eb_a4ef_a45e60cb13cdrow3_col0\" class=\"data row3 col0\" >-0.572796</td>\n",
       "                        <td id=\"T_bf74b95a_ab47_11eb_a4ef_a45e60cb13cdrow3_col1\" class=\"data row3 col1\" >-0.622943</td>\n",
       "                        <td id=\"T_bf74b95a_ab47_11eb_a4ef_a45e60cb13cdrow3_col2\" class=\"data row3 col2\" >0.825631</td>\n",
       "                        <td id=\"T_bf74b95a_ab47_11eb_a4ef_a45e60cb13cdrow3_col3\" class=\"data row3 col3\" >1.000000</td>\n",
       "                        <td id=\"T_bf74b95a_ab47_11eb_a4ef_a45e60cb13cdrow3_col4\" class=\"data row3 col4\" >-0.311356</td>\n",
       "                        <td id=\"T_bf74b95a_ab47_11eb_a4ef_a45e60cb13cdrow3_col5\" class=\"data row3 col5\" >-0.546751</td>\n",
       "                        <td id=\"T_bf74b95a_ab47_11eb_a4ef_a45e60cb13cdrow3_col6\" class=\"data row3 col6\" >-0.456628</td>\n",
       "            </tr>\n",
       "            <tr>\n",
       "                        <th id=\"T_bf74b95a_ab47_11eb_a4ef_a45e60cb13cdlevel0_row4\" class=\"row_heading level0 row4\" >Venues</th>\n",
       "                        <td id=\"T_bf74b95a_ab47_11eb_a4ef_a45e60cb13cdrow4_col0\" class=\"data row4 col0\" >0.436403</td>\n",
       "                        <td id=\"T_bf74b95a_ab47_11eb_a4ef_a45e60cb13cdrow4_col1\" class=\"data row4 col1\" >0.443577</td>\n",
       "                        <td id=\"T_bf74b95a_ab47_11eb_a4ef_a45e60cb13cdrow4_col2\" class=\"data row4 col2\" >-0.202676</td>\n",
       "                        <td id=\"T_bf74b95a_ab47_11eb_a4ef_a45e60cb13cdrow4_col3\" class=\"data row4 col3\" >-0.311356</td>\n",
       "                        <td id=\"T_bf74b95a_ab47_11eb_a4ef_a45e60cb13cdrow4_col4\" class=\"data row4 col4\" >1.000000</td>\n",
       "                        <td id=\"T_bf74b95a_ab47_11eb_a4ef_a45e60cb13cdrow4_col5\" class=\"data row4 col5\" >0.407265</td>\n",
       "                        <td id=\"T_bf74b95a_ab47_11eb_a4ef_a45e60cb13cdrow4_col6\" class=\"data row4 col6\" >-0.025762</td>\n",
       "            </tr>\n",
       "            <tr>\n",
       "                        <th id=\"T_bf74b95a_ab47_11eb_a4ef_a45e60cb13cdlevel0_row5\" class=\"row_heading level0 row5\" >Venues Per Capita</th>\n",
       "                        <td id=\"T_bf74b95a_ab47_11eb_a4ef_a45e60cb13cdrow5_col0\" class=\"data row5 col0\" >0.617801</td>\n",
       "                        <td id=\"T_bf74b95a_ab47_11eb_a4ef_a45e60cb13cdrow5_col1\" class=\"data row5 col1\" >0.523986</td>\n",
       "                        <td id=\"T_bf74b95a_ab47_11eb_a4ef_a45e60cb13cdrow5_col2\" class=\"data row5 col2\" >-0.546963</td>\n",
       "                        <td id=\"T_bf74b95a_ab47_11eb_a4ef_a45e60cb13cdrow5_col3\" class=\"data row5 col3\" >-0.546751</td>\n",
       "                        <td id=\"T_bf74b95a_ab47_11eb_a4ef_a45e60cb13cdrow5_col4\" class=\"data row5 col4\" >0.407265</td>\n",
       "                        <td id=\"T_bf74b95a_ab47_11eb_a4ef_a45e60cb13cdrow5_col5\" class=\"data row5 col5\" >1.000000</td>\n",
       "                        <td id=\"T_bf74b95a_ab47_11eb_a4ef_a45e60cb13cdrow5_col6\" class=\"data row5 col6\" >0.658912</td>\n",
       "            </tr>\n",
       "            <tr>\n",
       "                        <th id=\"T_bf74b95a_ab47_11eb_a4ef_a45e60cb13cdlevel0_row6\" class=\"row_heading level0 row6\" >Venues Per Sq Mi</th>\n",
       "                        <td id=\"T_bf74b95a_ab47_11eb_a4ef_a45e60cb13cdrow6_col0\" class=\"data row6 col0\" >0.434860</td>\n",
       "                        <td id=\"T_bf74b95a_ab47_11eb_a4ef_a45e60cb13cdrow6_col1\" class=\"data row6 col1\" >0.447621</td>\n",
       "                        <td id=\"T_bf74b95a_ab47_11eb_a4ef_a45e60cb13cdrow6_col2\" class=\"data row6 col2\" >-0.417014</td>\n",
       "                        <td id=\"T_bf74b95a_ab47_11eb_a4ef_a45e60cb13cdrow6_col3\" class=\"data row6 col3\" >-0.456628</td>\n",
       "                        <td id=\"T_bf74b95a_ab47_11eb_a4ef_a45e60cb13cdrow6_col4\" class=\"data row6 col4\" >-0.025762</td>\n",
       "                        <td id=\"T_bf74b95a_ab47_11eb_a4ef_a45e60cb13cdrow6_col5\" class=\"data row6 col5\" >0.658912</td>\n",
       "                        <td id=\"T_bf74b95a_ab47_11eb_a4ef_a45e60cb13cdrow6_col6\" class=\"data row6 col6\" >1.000000</td>\n",
       "            </tr>\n",
       "    </tbody></table>"
      ],
      "text/plain": [
       "<pandas.io.formats.style.Styler at 0x7fef806527f0>"
      ]
     },
     "execution_count": 121,
     "metadata": {},
     "output_type": "execute_result"
    }
   ],
   "source": [
    "density_df.corr().style.background_gradient()"
   ]
  },
  {
   "cell_type": "code",
   "execution_count": 124,
   "id": "acknowledged-roommate",
   "metadata": {},
   "outputs": [
    {
     "data": {
      "image/png": "[encoded data removed]",
      "text/plain": [
       "<Figure size 432x288 with 1 Axes>"
      ]
     },
     "metadata": {},
     "output_type": "display_data"
    }
   ],
   "source": [
    "# plot Mean Price and Venues Per Capita, which have a Pearson coeeficient of 0.61 in the table above\n",
    "sns.regplot(data=density_df, x='Venues Per Capita',y='Mean Price',color='tab:blue')\n",
    "plt.title('Mean price by venues per capita in Boston neighborhoods')\n",
    "plt.show()"
   ]
  },
  {
   "cell_type": "markdown",
   "id": "sapphire-freeware",
   "metadata": {},
   "source": [
    "**Answer:** There is correlation between venues per capita and mean price/rating by neighborhood.\n",
    "\n",
    "_**Note:** Based on the spread in the confidence band for larger values of X, this relationship may not be strong enough to include in the final feature set._"
   ]
  },
  {
   "cell_type": "markdown",
   "id": "spectacular-singapore",
   "metadata": {},
   "source": [
    "<br>\n",
    "\n",
    "**Question: What are the most common food venues by category in each neighborhood?**"
   ]
  },
  {
   "cell_type": "code",
   "execution_count": 125,
   "id": "suited-alabama",
   "metadata": {},
   "outputs": [],
   "source": [
    "category_dummies = pd.get_dummies(food_venues['Category Group'])\n",
    "category_dummies['Neighborhood'] = food_venues['Neighborhood']"
   ]
  },
  {
   "cell_type": "code",
   "execution_count": 126,
   "id": "correct-technician",
   "metadata": {},
   "outputs": [
    {
     "data": {
      "text/html": [
       "<div>\n",
       "<style scoped>\n",
       "    .dataframe tbody tr th:only-of-type {\n",
       "        vertical-align: middle;\n",
       "    }\n",
       "\n",
       "    .dataframe tbody tr th {\n",
       "        vertical-align: top;\n",
       "    }\n",
       "\n",
       "    .dataframe thead th {\n",
       "        text-align: right;\n",
       "    }\n",
       "</style>\n",
       "<table border=\"1\" class=\"dataframe\">\n",
       "  <thead>\n",
       "    <tr style=\"text-align: right;\">\n",
       "      <th></th>\n",
       "      <th>Afghan Restaurant</th>\n",
       "      <th>African Restaurant</th>\n",
       "      <th>American Restaurant</th>\n",
       "      <th>Asian Restaurant</th>\n",
       "      <th>BBQ Joint</th>\n",
       "      <th>Bagel Shop</th>\n",
       "      <th>Bakery</th>\n",
       "      <th>Belgian Restaurant</th>\n",
       "      <th>Bistro</th>\n",
       "      <th>Breakfast Spot</th>\n",
       "      <th>...</th>\n",
       "      <th>Restaurant</th>\n",
       "      <th>Salad Place</th>\n",
       "      <th>Sandwich Place</th>\n",
       "      <th>Seafood Restaurant</th>\n",
       "      <th>Snack Place</th>\n",
       "      <th>Southern / Soul Food Restaurant</th>\n",
       "      <th>Spanish Restaurant</th>\n",
       "      <th>Steakhouse</th>\n",
       "      <th>Vegetarian / Vegan Restaurant</th>\n",
       "      <th>Wings Joint</th>\n",
       "    </tr>\n",
       "    <tr>\n",
       "      <th>Neighborhood</th>\n",
       "      <th></th>\n",
       "      <th></th>\n",
       "      <th></th>\n",
       "      <th></th>\n",
       "      <th></th>\n",
       "      <th></th>\n",
       "      <th></th>\n",
       "      <th></th>\n",
       "      <th></th>\n",
       "      <th></th>\n",
       "      <th></th>\n",
       "      <th></th>\n",
       "      <th></th>\n",
       "      <th></th>\n",
       "      <th></th>\n",
       "      <th></th>\n",
       "      <th></th>\n",
       "      <th></th>\n",
       "      <th></th>\n",
       "      <th></th>\n",
       "      <th></th>\n",
       "    </tr>\n",
       "  </thead>\n",
       "  <tbody>\n",
       "    <tr>\n",
       "      <th>Allston</th>\n",
       "      <td>0.020833</td>\n",
       "      <td>0.0</td>\n",
       "      <td>0.020833</td>\n",
       "      <td>0.333333</td>\n",
       "      <td>0.0</td>\n",
       "      <td>0.000000</td>\n",
       "      <td>0.062500</td>\n",
       "      <td>0.0</td>\n",
       "      <td>0.00</td>\n",
       "      <td>0.000000</td>\n",
       "      <td>...</td>\n",
       "      <td>0.020833</td>\n",
       "      <td>0.000000</td>\n",
       "      <td>0.020833</td>\n",
       "      <td>0.020833</td>\n",
       "      <td>0.020833</td>\n",
       "      <td>0.000000</td>\n",
       "      <td>0.0</td>\n",
       "      <td>0.000000</td>\n",
       "      <td>0.020833</td>\n",
       "      <td>0.000000</td>\n",
       "    </tr>\n",
       "    <tr>\n",
       "      <th>Back Bay</th>\n",
       "      <td>0.000000</td>\n",
       "      <td>0.0</td>\n",
       "      <td>0.152778</td>\n",
       "      <td>0.138889</td>\n",
       "      <td>0.0</td>\n",
       "      <td>0.013889</td>\n",
       "      <td>0.027778</td>\n",
       "      <td>0.0</td>\n",
       "      <td>0.00</td>\n",
       "      <td>0.000000</td>\n",
       "      <td>...</td>\n",
       "      <td>0.041667</td>\n",
       "      <td>0.027778</td>\n",
       "      <td>0.027778</td>\n",
       "      <td>0.097222</td>\n",
       "      <td>0.000000</td>\n",
       "      <td>0.013889</td>\n",
       "      <td>0.0</td>\n",
       "      <td>0.027778</td>\n",
       "      <td>0.000000</td>\n",
       "      <td>0.000000</td>\n",
       "    </tr>\n",
       "    <tr>\n",
       "      <th>Bay Village</th>\n",
       "      <td>0.000000</td>\n",
       "      <td>0.0</td>\n",
       "      <td>0.085714</td>\n",
       "      <td>0.114286</td>\n",
       "      <td>0.0</td>\n",
       "      <td>0.000000</td>\n",
       "      <td>0.057143</td>\n",
       "      <td>0.0</td>\n",
       "      <td>0.00</td>\n",
       "      <td>0.057143</td>\n",
       "      <td>...</td>\n",
       "      <td>0.000000</td>\n",
       "      <td>0.028571</td>\n",
       "      <td>0.085714</td>\n",
       "      <td>0.114286</td>\n",
       "      <td>0.000000</td>\n",
       "      <td>0.000000</td>\n",
       "      <td>0.0</td>\n",
       "      <td>0.085714</td>\n",
       "      <td>0.028571</td>\n",
       "      <td>0.000000</td>\n",
       "    </tr>\n",
       "    <tr>\n",
       "      <th>Beacon Hill</th>\n",
       "      <td>0.000000</td>\n",
       "      <td>0.0</td>\n",
       "      <td>0.200000</td>\n",
       "      <td>0.080000</td>\n",
       "      <td>0.0</td>\n",
       "      <td>0.040000</td>\n",
       "      <td>0.040000</td>\n",
       "      <td>0.0</td>\n",
       "      <td>0.04</td>\n",
       "      <td>0.040000</td>\n",
       "      <td>...</td>\n",
       "      <td>0.040000</td>\n",
       "      <td>0.000000</td>\n",
       "      <td>0.000000</td>\n",
       "      <td>0.000000</td>\n",
       "      <td>0.000000</td>\n",
       "      <td>0.000000</td>\n",
       "      <td>0.0</td>\n",
       "      <td>0.040000</td>\n",
       "      <td>0.000000</td>\n",
       "      <td>0.000000</td>\n",
       "    </tr>\n",
       "    <tr>\n",
       "      <th>Brighton</th>\n",
       "      <td>0.000000</td>\n",
       "      <td>0.0</td>\n",
       "      <td>0.017544</td>\n",
       "      <td>0.263158</td>\n",
       "      <td>0.0</td>\n",
       "      <td>0.000000</td>\n",
       "      <td>0.052632</td>\n",
       "      <td>0.0</td>\n",
       "      <td>0.00</td>\n",
       "      <td>0.017544</td>\n",
       "      <td>...</td>\n",
       "      <td>0.017544</td>\n",
       "      <td>0.000000</td>\n",
       "      <td>0.035088</td>\n",
       "      <td>0.000000</td>\n",
       "      <td>0.000000</td>\n",
       "      <td>0.000000</td>\n",
       "      <td>0.0</td>\n",
       "      <td>0.000000</td>\n",
       "      <td>0.017544</td>\n",
       "      <td>0.017544</td>\n",
       "    </tr>\n",
       "  </tbody>\n",
       "</table>\n",
       "<p>5 rows × 51 columns</p>\n",
       "</div>"
      ],
      "text/plain": [
       "              Afghan Restaurant  African Restaurant  American Restaurant  \\\n",
       "Neighborhood                                                               \n",
       "Allston                0.020833                 0.0             0.020833   \n",
       "Back Bay               0.000000                 0.0             0.152778   \n",
       "Bay Village            0.000000                 0.0             0.085714   \n",
       "Beacon Hill            0.000000                 0.0             0.200000   \n",
       "Brighton               0.000000                 0.0             0.017544   \n",
       "\n",
       "              Asian Restaurant  BBQ Joint  Bagel Shop    Bakery  \\\n",
       "Neighborhood                                                      \n",
       "Allston               0.333333        0.0    0.000000  0.062500   \n",
       "Back Bay              0.138889        0.0    0.013889  0.027778   \n",
       "Bay Village           0.114286        0.0    0.000000  0.057143   \n",
       "Beacon Hill           0.080000        0.0    0.040000  0.040000   \n",
       "Brighton              0.263158        0.0    0.000000  0.052632   \n",
       "\n",
       "              Belgian Restaurant  Bistro  Breakfast Spot  ...  Restaurant  \\\n",
       "Neighborhood                                              ...               \n",
       "Allston                      0.0    0.00        0.000000  ...    0.020833   \n",
       "Back Bay                     0.0    0.00        0.000000  ...    0.041667   \n",
       "Bay Village                  0.0    0.00        0.057143  ...    0.000000   \n",
       "Beacon Hill                  0.0    0.04        0.040000  ...    0.040000   \n",
       "Brighton                     0.0    0.00        0.017544  ...    0.017544   \n",
       "\n",
       "              Salad Place  Sandwich Place  Seafood Restaurant  Snack Place  \\\n",
       "Neighborhood                                                                 \n",
       "Allston          0.000000        0.020833            0.020833     0.020833   \n",
       "Back Bay         0.027778        0.027778            0.097222     0.000000   \n",
       "Bay Village      0.028571        0.085714            0.114286     0.000000   \n",
       "Beacon Hill      0.000000        0.000000            0.000000     0.000000   \n",
       "Brighton         0.000000        0.035088            0.000000     0.000000   \n",
       "\n",
       "              Southern / Soul Food Restaurant  Spanish Restaurant  Steakhouse  \\\n",
       "Neighborhood                                                                    \n",
       "Allston                              0.000000                 0.0    0.000000   \n",
       "Back Bay                             0.013889                 0.0    0.027778   \n",
       "Bay Village                          0.000000                 0.0    0.085714   \n",
       "Beacon Hill                          0.000000                 0.0    0.040000   \n",
       "Brighton                             0.000000                 0.0    0.000000   \n",
       "\n",
       "              Vegetarian / Vegan Restaurant  Wings Joint  \n",
       "Neighborhood                                              \n",
       "Allston                            0.020833     0.000000  \n",
       "Back Bay                           0.000000     0.000000  \n",
       "Bay Village                        0.028571     0.000000  \n",
       "Beacon Hill                        0.000000     0.000000  \n",
       "Brighton                           0.017544     0.017544  \n",
       "\n",
       "[5 rows x 51 columns]"
      ]
     },
     "execution_count": 126,
     "metadata": {},
     "output_type": "execute_result"
    }
   ],
   "source": [
    "neighborhoods_grouped = category_dummies.groupby('Neighborhood').mean()\n",
    "neighborhoods_grouped.head()"
   ]
  },
  {
   "cell_type": "code",
   "execution_count": 127,
   "id": "exact-monitor",
   "metadata": {},
   "outputs": [
    {
     "name": "stdout",
     "output_type": "stream",
     "text": [
      "Allston\n",
      "\t1. Asian Restaurant (0.3333)\n",
      "\t2. Bakery (0.0625)\n",
      "\t3. Mexican Restaurant (0.0625)\n",
      "\t4. Diner (0.0417)\n",
      "\t5. Café (0.0417)\n",
      "\n",
      "Back Bay\n",
      "\t1. American Restaurant (0.1528)\n",
      "\t2. Asian Restaurant (0.1389)\n",
      "\t3. Seafood Restaurant (0.0972)\n",
      "\t4. Mexican Restaurant (0.0833)\n",
      "\t5. Italian Restaurant (0.0694)\n",
      "\n",
      "Bay Village\n",
      "\t1. Italian Restaurant (0.1429)\n",
      "\t2. Asian Restaurant (0.1143)\n",
      "\t3. Seafood Restaurant (0.1143)\n",
      "\t4. Pizza Place (0.1143)\n",
      "\t5. Steakhouse (0.0857)\n",
      "\n",
      "Beacon Hill\n",
      "\t1. American Restaurant (0.2)\n",
      "\t2. Italian Restaurant (0.16)\n",
      "\t3. Pizza Place (0.16)\n",
      "\t4. Asian Restaurant (0.08)\n",
      "\t5. French Restaurant (0.08)\n",
      "\n",
      "Brighton\n",
      "\t1. Asian Restaurant (0.2632)\n",
      "\t2. Pizza Place (0.1754)\n",
      "\t3. Café (0.0877)\n",
      "\t4. Bakery (0.0526)\n",
      "\t5. Greek Restaurant (0.0526)\n",
      "\n",
      "Charlestown\n",
      "\t1. Café (0.2368)\n",
      "\t2. Pizza Place (0.1316)\n",
      "\t3. Sandwich Place (0.0789)\n",
      "\t4. Donut Shop (0.0789)\n",
      "\t5. Gastropub (0.0789)\n",
      "\n",
      "Chinatown\n",
      "\t1. Asian Restaurant (0.5897)\n",
      "\t2. Bakery (0.1795)\n",
      "\t3. Pizza Place (0.0513)\n",
      "\t4. Restaurant (0.0256)\n",
      "\t5. Mexican Restaurant (0.0256)\n",
      "\n",
      "Dorchester\n",
      "\t1. Pizza Place (0.1765)\n",
      "\t2. Fast Food Restaurant (0.0588)\n",
      "\t3. Vegetarian / Vegan Restaurant (0.0588)\n",
      "\t4. Café (0.0588)\n",
      "\t5. Diner (0.0588)\n",
      "\n",
      "Downtown\n",
      "\t1. American Restaurant (0.1622)\n",
      "\t2. Asian Restaurant (0.1081)\n",
      "\t3. Sandwich Place (0.0811)\n",
      "\t4. Restaurant (0.0811)\n",
      "\t5. Italian Restaurant (0.0541)\n",
      "\n",
      "East Boston\n",
      "\t1. Mexican Restaurant (0.2105)\n",
      "\t2. Latin American Restaurant (0.1316)\n",
      "\t3. Sandwich Place (0.0789)\n",
      "\t4. Italian Restaurant (0.0789)\n",
      "\t5. Pizza Place (0.0789)\n",
      "\n",
      "Fenway\n",
      "\t1. Asian Restaurant (0.2892)\n",
      "\t2. Café (0.0843)\n",
      "\t3. American Restaurant (0.0723)\n",
      "\t4. Mexican Restaurant (0.0602)\n",
      "\t5. Restaurant (0.0482)\n",
      "\n",
      "Hyde Park\n",
      "\t1. American Restaurant (0.2353)\n",
      "\t2. Pizza Place (0.2353)\n",
      "\t3. Asian Restaurant (0.1765)\n",
      "\t4. Fast Food Restaurant (0.0588)\n",
      "\t5. Italian Restaurant (0.0588)\n",
      "\n",
      "Jamaica Plain\n",
      "\t1. Asian Restaurant (0.1786)\n",
      "\t2. Bakery (0.1429)\n",
      "\t3. American Restaurant (0.1429)\n",
      "\t4. Mexican Restaurant (0.1071)\n",
      "\t5. Pizza Place (0.0714)\n",
      "\n",
      "Leather District\n",
      "\t1. Asian Restaurant (0.1667)\n",
      "\t2. Sandwich Place (0.1667)\n",
      "\t3. Café (0.1111)\n",
      "\t4. Mediterranean Restaurant (0.0556)\n",
      "\t5. Deli / Bodega (0.0556)\n",
      "\n",
      "Longwood\n",
      "\t1. Asian Restaurant (0.1892)\n",
      "\t2. Café (0.1081)\n",
      "\t3. Falafel Restaurant (0.0811)\n",
      "\t4. Donut Shop (0.0811)\n",
      "\t5. Sandwich Place (0.0811)\n",
      "\n",
      "Mattapan\n",
      "\t1. Pizza Place (0.1875)\n",
      "\t2. Donut Shop (0.125)\n",
      "\t3. Fast Food Restaurant (0.125)\n",
      "\t4. Bakery (0.0625)\n",
      "\t5. Indian Restaurant (0.0625)\n",
      "\n",
      "Mission Hill\n",
      "\t1. Pizza Place (0.1795)\n",
      "\t2. Café (0.1795)\n",
      "\t3. Donut Shop (0.1026)\n",
      "\t4. American Restaurant (0.0769)\n",
      "\t5. Asian Restaurant (0.0769)\n",
      "\n",
      "North End\n",
      "\t1. Italian Restaurant (0.4375)\n",
      "\t2. Seafood Restaurant (0.125)\n",
      "\t3. Bakery (0.0938)\n",
      "\t4. Pizza Place (0.0938)\n",
      "\t5. Café (0.0312)\n",
      "\n",
      "Roslindale\n",
      "\t1. Pizza Place (0.1613)\n",
      "\t2. American Restaurant (0.129)\n",
      "\t3. Bakery (0.129)\n",
      "\t4. Asian Restaurant (0.0968)\n",
      "\t5. Greek Restaurant (0.0645)\n",
      "\n",
      "Roxbury\n",
      "\t1. Pizza Place (0.2174)\n",
      "\t2. Caribbean Restaurant (0.1304)\n",
      "\t3. Café (0.087)\n",
      "\t4. Donut Shop (0.087)\n",
      "\t5. African Restaurant (0.0435)\n",
      "\n",
      "South Boston\n",
      "\t1. Pizza Place (0.3333)\n",
      "\t2. Asian Restaurant (0.1026)\n",
      "\t3. Donut Shop (0.0769)\n",
      "\t4. Sandwich Place (0.0769)\n",
      "\t5. Italian Restaurant (0.0513)\n",
      "\n",
      "South Boston Waterfront\n",
      "\t1. Seafood Restaurant (0.1395)\n",
      "\t2. American Restaurant (0.1163)\n",
      "\t3. Italian Restaurant (0.093)\n",
      "\t4. Steakhouse (0.0698)\n",
      "\t5. Asian Restaurant (0.0698)\n",
      "\n",
      "South End\n",
      "\t1. Asian Restaurant (0.1333)\n",
      "\t2. Café (0.0833)\n",
      "\t3. American Restaurant (0.0833)\n",
      "\t4. Italian Restaurant (0.0667)\n",
      "\t5. French Restaurant (0.0667)\n",
      "\n",
      "West End\n",
      "\t1. Mexican Restaurant (0.2857)\n",
      "\t2. Deli / Bodega (0.1429)\n",
      "\t3. Restaurant (0.1429)\n",
      "\t4. Burger Joint (0.1429)\n",
      "\t5. Italian Restaurant (0.1429)\n",
      "\n",
      "West Roxbury\n",
      "\t1. Pizza Place (0.2424)\n",
      "\t2. Asian Restaurant (0.1818)\n",
      "\t3. American Restaurant (0.0909)\n",
      "\t4. Donut Shop (0.0606)\n",
      "\t5. Bagel Shop (0.0606)\n",
      "\n"
     ]
    }
   ],
   "source": [
    "for row in neighborhoods_grouped.iterrows():\n",
    "    print(row[0])\n",
    "    for i,cat in enumerate(row[1].sort_values(ascending=False).head().iteritems(),1):\n",
    "        print('\\t{}. {} ({})'.format(i,cat[0],round(cat[1],4)))\n",
    "    print()\n"
   ]
  },
  {
   "cell_type": "code",
   "execution_count": 128,
   "id": "specified-height",
   "metadata": {},
   "outputs": [
    {
     "data": {
      "text/html": [
       "<div>\n",
       "<style scoped>\n",
       "    .dataframe tbody tr th:only-of-type {\n",
       "        vertical-align: middle;\n",
       "    }\n",
       "\n",
       "    .dataframe tbody tr th {\n",
       "        vertical-align: top;\n",
       "    }\n",
       "\n",
       "    .dataframe thead th {\n",
       "        text-align: right;\n",
       "    }\n",
       "</style>\n",
       "<table border=\"1\" class=\"dataframe\">\n",
       "  <thead>\n",
       "    <tr style=\"text-align: right;\">\n",
       "      <th></th>\n",
       "      <th>1st Most Frequent</th>\n",
       "      <th>2nd Most Frequent</th>\n",
       "      <th>3rd Most Frequent</th>\n",
       "      <th>4th Most Frequent</th>\n",
       "      <th>5th Most Frequent</th>\n",
       "    </tr>\n",
       "  </thead>\n",
       "  <tbody>\n",
       "    <tr>\n",
       "      <th>Allston</th>\n",
       "      <td>Asian Restaurant</td>\n",
       "      <td>Bakery</td>\n",
       "      <td>Mexican Restaurant</td>\n",
       "      <td>Diner</td>\n",
       "      <td>Café</td>\n",
       "    </tr>\n",
       "    <tr>\n",
       "      <th>Back Bay</th>\n",
       "      <td>American Restaurant</td>\n",
       "      <td>Asian Restaurant</td>\n",
       "      <td>Seafood Restaurant</td>\n",
       "      <td>Mexican Restaurant</td>\n",
       "      <td>Italian Restaurant</td>\n",
       "    </tr>\n",
       "    <tr>\n",
       "      <th>Bay Village</th>\n",
       "      <td>Italian Restaurant</td>\n",
       "      <td>Asian Restaurant</td>\n",
       "      <td>Seafood Restaurant</td>\n",
       "      <td>Pizza Place</td>\n",
       "      <td>Steakhouse</td>\n",
       "    </tr>\n",
       "    <tr>\n",
       "      <th>Beacon Hill</th>\n",
       "      <td>American Restaurant</td>\n",
       "      <td>Italian Restaurant</td>\n",
       "      <td>Pizza Place</td>\n",
       "      <td>Asian Restaurant</td>\n",
       "      <td>French Restaurant</td>\n",
       "    </tr>\n",
       "    <tr>\n",
       "      <th>Brighton</th>\n",
       "      <td>Asian Restaurant</td>\n",
       "      <td>Pizza Place</td>\n",
       "      <td>Café</td>\n",
       "      <td>Bakery</td>\n",
       "      <td>Greek Restaurant</td>\n",
       "    </tr>\n",
       "  </tbody>\n",
       "</table>\n",
       "</div>"
      ],
      "text/plain": [
       "               1st Most Frequent   2nd Most Frequent   3rd Most Frequent  \\\n",
       "Allston         Asian Restaurant              Bakery  Mexican Restaurant   \n",
       "Back Bay     American Restaurant    Asian Restaurant  Seafood Restaurant   \n",
       "Bay Village   Italian Restaurant    Asian Restaurant  Seafood Restaurant   \n",
       "Beacon Hill  American Restaurant  Italian Restaurant         Pizza Place   \n",
       "Brighton        Asian Restaurant         Pizza Place                Café   \n",
       "\n",
       "              4th Most Frequent   5th Most Frequent  \n",
       "Allston                   Diner                Café  \n",
       "Back Bay     Mexican Restaurant  Italian Restaurant  \n",
       "Bay Village         Pizza Place          Steakhouse  \n",
       "Beacon Hill    Asian Restaurant   French Restaurant  \n",
       "Brighton                 Bakery    Greek Restaurant  "
      ]
     },
     "execution_count": 128,
     "metadata": {},
     "output_type": "execute_result"
    }
   ],
   "source": [
    "frequent_categories_dict = {}\n",
    "for row in neighborhoods_grouped.iterrows():\n",
    "    name = row[0]\n",
    "    categories = [cat for cat in row[1].sort_values(ascending=False).head().index]\n",
    "    frequent_categories_dict[name] = categories\n",
    "    \n",
    "neighborhood_categories = pd.DataFrame.from_dict(frequent_categories_dict,orient='index')\n",
    "neighborhood_categories.columns = [\n",
    "    '1st Most Frequent',\n",
    "    '2nd Most Frequent',\n",
    "    '3rd Most Frequent',\n",
    "    '4th Most Frequent',\n",
    "    '5th Most Frequent',\n",
    "]\n",
    "\n",
    "neighborhood_categories.head()"
   ]
  },
  {
   "cell_type": "markdown",
   "id": "gross-medicine",
   "metadata": {},
   "source": [
    "## Cluster data\n",
    "\n",
    "My original question for this data was which Boston neighborhoods are the most similar or dissimilar with regard to their food venues.\n",
    "\n",
    "Based on the analysis above, I will use the following variables in my feature set for clustering:\n",
    "1. Mean rating\n",
    "2. Mean price (tier)\n",
    "3. Percentage of venues with multiple locations\n",
    "4. Venues per capita\n",
    "5. Most common restaurant types"
   ]
  },
  {
   "cell_type": "code",
   "execution_count": 129,
   "id": "involved-blind",
   "metadata": {},
   "outputs": [],
   "source": [
    "features = food_venues.groupby('Neighborhood')[['Multiple Locations','Venue Rating','Venue Price Tier']].mean()"
   ]
  },
  {
   "cell_type": "code",
   "execution_count": 216,
   "id": "communist-employee",
   "metadata": {},
   "outputs": [],
   "source": [
    "features = pd.concat([neighborhoods_grouped,features],axis=1)"
   ]
  },
  {
   "cell_type": "code",
   "execution_count": 217,
   "id": "automated-citizenship",
   "metadata": {},
   "outputs": [
    {
     "data": {
      "text/plain": [
       "array([[ 4.89897949, -0.29212743, -0.86921015, ..., -1.85332763,\n",
       "         1.11931927, -0.15002285],\n",
       "       [-0.20412415, -0.29212743,  1.20383521, ...,  0.05555676,\n",
       "         1.12181907,  1.67115769],\n",
       "       [-0.20412415, -0.29212743,  0.15016704, ...,  1.23984422,\n",
       "         1.08804478,  2.045568  ],\n",
       "       ...,\n",
       "       [-0.20412415,  2.87717963,  0.11275871, ..., -1.03523432,\n",
       "         1.04077448,  0.98103701],\n",
       "       [-0.20412415, -0.29212743, -1.1965331 , ...,  1.61382973,\n",
       "         0.58985688, -0.6689067 ],\n",
       "       [-0.20412415, -0.29212743,  0.23178523, ...,  0.65053371,\n",
       "        -0.77178748, -0.74203371]])"
      ]
     },
     "execution_count": 217,
     "metadata": {},
     "output_type": "execute_result"
    }
   ],
   "source": [
    "# features = food_venues[['Venue Rating','Venue Price Tier']]\n",
    "X = features\n",
    "X = preprocessing.StandardScaler().fit(X).transform(X)\n",
    "X"
   ]
  },
  {
   "cell_type": "code",
   "execution_count": 218,
   "id": "chicken-ambassador",
   "metadata": {},
   "outputs": [
    {
     "data": {
      "text/plain": [
       "array([1, 0, 0, 0, 1, 4, 1, 2, 0, 1, 1, 4, 1, 0, 4, 4, 4, 0, 1, 4, 4, 0,\n",
       "       1, 3, 4], dtype=int32)"
      ]
     },
     "execution_count": 218,
     "metadata": {},
     "output_type": "execute_result"
    }
   ],
   "source": [
    "# set number of clusters\n",
    "kclusters = 5\n",
    "\n",
    "# run k-means clustering\n",
    "kmeans = KMeans(n_clusters=kclusters, random_state=0).fit(X)\n",
    "kmeans.labels_"
   ]
  },
  {
   "cell_type": "code",
   "execution_count": 219,
   "id": "impaired-dominican",
   "metadata": {},
   "outputs": [],
   "source": [
    "features.insert(0,'Cluster',kmeans.labels_)"
   ]
  },
  {
   "cell_type": "code",
   "execution_count": 220,
   "id": "accurate-kansas",
   "metadata": {},
   "outputs": [
    {
     "name": "stdout",
     "output_type": "stream",
     "text": [
      "Back Bay, Bay Village, Beacon Hill, Downtown, Leather District, North End, South Boston Waterfront\n",
      "Allston, Brighton, Chinatown, East Boston, Fenway, Jamaica Plain, Roslindale, South End\n",
      "Dorchester\n",
      "West End\n",
      "Charlestown, Hyde Park, Longwood, Mattapan, Mission Hill, Roxbury, South Boston, West Roxbury\n"
     ]
    }
   ],
   "source": [
    "for cluster in features.reset_index().groupby('Cluster')['Neighborhood'].apply(lambda x: ', '.join(x)):\n",
    "    print(cluster)"
   ]
  },
  {
   "cell_type": "code",
   "execution_count": 221,
   "id": "married-writing",
   "metadata": {},
   "outputs": [
    {
     "data": {
      "text/html": [
       "<div>\n",
       "<style scoped>\n",
       "    .dataframe tbody tr th:only-of-type {\n",
       "        vertical-align: middle;\n",
       "    }\n",
       "\n",
       "    .dataframe tbody tr th {\n",
       "        vertical-align: top;\n",
       "    }\n",
       "\n",
       "    .dataframe thead th {\n",
       "        text-align: right;\n",
       "    }\n",
       "</style>\n",
       "<table border=\"1\" class=\"dataframe\">\n",
       "  <thead>\n",
       "    <tr style=\"text-align: right;\">\n",
       "      <th></th>\n",
       "      <th>Multiple Locations</th>\n",
       "      <th>Venue Rating</th>\n",
       "      <th>Venue Price Tier</th>\n",
       "    </tr>\n",
       "    <tr>\n",
       "      <th>Cluster</th>\n",
       "      <th></th>\n",
       "      <th></th>\n",
       "      <th></th>\n",
       "    </tr>\n",
       "  </thead>\n",
       "  <tbody>\n",
       "    <tr>\n",
       "      <th>0</th>\n",
       "      <td>0.149462</td>\n",
       "      <td>8.114145</td>\n",
       "      <td>2.045614</td>\n",
       "    </tr>\n",
       "    <tr>\n",
       "      <th>1</th>\n",
       "      <td>0.097402</td>\n",
       "      <td>7.690060</td>\n",
       "      <td>1.578455</td>\n",
       "    </tr>\n",
       "    <tr>\n",
       "      <th>2</th>\n",
       "      <td>0.176471</td>\n",
       "      <td>6.520000</td>\n",
       "      <td>1.200000</td>\n",
       "    </tr>\n",
       "    <tr>\n",
       "      <th>3</th>\n",
       "      <td>0.285714</td>\n",
       "      <td>7.857143</td>\n",
       "      <td>1.428571</td>\n",
       "    </tr>\n",
       "    <tr>\n",
       "      <th>4</th>\n",
       "      <td>0.221616</td>\n",
       "      <td>6.898773</td>\n",
       "      <td>1.405405</td>\n",
       "    </tr>\n",
       "  </tbody>\n",
       "</table>\n",
       "</div>"
      ],
      "text/plain": [
       "         Multiple Locations  Venue Rating  Venue Price Tier\n",
       "Cluster                                                    \n",
       "0                  0.149462      8.114145          2.045614\n",
       "1                  0.097402      7.690060          1.578455\n",
       "2                  0.176471      6.520000          1.200000\n",
       "3                  0.285714      7.857143          1.428571\n",
       "4                  0.221616      6.898773          1.405405"
      ]
     },
     "execution_count": 221,
     "metadata": {},
     "output_type": "execute_result"
    }
   ],
   "source": [
    "features.groupby('Cluster')[['Multiple Locations','Venue Rating','Venue Price Tier']].mean()"
   ]
  },
  {
   "cell_type": "code",
   "execution_count": 237,
   "id": "hispanic-kelly",
   "metadata": {},
   "outputs": [
    {
     "data": {
      "text/plain": [
       "<AxesSubplot:xlabel='Venue Price Tier', ylabel='Neighborhood'>"
      ]
     },
     "execution_count": 237,
     "metadata": {},
     "output_type": "execute_result"
    },
    {
     "data": {
      "image/png": "[encoded data removed]",
      "text/plain": [
       "<Figure size 432x288 with 1 Axes>"
      ]
     },
     "metadata": {},
     "output_type": "display_data"
    }
   ],
   "source": [
    "sns.barplot(data=features.reset_index().sort_values(by='Venue Price Tier',ascending=False),y='Neighborhood',x='Venue Price Tier',hue='Cluster')"
   ]
  },
  {
   "cell_type": "markdown",
   "id": "dominant-anniversary",
   "metadata": {},
   "source": [
    "*[Jump to top](#Table-of-Contents)*\n",
    "\n",
    "---\n",
    "# Results"
   ]
  },
  {
   "cell_type": "markdown",
   "id": "false-memphis",
   "metadata": {},
   "source": [
    "*[Jump to top](#Table-of-Contents)*\n",
    "\n",
    "---\n",
    "# Discussion\n",
    "\n",
    "**What went well**\n",
    "\n",
    "**What I'd do differently next time**\n",
    "\n",
    "* Collect ALL venues, not just the first 100 in each neighborhood.\n",
    "* Look at more data like which neighborhoods have more trending venues or times that venues are open."
   ]
  },
  {
   "cell_type": "markdown",
   "id": "apart-sugar",
   "metadata": {},
   "source": [
    "*[Jump to top](#Table-of-Contents)*\n",
    "\n",
    "---\n",
    "# Conclusion"
   ]
  }
 ],
 "metadata": {
  "kernelspec": {
   "display_name": "Python 3",
   "language": "python",
   "name": "python3"
  },
  "language_info": {
   "codemirror_mode": {
    "name": "ipython",
    "version": 3
   },
   "file_extension": ".py",
   "mimetype": "text/x-python",
   "name": "python",
   "nbconvert_exporter": "python",
   "pygments_lexer": "ipython3",
   "version": "3.6.10"
  }
 },
 "nbformat": 4,
 "nbformat_minor": 5
}
