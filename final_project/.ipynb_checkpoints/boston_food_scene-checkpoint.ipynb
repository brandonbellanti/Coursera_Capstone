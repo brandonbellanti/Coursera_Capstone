{
 "cells": [
  {
   "cell_type": "markdown",
   "id": "unlimited-classification",
   "metadata": {},
   "source": [
    "![picture of Boston skyline from the Charles River](https://images.unsplash.com/photo-1560799260-b737af7dd0fc?ixid=MnwxMjA3fDB8MHxwaG90by1wYWdlfHx8fGVufDB8fHx8&ixlib=rb-1.2.1&auto=format&fit=crop&w=2462&q=80)\n",
    "_Photo by Prateek Pisat on [Unsplash](https://unsplash.com/photos/SFsKWydc7qY)_"
   ]
  },
  {
   "cell_type": "markdown",
   "id": "apart-frost",
   "metadata": {},
   "source": [
    "# Mapping Boston's Food Scene\n",
    "Prepared by Brandon Bellanti<br>\n",
    "Last updated April 25, 2021\n",
    "\n",
    "---"
   ]
  },
  {
   "cell_type": "markdown",
   "id": "little-cover",
   "metadata": {},
   "source": [
    "## Introduction/Business Problem\n",
    "\n",
    "In my project, I will analyze and cluster data to see any correlation between the demographics of Boston's neighborhoods and the food venues they comprise. Here are some of the questions I hope to answer.\n",
    "* Is there a correlation between the most common restaurant types and race/ethnicity in a given neighborhood?\n",
    "* Is there a correlation between average restaurant price and per capita income?\n",
    "* Is there a correlation between popular hours and mobility data (travel time to work, means of communting)?\n",
    "The end result of this analysis is simply to better understand the clustering of neighborhoods and restaurants in Boston. This sort of information could be used by city planners, sociologists, or even restauranteurs looking for the best place to open a new place."
   ]
  },
  {
   "cell_type": "markdown",
   "id": "residential-grounds",
   "metadata": {},
   "source": [
    "## Data\n",
    "\n",
    "My data will come from two main sources, Boston's open data hub – [Analyze Boston](https://data.boston.gov/) – and the Foursquare API. I'll use datasets available on Analyze Boston for [neighborhood](http://bostonopendata-boston.opendata.arcgis.com/datasets/3525b0ee6e6b427f9aab5d0a1d0a1a28_0.csv) and [demographic data](https://data.boston.gov/dataset/neighborhood-demographics/resource/d8c23c6a-b868-4ba4-8a3b-b9615a21be07?view_id=875bddaa-ffb9-4eaa-bdb5-1b77b414182b). And I'll use the Foursquare API for venue data. I'll also scrape the [Venue Categories](https://developer.foursquare.com/docs/build-with-foursquare/categories/) page in the Foursquare API documentation and build a hierarchy of categories so I can group venues together, since there is no parent category data in the results of the nearby search through the API.\n",
    "\n",
    "I will use the K-Nearest-Neighbor algorithm to cluster the neighborhoods and venues."
   ]
  }
 ],
 "metadata": {
  "kernelspec": {
   "display_name": "Python 3",
   "language": "python",
   "name": "python3"
  },
  "language_info": {
   "codemirror_mode": {
    "name": "ipython",
    "version": 3
   },
   "file_extension": ".py",
   "mimetype": "text/x-python",
   "name": "python",
   "nbconvert_exporter": "python",
   "pygments_lexer": "ipython3",
   "version": "3.6.10"
  }
 },
 "nbformat": 4,
 "nbformat_minor": 5
}
